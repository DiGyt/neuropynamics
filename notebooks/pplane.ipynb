{
  "nbformat": 4,
  "nbformat_minor": 0,
  "metadata": {
    "kernelspec": {
      "display_name": "Python 3",
      "language": "python",
      "name": "python3"
    },
    "language_info": {
      "codemirror_mode": {
        "name": "ipython",
        "version": 3
      },
      "file_extension": ".py",
      "mimetype": "text/x-python",
      "name": "python",
      "nbconvert_exporter": "python",
      "pygments_lexer": "ipython3",
      "version": "3.8.3"
    },
    "colab": {
      "name": "pplane.ipynb",
      "provenance": [],
      "collapsed_sections": [],
      "include_colab_link": true
    },
    "widgets": {
      "application/vnd.jupyter.widget-state+json": {
        "c06a2851e1c44510b7c83ca159b58313": {
          "model_module": "@jupyter-widgets/controls",
          "model_name": "IntRangeSliderModel",
          "state": {
            "_view_name": "IntRangeSliderView",
            "style": "IPY_MODEL_8c2631e5f5304ac88a6b4f9bbda5f545",
            "_dom_classes": [],
            "description": "",
            "step": 1,
            "_model_name": "IntRangeSliderModel",
            "orientation": "horizontal",
            "max": 10,
            "_view_module": "@jupyter-widgets/controls",
            "_model_module_version": "1.5.0",
            "value": [
              -5,
              5
            ],
            "_view_count": null,
            "disabled": false,
            "_view_module_version": "1.5.0",
            "min": -10,
            "continuous_update": true,
            "readout_format": "d",
            "description_tooltip": null,
            "readout": true,
            "_model_module": "@jupyter-widgets/controls",
            "layout": "IPY_MODEL_0186c0facb77491083015fa22f5d6614"
          }
        },
        "8c2631e5f5304ac88a6b4f9bbda5f545": {
          "model_module": "@jupyter-widgets/controls",
          "model_name": "SliderStyleModel",
          "state": {
            "_view_name": "StyleView",
            "handle_color": null,
            "_model_name": "SliderStyleModel",
            "description_width": "",
            "_view_module": "@jupyter-widgets/base",
            "_model_module_version": "1.5.0",
            "_view_count": null,
            "_view_module_version": "1.2.0",
            "_model_module": "@jupyter-widgets/controls"
          }
        },
        "0186c0facb77491083015fa22f5d6614": {
          "model_module": "@jupyter-widgets/base",
          "model_name": "LayoutModel",
          "state": {
            "_view_name": "LayoutView",
            "grid_template_rows": null,
            "right": null,
            "justify_content": null,
            "_view_module": "@jupyter-widgets/base",
            "overflow": null,
            "_model_module_version": "1.2.0",
            "_view_count": null,
            "flex_flow": null,
            "width": null,
            "min_width": null,
            "border": null,
            "align_items": null,
            "bottom": null,
            "_model_module": "@jupyter-widgets/base",
            "top": null,
            "grid_column": null,
            "overflow_y": null,
            "overflow_x": null,
            "grid_auto_flow": null,
            "grid_area": null,
            "grid_template_columns": null,
            "flex": null,
            "_model_name": "LayoutModel",
            "justify_items": null,
            "grid_row": null,
            "max_height": null,
            "align_content": null,
            "visibility": null,
            "align_self": null,
            "height": null,
            "min_height": null,
            "padding": null,
            "grid_auto_rows": null,
            "grid_gap": null,
            "max_width": null,
            "order": null,
            "_view_module_version": "1.2.0",
            "grid_template_areas": null,
            "object_position": null,
            "object_fit": null,
            "grid_auto_columns": null,
            "margin": null,
            "display": null,
            "left": null
          }
        },
        "536fe32f0ff04888880867883b155d5c": {
          "model_module": "@jupyter-widgets/controls",
          "model_name": "IntRangeSliderModel",
          "state": {
            "_view_name": "IntRangeSliderView",
            "style": "IPY_MODEL_ed3dc175daa942b896ed15b4a521217f",
            "_dom_classes": [],
            "description": "",
            "step": 1,
            "_model_name": "IntRangeSliderModel",
            "orientation": "horizontal",
            "max": 10,
            "_view_module": "@jupyter-widgets/controls",
            "_model_module_version": "1.5.0",
            "value": [
              -5,
              5
            ],
            "_view_count": null,
            "disabled": false,
            "_view_module_version": "1.5.0",
            "min": -10,
            "continuous_update": true,
            "readout_format": "d",
            "description_tooltip": null,
            "readout": true,
            "_model_module": "@jupyter-widgets/controls",
            "layout": "IPY_MODEL_5cd87bfa6b8d4f5ab09fede4e85402d4"
          }
        },
        "ed3dc175daa942b896ed15b4a521217f": {
          "model_module": "@jupyter-widgets/controls",
          "model_name": "SliderStyleModel",
          "state": {
            "_view_name": "StyleView",
            "handle_color": null,
            "_model_name": "SliderStyleModel",
            "description_width": "",
            "_view_module": "@jupyter-widgets/base",
            "_model_module_version": "1.5.0",
            "_view_count": null,
            "_view_module_version": "1.2.0",
            "_model_module": "@jupyter-widgets/controls"
          }
        },
        "5cd87bfa6b8d4f5ab09fede4e85402d4": {
          "model_module": "@jupyter-widgets/base",
          "model_name": "LayoutModel",
          "state": {
            "_view_name": "LayoutView",
            "grid_template_rows": null,
            "right": null,
            "justify_content": null,
            "_view_module": "@jupyter-widgets/base",
            "overflow": null,
            "_model_module_version": "1.2.0",
            "_view_count": null,
            "flex_flow": null,
            "width": null,
            "min_width": null,
            "border": null,
            "align_items": null,
            "bottom": null,
            "_model_module": "@jupyter-widgets/base",
            "top": null,
            "grid_column": null,
            "overflow_y": null,
            "overflow_x": null,
            "grid_auto_flow": null,
            "grid_area": null,
            "grid_template_columns": null,
            "flex": null,
            "_model_name": "LayoutModel",
            "justify_items": null,
            "grid_row": null,
            "max_height": null,
            "align_content": null,
            "visibility": null,
            "align_self": null,
            "height": null,
            "min_height": null,
            "padding": null,
            "grid_auto_rows": null,
            "grid_gap": null,
            "max_width": null,
            "order": null,
            "_view_module_version": "1.2.0",
            "grid_template_areas": null,
            "object_position": null,
            "object_fit": null,
            "grid_auto_columns": null,
            "margin": null,
            "display": null,
            "left": null
          }
        },
        "e32e3a5bf8dc4e139579d9853b8f6a90": {
          "model_module": "@jupyter-widgets/controls",
          "model_name": "TextModel",
          "state": {
            "_view_name": "TextView",
            "style": "IPY_MODEL_dedd412c476d4944a66aef703f73c9e6",
            "_dom_classes": [],
            "description": "",
            "_model_name": "TextModel",
            "placeholder": "Start Value of X for RK4",
            "_view_module": "@jupyter-widgets/controls",
            "_model_module_version": "1.5.0",
            "value": "",
            "_view_count": null,
            "disabled": false,
            "_view_module_version": "1.5.0",
            "continuous_update": true,
            "description_tooltip": null,
            "_model_module": "@jupyter-widgets/controls",
            "layout": "IPY_MODEL_603128d0c6094900b5373e6863a180f9"
          }
        },
        "dedd412c476d4944a66aef703f73c9e6": {
          "model_module": "@jupyter-widgets/controls",
          "model_name": "DescriptionStyleModel",
          "state": {
            "_view_name": "StyleView",
            "_model_name": "DescriptionStyleModel",
            "description_width": "",
            "_view_module": "@jupyter-widgets/base",
            "_model_module_version": "1.5.0",
            "_view_count": null,
            "_view_module_version": "1.2.0",
            "_model_module": "@jupyter-widgets/controls"
          }
        },
        "603128d0c6094900b5373e6863a180f9": {
          "model_module": "@jupyter-widgets/base",
          "model_name": "LayoutModel",
          "state": {
            "_view_name": "LayoutView",
            "grid_template_rows": null,
            "right": null,
            "justify_content": null,
            "_view_module": "@jupyter-widgets/base",
            "overflow": null,
            "_model_module_version": "1.2.0",
            "_view_count": null,
            "flex_flow": null,
            "width": null,
            "min_width": null,
            "border": null,
            "align_items": null,
            "bottom": null,
            "_model_module": "@jupyter-widgets/base",
            "top": null,
            "grid_column": null,
            "overflow_y": null,
            "overflow_x": null,
            "grid_auto_flow": null,
            "grid_area": null,
            "grid_template_columns": null,
            "flex": null,
            "_model_name": "LayoutModel",
            "justify_items": null,
            "grid_row": null,
            "max_height": null,
            "align_content": null,
            "visibility": null,
            "align_self": null,
            "height": null,
            "min_height": null,
            "padding": null,
            "grid_auto_rows": null,
            "grid_gap": null,
            "max_width": null,
            "order": null,
            "_view_module_version": "1.2.0",
            "grid_template_areas": null,
            "object_position": null,
            "object_fit": null,
            "grid_auto_columns": null,
            "margin": null,
            "display": null,
            "left": null
          }
        },
        "1eb7e68df1e247aa8cbc47658455697a": {
          "model_module": "@jupyter-widgets/controls",
          "model_name": "TextModel",
          "state": {
            "_view_name": "TextView",
            "style": "IPY_MODEL_ce119b20fbbd4cc6b48321044d42b2d8",
            "_dom_classes": [],
            "description": "",
            "_model_name": "TextModel",
            "placeholder": "Start Value of Y for RK4",
            "_view_module": "@jupyter-widgets/controls",
            "_model_module_version": "1.5.0",
            "value": "",
            "_view_count": null,
            "disabled": false,
            "_view_module_version": "1.5.0",
            "continuous_update": true,
            "description_tooltip": null,
            "_model_module": "@jupyter-widgets/controls",
            "layout": "IPY_MODEL_90a6d48dae6648dea70f08f2a7b419ee"
          }
        },
        "ce119b20fbbd4cc6b48321044d42b2d8": {
          "model_module": "@jupyter-widgets/controls",
          "model_name": "DescriptionStyleModel",
          "state": {
            "_view_name": "StyleView",
            "_model_name": "DescriptionStyleModel",
            "description_width": "",
            "_view_module": "@jupyter-widgets/base",
            "_model_module_version": "1.5.0",
            "_view_count": null,
            "_view_module_version": "1.2.0",
            "_model_module": "@jupyter-widgets/controls"
          }
        },
        "90a6d48dae6648dea70f08f2a7b419ee": {
          "model_module": "@jupyter-widgets/base",
          "model_name": "LayoutModel",
          "state": {
            "_view_name": "LayoutView",
            "grid_template_rows": null,
            "right": null,
            "justify_content": null,
            "_view_module": "@jupyter-widgets/base",
            "overflow": null,
            "_model_module_version": "1.2.0",
            "_view_count": null,
            "flex_flow": null,
            "width": null,
            "min_width": null,
            "border": null,
            "align_items": null,
            "bottom": null,
            "_model_module": "@jupyter-widgets/base",
            "top": null,
            "grid_column": null,
            "overflow_y": null,
            "overflow_x": null,
            "grid_auto_flow": null,
            "grid_area": null,
            "grid_template_columns": null,
            "flex": null,
            "_model_name": "LayoutModel",
            "justify_items": null,
            "grid_row": null,
            "max_height": null,
            "align_content": null,
            "visibility": null,
            "align_self": null,
            "height": null,
            "min_height": null,
            "padding": null,
            "grid_auto_rows": null,
            "grid_gap": null,
            "max_width": null,
            "order": null,
            "_view_module_version": "1.2.0",
            "grid_template_areas": null,
            "object_position": null,
            "object_fit": null,
            "grid_auto_columns": null,
            "margin": null,
            "display": null,
            "left": null
          }
        },
        "bb5968af6cdc408e835632006f6e411e": {
          "model_module": "@jupyter-widgets/controls",
          "model_name": "TextModel",
          "state": {
            "_view_name": "TextView",
            "style": "IPY_MODEL_a34cc5333a2145759b2028a0207804a7",
            "_dom_classes": [],
            "description": "",
            "_model_name": "TextModel",
            "placeholder": "Step Size for RK4",
            "_view_module": "@jupyter-widgets/controls",
            "_model_module_version": "1.5.0",
            "value": "",
            "_view_count": null,
            "disabled": false,
            "_view_module_version": "1.5.0",
            "continuous_update": true,
            "description_tooltip": null,
            "_model_module": "@jupyter-widgets/controls",
            "layout": "IPY_MODEL_81d116e044ff48f7b63e901bc1274827"
          }
        },
        "a34cc5333a2145759b2028a0207804a7": {
          "model_module": "@jupyter-widgets/controls",
          "model_name": "DescriptionStyleModel",
          "state": {
            "_view_name": "StyleView",
            "_model_name": "DescriptionStyleModel",
            "description_width": "",
            "_view_module": "@jupyter-widgets/base",
            "_model_module_version": "1.5.0",
            "_view_count": null,
            "_view_module_version": "1.2.0",
            "_model_module": "@jupyter-widgets/controls"
          }
        },
        "81d116e044ff48f7b63e901bc1274827": {
          "model_module": "@jupyter-widgets/base",
          "model_name": "LayoutModel",
          "state": {
            "_view_name": "LayoutView",
            "grid_template_rows": null,
            "right": null,
            "justify_content": null,
            "_view_module": "@jupyter-widgets/base",
            "overflow": null,
            "_model_module_version": "1.2.0",
            "_view_count": null,
            "flex_flow": null,
            "width": null,
            "min_width": null,
            "border": null,
            "align_items": null,
            "bottom": null,
            "_model_module": "@jupyter-widgets/base",
            "top": null,
            "grid_column": null,
            "overflow_y": null,
            "overflow_x": null,
            "grid_auto_flow": null,
            "grid_area": null,
            "grid_template_columns": null,
            "flex": null,
            "_model_name": "LayoutModel",
            "justify_items": null,
            "grid_row": null,
            "max_height": null,
            "align_content": null,
            "visibility": null,
            "align_self": null,
            "height": null,
            "min_height": null,
            "padding": null,
            "grid_auto_rows": null,
            "grid_gap": null,
            "max_width": null,
            "order": null,
            "_view_module_version": "1.2.0",
            "grid_template_areas": null,
            "object_position": null,
            "object_fit": null,
            "grid_auto_columns": null,
            "margin": null,
            "display": null,
            "left": null
          }
        },
        "ac337399076e48d58ec300de44a99ce1": {
          "model_module": "@jupyter-widgets/controls",
          "model_name": "TextModel",
          "state": {
            "_view_name": "TextView",
            "style": "IPY_MODEL_b40da2a8cd464e5fb5ac8379d8e27463",
            "_dom_classes": [],
            "description": "",
            "_model_name": "TextModel",
            "placeholder": "Step Count for RK4",
            "_view_module": "@jupyter-widgets/controls",
            "_model_module_version": "1.5.0",
            "value": "",
            "_view_count": null,
            "disabled": false,
            "_view_module_version": "1.5.0",
            "continuous_update": true,
            "description_tooltip": null,
            "_model_module": "@jupyter-widgets/controls",
            "layout": "IPY_MODEL_8b26ac82f4d640dc92def77f3a5e8493"
          }
        },
        "b40da2a8cd464e5fb5ac8379d8e27463": {
          "model_module": "@jupyter-widgets/controls",
          "model_name": "DescriptionStyleModel",
          "state": {
            "_view_name": "StyleView",
            "_model_name": "DescriptionStyleModel",
            "description_width": "",
            "_view_module": "@jupyter-widgets/base",
            "_model_module_version": "1.5.0",
            "_view_count": null,
            "_view_module_version": "1.2.0",
            "_model_module": "@jupyter-widgets/controls"
          }
        },
        "8b26ac82f4d640dc92def77f3a5e8493": {
          "model_module": "@jupyter-widgets/base",
          "model_name": "LayoutModel",
          "state": {
            "_view_name": "LayoutView",
            "grid_template_rows": null,
            "right": null,
            "justify_content": null,
            "_view_module": "@jupyter-widgets/base",
            "overflow": null,
            "_model_module_version": "1.2.0",
            "_view_count": null,
            "flex_flow": null,
            "width": null,
            "min_width": null,
            "border": null,
            "align_items": null,
            "bottom": null,
            "_model_module": "@jupyter-widgets/base",
            "top": null,
            "grid_column": null,
            "overflow_y": null,
            "overflow_x": null,
            "grid_auto_flow": null,
            "grid_area": null,
            "grid_template_columns": null,
            "flex": null,
            "_model_name": "LayoutModel",
            "justify_items": null,
            "grid_row": null,
            "max_height": null,
            "align_content": null,
            "visibility": null,
            "align_self": null,
            "height": null,
            "min_height": null,
            "padding": null,
            "grid_auto_rows": null,
            "grid_gap": null,
            "max_width": null,
            "order": null,
            "_view_module_version": "1.2.0",
            "grid_template_areas": null,
            "object_position": null,
            "object_fit": null,
            "grid_auto_columns": null,
            "margin": null,
            "display": null,
            "left": null
          }
        },
        "6225d5879afc4ee3988a0dbd8d5e2c8d": {
          "model_module": "@jupyter-widgets/controls",
          "model_name": "ButtonModel",
          "state": {
            "_view_name": "ButtonView",
            "style": "IPY_MODEL_f8835603f0214a7e93e604111da8c76d",
            "_dom_classes": [],
            "description": "Plot",
            "_model_name": "ButtonModel",
            "button_style": "",
            "_view_module": "@jupyter-widgets/controls",
            "_model_module_version": "1.5.0",
            "tooltip": "",
            "_view_count": null,
            "disabled": false,
            "_view_module_version": "1.5.0",
            "layout": "IPY_MODEL_c9712a1bedc947cdbec31d9fd8ee0fb1",
            "_model_module": "@jupyter-widgets/controls",
            "icon": ""
          }
        },
        "f8835603f0214a7e93e604111da8c76d": {
          "model_module": "@jupyter-widgets/controls",
          "model_name": "ButtonStyleModel",
          "state": {
            "_view_name": "StyleView",
            "_model_name": "ButtonStyleModel",
            "_view_module": "@jupyter-widgets/base",
            "_model_module_version": "1.5.0",
            "_view_count": null,
            "button_color": null,
            "font_weight": "",
            "_view_module_version": "1.2.0",
            "_model_module": "@jupyter-widgets/controls"
          }
        },
        "c9712a1bedc947cdbec31d9fd8ee0fb1": {
          "model_module": "@jupyter-widgets/base",
          "model_name": "LayoutModel",
          "state": {
            "_view_name": "LayoutView",
            "grid_template_rows": null,
            "right": null,
            "justify_content": null,
            "_view_module": "@jupyter-widgets/base",
            "overflow": null,
            "_model_module_version": "1.2.0",
            "_view_count": null,
            "flex_flow": null,
            "width": null,
            "min_width": null,
            "border": null,
            "align_items": null,
            "bottom": null,
            "_model_module": "@jupyter-widgets/base",
            "top": null,
            "grid_column": null,
            "overflow_y": null,
            "overflow_x": null,
            "grid_auto_flow": null,
            "grid_area": null,
            "grid_template_columns": null,
            "flex": null,
            "_model_name": "LayoutModel",
            "justify_items": null,
            "grid_row": null,
            "max_height": null,
            "align_content": null,
            "visibility": null,
            "align_self": null,
            "height": null,
            "min_height": null,
            "padding": null,
            "grid_auto_rows": null,
            "grid_gap": null,
            "max_width": null,
            "order": null,
            "_view_module_version": "1.2.0",
            "grid_template_areas": null,
            "object_position": null,
            "object_fit": null,
            "grid_auto_columns": null,
            "margin": null,
            "display": null,
            "left": null
          }
        }
      }
    }
  },
  "cells": [
    {
      "cell_type": "markdown",
      "metadata": {
        "id": "view-in-github",
        "colab_type": "text"
      },
      "source": [
        "<a href=\"https://colab.research.google.com/github/DiGyt/neuropynamics/blob/master/notebooks/pplane.ipynb\" target=\"_parent\"><img src=\"https://colab.research.google.com/assets/colab-badge.svg\" alt=\"Open In Colab\"/></a>"
      ]
    },
    {
      "cell_type": "code",
      "metadata": {
        "id": "fptJpyREw8Hl",
        "colab_type": "code",
        "colab": {}
      },
      "source": [
        "# ! pip3 install sympy, matplotlib, numpy, scipy, ipywidgets"
      ],
      "execution_count": 1,
      "outputs": []
    },
    {
      "cell_type": "markdown",
      "metadata": {
        "id": "rm6SF-qh1_ae",
        "colab_type": "text"
      },
      "source": [
        "Some of the libraries we need for Stability Analysis\n",
        "\n",
        "Sympy: Stands for Symbolic Python, provides functionality for solving equations\n",
        "Numpy: Offers Numeric computation\n",
        "Matplotlib: Plotting and Charting library\n",
        "Scipy: Scientific Computing Library\n",
        "\n",
        "ipywidgets: Helps us develop a dashboard-like user experience. This library has no mathematical purpose here"
      ]
    },
    {
      "cell_type": "code",
      "metadata": {
        "id": "vd7awcX5w8Hy",
        "colab_type": "code",
        "colab": {}
      },
      "source": [
        "from sympy import symbols, solve, lambdify, sympify, dsolve, Eq, solveset, linear_eq_to_matrix, nonlinsolve, Matrix, diff, sqrt\n",
        "import numpy as np\n",
        "from matplotlib import pyplot as plt\n",
        "from matplotlib.pyplot import quiver\n",
        "from scipy import integrate\n",
        "\n",
        "from ipywidgets import widgets\n",
        "from IPython.display import clear_output, display, HTML"
      ],
      "execution_count": 2,
      "outputs": []
    },
    {
      "cell_type": "markdown",
      "metadata": {
        "id": "AIgJ_1162zIo",
        "colab_type": "text"
      },
      "source": [
        "Our implementation of the Runge-Kutta 4 algorithm. It is an iterative and non analytical method for solving equations."
      ]
    },
    {
      "cell_type": "code",
      "metadata": {
        "id": "1fHT8eDVw8H8",
        "colab_type": "code",
        "colab": {}
      },
      "source": [
        "def rk4( f, x0, y0, h, xn ):\n",
        "    n = int((xn - x0)/h)\n",
        "    x = np.array( [ x0 ] * n, dtype=float )\n",
        "    y = np.array( [ y0 ] * n, dtype=float )\n",
        "    for i in range( n-1 ):\n",
        "        k1 = h * f( x[i], y[i] )\n",
        "        k2 = h * f( x[i] + 0.5 * h, y[i] + 0.5 * k1 )\n",
        "        k3 = h * f( x[i] + 0.5 * h, y[i] + 0.5 * k2 )\n",
        "        k4 = h * f( x[i] + h, y[i] + k3 )\n",
        "        \n",
        "        x[i+1] = x[i] + h\n",
        "        y[i+1] = y[i] + ( k1 + 2.0 * ( k2 + k3 ) + k4 ) / 6.0\n",
        "        \n",
        "    return y, x\n"
      ],
      "execution_count": 3,
      "outputs": []
    },
    {
      "cell_type": "markdown",
      "metadata": {
        "id": "tJJ9KipI3IFe",
        "colab_type": "text"
      },
      "source": [
        "This function plots the analytical solution of the equation. This is the same job as done in the RK4 above, except it is analytical."
      ]
    },
    {
      "cell_type": "code",
      "metadata": {
        "id": "LQoG3Q8bw8IF",
        "colab_type": "code",
        "colab": {}
      },
      "source": [
        "def plotEquation (eq, solvar, plotvar, inputrange):\n",
        "    '''\n",
        "        Given a sympy equation object `eq`, this function return a series of values,\n",
        "        in the range of `inputrange` such that the equation is solved for\n",
        "        `solvar` and the input is for `plotvar`\n",
        "    '''\n",
        "    eq = Eq(eq, 0)\n",
        "    sol = solve(eq, solvar)\n",
        "    vals = []\n",
        "    for s in sol:\n",
        "        f = lambdify((plotvar), sol)\n",
        "        vals.append([f(i) for i in inputrange])\n",
        "\n",
        "    return vals"
      ],
      "execution_count": 4,
      "outputs": []
    },
    {
      "cell_type": "markdown",
      "metadata": {
        "id": "HkasglX13QBD",
        "colab_type": "text"
      },
      "source": [
        "This function finds input values for which both the provided equations are zero. These are fixed points - points were both systems have zero rate of change."
      ]
    },
    {
      "cell_type": "code",
      "metadata": {
        "id": "im8SSKXIw8IN",
        "colab_type": "code",
        "colab": {}
      },
      "source": [
        "def findFixedPoints(f, g, xrange, yrange):\n",
        "    return [(x, y) for x in xrange for y in yrange if f(x, y) == 0 and g(x, y) == 0]"
      ],
      "execution_count": 5,
      "outputs": []
    },
    {
      "cell_type": "markdown",
      "metadata": {
        "id": "1CbiTJSA3b6T",
        "colab_type": "text"
      },
      "source": [
        "This function finds a sequence of values for the equations. It helps us see it change over time and against each other."
      ]
    },
    {
      "cell_type": "code",
      "metadata": {
        "id": "UmuotH99w8IZ",
        "colab_type": "code",
        "colab": {}
      },
      "source": [
        "def system(initialx, initialy, func1, func2, delta, timerange):\n",
        "    x = [initialx]\n",
        "    y = [initialy]\n",
        "    \n",
        "    for i in range(timerange):\n",
        "        x.append(x[i] + func1(x[i], y[i]) * delta)\n",
        "        y.append(y[i] + func2(x[i], y[i]) * delta)\n",
        "    \n",
        "    return x, y"
      ],
      "execution_count": 6,
      "outputs": []
    },
    {
      "cell_type": "markdown",
      "metadata": {
        "id": "yCBb7SQo3mp9",
        "colab_type": "text"
      },
      "source": [
        "The mother of all functions uses the functions above and more to deliver the finished 'Stability Analysis Dashboard'"
      ]
    },
    {
      "cell_type": "code",
      "metadata": {
        "id": "zqLV9gklw8Ig",
        "colab_type": "code",
        "colab": {}
      },
      "source": [
        "def plots(expr1, expr2, x, y, startx, starty, stepsize, numsteps):\n",
        "    '''\n",
        "        expr1: sympy expression - non linear ode\n",
        "        expr2: sympy expression - non linear ode\n",
        "        x: sympy variable used in expr1 and/or expr2\n",
        "        y: sympy variable used in expr1 and/or expr2\n",
        "        startx: for the range-kutta4, the x variable needs a start value\n",
        "        starty: for the range-kutta4, the y variable needs a start value\n",
        "        stepsize: step size for runge-kutta4\n",
        "        numsteps: the number of steps runge-kutta4 should take\n",
        "    '''\n",
        "    # converting the equations to functions\n",
        "    f1 = lambdify((x, y), expr1)\n",
        "    f2 = lambdify((x, y), expr2)\n",
        "    \n",
        "    # phase space\n",
        "    sx, sy = system(startx, starty, f1, f2, stepsize, numsteps)\n",
        "    fig, (ax1, ax2) = plt.subplots(2, 1, figsize=(10,10))\n",
        "    ax1.plot(sx, label='X in Time')\n",
        "    ax1.plot(sy, label='Y in Time')\n",
        "    ax2.plot(sx, sy, label='X against Y')\n",
        "    ax1.legend()\n",
        "    ax2.legend()\n",
        "    \n",
        "    # compute ranges to work in\n",
        "    yrange = np.linspace(y_range_slider.value[0], y_range_slider.value[1])\n",
        "    xrange = np.linspace(x_range_slider.value[0], x_range_slider.value[1])\n",
        "    \n",
        "    # a plot for the quiver plot and nullclines\n",
        "    fig, ax = plt.subplots(figsize=(20,20))\n",
        "    ax.set_xlim([min(xrange), max(xrange)])\n",
        "    ax.set_ylim([min(yrange), max(yrange)])\n",
        "    \n",
        "    # plotting the 4 nullclines from range-kutta4\n",
        "    rkx, rky = rk4( f1, min(xrange), -1000, .25, max(xrange) )\n",
        "    ax.scatter(rkx, rky, marker='+', label='Solution with Runge-Kutta 4', s=150)\n",
        "    \n",
        "    rky, rkx = rk4( f1, min(xrange), -1000, .25, max(xrange) )\n",
        "    ax.scatter(rkx, rky, marker='+', label='Solution with Runge-Kutta 4', s=150)\n",
        "    \n",
        "    rkx, rky = rk4( f2, min(yrange), 0, .25, max(yrange) )\n",
        "    ax.scatter(rkx, rky, marker='+', label='Solution with Runge-Kutta 4', s=150)\n",
        "    \n",
        "    rky, rkx = rk4( f2, min(yrange), 0, .25, max(yrange) )\n",
        "    ax.scatter(rkx, rky, marker='+', label='Solution with Runge-Kutta 4', s=150)\n",
        "    \n",
        "    # compute quivers\n",
        "    f1_val = [[f1(i, j) for i in xrange] for j in yrange];\n",
        "    f2_val = [[f2(i, j) for i in xrange] for j in yrange];\n",
        "\n",
        "    # plot quiver plot\n",
        "    q = ax.quiver(xrange, yrange, f1_val, f2_val, alpha=.5)\n",
        "    \n",
        "    # solve analytically using sympy\n",
        "    solutions = solve((Eq(expr1, 0), Eq(expr2, 0)), x, y)\n",
        "    \n",
        "    # compute jacobian and eigen values\n",
        "    equationMatrix = Matrix([ expr1, expr2 ])\n",
        "    varMat = Matrix([ x, y ])\n",
        "    jacobian = equationMatrix.jacobian(varMat)\n",
        "    display(HTML('''<h2>Jacobian Matrix</h2> <br /> The Jacobian matrix has single order derivatives\n",
        "                    of a System of Equations.</h2>'''))\n",
        "    display(jacobian)\n",
        "    \n",
        "    # display eigen values\n",
        "    display(HTML('<br /> <br /> <br /> <h2>Eigen Values</h2> <br /> <img src=\"/src/2d-stability.png\" />'))\n",
        "    op = '''<table>\n",
        "                     <th>\n",
        "                         <td>Stable Point</td>\n",
        "                         <td>Eigen Values</td>\n",
        "                         <td>Type of Stability Point</td>\n",
        "                     </th>'''\n",
        "    for s in solutions:\n",
        "        eqmat = jacobian.subs([ (x, s[0]), (y, s[1]) ])\n",
        "        ev = list(eqmat.eigenvals().keys())\n",
        "        \n",
        "        if ev[0].is_real:\n",
        "            if ev[0] > 0 and ev[1] > 0:\n",
        "                t = 'Unstable Node'\n",
        "            elif ev[0] < 0 and ev[1] < 0:\n",
        "                t = 'Stable Node'\n",
        "            elif (ev[0] < 0 and ev[1] > 0) or (ev[0] > 0 and ev[1] < 0):\n",
        "                t = 'Saddle Point'\n",
        "        else:\n",
        "            if ev[0].args[0] > 0:\n",
        "                t = 'Unstable Focus'\n",
        "            if ev[0].args[0] < 0:\n",
        "                t = 'Stable Focus'\n",
        "        \n",
        "        op = op + '''<tr>\n",
        "                            <td>%s</td>\n",
        "                            <td>%s, %s</td>\n",
        "                            <td>%s</td>\n",
        "                        </tr>''' % (str(s), ev[0], ev[1], t)\n",
        "    op = op + '</table>'\n",
        "    display(HTML(op))\n",
        "    \n",
        "    # plot the analytical solution\n",
        "    try:\n",
        "        [ax.plot(yrange, nc, c='b', alpha=.7, label='Analytical Solution') for nc in plotEquation(expr1, y, x, yrange)]\n",
        "        [ax.plot(nc, yrange, c='b', alpha=.7, label='Analytical Solution') for nc in plotEquation(expr1, x, y, xrange)]\n",
        "        [ax.plot(nc, xrange, c='r', alpha=.7, label='Analytical Solution') for nc in plotEquation(expr2, x, y, xrange)]\n",
        "        [ax.plot(xrange, nc, c='r', alpha=.7, label='Analytical Solution') for nc in plotEquation(expr2, y, x, yrange)]\n",
        "    except:\n",
        "        print('Some nullcline values are complex')\n",
        "    \n",
        "    # plot the roots\n",
        "    try:\n",
        "        [ax.scatter(i[0], i[1], marker='x', label='Stable Point', s=150) for i in solutions]\n",
        "    except:\n",
        "        print('Some roots are complex')\n",
        "\n",
        "    # a legend for our plot\n",
        "    display(HTML('''<h2>Quiver Plot and Null Clines</h2><br />\n",
        "                    A quiver plot shows the direction the system is moving in at each co-ordinate. <br />\n",
        "                    Null Clines are lines where one of the two variables are zero. The Points \n",
        "                    where Null Clines intersect are where the system is stable because both variables are \n",
        "                    zero at that point.<br />\n",
        "                    Null Clines can be obtained analytically (using calculus) and numerically.'''))\n",
        "    fig.legend(framealpha=1, fancybox=True, fontsize='large', loc=1)\n",
        "\n",
        "    display(HTML('''<br /> <br /> <br /> <h2>Phase Potrait</h2> <br />\n",
        "                 Phase Potrait shows the change in the two quantities with respect to each other\n",
        "                 and idependantly.<br />'''))\n",
        "    \n",
        "    fig.show()\n"
      ],
      "execution_count": 7,
      "outputs": []
    },
    {
      "cell_type": "markdown",
      "metadata": {
        "id": "gUtZCqyrw8It",
        "colab_type": "text"
      },
      "source": [
        "# Specify your equation"
      ]
    },
    {
      "cell_type": "markdown",
      "metadata": {
        "id": "ymSXCWjm3u--",
        "colab_type": "text"
      },
      "source": [
        "The you can type your equation.\n",
        "Use ** for powers\n",
        "* for Multiplication\n",
        "In `symbols`, specify the variables used."
      ]
    },
    {
      "cell_type": "code",
      "metadata": {
        "id": "G8va70syw8Iu",
        "colab_type": "code",
        "colab": {
          "base_uri": "https://localhost:8080/",
          "height": 51
        },
        "outputId": "73bd57a4-e273-426c-d8d6-0a3f71244a7e"
      },
      "source": [
        "x, y = symbols('x y')\n",
        "\n",
        "# expr1 = 2*x - y + 3*(x**2 - y**2) + 2*x*y\n",
        "expr1 = 2*x - x**2 - x*y\n",
        "# expr1 = 5 - y + 5\n",
        "display(expr1)\n",
        "\n",
        "# expr2 = x - 3*y - 3*(x**2-y**2) + 3*x*y\n",
        "expr2 = -y + x*y\n",
        "# expr2 = 3*(4*x-5*y)\n",
        "display(expr2)"
      ],
      "execution_count": 8,
      "outputs": [
        {
          "output_type": "display_data",
          "data": {
            "text/plain": [
              "-x**2 - x*y + 2*x"
            ]
          },
          "metadata": {
            "tags": []
          }
        },
        {
          "output_type": "display_data",
          "data": {
            "text/plain": [
              "x*y - y"
            ]
          },
          "metadata": {
            "tags": []
          }
        }
      ]
    },
    {
      "cell_type": "markdown",
      "metadata": {
        "id": "pwyDHcNTw8I4",
        "colab_type": "text"
      },
      "source": [
        "# Select range of x and y values and click the plot button"
      ]
    },
    {
      "cell_type": "markdown",
      "metadata": {
        "id": "bS1Rlpfa3-7X",
        "colab_type": "text"
      },
      "source": [
        "The code below prepares our dashboard."
      ]
    },
    {
      "cell_type": "code",
      "metadata": {
        "scrolled": false,
        "id": "8EIcOOB7w8JH",
        "colab_type": "code",
        "colab": {
          "base_uri": "https://localhost:8080/",
          "height": 344,
          "referenced_widgets": [
            "c06a2851e1c44510b7c83ca159b58313",
            "8c2631e5f5304ac88a6b4f9bbda5f545",
            "0186c0facb77491083015fa22f5d6614",
            "536fe32f0ff04888880867883b155d5c",
            "ed3dc175daa942b896ed15b4a521217f",
            "5cd87bfa6b8d4f5ab09fede4e85402d4",
            "e32e3a5bf8dc4e139579d9853b8f6a90",
            "dedd412c476d4944a66aef703f73c9e6",
            "603128d0c6094900b5373e6863a180f9",
            "1eb7e68df1e247aa8cbc47658455697a",
            "ce119b20fbbd4cc6b48321044d42b2d8",
            "90a6d48dae6648dea70f08f2a7b419ee",
            "bb5968af6cdc408e835632006f6e411e",
            "a34cc5333a2145759b2028a0207804a7",
            "81d116e044ff48f7b63e901bc1274827",
            "ac337399076e48d58ec300de44a99ce1",
            "b40da2a8cd464e5fb5ac8379d8e27463",
            "8b26ac82f4d640dc92def77f3a5e8493",
            "6225d5879afc4ee3988a0dbd8d5e2c8d",
            "f8835603f0214a7e93e604111da8c76d",
            "c9712a1bedc947cdbec31d9fd8ee0fb1"
          ]
        },
        "outputId": "d96120f1-ad82-4dc5-e591-8b28da73d934"
      },
      "source": [
        "\n",
        "display(HTML('<h3>Select ranges for the two variables.</h3>'))\n",
        "\n",
        "y_range_slider = widgets.IntRangeSlider(min=-10, max=10)\n",
        "display(y_range_slider)\n",
        "\n",
        "x_range_slider = widgets.IntRangeSlider(min=-10, max=10)\n",
        "display(x_range_slider)\n",
        "\n",
        "display(HTML('<h3>Input for RK4</h3> <br /> Optimum values depend on the equation and can be obtained by trial and error.'))\n",
        "\n",
        "startx = widgets.Text(placeholder='Start Value of X for RK4', disabled=False)\n",
        "starty = widgets.Text(placeholder='Start Value of Y for RK4', disabled=False)\n",
        "stepsize = widgets.Text(placeholder='Step Size for RK4', disabled=False)\n",
        "stepcount = widgets.Text(placeholder='Step Count for RK4', disabled=False)\n",
        "\n",
        "display(startx)\n",
        "display(starty)\n",
        "display(stepsize)\n",
        "display(stepcount)\n",
        "\n",
        "renderButton = widgets.Button(description='Plot')\n",
        "display(renderButton)\n",
        "\n",
        "@renderButton.on_click\n",
        "def renderButtonOnClick(b):\n",
        "    clear_output()\n",
        "    \n",
        "    display(y_range_slider)\n",
        "    display(x_range_slider)\n",
        "    display(renderButton)\n",
        "    \n",
        "    plots(expr1, expr2, x, y, int(startx.value), int(starty.value), float(stepsize.value), int(stepcount.value))"
      ],
      "execution_count": 9,
      "outputs": [
        {
          "output_type": "display_data",
          "data": {
            "text/html": [
              "<h3>Select ranges for the two variables.</h3>"
            ],
            "text/plain": [
              "<IPython.core.display.HTML object>"
            ]
          },
          "metadata": {
            "tags": []
          }
        },
        {
          "output_type": "display_data",
          "data": {
            "application/vnd.jupyter.widget-view+json": {
              "model_id": "c06a2851e1c44510b7c83ca159b58313",
              "version_minor": 0,
              "version_major": 2
            },
            "text/plain": [
              "IntRangeSlider(value=(-5, 5), max=10, min=-10)"
            ]
          },
          "metadata": {
            "tags": []
          }
        },
        {
          "output_type": "display_data",
          "data": {
            "application/vnd.jupyter.widget-view+json": {
              "model_id": "536fe32f0ff04888880867883b155d5c",
              "version_minor": 0,
              "version_major": 2
            },
            "text/plain": [
              "IntRangeSlider(value=(-5, 5), max=10, min=-10)"
            ]
          },
          "metadata": {
            "tags": []
          }
        },
        {
          "output_type": "display_data",
          "data": {
            "text/html": [
              "<h3>Input for RK4</h3> <br /> Optimum values depend on the equation and can be obtained by trial and error."
            ],
            "text/plain": [
              "<IPython.core.display.HTML object>"
            ]
          },
          "metadata": {
            "tags": []
          }
        },
        {
          "output_type": "display_data",
          "data": {
            "application/vnd.jupyter.widget-view+json": {
              "model_id": "e32e3a5bf8dc4e139579d9853b8f6a90",
              "version_minor": 0,
              "version_major": 2
            },
            "text/plain": [
              "Text(value='', placeholder='Start Value of X for RK4')"
            ]
          },
          "metadata": {
            "tags": []
          }
        },
        {
          "output_type": "display_data",
          "data": {
            "application/vnd.jupyter.widget-view+json": {
              "model_id": "1eb7e68df1e247aa8cbc47658455697a",
              "version_minor": 0,
              "version_major": 2
            },
            "text/plain": [
              "Text(value='', placeholder='Start Value of Y for RK4')"
            ]
          },
          "metadata": {
            "tags": []
          }
        },
        {
          "output_type": "display_data",
          "data": {
            "application/vnd.jupyter.widget-view+json": {
              "model_id": "bb5968af6cdc408e835632006f6e411e",
              "version_minor": 0,
              "version_major": 2
            },
            "text/plain": [
              "Text(value='', placeholder='Step Size for RK4')"
            ]
          },
          "metadata": {
            "tags": []
          }
        },
        {
          "output_type": "display_data",
          "data": {
            "application/vnd.jupyter.widget-view+json": {
              "model_id": "ac337399076e48d58ec300de44a99ce1",
              "version_minor": 0,
              "version_major": 2
            },
            "text/plain": [
              "Text(value='', placeholder='Step Count for RK4')"
            ]
          },
          "metadata": {
            "tags": []
          }
        },
        {
          "output_type": "display_data",
          "data": {
            "application/vnd.jupyter.widget-view+json": {
              "model_id": "6225d5879afc4ee3988a0dbd8d5e2c8d",
              "version_minor": 0,
              "version_major": 2
            },
            "text/plain": [
              "Button(description='Plot', style=ButtonStyle())"
            ]
          },
          "metadata": {
            "tags": []
          }
        }
      ]
    }
  ]
}