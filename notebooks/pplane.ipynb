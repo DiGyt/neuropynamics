{
  "nbformat": 4,
  "nbformat_minor": 0,
  "metadata": {
    "kernelspec": {
      "display_name": "Python 3",
      "language": "python",
      "name": "python3"
    },
    "language_info": {
      "codemirror_mode": {
        "name": "ipython",
        "version": 3
      },
      "file_extension": ".py",
      "mimetype": "text/x-python",
      "name": "python",
      "nbconvert_exporter": "python",
      "pygments_lexer": "ipython3",
      "version": "3.8.3"
    },
    "colab": {
      "name": "pplane.ipynb",
      "provenance": [],
      "collapsed_sections": [],
      "toc_visible": true,
      "include_colab_link": true
    },
    "widgets": {
      "application/vnd.jupyter.widget-state+json": {
        "10d98232df7348c5861baae2a6903fde": {
          "model_module": "@jupyter-widgets/controls",
          "model_name": "IntRangeSliderModel",
          "state": {
            "_view_name": "IntRangeSliderView",
            "style": "IPY_MODEL_1b858885b63d462d9ded158065be27a8",
            "_dom_classes": [],
            "description": "Range of X:",
            "step": 1,
            "_model_name": "IntRangeSliderModel",
            "orientation": "horizontal",
            "max": 10,
            "_view_module": "@jupyter-widgets/controls",
            "_model_module_version": "1.5.0",
            "value": [
              -5,
              5
            ],
            "_view_count": null,
            "disabled": false,
            "_view_module_version": "1.5.0",
            "min": -10,
            "continuous_update": true,
            "readout_format": "d",
            "description_tooltip": null,
            "readout": true,
            "_model_module": "@jupyter-widgets/controls",
            "layout": "IPY_MODEL_76a1691cf136404dad022ca85b0c63f3"
          }
        },
        "1b858885b63d462d9ded158065be27a8": {
          "model_module": "@jupyter-widgets/controls",
          "model_name": "SliderStyleModel",
          "state": {
            "_view_name": "StyleView",
            "handle_color": null,
            "_model_name": "SliderStyleModel",
            "description_width": "150px",
            "_view_module": "@jupyter-widgets/base",
            "_model_module_version": "1.5.0",
            "_view_count": null,
            "_view_module_version": "1.2.0",
            "_model_module": "@jupyter-widgets/controls"
          }
        },
        "76a1691cf136404dad022ca85b0c63f3": {
          "model_module": "@jupyter-widgets/base",
          "model_name": "LayoutModel",
          "state": {
            "_view_name": "LayoutView",
            "grid_template_rows": null,
            "right": null,
            "justify_content": null,
            "_view_module": "@jupyter-widgets/base",
            "overflow": null,
            "_model_module_version": "1.2.0",
            "_view_count": null,
            "flex_flow": null,
            "width": "700px",
            "min_width": null,
            "border": null,
            "align_items": null,
            "bottom": null,
            "_model_module": "@jupyter-widgets/base",
            "top": null,
            "grid_column": null,
            "overflow_y": null,
            "overflow_x": null,
            "grid_auto_flow": null,
            "grid_area": null,
            "grid_template_columns": null,
            "flex": null,
            "_model_name": "LayoutModel",
            "justify_items": null,
            "grid_row": null,
            "max_height": null,
            "align_content": null,
            "visibility": null,
            "align_self": null,
            "height": null,
            "min_height": null,
            "padding": null,
            "grid_auto_rows": null,
            "grid_gap": null,
            "max_width": null,
            "order": null,
            "_view_module_version": "1.2.0",
            "grid_template_areas": null,
            "object_position": null,
            "object_fit": null,
            "grid_auto_columns": null,
            "margin": null,
            "display": null,
            "left": null
          }
        },
        "6c0297621fe04a1ba7ac15aa4eac60ec": {
          "model_module": "@jupyter-widgets/controls",
          "model_name": "IntRangeSliderModel",
          "state": {
            "_view_name": "IntRangeSliderView",
            "style": "IPY_MODEL_71979f7f4cf34e48ac78cb1c230fadf0",
            "_dom_classes": [],
            "description": "Range of Y:",
            "step": 1,
            "_model_name": "IntRangeSliderModel",
            "orientation": "horizontal",
            "max": 10,
            "_view_module": "@jupyter-widgets/controls",
            "_model_module_version": "1.5.0",
            "value": [
              -5,
              5
            ],
            "_view_count": null,
            "disabled": false,
            "_view_module_version": "1.5.0",
            "min": -10,
            "continuous_update": true,
            "readout_format": "d",
            "description_tooltip": null,
            "readout": true,
            "_model_module": "@jupyter-widgets/controls",
            "layout": "IPY_MODEL_0cb4f80d535c4004a2592b72abaa99c6"
          }
        },
        "71979f7f4cf34e48ac78cb1c230fadf0": {
          "model_module": "@jupyter-widgets/controls",
          "model_name": "SliderStyleModel",
          "state": {
            "_view_name": "StyleView",
            "handle_color": null,
            "_model_name": "SliderStyleModel",
            "description_width": "150px",
            "_view_module": "@jupyter-widgets/base",
            "_model_module_version": "1.5.0",
            "_view_count": null,
            "_view_module_version": "1.2.0",
            "_model_module": "@jupyter-widgets/controls"
          }
        },
        "0cb4f80d535c4004a2592b72abaa99c6": {
          "model_module": "@jupyter-widgets/base",
          "model_name": "LayoutModel",
          "state": {
            "_view_name": "LayoutView",
            "grid_template_rows": null,
            "right": null,
            "justify_content": null,
            "_view_module": "@jupyter-widgets/base",
            "overflow": null,
            "_model_module_version": "1.2.0",
            "_view_count": null,
            "flex_flow": null,
            "width": "700px",
            "min_width": null,
            "border": null,
            "align_items": null,
            "bottom": null,
            "_model_module": "@jupyter-widgets/base",
            "top": null,
            "grid_column": null,
            "overflow_y": null,
            "overflow_x": null,
            "grid_auto_flow": null,
            "grid_area": null,
            "grid_template_columns": null,
            "flex": null,
            "_model_name": "LayoutModel",
            "justify_items": null,
            "grid_row": null,
            "max_height": null,
            "align_content": null,
            "visibility": null,
            "align_self": null,
            "height": null,
            "min_height": null,
            "padding": null,
            "grid_auto_rows": null,
            "grid_gap": null,
            "max_width": null,
            "order": null,
            "_view_module_version": "1.2.0",
            "grid_template_areas": null,
            "object_position": null,
            "object_fit": null,
            "grid_auto_columns": null,
            "margin": null,
            "display": null,
            "left": null
          }
        },
        "58104a0e1e99407cb621f1724636a1e0": {
          "model_module": "@jupyter-widgets/controls",
          "model_name": "TextModel",
          "state": {
            "_view_name": "TextView",
            "style": "IPY_MODEL_ee656e07d4e64ab5b561472a839ce81b",
            "_dom_classes": [],
            "description": "RK4 - Initial guess of X:",
            "_model_name": "TextModel",
            "placeholder": "Try \"0\"",
            "_view_module": "@jupyter-widgets/controls",
            "_model_module_version": "1.5.0",
            "value": "",
            "_view_count": null,
            "disabled": false,
            "_view_module_version": "1.5.0",
            "continuous_update": true,
            "description_tooltip": null,
            "_model_module": "@jupyter-widgets/controls",
            "layout": "IPY_MODEL_aee3a8958b284ffb90922a806c541894"
          }
        },
        "ee656e07d4e64ab5b561472a839ce81b": {
          "model_module": "@jupyter-widgets/controls",
          "model_name": "DescriptionStyleModel",
          "state": {
            "_view_name": "StyleView",
            "_model_name": "DescriptionStyleModel",
            "description_width": "150px",
            "_view_module": "@jupyter-widgets/base",
            "_model_module_version": "1.5.0",
            "_view_count": null,
            "_view_module_version": "1.2.0",
            "_model_module": "@jupyter-widgets/controls"
          }
        },
        "aee3a8958b284ffb90922a806c541894": {
          "model_module": "@jupyter-widgets/base",
          "model_name": "LayoutModel",
          "state": {
            "_view_name": "LayoutView",
            "grid_template_rows": null,
            "right": null,
            "justify_content": null,
            "_view_module": "@jupyter-widgets/base",
            "overflow": null,
            "_model_module_version": "1.2.0",
            "_view_count": null,
            "flex_flow": null,
            "width": "700px",
            "min_width": null,
            "border": null,
            "align_items": null,
            "bottom": null,
            "_model_module": "@jupyter-widgets/base",
            "top": null,
            "grid_column": null,
            "overflow_y": null,
            "overflow_x": null,
            "grid_auto_flow": null,
            "grid_area": null,
            "grid_template_columns": null,
            "flex": null,
            "_model_name": "LayoutModel",
            "justify_items": null,
            "grid_row": null,
            "max_height": null,
            "align_content": null,
            "visibility": null,
            "align_self": null,
            "height": null,
            "min_height": null,
            "padding": null,
            "grid_auto_rows": null,
            "grid_gap": null,
            "max_width": null,
            "order": null,
            "_view_module_version": "1.2.0",
            "grid_template_areas": null,
            "object_position": null,
            "object_fit": null,
            "grid_auto_columns": null,
            "margin": null,
            "display": null,
            "left": null
          }
        },
        "b4bb8435a5034e41baf25c33935bdcab": {
          "model_module": "@jupyter-widgets/controls",
          "model_name": "TextModel",
          "state": {
            "_view_name": "TextView",
            "style": "IPY_MODEL_0de7e1acac4b44b2860a33e12be44840",
            "_dom_classes": [],
            "description": "RK4 - Initial guess of Y:",
            "_model_name": "TextModel",
            "placeholder": "Try \"0\"",
            "_view_module": "@jupyter-widgets/controls",
            "_model_module_version": "1.5.0",
            "value": "",
            "_view_count": null,
            "disabled": false,
            "_view_module_version": "1.5.0",
            "continuous_update": true,
            "description_tooltip": null,
            "_model_module": "@jupyter-widgets/controls",
            "layout": "IPY_MODEL_5ae6bff1bfe74581b92a92813b54bc97"
          }
        },
        "0de7e1acac4b44b2860a33e12be44840": {
          "model_module": "@jupyter-widgets/controls",
          "model_name": "DescriptionStyleModel",
          "state": {
            "_view_name": "StyleView",
            "_model_name": "DescriptionStyleModel",
            "description_width": "150px",
            "_view_module": "@jupyter-widgets/base",
            "_model_module_version": "1.5.0",
            "_view_count": null,
            "_view_module_version": "1.2.0",
            "_model_module": "@jupyter-widgets/controls"
          }
        },
        "5ae6bff1bfe74581b92a92813b54bc97": {
          "model_module": "@jupyter-widgets/base",
          "model_name": "LayoutModel",
          "state": {
            "_view_name": "LayoutView",
            "grid_template_rows": null,
            "right": null,
            "justify_content": null,
            "_view_module": "@jupyter-widgets/base",
            "overflow": null,
            "_model_module_version": "1.2.0",
            "_view_count": null,
            "flex_flow": null,
            "width": "700px",
            "min_width": null,
            "border": null,
            "align_items": null,
            "bottom": null,
            "_model_module": "@jupyter-widgets/base",
            "top": null,
            "grid_column": null,
            "overflow_y": null,
            "overflow_x": null,
            "grid_auto_flow": null,
            "grid_area": null,
            "grid_template_columns": null,
            "flex": null,
            "_model_name": "LayoutModel",
            "justify_items": null,
            "grid_row": null,
            "max_height": null,
            "align_content": null,
            "visibility": null,
            "align_self": null,
            "height": null,
            "min_height": null,
            "padding": null,
            "grid_auto_rows": null,
            "grid_gap": null,
            "max_width": null,
            "order": null,
            "_view_module_version": "1.2.0",
            "grid_template_areas": null,
            "object_position": null,
            "object_fit": null,
            "grid_auto_columns": null,
            "margin": null,
            "display": null,
            "left": null
          }
        },
        "27b9098250bb48f6bd2284c5b15ed2d4": {
          "model_module": "@jupyter-widgets/controls",
          "model_name": "TextModel",
          "state": {
            "_view_name": "TextView",
            "style": "IPY_MODEL_2a4b9ed72631489c822a3a43eaa6e17f",
            "_dom_classes": [],
            "description": "RK4 - Step Size:",
            "_model_name": "TextModel",
            "placeholder": "Try \"0.1\"",
            "_view_module": "@jupyter-widgets/controls",
            "_model_module_version": "1.5.0",
            "value": "",
            "_view_count": null,
            "disabled": false,
            "_view_module_version": "1.5.0",
            "continuous_update": true,
            "description_tooltip": null,
            "_model_module": "@jupyter-widgets/controls",
            "layout": "IPY_MODEL_3148469843264676a5a15dc62360498d"
          }
        },
        "2a4b9ed72631489c822a3a43eaa6e17f": {
          "model_module": "@jupyter-widgets/controls",
          "model_name": "DescriptionStyleModel",
          "state": {
            "_view_name": "StyleView",
            "_model_name": "DescriptionStyleModel",
            "description_width": "150px",
            "_view_module": "@jupyter-widgets/base",
            "_model_module_version": "1.5.0",
            "_view_count": null,
            "_view_module_version": "1.2.0",
            "_model_module": "@jupyter-widgets/controls"
          }
        },
        "3148469843264676a5a15dc62360498d": {
          "model_module": "@jupyter-widgets/base",
          "model_name": "LayoutModel",
          "state": {
            "_view_name": "LayoutView",
            "grid_template_rows": null,
            "right": null,
            "justify_content": null,
            "_view_module": "@jupyter-widgets/base",
            "overflow": null,
            "_model_module_version": "1.2.0",
            "_view_count": null,
            "flex_flow": null,
            "width": "700px",
            "min_width": null,
            "border": null,
            "align_items": null,
            "bottom": null,
            "_model_module": "@jupyter-widgets/base",
            "top": null,
            "grid_column": null,
            "overflow_y": null,
            "overflow_x": null,
            "grid_auto_flow": null,
            "grid_area": null,
            "grid_template_columns": null,
            "flex": null,
            "_model_name": "LayoutModel",
            "justify_items": null,
            "grid_row": null,
            "max_height": null,
            "align_content": null,
            "visibility": null,
            "align_self": null,
            "height": null,
            "min_height": null,
            "padding": null,
            "grid_auto_rows": null,
            "grid_gap": null,
            "max_width": null,
            "order": null,
            "_view_module_version": "1.2.0",
            "grid_template_areas": null,
            "object_position": null,
            "object_fit": null,
            "grid_auto_columns": null,
            "margin": null,
            "display": null,
            "left": null
          }
        },
        "7a8e3c520ef64008bfdcd9b71a060496": {
          "model_module": "@jupyter-widgets/controls",
          "model_name": "TextModel",
          "state": {
            "_view_name": "TextView",
            "style": "IPY_MODEL_177ddd70a61349eb96e34c70dafa8886",
            "_dom_classes": [],
            "description": "RK4 - Step Count:",
            "_model_name": "TextModel",
            "placeholder": "Try \"10\"",
            "_view_module": "@jupyter-widgets/controls",
            "_model_module_version": "1.5.0",
            "value": "",
            "_view_count": null,
            "disabled": false,
            "_view_module_version": "1.5.0",
            "continuous_update": true,
            "description_tooltip": null,
            "_model_module": "@jupyter-widgets/controls",
            "layout": "IPY_MODEL_a0fedff3cfd44533aacd1115717043b2"
          }
        },
        "177ddd70a61349eb96e34c70dafa8886": {
          "model_module": "@jupyter-widgets/controls",
          "model_name": "DescriptionStyleModel",
          "state": {
            "_view_name": "StyleView",
            "_model_name": "DescriptionStyleModel",
            "description_width": "150px",
            "_view_module": "@jupyter-widgets/base",
            "_model_module_version": "1.5.0",
            "_view_count": null,
            "_view_module_version": "1.2.0",
            "_model_module": "@jupyter-widgets/controls"
          }
        },
        "a0fedff3cfd44533aacd1115717043b2": {
          "model_module": "@jupyter-widgets/base",
          "model_name": "LayoutModel",
          "state": {
            "_view_name": "LayoutView",
            "grid_template_rows": null,
            "right": null,
            "justify_content": null,
            "_view_module": "@jupyter-widgets/base",
            "overflow": null,
            "_model_module_version": "1.2.0",
            "_view_count": null,
            "flex_flow": null,
            "width": "700px",
            "min_width": null,
            "border": null,
            "align_items": null,
            "bottom": null,
            "_model_module": "@jupyter-widgets/base",
            "top": null,
            "grid_column": null,
            "overflow_y": null,
            "overflow_x": null,
            "grid_auto_flow": null,
            "grid_area": null,
            "grid_template_columns": null,
            "flex": null,
            "_model_name": "LayoutModel",
            "justify_items": null,
            "grid_row": null,
            "max_height": null,
            "align_content": null,
            "visibility": null,
            "align_self": null,
            "height": null,
            "min_height": null,
            "padding": null,
            "grid_auto_rows": null,
            "grid_gap": null,
            "max_width": null,
            "order": null,
            "_view_module_version": "1.2.0",
            "grid_template_areas": null,
            "object_position": null,
            "object_fit": null,
            "grid_auto_columns": null,
            "margin": null,
            "display": null,
            "left": null
          }
        },
        "0d26f164ec974212b89adeb7050cd781": {
          "model_module": "@jupyter-widgets/controls",
          "model_name": "ButtonModel",
          "state": {
            "_view_name": "ButtonView",
            "style": "IPY_MODEL_23f68e8815544ccba1763804c2bbd2c7",
            "_dom_classes": [],
            "description": "Plot",
            "_model_name": "ButtonModel",
            "button_style": "",
            "_view_module": "@jupyter-widgets/controls",
            "_model_module_version": "1.5.0",
            "tooltip": "",
            "_view_count": null,
            "disabled": false,
            "_view_module_version": "1.5.0",
            "layout": "IPY_MODEL_65dcb7931a7a4532b87e57cb21b9993a",
            "_model_module": "@jupyter-widgets/controls",
            "icon": ""
          }
        },
        "23f68e8815544ccba1763804c2bbd2c7": {
          "model_module": "@jupyter-widgets/controls",
          "model_name": "ButtonStyleModel",
          "state": {
            "_view_name": "StyleView",
            "_model_name": "ButtonStyleModel",
            "_view_module": "@jupyter-widgets/base",
            "_model_module_version": "1.5.0",
            "_view_count": null,
            "button_color": null,
            "font_weight": "",
            "_view_module_version": "1.2.0",
            "_model_module": "@jupyter-widgets/controls"
          }
        },
        "65dcb7931a7a4532b87e57cb21b9993a": {
          "model_module": "@jupyter-widgets/base",
          "model_name": "LayoutModel",
          "state": {
            "_view_name": "LayoutView",
            "grid_template_rows": null,
            "right": null,
            "justify_content": null,
            "_view_module": "@jupyter-widgets/base",
            "overflow": null,
            "_model_module_version": "1.2.0",
            "_view_count": null,
            "flex_flow": null,
            "width": null,
            "min_width": null,
            "border": null,
            "align_items": null,
            "bottom": null,
            "_model_module": "@jupyter-widgets/base",
            "top": null,
            "grid_column": null,
            "overflow_y": null,
            "overflow_x": null,
            "grid_auto_flow": null,
            "grid_area": null,
            "grid_template_columns": null,
            "flex": null,
            "_model_name": "LayoutModel",
            "justify_items": null,
            "grid_row": null,
            "max_height": null,
            "align_content": null,
            "visibility": null,
            "align_self": null,
            "height": null,
            "min_height": null,
            "padding": null,
            "grid_auto_rows": null,
            "grid_gap": null,
            "max_width": null,
            "order": null,
            "_view_module_version": "1.2.0",
            "grid_template_areas": null,
            "object_position": null,
            "object_fit": null,
            "grid_auto_columns": null,
            "margin": null,
            "display": null,
            "left": null
          }
        }
      }
    }
  },
  "cells": [
    {
      "cell_type": "markdown",
      "metadata": {
        "id": "view-in-github",
        "colab_type": "text"
      },
      "source": [
        "<a href=\"https://colab.research.google.com/github/DiGyt/neuropynamics/blob/master/notebooks/pplane.ipynb\" target=\"_parent\"><img src=\"https://colab.research.google.com/assets/colab-badge.svg\" alt=\"Open In Colab\"/></a>"
      ]
    },
    {
      "cell_type": "markdown",
      "metadata": {
        "id": "2mhdnryDA99z",
        "colab_type": "text"
      },
      "source": [
        "**Attention**: Please run this notebook in Google Colaboratory, else the interactive functionality might not work as intended\n",
        "\n",
        "\n",
        "---"
      ]
    },
    {
      "cell_type": "markdown",
      "metadata": {
        "id": "rm6SF-qh1_ae",
        "colab_type": "text"
      },
      "source": [
        "# Imports\n",
        "\n",
        "Some of the libraries we need for Stability Analysis\n",
        "\n",
        "* [Sympy](https://www.sympy.org/en/index.html): Stands for Symbolic Python, provides functionality for solving equations\n",
        "* [Numpy](https://numpy.org/): Offers Numeric computation\n",
        "* [Scipy](https://www.scipy.org/): Scientific Computing Library\n",
        "\n",
        "And some others for displaying purposes:\n",
        "* [Matplotlib](https://matplotlib.org/): Plotting and Charting library\n",
        "* [ipywidgets](https://ipywidgets.readthedocs.io/en/latest/): Helps us develop a dashboard-like user experience. This library has no mathematical purpose here"
      ]
    },
    {
      "cell_type": "code",
      "metadata": {
        "id": "vd7awcX5w8Hy",
        "colab_type": "code",
        "colab": {}
      },
      "source": [
        "from sympy import symbols, solve, lambdify, sympify, dsolve, Eq, solveset, linear_eq_to_matrix, nonlinsolve, Matrix, diff, sqrt\n",
        "import numpy as np\n",
        "from matplotlib import pyplot as plt\n",
        "from matplotlib.pyplot import quiver\n",
        "from scipy import integrate\n",
        "\n",
        "from ipywidgets import widgets\n",
        "from IPython.display import clear_output, display, HTML"
      ],
      "execution_count": 1,
      "outputs": []
    },
    {
      "cell_type": "markdown",
      "metadata": {
        "id": "mZgZV0sQBy7e",
        "colab_type": "text"
      },
      "source": [
        "# Function definition\n",
        "\n",
        "In this part, we define all the functions we need for the stability analysis."
      ]
    },
    {
      "cell_type": "markdown",
      "metadata": {
        "id": "AIgJ_1162zIo",
        "colab_type": "text"
      },
      "source": [
        "## Numerical solver\n",
        "\n",
        "Our implementation of the Runge-Kutta 4 algorithm. It is an iterative and non-analytical method for solving equations."
      ]
    },
    {
      "cell_type": "code",
      "metadata": {
        "id": "1fHT8eDVw8H8",
        "colab_type": "code",
        "colab": {}
      },
      "source": [
        "def rk4( f, x0, y0, h, xn ):\n",
        "    n = int((xn - x0)/h)\n",
        "    x = np.array( [ x0 ] * n, dtype=float )\n",
        "    y = np.array( [ y0 ] * n, dtype=float )\n",
        "    for i in range( n-1 ):\n",
        "        k1 = h * f( x[i], y[i] )\n",
        "        k2 = h * f( x[i] + 0.5 * h, y[i] + 0.5 * k1 )\n",
        "        k3 = h * f( x[i] + 0.5 * h, y[i] + 0.5 * k2 )\n",
        "        k4 = h * f( x[i] + h, y[i] + k3 )\n",
        "        \n",
        "        x[i+1] = x[i] + h\n",
        "        y[i+1] = y[i] + ( k1 + 2.0 * ( k2 + k3 ) + k4 ) / 6.0\n",
        "        \n",
        "    return y, x"
      ],
      "execution_count": 2,
      "outputs": []
    },
    {
      "cell_type": "markdown",
      "metadata": {
        "id": "tJJ9KipI3IFe",
        "colab_type": "text"
      },
      "source": [
        "## Analytical solver\n",
        "\n",
        "This function plots the analytical solution of the equation. This is the same job as done in the RK4 above, except it is analytical."
      ]
    },
    {
      "cell_type": "code",
      "metadata": {
        "id": "LQoG3Q8bw8IF",
        "colab_type": "code",
        "colab": {}
      },
      "source": [
        "def plotEquation (eq, solvar, plotvar, inputrange):\n",
        "    '''\n",
        "        Given a sympy equation object `eq`, this function return a series of values,\n",
        "        in the range of `inputrange` such that the equation is solved for\n",
        "        `solvar` and the input is for `plotvar`\n",
        "    '''\n",
        "    eq = Eq(eq, 0)\n",
        "    sol = solve(eq, solvar)\n",
        "    vals = []\n",
        "    for s in sol:\n",
        "        f = lambdify((plotvar), sol)\n",
        "        vals.append([f(i) for i in inputrange])\n",
        "\n",
        "    return vals"
      ],
      "execution_count": 3,
      "outputs": []
    },
    {
      "cell_type": "markdown",
      "metadata": {
        "id": "HkasglX13QBD",
        "colab_type": "text"
      },
      "source": [
        "## Finding fixed points\n",
        "\n",
        "This function finds input values for which both the provided equations are zero. These are fixed points - points were both systems have zero rate of change."
      ]
    },
    {
      "cell_type": "code",
      "metadata": {
        "id": "im8SSKXIw8IN",
        "colab_type": "code",
        "colab": {}
      },
      "source": [
        "def findFixedPoints(f, g, xrange, yrange):\n",
        "    return [(x, y) for x in xrange for y in yrange if f(x, y) == 0 and g(x, y) == 0]"
      ],
      "execution_count": 4,
      "outputs": []
    },
    {
      "cell_type": "markdown",
      "metadata": {
        "id": "1CbiTJSA3b6T",
        "colab_type": "text"
      },
      "source": [
        "## Function value sequences\n",
        "\n",
        "This function finds a sequence of values for the equations. It helps us see it change over time and against each other."
      ]
    },
    {
      "cell_type": "code",
      "metadata": {
        "id": "UmuotH99w8IZ",
        "colab_type": "code",
        "colab": {}
      },
      "source": [
        "def system(initialx, initialy, func1, func2, delta, timerange):\n",
        "    x = [initialx]\n",
        "    y = [initialy]\n",
        "    \n",
        "    for i in range(timerange):\n",
        "        x.append(x[i] + func1(x[i], y[i]) * delta)\n",
        "        y.append(y[i] + func2(x[i], y[i]) * delta)\n",
        "    \n",
        "    return x, y"
      ],
      "execution_count": 5,
      "outputs": []
    },
    {
      "cell_type": "markdown",
      "metadata": {
        "id": "yCBb7SQo3mp9",
        "colab_type": "text"
      },
      "source": [
        "## Main function\n",
        "\n",
        "The mother of all functions uses the functions above and more to deliver the finished 'Stability Analysis Dashboard'"
      ]
    },
    {
      "cell_type": "code",
      "metadata": {
        "id": "zqLV9gklw8Ig",
        "colab_type": "code",
        "colab": {}
      },
      "source": [
        "def plots(expr1, expr2, x, y, startx, starty, stepsize, numsteps):\n",
        "    '''\n",
        "        expr1: sympy expression - non linear ode\n",
        "        expr2: sympy expression - non linear ode\n",
        "        x: sympy variable used in expr1 and/or expr2\n",
        "        y: sympy variable used in expr1 and/or expr2\n",
        "        startx: for the range-kutta4, the x variable needs a start value\n",
        "        starty: for the range-kutta4, the y variable needs a start value\n",
        "        stepsize: step size for runge-kutta4\n",
        "        numsteps: the number of steps runge-kutta4 should take\n",
        "    '''\n",
        "    # converting the equations to functions\n",
        "    f1 = lambdify((x, y), expr1)\n",
        "    f2 = lambdify((x, y), expr2)\n",
        "    \n",
        "    # phase space\n",
        "    sx, sy = system(startx, starty, f1, f2, stepsize, numsteps)\n",
        "    fig, (ax1, ax2) = plt.subplots(2, 1, figsize=(10,10))\n",
        "    ax1.plot(sx, label='X in Time')\n",
        "    ax1.plot(sy, label='Y in Time')\n",
        "    ax2.plot(sx, sy, label='X against Y')\n",
        "    ax1.legend()\n",
        "    ax2.legend()\n",
        "    \n",
        "    # compute ranges to work in\n",
        "    yrange = np.linspace(y_range_slider.value[0], y_range_slider.value[1])\n",
        "    xrange = np.linspace(x_range_slider.value[0], x_range_slider.value[1])\n",
        "    \n",
        "    # a plot for the quiver plot and nullclines\n",
        "    fig, ax = plt.subplots(figsize=(20,20))\n",
        "    ax.set_xlim([min(xrange), max(xrange)])\n",
        "    ax.set_ylim([min(yrange), max(yrange)])\n",
        "    \n",
        "    # plotting the 4 nullclines from range-kutta4\n",
        "    rkx, rky = rk4( f1, min(xrange), -1000, .25, max(xrange) )\n",
        "    ax.scatter(rkx, rky, marker='+', label='Solution with Runge-Kutta 4', s=150)\n",
        "    \n",
        "    rky, rkx = rk4( f1, min(xrange), -1000, .25, max(xrange) )\n",
        "    ax.scatter(rkx, rky, marker='+', label='Solution with Runge-Kutta 4', s=150)\n",
        "    \n",
        "    rkx, rky = rk4( f2, min(yrange), 0, .25, max(yrange) )\n",
        "    ax.scatter(rkx, rky, marker='+', label='Solution with Runge-Kutta 4', s=150)\n",
        "    \n",
        "    rky, rkx = rk4( f2, min(yrange), 0, .25, max(yrange) )\n",
        "    ax.scatter(rkx, rky, marker='+', label='Solution with Runge-Kutta 4', s=150)\n",
        "    \n",
        "    # compute quivers\n",
        "    f1_val = [[f1(i, j) for i in xrange] for j in yrange];\n",
        "    f2_val = [[f2(i, j) for i in xrange] for j in yrange];\n",
        "\n",
        "    # plot quiver plot\n",
        "    q = ax.quiver(xrange, yrange, f1_val, f2_val, alpha=.5)\n",
        "    \n",
        "    # solve analytically using sympy\n",
        "    solutions = solve((Eq(expr1, 0), Eq(expr2, 0)), x, y)\n",
        "    \n",
        "    # compute jacobian and eigen values\n",
        "    equationMatrix = Matrix([ expr1, expr2 ])\n",
        "    varMat = Matrix([ x, y ])\n",
        "    jacobian = equationMatrix.jacobian(varMat)\n",
        "    display(HTML('''<h2>Jacobian Matrix</h2> <br /> The Jacobian matrix has single order derivatives\n",
        "                    of a System of Equations.</h2>'''))\n",
        "    display(jacobian)\n",
        "    \n",
        "    # display eigen values\n",
        "    display(HTML('<br /> <br /> <br /> <h2>Eigenvalues</h2> <br /> <img src=\"https://github.com/DiGyt/neuropynamics/raw/master/src/utils/2d-stability.png\" />'))\n",
        "    op = '''<table>\n",
        "                     <th>\n",
        "                         <td>Stable Point</td>\n",
        "                         <td>Eigenvalues</td>\n",
        "                         <td>Type of Stability Point</td>\n",
        "                     </th>'''\n",
        "    for s in solutions:\n",
        "        eqmat = jacobian.subs([ (x, s[0]), (y, s[1]) ])\n",
        "        ev = list(eqmat.eigenvals().keys())\n",
        "        \n",
        "        if ev[0].is_real:\n",
        "            if ev[0] > 0 and ev[1] > 0:\n",
        "                t = 'Unstable Node'\n",
        "            elif ev[0] < 0 and ev[1] < 0:\n",
        "                t = 'Stable Node'\n",
        "            elif (ev[0] < 0 and ev[1] > 0) or (ev[0] > 0 and ev[1] < 0):\n",
        "                t = 'Saddle Point'\n",
        "        else:\n",
        "            if ev[0].args[0] > 0:\n",
        "                t = 'Unstable Focus'\n",
        "            if ev[0].args[0] < 0:\n",
        "                t = 'Stable Focus'\n",
        "        \n",
        "        op = op + '''<tr>\n",
        "                            <td>%s</td>\n",
        "                            <td>%s, %s</td>\n",
        "                            <td>%s</td>\n",
        "                        </tr>''' % (str(s), ev[0], ev[1], t)\n",
        "    op = op + '</table>'\n",
        "    display(HTML(op))\n",
        "    \n",
        "    display(HTML('''<br /> <br /> <br /> <h2>Phase Potrait</h2> <br />\n",
        "                 Phase Potrait shows the change in the two quantities with respect to each other\n",
        "                 and independently.<br />'''))\n",
        "    \n",
        "    # plot the analytical solution\n",
        "    try:\n",
        "        [ax.plot(yrange, nc, c='b', alpha=.7, label='Analytical Solution') for nc in plotEquation(expr1, y, x, yrange)]\n",
        "        [ax.plot(nc, yrange, c='b', alpha=.7, label='Analytical Solution') for nc in plotEquation(expr1, x, y, xrange)]\n",
        "        [ax.plot(nc, xrange, c='r', alpha=.7, label='Analytical Solution') for nc in plotEquation(expr2, x, y, xrange)]\n",
        "        [ax.plot(xrange, nc, c='r', alpha=.7, label='Analytical Solution') for nc in plotEquation(expr2, y, x, yrange)]\n",
        "    except:\n",
        "        print('Some nullcline values are complex')\n",
        "    \n",
        "    # plot the roots\n",
        "    try:\n",
        "        [ax.scatter(i[0], i[1], marker='x', label='Stable Point', s=150) for i in solutions]\n",
        "    except:\n",
        "        print('Some roots are complex')\n",
        "\n",
        "    # a legend for our plot\n",
        "    display(HTML('''<h2>Quiver Plot and Null Clines</h2><br />\n",
        "                    A quiver plot shows the direction the system is moving in at each co-ordinate. <br />\n",
        "                    Null Clines are lines where one of the two variables are zero. The Points \n",
        "                    where Null Clines intersect are where the system is stable because both variables are \n",
        "                    zero at that point.<br />\n",
        "                    Null Clines can be obtained analytically (using calculus) and numerically.'''))\n",
        "    fig.legend(framealpha=1, fancybox=True, fontsize='large', loc=1)\n",
        "    fig.show()\n"
      ],
      "execution_count": 13,
      "outputs": []
    },
    {
      "cell_type": "markdown",
      "metadata": {
        "id": "_Y2RRpZZCiWP",
        "colab_type": "text"
      },
      "source": [
        "# Main Part: Analyzing ODEs"
      ]
    },
    {
      "cell_type": "markdown",
      "metadata": {
        "id": "gUtZCqyrw8It",
        "colab_type": "text"
      },
      "source": [
        "## Specify your equations\n",
        "\n",
        "Here you can type in the two differential equations of you dynamical system. In `symbols`, specify the variables used in the equations so Python recognizes them as part of the equation and not 'normal' variables. Use ** for powers and * for multiplication.\n"
      ]
    },
    {
      "cell_type": "code",
      "metadata": {
        "id": "G8va70syw8Iu",
        "colab_type": "code",
        "colab": {
          "base_uri": "https://localhost:8080/",
          "height": 51
        },
        "outputId": "07e04dca-e3b3-400d-fd9f-415f1e308c7b"
      },
      "source": [
        "x, y = symbols('x y')\n",
        "\n",
        "# expr1 = 2*x - y + 3*(x**2 - y**2) + 2*x*y\n",
        "expr1 = 2*x - x**2 - x*y\n",
        "# expr1 = 5 - y + 5\n",
        "display(expr1)\n",
        "\n",
        "# expr2 = x - 3*y - 3*(x**2-y**2) + 3*x*y\n",
        "expr2 = -y + x*y\n",
        "# expr2 = 3*(4*x-5*y)\n",
        "display(expr2)"
      ],
      "execution_count": 18,
      "outputs": [
        {
          "output_type": "display_data",
          "data": {
            "text/plain": [
              "-x**2 - x*y + 2*x"
            ]
          },
          "metadata": {
            "tags": []
          }
        },
        {
          "output_type": "display_data",
          "data": {
            "text/plain": [
              "x*y - y"
            ]
          },
          "metadata": {
            "tags": []
          }
        }
      ]
    },
    {
      "cell_type": "markdown",
      "metadata": {
        "id": "pwyDHcNTw8I4",
        "colab_type": "text"
      },
      "source": [
        "# Analysis Dashboard\n",
        "\n",
        "Use the sliders and text fields to specify the ranges of the dashboard and then press the button to calculate it."
      ]
    },
    {
      "cell_type": "code",
      "metadata": {
        "scrolled": false,
        "id": "8EIcOOB7w8JH",
        "colab_type": "code",
        "colab": {
          "base_uri": "https://localhost:8080/",
          "height": 231,
          "referenced_widgets": [
            "10d98232df7348c5861baae2a6903fde",
            "1b858885b63d462d9ded158065be27a8",
            "76a1691cf136404dad022ca85b0c63f3",
            "6c0297621fe04a1ba7ac15aa4eac60ec",
            "71979f7f4cf34e48ac78cb1c230fadf0",
            "0cb4f80d535c4004a2592b72abaa99c6",
            "58104a0e1e99407cb621f1724636a1e0",
            "ee656e07d4e64ab5b561472a839ce81b",
            "aee3a8958b284ffb90922a806c541894",
            "b4bb8435a5034e41baf25c33935bdcab",
            "0de7e1acac4b44b2860a33e12be44840",
            "5ae6bff1bfe74581b92a92813b54bc97",
            "27b9098250bb48f6bd2284c5b15ed2d4",
            "2a4b9ed72631489c822a3a43eaa6e17f",
            "3148469843264676a5a15dc62360498d",
            "7a8e3c520ef64008bfdcd9b71a060496",
            "177ddd70a61349eb96e34c70dafa8886",
            "a0fedff3cfd44533aacd1115717043b2",
            "0d26f164ec974212b89adeb7050cd781",
            "23f68e8815544ccba1763804c2bbd2c7",
            "65dcb7931a7a4532b87e57cb21b9993a"
          ]
        },
        "outputId": "611b576d-e3ae-4f9d-cb8e-1298d09fda28"
      },
      "source": [
        "x_range_slider = widgets.IntRangeSlider(min=-10, max=10, description = 'Range of X:', layout = {'width': '700px'}, style = {'description_width': '150px'})\n",
        "display(x_range_slider)\n",
        "\n",
        "y_range_slider = widgets.IntRangeSlider(min=-10, max=10, description = 'Range of Y:', layout = {'width': '700px'}, style = {'description_width': '150px'})\n",
        "display(y_range_slider)\n",
        "\n",
        "startx = widgets.Text(placeholder='Try \"0\"', disabled=False, description = 'RK4 - Initial guess of X:', layout = {'width': '700px'}, style = {'description_width': '150px'})\n",
        "starty = widgets.Text(placeholder='Try \"0\"', disabled=False, description = 'RK4 - Initial guess of Y:', layout = {'width': '700px'}, style = {'description_width': '150px'})\n",
        "stepsize = widgets.Text(placeholder='Try \"0.1\"', disabled=False, description = 'RK4 - Step Size:', layout = {'width': '700px'}, style = {'description_width': '150px'})\n",
        "stepcount = widgets.Text(placeholder='Try \"10\"', disabled=False, description = 'RK4 - Step Count:', layout = {'width': '700px'}, style = {'description_width': '150px'})\n",
        "\n",
        "display(startx)\n",
        "display(starty)\n",
        "display(stepsize)\n",
        "display(stepcount)\n",
        "\n",
        "renderButton = widgets.Button(description='Plot')\n",
        "display(renderButton)\n",
        "\n",
        "@renderButton.on_click\n",
        "def renderButtonOnClick(b):\n",
        "    clear_output()\n",
        "    \n",
        "    display(y_range_slider)\n",
        "    display(x_range_slider)\n",
        "    display(startx)\n",
        "    display(starty)\n",
        "    display(stepsize)\n",
        "    display(stepcount)\n",
        "    display(renderButton)\n",
        "    \n",
        "    plots(expr1, expr2, x, y, int(startx.value), int(starty.value), float(stepsize.value), int(stepcount.value))"
      ],
      "execution_count": 19,
      "outputs": [
        {
          "output_type": "display_data",
          "data": {
            "application/vnd.jupyter.widget-view+json": {
              "model_id": "10d98232df7348c5861baae2a6903fde",
              "version_minor": 0,
              "version_major": 2
            },
            "text/plain": [
              "IntRangeSlider(value=(-5, 5), description='Range of X:', layout=Layout(width='700px'), max=10, min=-10, style=…"
            ]
          },
          "metadata": {
            "tags": []
          }
        },
        {
          "output_type": "display_data",
          "data": {
            "application/vnd.jupyter.widget-view+json": {
              "model_id": "6c0297621fe04a1ba7ac15aa4eac60ec",
              "version_minor": 0,
              "version_major": 2
            },
            "text/plain": [
              "IntRangeSlider(value=(-5, 5), description='Range of Y:', layout=Layout(width='700px'), max=10, min=-10, style=…"
            ]
          },
          "metadata": {
            "tags": []
          }
        },
        {
          "output_type": "display_data",
          "data": {
            "application/vnd.jupyter.widget-view+json": {
              "model_id": "58104a0e1e99407cb621f1724636a1e0",
              "version_minor": 0,
              "version_major": 2
            },
            "text/plain": [
              "Text(value='', description='RK4 - Initial guess of X:', layout=Layout(width='700px'), placeholder='Try \"0\"', s…"
            ]
          },
          "metadata": {
            "tags": []
          }
        },
        {
          "output_type": "display_data",
          "data": {
            "application/vnd.jupyter.widget-view+json": {
              "model_id": "b4bb8435a5034e41baf25c33935bdcab",
              "version_minor": 0,
              "version_major": 2
            },
            "text/plain": [
              "Text(value='', description='RK4 - Initial guess of Y:', layout=Layout(width='700px'), placeholder='Try \"0\"', s…"
            ]
          },
          "metadata": {
            "tags": []
          }
        },
        {
          "output_type": "display_data",
          "data": {
            "application/vnd.jupyter.widget-view+json": {
              "model_id": "27b9098250bb48f6bd2284c5b15ed2d4",
              "version_minor": 0,
              "version_major": 2
            },
            "text/plain": [
              "Text(value='', description='RK4 - Step Size:', layout=Layout(width='700px'), placeholder='Try \"0.1\"', style=De…"
            ]
          },
          "metadata": {
            "tags": []
          }
        },
        {
          "output_type": "display_data",
          "data": {
            "application/vnd.jupyter.widget-view+json": {
              "model_id": "7a8e3c520ef64008bfdcd9b71a060496",
              "version_minor": 0,
              "version_major": 2
            },
            "text/plain": [
              "Text(value='', description='RK4 - Step Count:', layout=Layout(width='700px'), placeholder='Try \"10\"', style=De…"
            ]
          },
          "metadata": {
            "tags": []
          }
        },
        {
          "output_type": "display_data",
          "data": {
            "application/vnd.jupyter.widget-view+json": {
              "model_id": "0d26f164ec974212b89adeb7050cd781",
              "version_minor": 0,
              "version_major": 2
            },
            "text/plain": [
              "Button(description='Plot', style=ButtonStyle())"
            ]
          },
          "metadata": {
            "tags": []
          }
        }
      ]
    }
  ]
}