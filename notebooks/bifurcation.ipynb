{
  "nbformat": 4,
  "nbformat_minor": 0,
  "metadata": {
    "colab": {
      "name": "bifurcation.ipynb",
      "provenance": [],
      "collapsed_sections": [
        "CY7qf4-2l6ak"
      ],
      "authorship_tag": "ABX9TyN1/lgNKibxJBAICXuPgi6i",
      "include_colab_link": true
    },
    "kernelspec": {
      "name": "python3",
      "display_name": "Python 3"
    },
    "widgets": {
      "application/vnd.jupyter.widget-state+json": {
        "af386d013e094398832a7715116f79ff": {
          "model_module": "@jupyter-widgets/controls",
          "model_name": "VBoxModel",
          "state": {
            "_view_name": "VBoxView",
            "_dom_classes": [
              "widget-interact"
            ],
            "_model_name": "VBoxModel",
            "_view_module": "@jupyter-widgets/controls",
            "_model_module_version": "1.5.0",
            "_view_count": null,
            "_view_module_version": "1.5.0",
            "box_style": "",
            "layout": "IPY_MODEL_e98c597f723248f5b0db83728335bc8e",
            "_model_module": "@jupyter-widgets/controls",
            "children": [
              "IPY_MODEL_a2d40e2088854e039ed7f3a9c3e39447",
              "IPY_MODEL_263c87fa779f44a3b2e1830bdc21b04f",
              "IPY_MODEL_b88000f3708b41b3866ef328c42f2bea",
              "IPY_MODEL_8a4b2a1d190b43f6900b69ecc2d6a4c1",
              "IPY_MODEL_43db823ab7d64b47af8cbde279fa7dde",
              "IPY_MODEL_0a71aa3a0c694633b0b26c6c9851b513",
              "IPY_MODEL_18443b1ceae7416c9790867f406f22bb",
              "IPY_MODEL_d9c1b098c29249c5a5690a4182a6867f",
              "IPY_MODEL_2c54d9e2722b4d82aefbf769701500e5",
              "IPY_MODEL_a5c4ba36e88c42aa9b20f78111b7ff01",
              "IPY_MODEL_b8a026d8a8eb44acacfd212bf80e8d85"
            ]
          }
        },
        "e98c597f723248f5b0db83728335bc8e": {
          "model_module": "@jupyter-widgets/base",
          "model_name": "LayoutModel",
          "state": {
            "_view_name": "LayoutView",
            "grid_template_rows": null,
            "right": null,
            "justify_content": null,
            "_view_module": "@jupyter-widgets/base",
            "overflow": null,
            "_model_module_version": "1.2.0",
            "_view_count": null,
            "flex_flow": null,
            "width": null,
            "min_width": null,
            "border": null,
            "align_items": null,
            "bottom": null,
            "_model_module": "@jupyter-widgets/base",
            "top": null,
            "grid_column": null,
            "overflow_y": null,
            "overflow_x": null,
            "grid_auto_flow": null,
            "grid_area": null,
            "grid_template_columns": null,
            "flex": null,
            "_model_name": "LayoutModel",
            "justify_items": null,
            "grid_row": null,
            "max_height": null,
            "align_content": null,
            "visibility": null,
            "align_self": null,
            "height": null,
            "min_height": null,
            "padding": null,
            "grid_auto_rows": null,
            "grid_gap": null,
            "max_width": null,
            "order": null,
            "_view_module_version": "1.2.0",
            "grid_template_areas": null,
            "object_position": null,
            "object_fit": null,
            "grid_auto_columns": null,
            "margin": null,
            "display": null,
            "left": null
          }
        },
        "a2d40e2088854e039ed7f3a9c3e39447": {
          "model_module": "@jupyter-widgets/controls",
          "model_name": "FloatRangeSliderModel",
          "state": {
            "_view_name": "FloatRangeSliderView",
            "style": "IPY_MODEL_5155a89d1f6544fdb7f1acc9eae65fe0",
            "_dom_classes": [],
            "description": "VrRange (mV): Resting membrane potential/ plotting range",
            "step": 0.1,
            "_model_name": "FloatRangeSliderModel",
            "orientation": "horizontal",
            "max": -46,
            "_view_module": "@jupyter-widgets/controls",
            "_model_module_version": "1.5.0",
            "value": [
              -48.3,
              -47.7
            ],
            "_view_count": null,
            "disabled": false,
            "_view_module_version": "1.5.0",
            "min": -49,
            "continuous_update": false,
            "readout_format": ".1f",
            "description_tooltip": null,
            "readout": true,
            "_model_module": "@jupyter-widgets/controls",
            "layout": "IPY_MODEL_c388422ea6f54b08ad35817978500ad2"
          }
        },
        "263c87fa779f44a3b2e1830bdc21b04f": {
          "model_module": "@jupyter-widgets/controls",
          "model_name": "FloatSliderModel",
          "state": {
            "_view_name": "FloatSliderView",
            "style": "IPY_MODEL_2fceb9751c50474480f63f68f4c61188",
            "_dom_classes": [],
            "description": "a (nS): Adaption coupling parameter",
            "step": 0.25,
            "_model_name": "FloatSliderModel",
            "orientation": "horizontal",
            "max": 10,
            "_view_module": "@jupyter-widgets/controls",
            "_model_module_version": "1.5.0",
            "value": 4,
            "_view_count": null,
            "disabled": false,
            "_view_module_version": "1.5.0",
            "min": 0,
            "continuous_update": false,
            "readout_format": ".1f",
            "description_tooltip": null,
            "readout": true,
            "_model_module": "@jupyter-widgets/controls",
            "layout": "IPY_MODEL_119b7b4ad7fb43a4a43da8dd7ccc2d65"
          }
        },
        "b88000f3708b41b3866ef328c42f2bea": {
          "model_module": "@jupyter-widgets/controls",
          "model_name": "FloatSliderModel",
          "state": {
            "_view_name": "FloatSliderView",
            "style": "IPY_MODEL_d83538dace3f4543b36f43165e0e2b1b",
            "_dom_classes": [],
            "description": "b (nA): Post-spike current change",
            "step": 0.01,
            "_model_name": "FloatSliderModel",
            "orientation": "horizontal",
            "max": 0.2,
            "_view_module": "@jupyter-widgets/controls",
            "_model_module_version": "1.5.0",
            "value": 0.08,
            "_view_count": null,
            "disabled": false,
            "_view_module_version": "1.5.0",
            "min": 0,
            "continuous_update": false,
            "readout_format": ".2f",
            "description_tooltip": null,
            "readout": true,
            "_model_module": "@jupyter-widgets/controls",
            "layout": "IPY_MODEL_371a3609ac5f49fdb0b73c271eb6dedb"
          }
        },
        "8a4b2a1d190b43f6900b69ecc2d6a4c1": {
          "model_module": "@jupyter-widgets/controls",
          "model_name": "FloatSliderModel",
          "state": {
            "_view_name": "FloatSliderView",
            "style": "IPY_MODEL_a23ec4e3ed4946a39d78176533ccede1",
            "_dom_classes": [],
            "description": "I (nA): External input current",
            "step": 0.1,
            "_model_name": "FloatSliderModel",
            "orientation": "horizontal",
            "max": 2,
            "_view_module": "@jupyter-widgets/controls",
            "_model_module_version": "1.5.0",
            "value": 0.8,
            "_view_count": null,
            "disabled": false,
            "_view_module_version": "1.5.0",
            "min": 0,
            "continuous_update": false,
            "readout_format": ".1f",
            "description_tooltip": null,
            "readout": true,
            "_model_module": "@jupyter-widgets/controls",
            "layout": "IPY_MODEL_de3fc90e33404e0886c7f2eda97d85ab"
          }
        },
        "43db823ab7d64b47af8cbde279fa7dde": {
          "model_module": "@jupyter-widgets/controls",
          "model_name": "IntSliderModel",
          "state": {
            "_view_name": "IntSliderView",
            "style": "IPY_MODEL_88b08fbd883d404ba781343ad9cdb0c3",
            "_dom_classes": [],
            "description": "C (pF): Membrane capacitance",
            "step": 1,
            "_model_name": "IntSliderModel",
            "orientation": "horizontal",
            "max": 290,
            "_view_module": "@jupyter-widgets/controls",
            "_model_module_version": "1.5.0",
            "value": 281,
            "_view_count": null,
            "disabled": false,
            "_view_module_version": "1.5.0",
            "min": 270,
            "continuous_update": false,
            "readout_format": "d",
            "description_tooltip": null,
            "readout": true,
            "_model_module": "@jupyter-widgets/controls",
            "layout": "IPY_MODEL_36a892a9876b495eb16018eb18fd90d0"
          }
        },
        "0a71aa3a0c694633b0b26c6c9851b513": {
          "model_module": "@jupyter-widgets/controls",
          "model_name": "IntSliderModel",
          "state": {
            "_view_name": "IntSliderView",
            "style": "IPY_MODEL_3fb4375dbcfb45a5808f3e2d9d41aa3d",
            "_dom_classes": [],
            "description": "gL (nS): Leak conductance",
            "step": 1,
            "_model_name": "IntSliderModel",
            "orientation": "horizontal",
            "max": 40,
            "_view_module": "@jupyter-widgets/controls",
            "_model_module_version": "1.5.0",
            "value": 30,
            "_view_count": null,
            "disabled": false,
            "_view_module_version": "1.5.0",
            "min": 20,
            "continuous_update": false,
            "readout_format": "d",
            "description_tooltip": null,
            "readout": true,
            "_model_module": "@jupyter-widgets/controls",
            "layout": "IPY_MODEL_028078be6b32490cb38eeb2605a24206"
          }
        },
        "18443b1ceae7416c9790867f406f22bb": {
          "model_module": "@jupyter-widgets/controls",
          "model_name": "FloatSliderModel",
          "state": {
            "_view_name": "FloatSliderView",
            "style": "IPY_MODEL_09b4eac370b64ae293cca171f7df5d9d",
            "_dom_classes": [],
            "description": "EL (mV): Leak reversal potential",
            "step": 0.1,
            "_model_name": "FloatSliderModel",
            "orientation": "horizontal",
            "max": -70,
            "_view_module": "@jupyter-widgets/controls",
            "_model_module_version": "1.5.0",
            "value": -70.6,
            "_view_count": null,
            "disabled": false,
            "_view_module_version": "1.5.0",
            "min": -72,
            "continuous_update": false,
            "readout_format": ".1f",
            "description_tooltip": null,
            "readout": true,
            "_model_module": "@jupyter-widgets/controls",
            "layout": "IPY_MODEL_d369f5b135564d4da75aee375639a4cd"
          }
        },
        "d9c1b098c29249c5a5690a4182a6867f": {
          "model_module": "@jupyter-widgets/controls",
          "model_name": "FloatSliderModel",
          "state": {
            "_view_name": "FloatSliderView",
            "style": "IPY_MODEL_938d1a62e4364714b6493a59a26b200d",
            "_dom_classes": [],
            "description": "VT (mV): Spiking threshold",
            "step": 0.1,
            "_model_name": "FloatSliderModel",
            "orientation": "horizontal",
            "max": -49,
            "_view_module": "@jupyter-widgets/controls",
            "_model_module_version": "1.5.0",
            "value": -50.4,
            "_view_count": null,
            "disabled": false,
            "_view_module_version": "1.5.0",
            "min": -51,
            "continuous_update": false,
            "readout_format": ".1f",
            "description_tooltip": null,
            "readout": true,
            "_model_module": "@jupyter-widgets/controls",
            "layout": "IPY_MODEL_17a3483a2ade48958fdfd4572ffac89e"
          }
        },
        "2c54d9e2722b4d82aefbf769701500e5": {
          "model_module": "@jupyter-widgets/controls",
          "model_name": "FloatSliderModel",
          "state": {
            "_view_name": "FloatSliderView",
            "style": "IPY_MODEL_e13a405127b649adaed5ec3501709047",
            "_dom_classes": [],
            "description": "DeltaT (mV): Slope factor",
            "step": 0.1,
            "_model_name": "FloatSliderModel",
            "orientation": "horizontal",
            "max": 3,
            "_view_module": "@jupyter-widgets/controls",
            "_model_module_version": "1.5.0",
            "value": 2,
            "_view_count": null,
            "disabled": false,
            "_view_module_version": "1.5.0",
            "min": 1,
            "continuous_update": false,
            "readout_format": ".1f",
            "description_tooltip": null,
            "readout": true,
            "_model_module": "@jupyter-widgets/controls",
            "layout": "IPY_MODEL_bbaa4958199e48feac9024f90343cc88"
          }
        },
        "a5c4ba36e88c42aa9b20f78111b7ff01": {
          "model_module": "@jupyter-widgets/controls",
          "model_name": "IntSliderModel",
          "state": {
            "_view_name": "IntSliderView",
            "style": "IPY_MODEL_95d08ec19cad4fcf80767243f19ca7c2",
            "_dom_classes": [],
            "description": "tauw (ms): Adaption time constant",
            "step": 1,
            "_model_name": "IntSliderModel",
            "orientation": "horizontal",
            "max": 60,
            "_view_module": "@jupyter-widgets/controls",
            "_model_module_version": "1.5.0",
            "value": 40,
            "_view_count": null,
            "disabled": false,
            "_view_module_version": "1.5.0",
            "min": 30,
            "continuous_update": false,
            "readout_format": "d",
            "description_tooltip": null,
            "readout": true,
            "_model_module": "@jupyter-widgets/controls",
            "layout": "IPY_MODEL_188bded61ca1466a89248f56a738a065"
          }
        },
        "b8a026d8a8eb44acacfd212bf80e8d85": {
          "model_module": "@jupyter-widgets/output",
          "model_name": "OutputModel",
          "state": {
            "_view_name": "OutputView",
            "msg_id": "",
            "_dom_classes": [],
            "_model_name": "OutputModel",
            "outputs": [
              {
                "output_type": "stream",
                "metadata": {
                  "tags": []
                },
                "text": "Starting simulation at t=0. s for a duration of 1. s\n",
                "stream": "stdout"
              },
              {
                "output_type": "stream",
                "metadata": {
                  "tags": []
                },
                "text": "1. s (100%) simulated in < 1s\n",
                "stream": "stdout"
              },
              {
                "output_type": "stream",
                "metadata": {
                  "tags": []
                },
                "text": "Starting simulation at t=1. s for a duration of 1. s\n",
                "stream": "stdout"
              },
              {
                "output_type": "stream",
                "metadata": {
                  "tags": []
                },
                "text": "1. s (100%) simulated in < 1s\n",
                "stream": "stdout"
              },
              {
                "output_type": "display_data",
                "metadata": {
                  "tags": [],
                  "needs_background": "light"
                },
                "image/png": "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\n",
                "text/plain": "<Figure size 1152x648 with 1 Axes>"
              }
            ],
            "_view_module": "@jupyter-widgets/output",
            "_model_module_version": "1.0.0",
            "_view_count": null,
            "_view_module_version": "1.0.0",
            "layout": "IPY_MODEL_cd42f045e2b641399e7285f8c08ce1ae",
            "_model_module": "@jupyter-widgets/output"
          }
        },
        "5155a89d1f6544fdb7f1acc9eae65fe0": {
          "model_module": "@jupyter-widgets/controls",
          "model_name": "SliderStyleModel",
          "state": {
            "_view_name": "StyleView",
            "handle_color": null,
            "_model_name": "SliderStyleModel",
            "description_width": "150px",
            "_view_module": "@jupyter-widgets/base",
            "_model_module_version": "1.5.0",
            "_view_count": null,
            "_view_module_version": "1.2.0",
            "_model_module": "@jupyter-widgets/controls"
          }
        },
        "c388422ea6f54b08ad35817978500ad2": {
          "model_module": "@jupyter-widgets/base",
          "model_name": "LayoutModel",
          "state": {
            "_view_name": "LayoutView",
            "grid_template_rows": null,
            "right": null,
            "justify_content": null,
            "_view_module": "@jupyter-widgets/base",
            "overflow": null,
            "_model_module_version": "1.2.0",
            "_view_count": null,
            "flex_flow": null,
            "width": "400px",
            "min_width": null,
            "border": null,
            "align_items": null,
            "bottom": null,
            "_model_module": "@jupyter-widgets/base",
            "top": null,
            "grid_column": null,
            "overflow_y": null,
            "overflow_x": null,
            "grid_auto_flow": null,
            "grid_area": null,
            "grid_template_columns": null,
            "flex": null,
            "_model_name": "LayoutModel",
            "justify_items": null,
            "grid_row": null,
            "max_height": null,
            "align_content": null,
            "visibility": null,
            "align_self": null,
            "height": null,
            "min_height": null,
            "padding": null,
            "grid_auto_rows": null,
            "grid_gap": null,
            "max_width": null,
            "order": null,
            "_view_module_version": "1.2.0",
            "grid_template_areas": null,
            "object_position": null,
            "object_fit": null,
            "grid_auto_columns": null,
            "margin": null,
            "display": null,
            "left": null
          }
        },
        "2fceb9751c50474480f63f68f4c61188": {
          "model_module": "@jupyter-widgets/controls",
          "model_name": "SliderStyleModel",
          "state": {
            "_view_name": "StyleView",
            "handle_color": null,
            "_model_name": "SliderStyleModel",
            "description_width": "150px",
            "_view_module": "@jupyter-widgets/base",
            "_model_module_version": "1.5.0",
            "_view_count": null,
            "_view_module_version": "1.2.0",
            "_model_module": "@jupyter-widgets/controls"
          }
        },
        "119b7b4ad7fb43a4a43da8dd7ccc2d65": {
          "model_module": "@jupyter-widgets/base",
          "model_name": "LayoutModel",
          "state": {
            "_view_name": "LayoutView",
            "grid_template_rows": null,
            "right": null,
            "justify_content": null,
            "_view_module": "@jupyter-widgets/base",
            "overflow": null,
            "_model_module_version": "1.2.0",
            "_view_count": null,
            "flex_flow": null,
            "width": "400px",
            "min_width": null,
            "border": null,
            "align_items": null,
            "bottom": null,
            "_model_module": "@jupyter-widgets/base",
            "top": null,
            "grid_column": null,
            "overflow_y": null,
            "overflow_x": null,
            "grid_auto_flow": null,
            "grid_area": null,
            "grid_template_columns": null,
            "flex": null,
            "_model_name": "LayoutModel",
            "justify_items": null,
            "grid_row": null,
            "max_height": null,
            "align_content": null,
            "visibility": null,
            "align_self": null,
            "height": null,
            "min_height": null,
            "padding": null,
            "grid_auto_rows": null,
            "grid_gap": null,
            "max_width": null,
            "order": null,
            "_view_module_version": "1.2.0",
            "grid_template_areas": null,
            "object_position": null,
            "object_fit": null,
            "grid_auto_columns": null,
            "margin": null,
            "display": null,
            "left": null
          }
        },
        "d83538dace3f4543b36f43165e0e2b1b": {
          "model_module": "@jupyter-widgets/controls",
          "model_name": "SliderStyleModel",
          "state": {
            "_view_name": "StyleView",
            "handle_color": null,
            "_model_name": "SliderStyleModel",
            "description_width": "150px",
            "_view_module": "@jupyter-widgets/base",
            "_model_module_version": "1.5.0",
            "_view_count": null,
            "_view_module_version": "1.2.0",
            "_model_module": "@jupyter-widgets/controls"
          }
        },
        "371a3609ac5f49fdb0b73c271eb6dedb": {
          "model_module": "@jupyter-widgets/base",
          "model_name": "LayoutModel",
          "state": {
            "_view_name": "LayoutView",
            "grid_template_rows": null,
            "right": null,
            "justify_content": null,
            "_view_module": "@jupyter-widgets/base",
            "overflow": null,
            "_model_module_version": "1.2.0",
            "_view_count": null,
            "flex_flow": null,
            "width": "400px",
            "min_width": null,
            "border": null,
            "align_items": null,
            "bottom": null,
            "_model_module": "@jupyter-widgets/base",
            "top": null,
            "grid_column": null,
            "overflow_y": null,
            "overflow_x": null,
            "grid_auto_flow": null,
            "grid_area": null,
            "grid_template_columns": null,
            "flex": null,
            "_model_name": "LayoutModel",
            "justify_items": null,
            "grid_row": null,
            "max_height": null,
            "align_content": null,
            "visibility": null,
            "align_self": null,
            "height": null,
            "min_height": null,
            "padding": null,
            "grid_auto_rows": null,
            "grid_gap": null,
            "max_width": null,
            "order": null,
            "_view_module_version": "1.2.0",
            "grid_template_areas": null,
            "object_position": null,
            "object_fit": null,
            "grid_auto_columns": null,
            "margin": null,
            "display": null,
            "left": null
          }
        },
        "a23ec4e3ed4946a39d78176533ccede1": {
          "model_module": "@jupyter-widgets/controls",
          "model_name": "SliderStyleModel",
          "state": {
            "_view_name": "StyleView",
            "handle_color": null,
            "_model_name": "SliderStyleModel",
            "description_width": "150px",
            "_view_module": "@jupyter-widgets/base",
            "_model_module_version": "1.5.0",
            "_view_count": null,
            "_view_module_version": "1.2.0",
            "_model_module": "@jupyter-widgets/controls"
          }
        },
        "de3fc90e33404e0886c7f2eda97d85ab": {
          "model_module": "@jupyter-widgets/base",
          "model_name": "LayoutModel",
          "state": {
            "_view_name": "LayoutView",
            "grid_template_rows": null,
            "right": null,
            "justify_content": null,
            "_view_module": "@jupyter-widgets/base",
            "overflow": null,
            "_model_module_version": "1.2.0",
            "_view_count": null,
            "flex_flow": null,
            "width": "400px",
            "min_width": null,
            "border": null,
            "align_items": null,
            "bottom": null,
            "_model_module": "@jupyter-widgets/base",
            "top": null,
            "grid_column": null,
            "overflow_y": null,
            "overflow_x": null,
            "grid_auto_flow": null,
            "grid_area": null,
            "grid_template_columns": null,
            "flex": null,
            "_model_name": "LayoutModel",
            "justify_items": null,
            "grid_row": null,
            "max_height": null,
            "align_content": null,
            "visibility": null,
            "align_self": null,
            "height": null,
            "min_height": null,
            "padding": null,
            "grid_auto_rows": null,
            "grid_gap": null,
            "max_width": null,
            "order": null,
            "_view_module_version": "1.2.0",
            "grid_template_areas": null,
            "object_position": null,
            "object_fit": null,
            "grid_auto_columns": null,
            "margin": null,
            "display": null,
            "left": null
          }
        },
        "88b08fbd883d404ba781343ad9cdb0c3": {
          "model_module": "@jupyter-widgets/controls",
          "model_name": "SliderStyleModel",
          "state": {
            "_view_name": "StyleView",
            "handle_color": null,
            "_model_name": "SliderStyleModel",
            "description_width": "150px",
            "_view_module": "@jupyter-widgets/base",
            "_model_module_version": "1.5.0",
            "_view_count": null,
            "_view_module_version": "1.2.0",
            "_model_module": "@jupyter-widgets/controls"
          }
        },
        "36a892a9876b495eb16018eb18fd90d0": {
          "model_module": "@jupyter-widgets/base",
          "model_name": "LayoutModel",
          "state": {
            "_view_name": "LayoutView",
            "grid_template_rows": null,
            "right": null,
            "justify_content": null,
            "_view_module": "@jupyter-widgets/base",
            "overflow": null,
            "_model_module_version": "1.2.0",
            "_view_count": null,
            "flex_flow": null,
            "width": "400px",
            "min_width": null,
            "border": null,
            "align_items": null,
            "bottom": null,
            "_model_module": "@jupyter-widgets/base",
            "top": null,
            "grid_column": null,
            "overflow_y": null,
            "overflow_x": null,
            "grid_auto_flow": null,
            "grid_area": null,
            "grid_template_columns": null,
            "flex": null,
            "_model_name": "LayoutModel",
            "justify_items": null,
            "grid_row": null,
            "max_height": null,
            "align_content": null,
            "visibility": null,
            "align_self": null,
            "height": null,
            "min_height": null,
            "padding": null,
            "grid_auto_rows": null,
            "grid_gap": null,
            "max_width": null,
            "order": null,
            "_view_module_version": "1.2.0",
            "grid_template_areas": null,
            "object_position": null,
            "object_fit": null,
            "grid_auto_columns": null,
            "margin": null,
            "display": null,
            "left": null
          }
        },
        "3fb4375dbcfb45a5808f3e2d9d41aa3d": {
          "model_module": "@jupyter-widgets/controls",
          "model_name": "SliderStyleModel",
          "state": {
            "_view_name": "StyleView",
            "handle_color": null,
            "_model_name": "SliderStyleModel",
            "description_width": "150px",
            "_view_module": "@jupyter-widgets/base",
            "_model_module_version": "1.5.0",
            "_view_count": null,
            "_view_module_version": "1.2.0",
            "_model_module": "@jupyter-widgets/controls"
          }
        },
        "028078be6b32490cb38eeb2605a24206": {
          "model_module": "@jupyter-widgets/base",
          "model_name": "LayoutModel",
          "state": {
            "_view_name": "LayoutView",
            "grid_template_rows": null,
            "right": null,
            "justify_content": null,
            "_view_module": "@jupyter-widgets/base",
            "overflow": null,
            "_model_module_version": "1.2.0",
            "_view_count": null,
            "flex_flow": null,
            "width": "400px",
            "min_width": null,
            "border": null,
            "align_items": null,
            "bottom": null,
            "_model_module": "@jupyter-widgets/base",
            "top": null,
            "grid_column": null,
            "overflow_y": null,
            "overflow_x": null,
            "grid_auto_flow": null,
            "grid_area": null,
            "grid_template_columns": null,
            "flex": null,
            "_model_name": "LayoutModel",
            "justify_items": null,
            "grid_row": null,
            "max_height": null,
            "align_content": null,
            "visibility": null,
            "align_self": null,
            "height": null,
            "min_height": null,
            "padding": null,
            "grid_auto_rows": null,
            "grid_gap": null,
            "max_width": null,
            "order": null,
            "_view_module_version": "1.2.0",
            "grid_template_areas": null,
            "object_position": null,
            "object_fit": null,
            "grid_auto_columns": null,
            "margin": null,
            "display": null,
            "left": null
          }
        },
        "09b4eac370b64ae293cca171f7df5d9d": {
          "model_module": "@jupyter-widgets/controls",
          "model_name": "SliderStyleModel",
          "state": {
            "_view_name": "StyleView",
            "handle_color": null,
            "_model_name": "SliderStyleModel",
            "description_width": "150px",
            "_view_module": "@jupyter-widgets/base",
            "_model_module_version": "1.5.0",
            "_view_count": null,
            "_view_module_version": "1.2.0",
            "_model_module": "@jupyter-widgets/controls"
          }
        },
        "d369f5b135564d4da75aee375639a4cd": {
          "model_module": "@jupyter-widgets/base",
          "model_name": "LayoutModel",
          "state": {
            "_view_name": "LayoutView",
            "grid_template_rows": null,
            "right": null,
            "justify_content": null,
            "_view_module": "@jupyter-widgets/base",
            "overflow": null,
            "_model_module_version": "1.2.0",
            "_view_count": null,
            "flex_flow": null,
            "width": "400px",
            "min_width": null,
            "border": null,
            "align_items": null,
            "bottom": null,
            "_model_module": "@jupyter-widgets/base",
            "top": null,
            "grid_column": null,
            "overflow_y": null,
            "overflow_x": null,
            "grid_auto_flow": null,
            "grid_area": null,
            "grid_template_columns": null,
            "flex": null,
            "_model_name": "LayoutModel",
            "justify_items": null,
            "grid_row": null,
            "max_height": null,
            "align_content": null,
            "visibility": null,
            "align_self": null,
            "height": null,
            "min_height": null,
            "padding": null,
            "grid_auto_rows": null,
            "grid_gap": null,
            "max_width": null,
            "order": null,
            "_view_module_version": "1.2.0",
            "grid_template_areas": null,
            "object_position": null,
            "object_fit": null,
            "grid_auto_columns": null,
            "margin": null,
            "display": null,
            "left": null
          }
        },
        "938d1a62e4364714b6493a59a26b200d": {
          "model_module": "@jupyter-widgets/controls",
          "model_name": "SliderStyleModel",
          "state": {
            "_view_name": "StyleView",
            "handle_color": null,
            "_model_name": "SliderStyleModel",
            "description_width": "150px",
            "_view_module": "@jupyter-widgets/base",
            "_model_module_version": "1.5.0",
            "_view_count": null,
            "_view_module_version": "1.2.0",
            "_model_module": "@jupyter-widgets/controls"
          }
        },
        "17a3483a2ade48958fdfd4572ffac89e": {
          "model_module": "@jupyter-widgets/base",
          "model_name": "LayoutModel",
          "state": {
            "_view_name": "LayoutView",
            "grid_template_rows": null,
            "right": null,
            "justify_content": null,
            "_view_module": "@jupyter-widgets/base",
            "overflow": null,
            "_model_module_version": "1.2.0",
            "_view_count": null,
            "flex_flow": null,
            "width": "400px",
            "min_width": null,
            "border": null,
            "align_items": null,
            "bottom": null,
            "_model_module": "@jupyter-widgets/base",
            "top": null,
            "grid_column": null,
            "overflow_y": null,
            "overflow_x": null,
            "grid_auto_flow": null,
            "grid_area": null,
            "grid_template_columns": null,
            "flex": null,
            "_model_name": "LayoutModel",
            "justify_items": null,
            "grid_row": null,
            "max_height": null,
            "align_content": null,
            "visibility": null,
            "align_self": null,
            "height": null,
            "min_height": null,
            "padding": null,
            "grid_auto_rows": null,
            "grid_gap": null,
            "max_width": null,
            "order": null,
            "_view_module_version": "1.2.0",
            "grid_template_areas": null,
            "object_position": null,
            "object_fit": null,
            "grid_auto_columns": null,
            "margin": null,
            "display": null,
            "left": null
          }
        },
        "e13a405127b649adaed5ec3501709047": {
          "model_module": "@jupyter-widgets/controls",
          "model_name": "SliderStyleModel",
          "state": {
            "_view_name": "StyleView",
            "handle_color": null,
            "_model_name": "SliderStyleModel",
            "description_width": "150px",
            "_view_module": "@jupyter-widgets/base",
            "_model_module_version": "1.5.0",
            "_view_count": null,
            "_view_module_version": "1.2.0",
            "_model_module": "@jupyter-widgets/controls"
          }
        },
        "bbaa4958199e48feac9024f90343cc88": {
          "model_module": "@jupyter-widgets/base",
          "model_name": "LayoutModel",
          "state": {
            "_view_name": "LayoutView",
            "grid_template_rows": null,
            "right": null,
            "justify_content": null,
            "_view_module": "@jupyter-widgets/base",
            "overflow": null,
            "_model_module_version": "1.2.0",
            "_view_count": null,
            "flex_flow": null,
            "width": "400px",
            "min_width": null,
            "border": null,
            "align_items": null,
            "bottom": null,
            "_model_module": "@jupyter-widgets/base",
            "top": null,
            "grid_column": null,
            "overflow_y": null,
            "overflow_x": null,
            "grid_auto_flow": null,
            "grid_area": null,
            "grid_template_columns": null,
            "flex": null,
            "_model_name": "LayoutModel",
            "justify_items": null,
            "grid_row": null,
            "max_height": null,
            "align_content": null,
            "visibility": null,
            "align_self": null,
            "height": null,
            "min_height": null,
            "padding": null,
            "grid_auto_rows": null,
            "grid_gap": null,
            "max_width": null,
            "order": null,
            "_view_module_version": "1.2.0",
            "grid_template_areas": null,
            "object_position": null,
            "object_fit": null,
            "grid_auto_columns": null,
            "margin": null,
            "display": null,
            "left": null
          }
        },
        "95d08ec19cad4fcf80767243f19ca7c2": {
          "model_module": "@jupyter-widgets/controls",
          "model_name": "SliderStyleModel",
          "state": {
            "_view_name": "StyleView",
            "handle_color": null,
            "_model_name": "SliderStyleModel",
            "description_width": "150px",
            "_view_module": "@jupyter-widgets/base",
            "_model_module_version": "1.5.0",
            "_view_count": null,
            "_view_module_version": "1.2.0",
            "_model_module": "@jupyter-widgets/controls"
          }
        },
        "188bded61ca1466a89248f56a738a065": {
          "model_module": "@jupyter-widgets/base",
          "model_name": "LayoutModel",
          "state": {
            "_view_name": "LayoutView",
            "grid_template_rows": null,
            "right": null,
            "justify_content": null,
            "_view_module": "@jupyter-widgets/base",
            "overflow": null,
            "_model_module_version": "1.2.0",
            "_view_count": null,
            "flex_flow": null,
            "width": "400px",
            "min_width": null,
            "border": null,
            "align_items": null,
            "bottom": null,
            "_model_module": "@jupyter-widgets/base",
            "top": null,
            "grid_column": null,
            "overflow_y": null,
            "overflow_x": null,
            "grid_auto_flow": null,
            "grid_area": null,
            "grid_template_columns": null,
            "flex": null,
            "_model_name": "LayoutModel",
            "justify_items": null,
            "grid_row": null,
            "max_height": null,
            "align_content": null,
            "visibility": null,
            "align_self": null,
            "height": null,
            "min_height": null,
            "padding": null,
            "grid_auto_rows": null,
            "grid_gap": null,
            "max_width": null,
            "order": null,
            "_view_module_version": "1.2.0",
            "grid_template_areas": null,
            "object_position": null,
            "object_fit": null,
            "grid_auto_columns": null,
            "margin": null,
            "display": null,
            "left": null
          }
        },
        "cd42f045e2b641399e7285f8c08ce1ae": {
          "model_module": "@jupyter-widgets/base",
          "model_name": "LayoutModel",
          "state": {
            "_view_name": "LayoutView",
            "grid_template_rows": null,
            "right": null,
            "justify_content": null,
            "_view_module": "@jupyter-widgets/base",
            "overflow": null,
            "_model_module_version": "1.2.0",
            "_view_count": null,
            "flex_flow": null,
            "width": null,
            "min_width": null,
            "border": null,
            "align_items": null,
            "bottom": null,
            "_model_module": "@jupyter-widgets/base",
            "top": null,
            "grid_column": null,
            "overflow_y": null,
            "overflow_x": null,
            "grid_auto_flow": null,
            "grid_area": null,
            "grid_template_columns": null,
            "flex": null,
            "_model_name": "LayoutModel",
            "justify_items": null,
            "grid_row": null,
            "max_height": null,
            "align_content": null,
            "visibility": null,
            "align_self": null,
            "height": null,
            "min_height": null,
            "padding": null,
            "grid_auto_rows": null,
            "grid_gap": null,
            "max_width": null,
            "order": null,
            "_view_module_version": "1.2.0",
            "grid_template_areas": null,
            "object_position": null,
            "object_fit": null,
            "grid_auto_columns": null,
            "margin": null,
            "display": null,
            "left": null
          }
        },
        "53c9ed088fb946e39c26c8049a8e9fa8": {
          "model_module": "@jupyter-widgets/controls",
          "model_name": "VBoxModel",
          "state": {
            "_view_name": "VBoxView",
            "_dom_classes": [
              "widget-interact"
            ],
            "_model_name": "VBoxModel",
            "_view_module": "@jupyter-widgets/controls",
            "_model_module_version": "1.5.0",
            "_view_count": null,
            "_view_module_version": "1.5.0",
            "box_style": "",
            "layout": "IPY_MODEL_f7f4bd8cab644a27a1b8faa9a8516701",
            "_model_module": "@jupyter-widgets/controls",
            "children": [
              "IPY_MODEL_40163292ac5841c69f55ab484bcfe7fc",
              "IPY_MODEL_6010947e46b84fe79da95346ffd8d9c5",
              "IPY_MODEL_9c994f3ac21e4a1bbfcdf56d19f0d269",
              "IPY_MODEL_1abd254e40d84d4a99d5ec73416f4627",
              "IPY_MODEL_79e14b8b4c6a4ef3b0c63ec838bc301f",
              "IPY_MODEL_6127fc46518941fcaed1b887235746aa"
            ]
          }
        },
        "f7f4bd8cab644a27a1b8faa9a8516701": {
          "model_module": "@jupyter-widgets/base",
          "model_name": "LayoutModel",
          "state": {
            "_view_name": "LayoutView",
            "grid_template_rows": null,
            "right": null,
            "justify_content": null,
            "_view_module": "@jupyter-widgets/base",
            "overflow": null,
            "_model_module_version": "1.2.0",
            "_view_count": null,
            "flex_flow": null,
            "width": null,
            "min_width": null,
            "border": null,
            "align_items": null,
            "bottom": null,
            "_model_module": "@jupyter-widgets/base",
            "top": null,
            "grid_column": null,
            "overflow_y": null,
            "overflow_x": null,
            "grid_auto_flow": null,
            "grid_area": null,
            "grid_template_columns": null,
            "flex": null,
            "_model_name": "LayoutModel",
            "justify_items": null,
            "grid_row": null,
            "max_height": null,
            "align_content": null,
            "visibility": null,
            "align_self": null,
            "height": null,
            "min_height": null,
            "padding": null,
            "grid_auto_rows": null,
            "grid_gap": null,
            "max_width": null,
            "order": null,
            "_view_module_version": "1.2.0",
            "grid_template_areas": null,
            "object_position": null,
            "object_fit": null,
            "grid_auto_columns": null,
            "margin": null,
            "display": null,
            "left": null
          }
        },
        "40163292ac5841c69f55ab484bcfe7fc": {
          "model_module": "@jupyter-widgets/controls",
          "model_name": "FloatSliderModel",
          "state": {
            "_view_name": "FloatSliderView",
            "style": "IPY_MODEL_b1bb8b289c38410f84f515c306334e5b",
            "_dom_classes": [],
            "description": "a (1/ms):",
            "step": 0.01,
            "_model_name": "FloatSliderModel",
            "orientation": "horizontal",
            "max": 0.2,
            "_view_module": "@jupyter-widgets/controls",
            "_model_module_version": "1.5.0",
            "value": 0.02,
            "_view_count": null,
            "disabled": false,
            "_view_module_version": "1.5.0",
            "min": 0,
            "continuous_update": false,
            "readout_format": ".2f",
            "description_tooltip": null,
            "readout": true,
            "_model_module": "@jupyter-widgets/controls",
            "layout": "IPY_MODEL_f7b04e89ecaf4cda9b22b3a7a76b638f"
          }
        },
        "6010947e46b84fe79da95346ffd8d9c5": {
          "model_module": "@jupyter-widgets/controls",
          "model_name": "FloatSliderModel",
          "state": {
            "_view_name": "FloatSliderView",
            "style": "IPY_MODEL_858a343a0a84447699b3b6b872e035e7",
            "_dom_classes": [],
            "description": "b (1/ms):",
            "step": 0.1,
            "_model_name": "FloatSliderModel",
            "orientation": "horizontal",
            "max": 2,
            "_view_module": "@jupyter-widgets/controls",
            "_model_module_version": "1.5.0",
            "value": 0.2,
            "_view_count": null,
            "disabled": false,
            "_view_module_version": "1.5.0",
            "min": 0,
            "continuous_update": false,
            "readout_format": ".1f",
            "description_tooltip": null,
            "readout": true,
            "_model_module": "@jupyter-widgets/controls",
            "layout": "IPY_MODEL_cd22308d67e94178801bd4545d34d5e9"
          }
        },
        "9c994f3ac21e4a1bbfcdf56d19f0d269": {
          "model_module": "@jupyter-widgets/controls",
          "model_name": "IntSliderModel",
          "state": {
            "_view_name": "IntSliderView",
            "style": "IPY_MODEL_71dc2ddbf93b4e90b0b84e5c8286e138",
            "_dom_classes": [],
            "description": "c (mV):",
            "step": 1,
            "_model_name": "IntSliderModel",
            "orientation": "horizontal",
            "max": -40,
            "_view_module": "@jupyter-widgets/controls",
            "_model_module_version": "1.5.0",
            "value": -55,
            "_view_count": null,
            "disabled": false,
            "_view_module_version": "1.5.0",
            "min": -60,
            "continuous_update": false,
            "readout_format": ".1f",
            "description_tooltip": null,
            "readout": true,
            "_model_module": "@jupyter-widgets/controls",
            "layout": "IPY_MODEL_04210a2e94f643969d4795fd0cb40122"
          }
        },
        "1abd254e40d84d4a99d5ec73416f4627": {
          "model_module": "@jupyter-widgets/controls",
          "model_name": "FloatRangeSliderModel",
          "state": {
            "_view_name": "FloatRangeSliderView",
            "style": "IPY_MODEL_b7f8227445c14bdab38ae2a7196e5d78",
            "_dom_classes": [],
            "description": "d (volt/second):",
            "step": 0.1,
            "_model_name": "FloatRangeSliderModel",
            "orientation": "horizontal",
            "max": 3,
            "_view_module": "@jupyter-widgets/controls",
            "_model_module_version": "1.5.0",
            "value": [
              0.5,
              1.5
            ],
            "_view_count": null,
            "disabled": false,
            "_view_module_version": "1.5.0",
            "min": 0,
            "continuous_update": false,
            "readout_format": ".2f",
            "description_tooltip": null,
            "readout": true,
            "_model_module": "@jupyter-widgets/controls",
            "layout": "IPY_MODEL_b504b655e0cd4041a86b7e82c3b02de9"
          }
        },
        "79e14b8b4c6a4ef3b0c63ec838bc301f": {
          "model_module": "@jupyter-widgets/controls",
          "model_name": "IntSliderModel",
          "state": {
            "_view_name": "IntSliderView",
            "style": "IPY_MODEL_18997f4ac9394319922e4d11ad0f8a3d",
            "_dom_classes": [],
            "description": "I (volt/second):",
            "step": 1,
            "_model_name": "IntSliderModel",
            "orientation": "horizontal",
            "max": 20,
            "_view_module": "@jupyter-widgets/controls",
            "_model_module_version": "1.5.0",
            "value": 10,
            "_view_count": null,
            "disabled": false,
            "_view_module_version": "1.5.0",
            "min": 0,
            "continuous_update": false,
            "readout_format": "d",
            "description_tooltip": null,
            "readout": true,
            "_model_module": "@jupyter-widgets/controls",
            "layout": "IPY_MODEL_0dbbe71a018d437184fc5f2636b71d1b"
          }
        },
        "6127fc46518941fcaed1b887235746aa": {
          "model_module": "@jupyter-widgets/output",
          "model_name": "OutputModel",
          "state": {
            "_view_name": "OutputView",
            "msg_id": "",
            "_dom_classes": [],
            "_model_name": "OutputModel",
            "outputs": [
              {
                "output_type": "stream",
                "metadata": {
                  "tags": []
                },
                "text": "Starting simulation at t=0. s for a duration of 1. s\n",
                "stream": "stdout"
              },
              {
                "output_type": "stream",
                "metadata": {
                  "tags": []
                },
                "text": "1. s (100%) simulated in < 1s\n",
                "stream": "stdout"
              },
              {
                "output_type": "stream",
                "metadata": {
                  "tags": []
                },
                "text": "Starting simulation at t=1. s for a duration of 1. s\n",
                "stream": "stdout"
              },
              {
                "output_type": "stream",
                "metadata": {
                  "tags": []
                },
                "text": "1. s (100%) simulated in < 1s\n",
                "stream": "stdout"
              },
              {
                "output_type": "display_data",
                "metadata": {
                  "tags": [],
                  "needs_background": "light"
                },
                "image/png": "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\n",
                "text/plain": "<Figure size 1152x648 with 1 Axes>"
              }
            ],
            "_view_module": "@jupyter-widgets/output",
            "_model_module_version": "1.0.0",
            "_view_count": null,
            "_view_module_version": "1.0.0",
            "layout": "IPY_MODEL_30c7ed270d614a5c86b733911f8d2ba0",
            "_model_module": "@jupyter-widgets/output"
          }
        },
        "b1bb8b289c38410f84f515c306334e5b": {
          "model_module": "@jupyter-widgets/controls",
          "model_name": "SliderStyleModel",
          "state": {
            "_view_name": "StyleView",
            "handle_color": null,
            "_model_name": "SliderStyleModel",
            "description_width": "",
            "_view_module": "@jupyter-widgets/base",
            "_model_module_version": "1.5.0",
            "_view_count": null,
            "_view_module_version": "1.2.0",
            "_model_module": "@jupyter-widgets/controls"
          }
        },
        "f7b04e89ecaf4cda9b22b3a7a76b638f": {
          "model_module": "@jupyter-widgets/base",
          "model_name": "LayoutModel",
          "state": {
            "_view_name": "LayoutView",
            "grid_template_rows": null,
            "right": null,
            "justify_content": null,
            "_view_module": "@jupyter-widgets/base",
            "overflow": null,
            "_model_module_version": "1.2.0",
            "_view_count": null,
            "flex_flow": null,
            "width": null,
            "min_width": null,
            "border": null,
            "align_items": null,
            "bottom": null,
            "_model_module": "@jupyter-widgets/base",
            "top": null,
            "grid_column": null,
            "overflow_y": null,
            "overflow_x": null,
            "grid_auto_flow": null,
            "grid_area": null,
            "grid_template_columns": null,
            "flex": null,
            "_model_name": "LayoutModel",
            "justify_items": null,
            "grid_row": null,
            "max_height": null,
            "align_content": null,
            "visibility": null,
            "align_self": null,
            "height": null,
            "min_height": null,
            "padding": null,
            "grid_auto_rows": null,
            "grid_gap": null,
            "max_width": null,
            "order": null,
            "_view_module_version": "1.2.0",
            "grid_template_areas": null,
            "object_position": null,
            "object_fit": null,
            "grid_auto_columns": null,
            "margin": null,
            "display": null,
            "left": null
          }
        },
        "858a343a0a84447699b3b6b872e035e7": {
          "model_module": "@jupyter-widgets/controls",
          "model_name": "SliderStyleModel",
          "state": {
            "_view_name": "StyleView",
            "handle_color": null,
            "_model_name": "SliderStyleModel",
            "description_width": "",
            "_view_module": "@jupyter-widgets/base",
            "_model_module_version": "1.5.0",
            "_view_count": null,
            "_view_module_version": "1.2.0",
            "_model_module": "@jupyter-widgets/controls"
          }
        },
        "cd22308d67e94178801bd4545d34d5e9": {
          "model_module": "@jupyter-widgets/base",
          "model_name": "LayoutModel",
          "state": {
            "_view_name": "LayoutView",
            "grid_template_rows": null,
            "right": null,
            "justify_content": null,
            "_view_module": "@jupyter-widgets/base",
            "overflow": null,
            "_model_module_version": "1.2.0",
            "_view_count": null,
            "flex_flow": null,
            "width": null,
            "min_width": null,
            "border": null,
            "align_items": null,
            "bottom": null,
            "_model_module": "@jupyter-widgets/base",
            "top": null,
            "grid_column": null,
            "overflow_y": null,
            "overflow_x": null,
            "grid_auto_flow": null,
            "grid_area": null,
            "grid_template_columns": null,
            "flex": null,
            "_model_name": "LayoutModel",
            "justify_items": null,
            "grid_row": null,
            "max_height": null,
            "align_content": null,
            "visibility": null,
            "align_self": null,
            "height": null,
            "min_height": null,
            "padding": null,
            "grid_auto_rows": null,
            "grid_gap": null,
            "max_width": null,
            "order": null,
            "_view_module_version": "1.2.0",
            "grid_template_areas": null,
            "object_position": null,
            "object_fit": null,
            "grid_auto_columns": null,
            "margin": null,
            "display": null,
            "left": null
          }
        },
        "71dc2ddbf93b4e90b0b84e5c8286e138": {
          "model_module": "@jupyter-widgets/controls",
          "model_name": "SliderStyleModel",
          "state": {
            "_view_name": "StyleView",
            "handle_color": null,
            "_model_name": "SliderStyleModel",
            "description_width": "",
            "_view_module": "@jupyter-widgets/base",
            "_model_module_version": "1.5.0",
            "_view_count": null,
            "_view_module_version": "1.2.0",
            "_model_module": "@jupyter-widgets/controls"
          }
        },
        "04210a2e94f643969d4795fd0cb40122": {
          "model_module": "@jupyter-widgets/base",
          "model_name": "LayoutModel",
          "state": {
            "_view_name": "LayoutView",
            "grid_template_rows": null,
            "right": null,
            "justify_content": null,
            "_view_module": "@jupyter-widgets/base",
            "overflow": null,
            "_model_module_version": "1.2.0",
            "_view_count": null,
            "flex_flow": null,
            "width": null,
            "min_width": null,
            "border": null,
            "align_items": null,
            "bottom": null,
            "_model_module": "@jupyter-widgets/base",
            "top": null,
            "grid_column": null,
            "overflow_y": null,
            "overflow_x": null,
            "grid_auto_flow": null,
            "grid_area": null,
            "grid_template_columns": null,
            "flex": null,
            "_model_name": "LayoutModel",
            "justify_items": null,
            "grid_row": null,
            "max_height": null,
            "align_content": null,
            "visibility": null,
            "align_self": null,
            "height": null,
            "min_height": null,
            "padding": null,
            "grid_auto_rows": null,
            "grid_gap": null,
            "max_width": null,
            "order": null,
            "_view_module_version": "1.2.0",
            "grid_template_areas": null,
            "object_position": null,
            "object_fit": null,
            "grid_auto_columns": null,
            "margin": null,
            "display": null,
            "left": null
          }
        },
        "b7f8227445c14bdab38ae2a7196e5d78": {
          "model_module": "@jupyter-widgets/controls",
          "model_name": "SliderStyleModel",
          "state": {
            "_view_name": "StyleView",
            "handle_color": null,
            "_model_name": "SliderStyleModel",
            "description_width": "",
            "_view_module": "@jupyter-widgets/base",
            "_model_module_version": "1.5.0",
            "_view_count": null,
            "_view_module_version": "1.2.0",
            "_model_module": "@jupyter-widgets/controls"
          }
        },
        "b504b655e0cd4041a86b7e82c3b02de9": {
          "model_module": "@jupyter-widgets/base",
          "model_name": "LayoutModel",
          "state": {
            "_view_name": "LayoutView",
            "grid_template_rows": null,
            "right": null,
            "justify_content": null,
            "_view_module": "@jupyter-widgets/base",
            "overflow": null,
            "_model_module_version": "1.2.0",
            "_view_count": null,
            "flex_flow": null,
            "width": null,
            "min_width": null,
            "border": null,
            "align_items": null,
            "bottom": null,
            "_model_module": "@jupyter-widgets/base",
            "top": null,
            "grid_column": null,
            "overflow_y": null,
            "overflow_x": null,
            "grid_auto_flow": null,
            "grid_area": null,
            "grid_template_columns": null,
            "flex": null,
            "_model_name": "LayoutModel",
            "justify_items": null,
            "grid_row": null,
            "max_height": null,
            "align_content": null,
            "visibility": null,
            "align_self": null,
            "height": null,
            "min_height": null,
            "padding": null,
            "grid_auto_rows": null,
            "grid_gap": null,
            "max_width": null,
            "order": null,
            "_view_module_version": "1.2.0",
            "grid_template_areas": null,
            "object_position": null,
            "object_fit": null,
            "grid_auto_columns": null,
            "margin": null,
            "display": null,
            "left": null
          }
        },
        "18997f4ac9394319922e4d11ad0f8a3d": {
          "model_module": "@jupyter-widgets/controls",
          "model_name": "SliderStyleModel",
          "state": {
            "_view_name": "StyleView",
            "handle_color": null,
            "_model_name": "SliderStyleModel",
            "description_width": "",
            "_view_module": "@jupyter-widgets/base",
            "_model_module_version": "1.5.0",
            "_view_count": null,
            "_view_module_version": "1.2.0",
            "_model_module": "@jupyter-widgets/controls"
          }
        },
        "0dbbe71a018d437184fc5f2636b71d1b": {
          "model_module": "@jupyter-widgets/base",
          "model_name": "LayoutModel",
          "state": {
            "_view_name": "LayoutView",
            "grid_template_rows": null,
            "right": null,
            "justify_content": null,
            "_view_module": "@jupyter-widgets/base",
            "overflow": null,
            "_model_module_version": "1.2.0",
            "_view_count": null,
            "flex_flow": null,
            "width": null,
            "min_width": null,
            "border": null,
            "align_items": null,
            "bottom": null,
            "_model_module": "@jupyter-widgets/base",
            "top": null,
            "grid_column": null,
            "overflow_y": null,
            "overflow_x": null,
            "grid_auto_flow": null,
            "grid_area": null,
            "grid_template_columns": null,
            "flex": null,
            "_model_name": "LayoutModel",
            "justify_items": null,
            "grid_row": null,
            "max_height": null,
            "align_content": null,
            "visibility": null,
            "align_self": null,
            "height": null,
            "min_height": null,
            "padding": null,
            "grid_auto_rows": null,
            "grid_gap": null,
            "max_width": null,
            "order": null,
            "_view_module_version": "1.2.0",
            "grid_template_areas": null,
            "object_position": null,
            "object_fit": null,
            "grid_auto_columns": null,
            "margin": null,
            "display": null,
            "left": null
          }
        },
        "30c7ed270d614a5c86b733911f8d2ba0": {
          "model_module": "@jupyter-widgets/base",
          "model_name": "LayoutModel",
          "state": {
            "_view_name": "LayoutView",
            "grid_template_rows": null,
            "right": null,
            "justify_content": null,
            "_view_module": "@jupyter-widgets/base",
            "overflow": null,
            "_model_module_version": "1.2.0",
            "_view_count": null,
            "flex_flow": null,
            "width": null,
            "min_width": null,
            "border": null,
            "align_items": null,
            "bottom": null,
            "_model_module": "@jupyter-widgets/base",
            "top": null,
            "grid_column": null,
            "overflow_y": null,
            "overflow_x": null,
            "grid_auto_flow": null,
            "grid_area": null,
            "grid_template_columns": null,
            "flex": null,
            "_model_name": "LayoutModel",
            "justify_items": null,
            "grid_row": null,
            "max_height": null,
            "align_content": null,
            "visibility": null,
            "align_self": null,
            "height": null,
            "min_height": null,
            "padding": null,
            "grid_auto_rows": null,
            "grid_gap": null,
            "max_width": null,
            "order": null,
            "_view_module_version": "1.2.0",
            "grid_template_areas": null,
            "object_position": null,
            "object_fit": null,
            "grid_auto_columns": null,
            "margin": null,
            "display": null,
            "left": null
          }
        }
      }
    }
  },
  "cells": [
    {
      "cell_type": "markdown",
      "metadata": {
        "id": "view-in-github",
        "colab_type": "text"
      },
      "source": [
        "<a href=\"https://colab.research.google.com/github/DiGyt/neuropynamics/blob/DiGyt_dev/notebooks/bifurcation.ipynb\" target=\"_parent\"><img src=\"https://colab.research.google.com/assets/colab-badge.svg\" alt=\"Open In Colab\"/></a>"
      ]
    },
    {
      "cell_type": "markdown",
      "metadata": {
        "id": "w5SYEwHU7cND",
        "colab_type": "text"
      },
      "source": [
        "![image/png](data:image/png;base64,iVBORw0KGgoAAAANSUhEUgAABGoAAAEeCAYAAADSPPN2AAAABHNCSVQICAgIfAhkiAAAAAlwSFlzAAALEgAACxIB0t1+/AAAADh0RVh0U29mdHdhcmUAbWF0cGxvdGxpYiB2ZXJzaW9uMy4yLjIsIGh0dHA6Ly9tYXRwbG90bGliLm9yZy+WH4yJAAAgAElEQVR4nO3d3c8dV3bn998WRVIPKb6IaSluuUdytyxp7LEdxEkbtmdkA05gBJlggABGgEBtiFb3H5B/IHe5zz+gVlNwJxdB3+RigmSAIBgrnszYsDGZOG2L3ZJbcrvliG2RFCnxnTsXtes8u3atVbXrvL98PwBxeOqpt3Oe89SpWrXW2iHGKAAAAAAAAGzeE5veAQAAAAAAADQI1AAAAAAAAGwJAjUAAAAAAABbgkANAAAAAADAliBQAwAAAAAAsCUI1AAAAAAAAGwJAjUAAAAAAABbgkANAAAAAADAliBQAwAAAAAAsCUI1AAAAAAAAGwJAjUAAAAAAABbgkANAAAAAADAliBQAwAAAAAAsCUI1AAAAAAAAGwJAjUAAAAAAABbgkANAAAAAADAliBQg4MUQjjpTD+37n0BAAAAAKBFoAY7ywqqhBCeNab9QvH8LUm302M+/Yakz9JjPv1lY51fN6YdGdPMgNC+cH4H1vtQ+7vyAmhb/d5u075I9ftjva+r2Pa2vT/APnCOi1XHyhDCM5XLWsdubmgAALBiBGqwE8oTSCuoEkJ4KOmT9NhOi5K+nx4VQjgl6ZuSTkn6ZnsCG0K4KOlCWuxCeyKalrvaLp9N+5Ni2nuSvkiP7bS3JN0yAkJfnf+d2B7O78B6H2p/V977NeW9tS4+5g4c1Cw7sC/VQZBFAhm1+2Ms13tfF90/a9u1+wMcotrjk/F3bh0Xq46VIYR7kj5Nj0PLWsdu84ZG+tnSA78AABwqAjXYOiGELxfPOyeQVlAlhPC8pBNp2okQwrMhhF8t1vMLkv6LYnO/nR5/rZj+KyGEXymWfzmE8FvFtK+HEM5KeiVNeiWEcJQFhE6rGxCKkj7Igzxp+i8b78PWnvQ6vwPrfaj9XZ2S9Kaa9+sPsvfLe28vp3kvZ/NaFx9zBw5qlk378o20L69n++IGQeYNrNTso7c/xnK997V2G95rsT7zxe/1zUUCUsAus/7Gao9Pxt+5dVys+h4KTSbjqTTfqRDCMxOO3eYNjbRP5jGvNngOAAC6CNRgo0JR/hJCeCzpJ+nRu6D83WI1vynp54ppX5H088W0FyTdLabdT49PFdNPSfqZYtpzkh4W0x5K+k+Kab8u6R8W034u9Euwvpoeo6R/F0YydNL0bSkBKrf5pKQvF9O+JOlMMe0pSV8U0+6m9YX0/Im0PjnLS1mgR5p9jsqLj0mBg/y9teazpsUY7+v4M3UvxvhgKAgyb2DFMrA/30379D/EGB9k88/WHWP8XNLV9PRqjPHOwDbM/TMuKK3fVf57DTr+vQJ7ywjGWtkqveD0wDHrcpr2Rlq39bd2oZj2tJpjcO7ihJdhrc867ruB39rgOQAA6CNQg7Up76yFovwlhPCisou60GTWvFqs5udkB1vKPjIvSvpxMe0T9QMtjwZ2+eni+ZH6F5pPSvpRMe3HagJFuS+rH8j490MInUyeEMIvD5z0VpcApZ/NXd5TMd8/KH78M5J+Wky7IfvE3rp4eMFYn8e6gLhZTLvtzGcGDoz31pqvNy39rvI7zEOZKb2gRwqsfJhm+agIrIxlVJmvJcb4LUnn02O7rt7nJMb4apqv8zdWBHTM/XMCXlYA7kExrfz7A3aa8b02mv2S/m8Fp61jlnQcmB4KYFvHWmua9XdqHZM/LqaVx/dcbzu1wfN2gYrjHQAAB4VADdaivLMWjPIXSf+oWOxlSb9YTPt52cGWa8W0T9UPljyn5gI+1560WkEGKyBkZd78XDGt3G6r3Mbfyw789E6aa9Pa2wW8AM7YRYXHmO+DYpYfy77IqA2qWNMk+0LfutDoXbjEGDufiRjj9bS+NnMpSnroXEj1tpuyUNr9vBljvJOmtVlZ97NpnfnS9nvZLul3+FKa96UwUjpVXMz0XosMwS8Ve0vStTBcYnFKx0HQl7PP2MKZMlyYYdcYx8/ye809JleyAitWENs6XlqBFet7rTbL0Tp2Lxp4NTMkB453NC0GABwsAjVYidCtXe/dWZP0S8Uir6h/sXdCxxfBrfvqn3xed6b9i2Lav5L0fxfT/io9WtP/ZTHtTyX9STHt30n6u2KadYJ8Xf2084uyAzUvFdNeNKZ9Rc7dV+9iwbmouKziAr404eLDOol/v5j2Y2c+60JBzvSqu8Sh6acwE0I4l4IlP0iTfpAyRLyLjzwI0r4PbaDudCpLOKvuZ7sNoLV3ws8WGSq9bBcdH4dD2k5VRlV6LW+n9+TtLNtlKPiWv5bLyn73TpnTlICM9XuZdGEGbIsySGAcP63vNSszxcuSsY471rReUCbGeEPdYPCtdDz4tprjwbdjjA+c4PI1HWeSPkoBbCvwYx1782lRx8fp2gyf3usbON55ozDS3wYAcBAI1GDpjBOscpSjr8gOylgZLGUQ5FNJ/28x7YfONO/iv8fp2VF1ouls+2ox7UfqZ/38VP0Mn9uys3bKMiwvW0Uy7sA6FxVS0evFYW2n997GGH+ST4gxXnMuFHoXGfKDJbV3f6UisGJtJwUjXkzTXsiCEbn2s/k4PT5K67PKgMayWkLxXHl5U7Gddr97n0XvYqYM/AyUV11R8z69Y2y/3W7v9Q30sqnKOJIdQKtuZAwsm3WhX34Gy+8w5/hpHYesDBbveGX19JqSbfg9SffSY2f3s9dhBZdP6fg49SB7Px7lj9bffhEMmgWHnWN/b5oqy7OCPwoj/W0AAAeDQA0WVmTPWCdYVtaI1f/FKkv6s2LaX2j8TmR7wdy7u+mVpUiznh1nsp4dtdkctQEdKzX9s2LabTUn97lb6geZ7kp6vpjW9nWpzWzwAhTl3WRvvjLjpJfBYl0opP//f8XjFN7+9IIipXShMesL4QVb0nxtNtAHWZlSJ8hjZbUUgZErZWAk9HvA9OY1PotuQChf/1Az4fz9qX19zr5I9sWV97tuLwDpT4O1KoMy1oV+md3lfId5Tc1LU8qFet8H6e8yD460y3b+hqyArJUl5wRfe8eICcehVudYm4Kv+fMja5oqy1ZlCM7IgAAA7CsCNViIkT1jjchUBmXOyM6UscqPqoIESXsy+1ia3eXLU7yvDVxMKi1Tjn7zqHi0WCfibhCkYN0t/X4x7YfqN9d9VnY2zpT9MS8gjN+pdZdY6meceOn4ZV+WKRkVteUB+etrG/16w8vmd8bNcqiBoIzZ+FfFhUvKcLlUlDh5TX2tcqjOZ9Erc0rrLD/DnW0PXNRZr88M8pR/FwN324cuANtsntq/DaDaWFDG+TuwjkW9z2eM8cN8QozxYy3ew8ULdlp/l52g6khAVuqWOFrB194xp+Y45JRHSnaw28rGs4Iy1veLd4y3RgakHAoAsJcI1KCaUbNv3Xkss0Fuq9+b5WlJf1lM+6GmneRaZSlX1L8j+KSk59LjWMZBh7VOJxhhnZDWvpbakXLKUqq/llQGldqsm9qRPnqp987v1MpMMstpYowX1Zzsz37nxgVAflL/WP5Jvcc62e+t03nNVilOr6GvFZSx5vMuXNLF4fXizn1VT6ABr6XX+lq2TitDoLPtgQCK9XfQ28aAd9WUXrxbTLeCVrPfv/U3VLEtwOUEZS4rG9I6febbY+S99Jn3jiW5h6n0Kd/eM/J7x+TNxdvvByuL08vksxqOjwZbrGPySPC199039H2YbaO3Pi+QXGbkOH/7CwVuKYcCAOyrEGMcnwsHL2VXXFBzcnUxTftNSX+czfarakZu+sNs2j9T03D3R9m059UEGa5n086rOUn+JJt2KcZ43dn2W5JeV3OymA9DfHLsZHPKfN68KRPjVjHtqLj7+J6au7VX2xPV8rWkk/C7ai5uo5oLi1PqZsucUROQupdNO6VmBKw8++ZrMca/DiH8qrolY+3IWZ15JT1jzPex+r+Xe+W22/djyvuYG/j9le+h9f4Ea3+M9/ai8Voeq+69DWrK0k6n7Z9P075Q08/noZoLkAfl7zntc2fZ7ILL2u+31AR7vut9ltOdf2u/h/bxkaSjRbbhBcys12i9Z0OfjRDCM7FpZArMzfq7knGMkH1c/VkdZ9NJTX+vuyq+h9QEX4aOG/mxqfP3p4G/i9rvMW8+5/2wvq/mOk5P2Ubtdiq/F59V/3fwuezfc+94N/8rAwBge5BRg1FOloV0fJev9WVJ/7qY9m9lN5617qyZTRMrszTa6VUnaVNO5pw7j70sAKM8pFffX74W506kl41T9vr4qJivLSf7G2O6ddfSmq92iO329cx1UlyTZp+eW++PVTJwVt3PqNkPoTYd38qoiX5fFysbx7qL3dvOSEZOfpe46u57sf68/MEqV+jOPCGraWKWTk96XR9zFxxDvLLIIrvTOj5Zoy9ZzXutPjHWqEhej6hOuW3SGcVtJKul6nvMm88yT6bMVN76KoI0vVIzqxzZ+R2MZd5w1xEAsFcI1MAUjkcFkvwL9c+L6V7Jjxl4cIIWneFF2wWcwMjW3zmzLnbL1+KchHeCMlaQQH4TxtrRRKzf6z8qpr2sCaNnTTEhqDZ6kRL98gKrx1BZsmOVOnhlTp1p5W4Uz8sSoNoePt7ITWaPmnw7cUL5g1My4JUz9USjD0/N78oqSxnbFvZfGZQJzhDuod9Da+5hrq350udzFmzx/v6iU26rYhQ3afjvYhU3F7aVFQy2guLBH5mqXN/97GkospA4rgAAdhqlT+gJIdxTk1Z8P8Z4OoTwzyT9z9ksvxNj/D+c0qcfqyJtfOhu/bLTtHdRmeo+UE7zUCntO6Y+PE6ZjJXif9qY9rT6JVKflOsb+v2tg1Nu5JX8lO+jVZowlFL/UM17GHRchvVYTeZN1TaK4MhgCVJ63iv3K+crtjMrxbLW5yy7aOmS+VrGWOVsh/73fuiMv2ezDM8pZ+yVzKr5XHXmizHeKo+XzvGgVyLVHu9qyoqmlCkdqrzEdeC7rTyuVv3uY1MuPdexCQCAbUJGDZQ3Skz/z0fFeUb9RrhtdoI1ZLTXHLds9Orios1tFGllXlh3Ha00fWto8Ko7zKofmnZtoj1s7BPFY6scttuaL/98mpkp+c/Vv1tejvB0ongcLEEqLvSsMq7efEOvcaz8YQmlS1XlVAM6zcCxv6zypXyaVQ4jv8zFyha0jlle0/DO8dLKihkqAawpK5pSpnSoYn9EO6tBsdWEPmdmSaXf8zfVHJu+mR+bikxhAAC2GoGaA5fuMH6SHiXpq8UsX5Ff+vRBMf3H8ntptGnj3yEQU2fsAmDgBLe27411MWQFb1ZS+rQoI6sn5I8DwQQrSNALwBTrLMvP3i+yZPIRnsyLzKFASBGM8cq4VAR3vNKLqrT/gQvKMrBlLVsd1HGWbff7HY4H+8sqX/JKmgpeny6rL1fVsc0qsZHcoaqtQHA1PtPTeMeiIrhsBdCscxPzxkLKFP40PQIAsPUI1BywEMLzyu78p2yasgnjM5L+tph2LT32TpCdIAF3GZek9u6tM71sRlyVUZNOkPPGjhste3J4F2ZW1kin148VgLGCPGnay2m+l7NpZT+Zsaa8nUBIeeFqNddM03s9Zazfs9N7xgzeFMEdN0vGyopY5G+a48Husz5PIYQvZ/+3Gsda2TPVF9sW6+/NmhacYa7TOqxMmW08zu2tmuCWEUCrzaayMoUBANhqBGoOm3WS83Qx7UjdIZwl6S8k/85/zd0xLI/3vhqlLlfUzWKwMj+s5poX1Q3ondMWKC4UvVFZXlNzkfdaWsZrEty5gHPuvp9UN2unDQa1GUb3ssDkq2rKoWZ35J3gT+/CdaDMraZsqnYUqR4vS2YoA2KRv2mOB7vL+jyFEB5L+kl6lOzjy9jIPYPSd07bQPZ+9p1jjbDXmbZIFhi2R1E2ZY0eWZspCgDAViNQc2CKO+OvFT/+j9SUL+U+kXNy7d35l7gI20ZGAK22n9DWlT6VF4rpIuyz9OPPUnDDunsvVQyf6wRvrLv0Zj+ZFNT4NA9uOBeK3ohoVplbLyBUmhrkKTNlyu0OvIc4IEVPmV4PkBDCi8qCmCmzprbc8qfFtPziu3U7rfisupkRecmgNcLeneI5mVx7JhajR8rPrswDfIwOBQDYegRqDohxZ7y8q3RH3REUpOYk2rxQ5w7l7jGybDrDoUe7n9BCd8GXbSAzpRMwGej1UtuPxur/86qai4L2Ln1vGxXBjbIHjDWEePma3QbDpVg0N56aKVPRFwIHxPic9MqSYowf5hNijB+rX0Z7UcZ3iXUcSj/r/V0s4/PI99T+SZk0rd73VcoKzQN856S6TEMAADaFQM2BcC4enytmuyTjTubAiTR3KPeD1Tw2n+Y19twIp/eMFTA5peNSvqe9UV5GRjAq+8m8Jelae2LvbMO8mHT62eRD19/OgijlBYRX2tXLijGaG0/KlCnvMFtlJdhfef8O53PSC9SEbOTAbB1WVowX9O2UKFp/p+0CfB4xJMZ4Td3smevyRwF7U83x+E0yawAA2ybEWN5Uxj4KIfyapH+TTfoVSc9K+t+zab+hZlSNvHnwc+nER+nCkruReyKdqH6m5kT1rqTzagIT5bSL6mZaXUonvxuVfx4HXsvd9BglnU6BmffUXHxebS/2ymlpfV+o6c3zSE2vpt760v/b+R6quYB8kIIk35D03dht9Ftu56y6mW1n0vas/X5L0utqglPfctaX7/dsf5z3q93GYzVZEe5+Yz+lzLN8VLF7ajIP7scYT6dMhPxv/byagErneKDmwtj6HOcj7JxS83krp50ql82Cm3znYC4hhGfa7ynnc/xYzucOAIBtQEbNHiuavpblKk9K+n+KaUPDpZIyvmeczJTqPiqbZpRxjZbhOSPReKPBPFE8es2Eryhr0jzQ0LfXyNgpz+ptJ73G2qyYdn/bBtBeT59OidtIZhF2nJH1Uo42VjsyzpThsK1MzDwzbLCcie8czKu4meCNZthrTA0AwLYgULOnQgg3JH2WHiXpK8Usz8kuc/qJukMxXxP2llW6ZkzbykBNySnDa/vRtJ9pb0h5K8jTWXakP0bZ36YcMarVaWRslU5poMypeL3e/jzOH70ATPl+0XNq91jBNKt/UQjhoaRP0qMX5KvtRWX9Dd1Q96I37xlSllaWf5OUM2HVesfUocbUBKkBANuAQM0eSmm+eePRc7JHc+r1GpCkGOOTakqeNto0FuthXZAX09wLuG07oTWybK6oOyS5dHyBWAZAymDL++npB0Uz4dkFZQqCXFYTBLkcnOG+s21YjYw7mTvRGMEqbctqfPmumlKSd43XfCXLkjJHjHKCMVbPImwZ6/NgNYgOITyv4+yqEylz5oK6npbdU8ZqHGyNfnZKx8eJk9nfgdWT6Yr6f5PmqE3AMhQZhG9nmaK9gDgNhgEA24IeNXsi7zUQQvgd9XvPXJL0z7Npvx1j/KOUcXNBTdnFRQGFdMHV6SuxS/1Myj4XE/rRdHreWEENryeM93dV01NGRs+OtF9WD57Oflu/F6sPjnVRbPX5Iatme1T0ZDJ7vTh9kJ5Wv8/MkYr+ZGqCN72//bQP+XeO+Rmz+iqVrwVYF+O7oOzJZH7XrXs/AQCQyKjZC8Zd1KeKWU5J+uti2t9IUrqIPE+QBiM6fSV2qZ9JcWI+lO0iHffNcLNQ8mWcHjXmUNrWtr3MHeM1jJUl5b+XdiSTPxjogzNpG1Y5zSps8+doncr32+kxVJbXWVkyUmVJ00DZqzl8fNFLxizDc8oR6T2DjSiOadaQ3WaWMQAAm0CgZsc5vQaeLmY70vHFYGtWClX0EwBGjfRh2VrWfk8Mtlhp8Z2hheX09LECIQMNhkcvep0ykrwR8ROSniz64JwdCoakdV+K/ZGqOuU0q3CoJQdGUKZs8puX172RlRXlx/22t1FuqJeUVebUlr2+0Ja9WqV03gq9PjO7cmzAYUl9lfLnnAcBALYKpU87LvUbKFPY/0s1o220fk/SH5XzxS0YYhnbzynPMctuNraTlYbKe0II5/KT9QXLlMwhstN6yxIWbzjtztDJ5bLZtLwEpZe6rwm/q3nLphY18j7sbZmM8Rnzhmsvf6dnVTncsPUdEWO8bpXnlfuT7efe/g5wmFLvpupSPwAA1o2Mmt339eL5L6sJyuT+RM4dVGDMQAPQE8Xj1vPKe9IF6mdF1kinUW8hpPX1sl+GGqamZcqGx+3f4udDzVWd5rFvSbpeZKF0miUX5VXvDwRprOavQyNdrcqsmfGiWTbrKqWytmOVi4VsyGsnG9JilTRZ07wSp96x38oYG9ofLlaxbwZK/WLxOENpJgBgnQjU7KD8ZF/9fgMnJH1cTPtpulj7tpqLx29z4o0pjF4TtUP5bqs8GNC7QLXKTbwyEKvkwyohMnfCKbEy5usFUYIx4pRTxtUrr7K2UdEHZ2Ws99Z6fe38NT1zllFK5QRgThbPa0dfuifp0/Qo2aVK1jSrb0bvGK8mIyl3N/t/GbyzAoybCMoBG5NK/J6P9giXnUDNoZZmAgA2h0DNjjFO9q3GwSavsSNQYx+CexOzRtrj4yxjaOBvqNMPxMl0aX+WNyOe0ujXbG7czlJuxlqPMV+5nc7rm5D1sQy/r+Z49vvZtPa9n31XeT1zUjPQ9v9us+t8viEDGUyzaU7/GCvw96y6jUufkZ0V8+Vi2pdkB2++VEy7mD4j+ee4DSSaGV5OgNHsMwPso/R3/NfFcTrv8dXOd0rSN9X8nb9JZg0AYB0I1OwQ52S/DMycUvfEPiq7iNyHi21shSmNS7eGlzWSLkzPV16gdu6+OhfvXpDAmrcNtp72LgCszJuB7JkyEDVYijWkNpC0KOfYlr8XQU1jZDNwlPqtfJYe3cBWOd/A/uSjZ71pZDC9kf2u2mBS+7mwMmCsbJeqTJlUojErx0glGj8t5rsRBkY08wKM1u+TTBocAuc47Y36lE8PYjQoAMAaEKjZLdbF8Z8V0/4iPbap7o9Xukc4VLs+jGkn4yQFTq4Vd1bbv51H2XyjI/IM9MHxSpVGy41GylJCNp8XiKrKpps3kLQEtT20ep+70Ayzmwexzjk9WHrztSsxsmzy0bOCjoMwZVCml9ni7LelF2yR/fpOSbqfnt/LPjedUtaxzxJBeuCY8/dilg+mEaLyYCkjRAEAVo5Rn3ZICOHXJP2bbNKvSHpPxigF6ULrdTUnIJQ6YanSRW9n1Jl1n7yGOUaiCd3RhR6pGbreHBWp/BsK/og85ohK5f6lbd9N24uSTk8d2ShkI1NNXd/YNoIzIlZwRgJaJu+1pBLPU5LuxxhPp3kft/PFGJ8I9khXF9UfDS9v3Cwdj4rUG/0obWf25RhjDM7v/wlj2jPqjyZzRtKPsmnPxxg/LrdtbSPto3k8n+f3DOCYcZzu/a1tw/cdAODwkFGz5VJJQKtsePeknKau9KPBirmlT+uo319SY0crSu32erHKgLwGw2l+62K5l6UzMG93R/pZP17Wh7fs4Ptl3WEeKqdZoSjNyr3ycqh2ZKLZa06lT9YxsKo0z8uyCc3Qvfl8z8rOnrH6zFjZQb079em9fbpdLhz3S+qVmg2ULvU+NwRpgHpG5pn1t+Y26qZfDQBgVQjUbLEQwkNJn6RHSfqHxSxfGyqJ4IQd67akAMrYNtweMGOsfi2xO3z1B1mAwupR0isDqg2KTu0VU/S2scqmzL/9KT1zvE0X+7yukaB6TTwNVlDGKsOzAjXWsl7pkrV8VQBGNq+064n8cajUjOM5sB5G8Oa+jssP72eZi4wEBQBYGQI1Wyrd0W37IZxId3R/XMz2dxIjdWA7hO7IGN9c1Z3GoeBBzTaNkY2srJFetkra7odp2kfzXDinbT43tVdMuZrs/++qKft5N3stVjPh0WDLSEDHG0VqWayAiRUssQIjvWkpiJVfWN2ZsD7JDupY07xtl0Nf93rKpJ93MqzWHBgDUCFl3uXZfecGmosDALAUBGq2l3XhUjbYnF0kMFIHtoBVBrISVhbLvHc3JwYyemVAU7ab+r18FoqhpY3tXFa/6fAV1Y3w1Asm1QSIBkqf5spemsjKOPE+T22gqg1y9AIwVtmUsz4v08Wa7s3blrHlo+tZQ193PrNehhVlq8DW8QK67Tn0CQEAsGQEarZXOYrOU5J+UEz70Xp2BeiZkp2wEkaj3qqAghVYMS6OHygb5UPSw0UDGcEZWnrsZRb7eKm40K/qKeMFiJz9XXvpk5UBE5thqNsgyKMYY9vMsyyRqip9is0w1/k2r1nzZftjlZQ+yh+Hytms4HllPwzKnIDt86h4lLpZlwAALBWBmu319eL5f6DdHxIZ+8NsYr0pyyjvKS6y70t6O63vbS8zZWIgIw/+PJbTgNm7+E+BpetDASYneGMGiGp72awjw8NpHHxK3fLPkzKOgbEZOjdvwNuOxpIH2tpt5NtsA2XWBVgvK8ZrHL3o+0NQBthuzt/+Vn0HAgD2D4GaLVKM8PQ3xY//Nsb4YT4hxvjx6vcKMOUXl1FN0GGjI0HVXDBP6TPjlFf1MlMmNhNugz/fqWhIObtLazU3ztY7mKVhZYdY/RWG3ps1BBOsIJZVquRlbX1PTa+e72U/K0fY6m3DC760yqwYMmCAw1RmNAIAsGoEaraEMcJT2Y/mzsAdYWAT2gvg9oLYvMO4zpExxi6Ypw43XZRXzVO6ZO5GsT+dLBarR40mDMVd7nd6bjUc7/RX2NBQ3O3+9YJYqTQpL4dqS586GTADPX3aY+jn8Xh0r16gbGpGDEEZ4PAYGY1VGZIAAMyLQM0WcEZ4+qtitvcH+iYAazWWidAaygTZhKFSJWvfisyVquGwPdaoWAP70xm2eerfvvM+Pyyeb9WIQ1bAJMZ4Ws1d7NPZPl5R/3PXvl9BmgXV2oycC21QjYwYAFMNNG5v+wb+sCJDEgCASQjUbAer98xPi2k3JIbixvaozESYlAmyqJosFyuF3Tq5dk64R4fDzpYvgyVmj6mR9zFvJvxqmm/wb7/mtaSLjPfTjz9YVh6rIFcAACAASURBVL+VRVkBkyyTpn1u7WMbdIppHjewRVAGwBRO769Tkl5Os7ycZUOuY5Q8AMABIFCzHZ4vnv+MBoY6JpMG26LoY/K5sgau6XO6tgbYqW/MF8bIRkfF804Ku9WvZaAkqZMd5GWhOCNLeU1vh4IHeZnUW5KuDd2pHdhva5pZ5mTty7ZdcBSfO6/JL0FtAEthBIh7NyE2nZUIANgvBGq2w1eL5z+r4wu6VtmzBtgqqWQvHD8Nz6Q+I3nw5rq99MLb9kY26gRvKu54hrSj1gm3lx30e2oCUL+XbeOyssBPu/IY40U1J/sXJ76+ocydWSDKaghsvZYpFxSrSuVfZvBnoKSJoDaApZgQeGG4bgDAwgjUbEhxkXKr+HEblDGHjQW2VC+4mAIoefBmJQ2wnZGNesGbgaDFFdnDLs9KpJxtXFS3F8q5Ytd6J+x5Js1spv77UtU/xglEvZSW/drQENs1o5isKpV/FcEf7l4DWBfn+yDPuvyDbctEBADsFgI1G2BcpPRGeKpt1gpsEXPUJ8+yT2LLUpeRBryhWNbrW5OP8tHrE2OVM4397Zavuwy2FMu/4wWOKkahKoNEnd+H9frK/bMydLQg+jgA2AdGeWWedfmEVtyTDQCw3wjUrJk18ov6gZovpM039gQmyocrjWpGGSov7B9KqyunKUtdysCKFyRw+tZ4810rgjdeOVMvm6Z83SPBlmAsO9tHKxDlBYmczJvLKsqzjP1b+pDdaR/vpqf3CEID2GH5aHrukN0AAEwVYozjc2FpQjMU999mk55TE5jJgzVn6K2AXRRCuKGmFOhmjPFiCkR0PttqynnuZdNOjV2sp8a9oxf05Xwp4PANSd/NMlHeUxMcuRpjfDUFIz5TE7S4qybo8qB2vrTOo3g8XPcpNX/TJ9ScqJ/JRgnpLK8mGHM3Pcb0s+DMN7pt6zUP/A6s7Vr73XkfFv29WPvD8Q7ArnG+Xx6qOYY+ijGSUQMAmBsZNev3HxfPf2kjewEsWboAz/u1HMnOqHFHNHPWW5V942SDXFZ/NKdOhsjA0Kttr5eXsvl6ZUBltkq5W+1/BvrjvJ2mvT1n89/ZXVsnE8i7yxuKR+n4O+FEtr5ez5v0s7l+LykTKC8XI0gDYKc4o+k9q3TslHQihPBMNj8lngCASQjUbIGRXhrATnA+x73hudNIULNG2UMjQdX2M1lwNKexMsOYbaMT5BloWHxFdo+a19SMEPWatX+zDTb78ZyxP1Y5VB4EGQsGfScbwSrX3vntNDH2th2Mocqzn50s5rusfrAsD+hxAQNgpzjfJeZonasq9QUA7DcCNet3vnj+tGQ2pQN2jvE5/qKY5W66UJ8ZulCvHUbaynYZGc3JGsr5QbG+dtl3BjJdqhsWW0GdgV4470n6zOkpczkLeFjBqV4wqAz8DPS3eT9N+2DoPZQzVLlzQdLeYW6DQb3gnQBgx5TfJel4mR9XH1jB6o3sLABg5xCoWb9Piueftv8hkwb7wPgct9kZeWPFJ4rHofXVDiPdKVXKf2yssxfwKU+gB7JsyuyXTnBqIIDSK0GyAkwVoznFtN3qZcvAz8B+995D533olbQ5r3vSSGAAsEuKnmhjzdd730UAAHgI1KxBCOG3sqc/LX78qYA9lYIJbaDmsREg6XQzt+42lqMdDc2br7O2bCrbRi813TgJN9eXB6cGyqt6JUhOz5xeDxcrw2dg2U6mTEXgxzLWZd4qabsvqc2WOp1edy+gE40hzSv2BwC22kDp6RXZpbAAALgI1KxYCCFK+pfpUZL+vpjlxpp3CVibEMJFHV+8nwohnEv/b3uhxGzeXrDESxt3erNYZTujZVO1AZ3a9aV5vfIqK1W+zIo5peNyoNNFZsuloWXT9LL8zGwmXDZBTutrR2P6PGuWbAWxrJK255WVQ6XGmmZGTfSHNAeAXVdmzvy+mmP6729gXwAAO4rhuVcohPCfS/rn2aTflvSX6pY/XRpqpgrsuhDCPTXBmvsxxtNpWmcI0zA8pHU7/ZGkI00fvnp0COkUhHhdTQDGLbGqXd+E7XpDg/f2J/SH3TbfM2c75VDj1pDdTxjTHln756zzoqT8WHZezTDs7VDsUceZNgCwV5zvq4vinA8AMAcyalbrr4vnfyPjTvSa9gVYu3Timg9XOjSEaWdoaKmXKfN+linT/t3cG8ueqQkMDPSjseatCdJUjfIxkqVTjrJkZf2UjXqtfRnrm9Dui9dguPNeZ+ss+9l4x7ZZ6Zu3jwCwJ9rvsXakwepRDgEAyBGoWa1/Wjz/T0dGiQH2WZu+1+tbkh57jRYHhsTOh3c+kqYFW8ydq2gwXGNKb5y03c5+W8s7AZ2qRr0Do1V1+uCkecsGw+Z7XW4i286303a+TX8GAAeoU9abjuftd9yD/PuAEaAAAEMI1KzW94vnbS8IhuLGQbCa4MrOvChHaXoyW74cdtsMMqT5lxYIqM2KSfPmjYXN3jFDigygqiybofehDKg4waBeH5w0bx48zvvbRKULDuf3Wj1SFgDsGysw7X0fTPl+AQAcJnrULFEI4Zk8rTWE8LuS/rdsln8SY/zj9e8ZsFllv5YQwg01mRo3Y4wXU+DgXrbIKaNHzUM1fVPcfjRL3F+zd4wzr9U7xl12nh431jrlvA9l7xhvu15fnhDCURH06fyuvH10XkP1+wgA+2DeY/eGdhcAsKXIqFmS1DD10/TYul3MVmYSAAehCBBY5TQ1ZTxtzX/16EsL7O/cI0YNLTvlLupYlo01zRuK29qulf1SjgQ1Vvo09t6v43cFANvEOHaXWaEcFwEAo8ioWYLUHLXX1d/LEljv3gHbx8rSsEaHStO9zI+qzJQJ+9RbX5ld4ixXtX9TRmmauI/ldsrRmKqyWqyRoGKMd4YyahbZbwDYd9ZIUPF4ZL9ZJuYm9xEAsJ3IqFmC1NU/f96WP50pZn1KwIFLJ65Pp6dnswbBp9K0U0bT2l6Pk1X3o0n/v14xcpPZl2Vk/+bq2WKts5yWyp3Ot2VPtXdvrUbnQ71sFt1vADgQnZGg0nH1sprg+Rs0FQYAWMioWYIQwn8t6X/MJv3TGOP/kn628N1oYJ9YmWaSzkrKhy09H2O85d2NXMH+LNRDoCbzJs1n9o+ZsK+jmSnendoJ+1j2qDEzhgAAw6zvMDXfL3fTY5R0mmA2AKBERs1y/Nvi+V+2/0nBmfMEaYAZK9PMGgmq1IkqhxDOlTPMc2eytv+Lt3zZ12Vgvt5Q41P2s6a/jTc0eG12kNQb9WnhYc8B4FBZI0GlH7XDeD/axH4BALYfGTVLEEL47yX9N9mk/zbG+N9tan+AbWb1QlFzstpm2XTuMFpZKE6Pm+qa/5peL960sdcylLUyb3bKlP425TYYeQkANmvKaHoAAEgEapaCpsHANEbDW6+RrZU23iuTUvP3ZwYjnGGpl9bEcWo5U20JUrHMpBKwsQbD3nzeNADAfMrvnKkBfgDAYaL0aTn+q+L5f7aRvQB2RAoWnJnYpyWmZW9Iupmm3Ywx3rKGQJX65UJFE8fLY+VHNeVJU17LlBKkYhv3Jb2fnr5fMSx2OdpUr+RqoIFyr7yKZpcAMJ31nWM1bt/U/gEAtheBmuX4n4rn/+tG9gLYIcXJaRkIeDLNk9f3v5MFIL6nJovme5IdjPD6teS7MLR/NT1hnNfirW9sf8aWnau/jdVvx7p4GOlvU/U+AABc+XfOu2q+w97d0L4AALYcgZrl+FLxnHpjYAIrSyb7WaeZrRVQsDJqBpoEX1E/8NOxSFBl4DVWNyhO+zDb5tRljW0PNQRuM5W8gM5S3wcAOBTWd87QcZVjLACgRaBmOW4Wz2+bcwEY0smS8QwEFHoZJ1aAomYUI6+UalG1IyhZWSyLjr6UvwYvYJXWfandxqIBIgA4dOWxOx1X25EN73mlugCAw0Yz4SWZ2lAUwLGhUY285r8hhGdijNez53ONqDSwPxsZKWkZ265tCFzbaJkGwwCwHAMjHzI6HwBghoyaJZmzOSqAvjD7j9835YakT9OjpGkZJ2Pp5ZvMJFl02xN765RNh810fC4YAGBpHui4X81jSQ9XlcUJANhdBGqWiM79wHyKUpwrWSmOVeZ0UdKFtOiFEMK5bD01WSRVgYxFS40WMe+2p/aUWWYfHADAuHSsfVvNsfY7WfnuS2mWl+hVAwAgUANgK4wEJ0I2n9t42FI0apwUyNhksGKebU8JtqyiDw4AoFpwptOTAABAjxoA26voXfNI0lHWu+ZcGaSp6bmyzF4222qsp8wme/AAwCHzjr/0OgQA5MioAbA1RjJcyqjy3fxJmSHiZc+sK2tk0dT1RZYfC7pQ5gQAmzFl5EIAwOEiUANgKzilOPfzWbxhTNNJ7mU1QZnLKaPEDUasOjCx6DCraxym1Uu9BwCsSLpRcKkYspvgOQBghtKnOYUQ/ijG+Fub3g9gHwykgj8r6ZNs1kuSPi/nVRNw6A3v7Q03vYL9P5kFkRYqK1pHWRKlTwCwOU5ZLqVPAIAZMmrmEEKIkl5LjwAWNHA38WYx621r3mLUqHeyVPLLaoIRbxRNhedOKy+XLbNfFr0zuo47q9y9BYDNsMpyQwhn1QRpJOmVEMLRxnYQALAVCNRMFEL4i+L5H21qX4B9MtA7pg2IPi6mW2U7XinPbPoiZUUT++BcmjeLZx19dLx9pDcCAKxOCpR/mJ5+lALlD9T9rnu4iX0DAGwPAjUTxRh/qXhO+ROwJE5mRxugiVKvH80b6W5kL2BSZNlcybJszOG5xwIUA9voZaakQM71RXrMrKmPTmcf19gbBwAOktU4OH2XvK3mu+Q7ZDkCAAjUVCizZmKMQdKfp0cAK2IFW4pZQjZfL2BS27CxJkAxso1Z9stQydW2cFLv3SDWwHq27rUBwDYbKT3lvBIAIIlmwqPyPjRtYMaaBmB1QgjnYoy3sudvSXpdzUnut7LpJ/OTXq+Z8LzNf2uaE6f1tY2NH0k62sa7o9Z7OKWZ5boaNQPAPlpmE3oAwP4ho2aA1Y8mhPCbxbT/cL17BRyWFDz4LD22XpP0VHqcKYI0vSG7rfmG7m4WpVFVGScVWUBbwckE6qTje8vOk30DADhmfA+VfWsAAAeMjJoRZNQAm5NGwridTTqjJsDcmRZjvGMsm2e2zIbsHtjWaDZObSaPN21Rq1hnsX7z9S06LwDAN/R9terjPgBgO5FRM8LqR5P+/6sEaYD1izF+ruNhu29aQZo0X2/I7pH1ltk43mhO54sgzVoa8K5jO1NGm1rHyFQAcICWMkohAGC3kVEzguwZYLNCCDckXVATlLm4aKbMhO2OZox4fQWW3b9lW/sXcKcXAJaj7BG2rcd9AMB6kFEzIITwW8Xzr29qX4BDlE5Un0pPTxu9UEaDp/Oe2NZkjFj9bVYxetLIKCFLVdtvhju9ALAcA0N2r+W4DwDYPgRqBsQYy2G5/3RT+wIcIutENU1re9TcLkqWjmrWWxuMqDkxLgM6U0+uawMe6yg1qt0XmgkDwPJ43xvpeH+JElMAODyUPlUIIXydIA2wOcUwpr0GwzHGO7VDS9cM2T00bZ59Hphna1Lbp+7LlMbKAIBxIYRzMcZb2fOlltECAHYHGTUVCNIAm1UMY/q5pKvp6dUUpDmrJkgjSa/kmTUhhHPZ/81MECuTZNHSnspsnK1JbZ+6L9adXsqhAGA+6WbDZ+mx/b66rOb76jKZiwBwWMioAbBznKGzexk1ZSPibNlZJoiVSaKm983aMl1qs1BWneEzcb7O72CbsoMAYJdYmaKSHmlC43wAwH4howbAThkYOvtVNSeybZDmopogjSRdaDNrnJ4yH6b5Psr64Kwt02VCYGSubJUpy1buS+9Or/U+Tt1PADhEVqZoOqZeUfM99A7HVAA4LARqCiGE/3PT+wDANxREiTHeyf5/Q9L99PR+Xvefs0bbSMuvvHlvtg+DKe2LNO9dQ+PfmG3npTTtJdL0AaBeuslw3uixNjq6IQBg/xCoyYQQoqR/nB4BbKmakTBS4KD9W37s9aMZygSx7mAuOwBRk+0yFJzaxNDeaZ3vp6cfGOvkGAoAE6TvgGvtd0GRufgGwW8AOCwEapIQwveL52TWAFsqnchenxrcsLJLvIyage32girWMjUn1VOyXawMn3UN7V3ul5U9Q5o+AMyn4ruArBoAODAEapIY4y8Wz//JpvYFgG/ohNYJdMxOcK3gTW3GySpGjJpjpKU8k2ZSSdMCTYi919J+f+Tv79rKxQBgXwx8N7WZi+8T/AaAw8KoT5m85CnGyN0LYEuVIzdl06pGIbJGNqoZ7WgVI0ZZI1gt8j5MXH7wNXvvYZrejkbySNIRFxEAsJj8mMxIegBw2MioSUIIv1M8//VN7QuAYWXmhpVdMtJ0eJGT3aVk6Hj7PWVHFslgWaQ3TlHmdIWLBwBYXPE9tdbRBwEA24WMmgwZNcDuCiG8J+kVNUObvppNr82UGcxqWUWGTrbtubNinHXOlSkzZX2LZAIBAOqEEI7yEQ0BAIeBjJpMCs78BkEaYLcUzW2/lmemVARpqkbWmJqhU3v3c9l9XRYdRapyG0N9go7m2nEAQEdN43wAwH4iUFOIMf7rTe8DgIWMBlqNYEx7LDyxjPVPtayU9kVHkXLW2Qv8eIGelNX0RXoEAMwpHc/fVHM8f5PhuQHgsBCoAbDzpvRMcTJOHqfHRwPLTR1tau0WGUXKMvSajT5BZ9WUnknSK2TWAMBCTur4xkCQ9OQG9wUAsGYHHagJIfyrTe8DgPmUwZGaDJGBpsNX1AQ33vGCFwNZJFVDcU95LYtYZinVWOCnNhNoWwJZALArYoyfS7qZnt6kTw0AHJaDDdSkxsG/kTcQBrAbvOBIRQaJF3h4TdJT6XFo+dHRppb1Wpx5q9a/zNFBhgI/RdZMuc2HaZ6FA1kAcGjS98v59PQcAW8AOCwHOepTCOH7kn4hm/R/xRh/c1P7A6De1NGXnHXMRtFIJTu3sx+fmXLn0hu1qXK0qerRl7xRlmpf87KVo2yl1/KFmj4/DyWdUZOu35nGELMAMG7R7yYAwG47yIyaGOMvFs8J0gA7YmoJUnkXshxFI6WXX00/vjr1RNjKOKnNIqntKeNl7qwrW8V4D3v9aCpKyBhNDwAqLfrdBADYbQeZUSPNSp8kzYblBrBD8kwSK5sjxvigzEIZycY5F2O8tYT9qs6SSfObmTLOfLPMnanbcdZZk/XjZfJ0Mmq8dXoZRwCAccv6bgIA7JaDzKgJIfxu8fwfb2pfAMzHCDB0hthOgYzLagIZb2SNgz9M831UZONcmzczpRgNaTBLphgtaupw2pfaYMfUEZ6MfR7NxhkZ9elVNQGxV73ls/1eSnNjADgki343AQB210EGamKM/6J4/seb2hcAK2UFb15M014IIZy0AjpDK3RKqToBDy84Uc47JdhSlmzlPxraX2ddVQGiilGfOqn48zZ5BgB0DR2naSwMAPvvYEufpCaThiANsPsqGtk+knSUlUOVJUS9+ZztVJdSOfs4VxNka9n0+qaUWM1dkrRoY+RNNTwGgF1mHadry2UBALvtIDNqWgRpgP2QMj/eT08/iDE+KJrbXmkDBWW2izdfybq7OSUjZmjeeYYVnyMbpyrrx9n+aJBlapNnAMCw8jg9pVwWALDbDjpQA2A/pJPXl9LTl9qTVy8Y4QQeBkuIRgIjU8qP5mpePhBYGVzfBk7sZ/vDRQUALKYI6pt91gAA++egS58A7Adv1KcJy85VQrSs0qd5TCk1Wkf6vLc/jPoEAMsxpVQXALDbyKgBsPOK8qV3iiBFL4ujdpQma1nj7uaU0qel3QmdUmq0jvR5b3/K0aoAAEvBnVYA2GNk1ADYG04mSSdrxMskqVm2drvO+paaUWNtZ2KGz0oyXRZ5HwEAw0IINyRdkHQzxnhx0/sDAFgNAjUA9tKUkaCcZecOqgwEg1ZeBrTs0ZymzGcst5LgFAAcohDCWUm3s0lnYox3NrU/AIDVOZjSpxDCn2x6HwCsXXuMO2H8zI1STy2Hyg2VFU0ZaWleyx7NaZFRm6aUhgEAhsUYP5d0NT29SpAGAPbXQQRqQghR0tfTI4DDE6XhXja9BYyAR03QYqwXzYINhKt6yUxopDx30GmiuUa6AgD0vCvpXnoEAOypvS99CiF8X9IvZJP+NMb4a5vaHwDrMTQ6xjylPLVlPGPzLVBGtOxRmqrWt0i5FqVPALA86Zh6V03wO0o6zTEVAPbT3mfUxBh/sXhOkAY4AEX2zJVitKbJJ7a1ZTwjZVNzlREte5SmKetbpFyL0icAWKqTOs5QDJKe3OC+AABWaO8DNZIUYwyS/jw9AjgsS/u7rw1aOGVTcwdblh3wmLq+JQRYOPYCwOIe6Li/2mM1jfIBAHto70ufpFmPGkmzoA2APTe17KZmiG1v2oR9WmhEpkW2XbuNZaL0CQCWK4TwnqRX1DQTfnXT+wMAWI29z6gJIfxO8fzXN7UvANZnStaIVZJUO23iPlVl5HjbWXaQY9VBE0qfAGB5UvD7pfT0a4uWwQIAthcZNQD22lhmipX1oaZUZ3TaKgIPRRPkh5LO7HqAY9WZOwBwCIaa5AMA9sveZ9RIs+DMbxCkAQ6PEaTpZKtYWR+109aw+3txzOJCAgAWN9QkHwCwXw4iowYApOGeKevoUVO7/CJDYgMA9lf6fviGpO/y/QAA+4tADYCDsslGjN4JthMQOoox3lnn/nn7so3rBIBDM1T6xHEWAPbLQZQ+AYA0O8l9MT19YZ5GjPM2b/SG5x5oWnx93qbFzvZH93vRZsnrWicAYDZMN8dZANhDBGoAHIxU3/9hevpRRQnSyeL53CfDVo8bK3jjBXQWUbPfK9ru0tcJAIeq6FHzjvc9ssFdBAAsCYEaAAdjytCmZXBjGSfD5fDcA02L5w4mGT+v2u9VNEue+loAAMNqvkc2uX8AgOWgRw2Ag1E7tKnXdHhVTX7Hhgv3Trxrm0pO6cuzzD4HU14LAGB+9KgBgP1CRg2AgzE0tGkI4aiYr3eHsryTucT9epD9v+ruaAqCXFYTBHnDy5SZ2pdnmSf63OkFAAAApiNQA+CgWMGWlHHyRXp050vTVx5smCMgFDpPsmDMlgRLwvgsAIB50EwYAPYPpU8ADk5RanRW0u3sx2c2MSz2PKxSrClDgK9h/yh9AoAV4jgLAPuJjBoAB6W88xhj/FzS1fTjq5sI0sw7SkeZeTPUOHgTJ+5D2TyMTAIAi0vH2bvp6T2CNACwHwjUADgYXiAjNdg9P9Zod+K2qgIRi6asz9PfZp1SEOlSkd1Dmj4ALEHKCr2Qnl7I+60BAHYXgRoAB8MLZKSAwbVlBQ5qAxHLGPK7tKqGx/NK78H1Ypjzy2pe82UyawBgftuQFQoAWD561AA4OPMOh72K9U0ZOnsdVj08t5rGwu0Q6Q/V9ATaeOYPAOyyEMIRQRoA2B9k1AA4OMssFzJ63lSvb+rQ2au27JIk671I095Ps3xAkAYAFkeQBgD2Cxk1AKD6TJLa7Jnau5vWyE1T9mdZVjlyiPGe3VWTWRMlnSZYAwCLIaMGAPYLGTUAoLpRkWqzZ8q+LMU6rKyZMLSddVhlI+JiXSd1/HqDpCeXtR0AOESphPaL9AgA2ANk1ABABS/jpOwxM5Jl85aa5sHfjTF+K83b6deiJnixksyWyte58kyeEMINNaOU3IwxXlzltgBgn6VRn25nk86QWQMAu4+MGgBw5NkvVsZJOkF+Jc3ySko997JsxkZ4Ct52rP1ZlTUEaU5Jeio9Pb3pvjwAAADAtiFQAwDqB0Gs8qNy6GtvWFRriOyBxrpX0rQrbZAkLXep6Fmz9nKoVVhliRUAHBqG5waA/USgBsDBK4MgQ9kvRmDhXUn30uMgJ4DTm1b2uKnIxtlFYXwWAMCYGOOrakqeXt30vgAAloMeNQAOWm3vmYnLdnrRLGl/zNGhds0qR5cCgEO17pECAQCrRUYNgIPm9J45JenFNMsLXgbLwLJzZ794pUFW5s0uovQJAJZrX0pjAQDHCNQAOHhG75nqYMIiy47olQbVrmuR0qg1NSzei6ATAGzanpbGAsDBo/QJABxpFKe5GjPOm4a+aGnQgmVXcy8LANiMmlJdAMBuIaMGAAxlQ99setXdynkzaaZm5OT7s8id1XXfleWuLwAsrrZUFwCwWwjUAEDBC1qsqw9AbWlQuT+LlF2ts3cM/RQAYDnSsfvD9PQj+n4BwH6g9AkADGUq+SpHK7LKpMZKp4b2J4RwLsZ4a1n7skyM+gQAy8MxFQD2Exk1AFCwUskXKUkama+XXVKTceLtTwowfZYeJ1v1CT6jPgHA8nBMBYD9REYNABis5oy1zXYnzNe7E6pmtKfqu6N5w+MQwllJt7Mfn8l+ttJMmakWadQMAOjatmM8AGAxZNQAQMHKqKlttjulKa91J3TK3dGy4XGM8XNJV9OPr2ZBmq3qCeM1agYAzIcgDQDsFwI1AFBYJIAyNp8TuAnFOkabCXsBoZT9cybLAnIDRxPKs5Y2isi6R5cCAAAAdg2BGgAwWMGS2tGYvPnKzJahoMXY3dGhgFBeUjTQy6Yqy2bZ2Tj0UwAAAACG0aMGABzzjMY0sC5zZI4UAHldTdBiMABUu49j89WOEpLm+0LSCUmPJB2tcqQrAAAAAGTUAIBp3tGYPF4mSW2WzsB6q4IdRcbNPFktRPUBAACANSCjBgAKyxiNaWDdG8kkmTc7aNGMn4F1jo6KBQCoQ5YiAOwXMmoAoDC1mfCUhrjrOJEOIRwVz81MIKfc6WQxz0IZP8b6aSYMAEu0bSP7AQAWR0YNADhqslC2LTskhPCepFfUDM/9am0/mrTsWl7LKrJ0AOAQTTnGAwB2B4EaAJjTtp0ghxDOSrqdTToTY7xTExhZ92shTR8AlsM7xnOcBYDdRekTAMxp3UNNILSlVwAAHbZJREFUV5QJPdBx098o6WG++NCC634tXDwAwHJYJaqUQwHAbiOjBgAmcMqhjmKMd+ZdvnK5qrKk8s7q1EwZ7sACwG5Lx/0vJJ1QE7A/w3EdAHYLGTUAUGlgyO7rNXct573DOdSAd6z5b8qU+TD9+KOxk3VO5gFgrwxmUwIAthMZNQBQobhD+UjSkSYM2b1oZovVg6Amy2bb+ugAAFavbCy/6f0BAExDRg0ATBelaX1dpmS2WJk3ZaZM7TDX6+49AwDYrPT98GJ6+kJFfzMAwJYhowYAKi0ysoaVkdMuky8/lAFjZNlU3zFdpPcMfWsAYLeEEG5IuiDpZozx4qb3BwAwDRk1ADBNr95/jiDGLEJeZs94GTDlfOu6Y8rIIQCwW0IIZ9UEaSTpQgjhaJP7AwCYjowaAKgwJdNlYB2dDJjadXrzeRk+xnarRoya8poBANuLHjUAsNvIqAGACrWZLq0yw8XKgBnqH1P835yv7Ftjbbu2l82U1wwA2HrvSrqXHgEAO4aMGgCYYEKmSy+DZZEeN7XzWduuzbwZWOdRjPHO1OUAAOtHNiQA7D4CNQCwgCnlTGn+pQVljGUWLs8y1jlX2RQAYHMofQKA3UbpEwDMaaCcyR2GuzJIU1VOVZoyBHiNRcqmAACbkY7dL6WnX+PYDQC7h0ANAMzJCowsOhqTFxypGX3J2/a8IzfRowYAdl5vpEIAwPYjUAMAc5raILiGtXxtZssiy2avqfNzr2ExAGA7pe+CK2q+C64QZAeA3UOgBgDmNHU0pgnr/ZakS+3yc5Q0ze6gTgkceZk3nOQDwG4hyA4Au41mwgCwoCmjIs0zclPtCB4jzYQH93EVjYgBAAAATEdGDQAsIAVVrtf0f5nQZ6ZTqlSbFePNV7OPI8tO7m8DAAAAYD5k1ADAnKZkodRmxaR535L0upqAybey6ZOH9p6yXWfZLySdkPRQ0hkyawBgN5ANCQC7i4waAJjTlCyUOZoM90bqqD3hzuebut2BnzNyCADsCLIhAWC3kVEDAAuakoVi3eFcRxbLvHdWveyeVeDuLwAsjmxIANh9ZNQAwIKmZKEYQZqhu55Ly2KZ9yR9XSOHcPcXAFaCbEgA2EEEagBgiVKp0RU1pUZXRvrBeI2DzeVDCCdXuOuuVd+Jtd6HVW4PAPZZ+h55Pz19n2waANg9BGoAYMlS9sklKwslD0J4/WOsLJZNZpyEEI5Wuf45+vcAABwp+P1SevoSwW8A2D0EagBgybzhsAeCLYMlUpvMOAkhvCfpi/S4MusqsQKAA0MzSgDYQTQTBoAl8obDtqarCdAsNGT3KoUQzkq6nU06E2O8s45tAwDmt4nvDADA8pBRAwBLNFDO1Ju+jCG7rbKkZWXcxBg/l3Q1Pb1KkAYAdgNZigCw2wjUAMBqWOVM3onz4KgcXumTVZY0pZeNFdApp8UYX1WTSfPq2PoWtepeOABwSOj3BQC7i0ANACzRWD+ZeXrPWJk3qSzplTTLKyGEo6H1leu2AjpekGcdmTTr6oUDAAAAbDsCNQCwRFPKmdK8H6anH43M28nGscqSvG2XAZgU0HlTTUDnD0IIJ9O0y2naG2tuWNwLOq1r2wAAAMC2oZkwAKxACOHkWNq513h44naOyoyXfNtOE+NTKpoES3ok6QtJJ9L/j9aVNp/28V426RQp+wAAADhUZNQAwArUBBrmaCZsraNXlpSvx2li7GXjXEnzXdlAoORR8SiJvjUAAAA4PGTUAMCGWdk3tdMW3MZgNs46hRBuSLog6WaM8WKa9p6akqir62hmDAAAAGwDMmoAYMOMAEp1o995t5GmDWbjrEvqUXMhPb2QGiPTtwYAAAAHiYwaANiwip4yoZy2Tz1cUlCm7JnzRDltHaNPAQAAAJtGRg0AbFCZKWONBLWMXjZb7oGk9q5BlPQw9dG5mabdzIM06xyRCgD2DcdQANh+BGoAYENS9sw31GTKvJ4Nk/1imuWF9oS6HJ57ZL07dRKeAlE/SE9/EGN8kN6HvBzqpLR4CRgAHDKOoQCwGwjUAMCGOCMyudkzNZk03kn4NgdvnODUmWK2p6zA1hp3EwB2GsdQANgd9KgBgA1bZNSnsf42KTvlLTUn59+tycjZhHKEp/Ra7mWznEqv5Z6kU5LuxxhPZ8tvZLQqANgl6fvgdTU3Arby+wAAQEYNAGycMyLT5JGgrGycqXdQN3GHNe3jy+npy9k+PMofQwgX1QRpJOlUCOFcmk4qPwDUC70JZNcAwFYhowYAtlwKZHwh6YSaoMWRBkaCCiEcFc13zTuoZRbKpjJvrFGfYox3rP0OITxW89pjjPEJ670hswYA+tLx8q6aY+hjSU/tStYlABwaAjUAsOWKYMRDNYGMB2W5UJrXPOEeC8p4ZVPreYVSCOGhUrAlxvhkmnZDTUPhmzHGiymj5nq22Hk15VG9C4917TcA7AorKK4mwN37ftnA7gEAMpQ+AcCWSyVNV9QEJN7JSppeSrN8LRsxarTMyZpvqInxqlPiUwDmRHp6IoRwLk3LR306p+ZiIne3XFWxXlL5ASCJMX4u6Wp6ejXLvGyvB07k87flpQCA9SNQAwA7wBmeu3Ny7QVbanrZeNtYU/+XXgAmxnhDWY+aGOMtHQduWk+nx8ftfO0P6FsDAKZ31WQivmv8bJZmnzIaP0uPAIA1o/QJAHaQ12sg/Wx0JKhyvmy9s/426yqHcnrwnJLdt8YqkbJGjKJvDQBkiu+NqObYHlSMsCfprIoy0xQsBwCsCRk1ALC72kySTsQ9D0oMlTQZQZr3JH2RHgeXXaaitOuKt510kfEwPX2QlXtZI0a1Kfx8zwFA46SOS0SDpCdlZCqmjMb76fl9gjQAsH6cwALADqoNbiSvSXoqPc7kPVxSk8lX0tNXQghHaTtWydWq5D1mytfzML3mti/NvfSarQuPvDdNOw0A0NcrPU0B8Lxv2GC/r/b7AgCwPARqAGBHeUGUmgCM0bfGazLZy7xZtoEmyG3PmYfZa8kbDE++OOCCAgA6ekHx9HiieDSVmZgAgOUgUAMAO8woXyqb6D7QcWnUY0kPa0eHGrOsUZWsEitrpCt1M2WkfvbM0DQuKAAcOvPYqO53hNQM2517qv1PCOGZ7P/mjYD0M4LiALAAAjUAsCcGht1+W03A4ztZEKQTGBk64Xa2tdRRlazsoPT/S9k0a3hu626wlco/6fUBwAFqy0itY61CCPckfZoeJScbh6A4ACyOQA0A7Ikpw26n/z/XTkulTzfTj2/mpU+lZWXkGPtvZQddL4YV/3Z6fd8eKMmy7hp76f3c+QVwKMwAjLp9viTjGBpCeFbNiFCSdCpl1vQyb0aybJbyXQEAh4BADQDsEa9vjTPC02ftHc8UfGnT208PnVCvYzSokWBQ3nTYS+Uvman8Q3d+CeAAOADWsdEKbHujQ83EGG+loH/bX+xRG/T3sjBDCOcW2XkA2FcEagBgz4wFTqw7nnMGX8L4LPNxyrOs0q4b6mYC3ZIdvJlUDkXqPoA91Ds2OkNxW8fQm8W02ynLZiaE8EwI4aK6I0adS8fub6o5dn+zDbyHEG6ouWHQCfgAAKQQYxyfCwCwN9JJ871s0qk2MJOCH2X2TWdaWv4zNSfdd9Vk8LjLO/sw13zpbuzraoI338qmn0sXGObrk3RR0ifZtEuSzkv6UTbt+RjjxymAczubfia7K1y13wCwjVJQ5IKawPZF53h5VtL1bNr5NE/NcTUayz5VM192DOc4C+DgkVEDAIfpUfFostLVU7ZLW2J0MgvSVDUYntKIuDxZHyjtulUs2hnaW/WNiOVNX3YDZQBYpxSUeTo9fTpltlilT9bxsrZEysrG6ZVNDeyjVyJFfxsAB4VADQAcmGLo6yteoCWd1F9WkzlzOUtXf1bd1PZnahsMF+t8Y56T77E7rc7Q3pZeKr+3Ti91P/2MCwgAu+KJ4rE22GKpGnVP0k+LaTesZQdKpNwgOT1uAOwrSp8A4EDl6eVWOZOaHjRfqAnKPFRTAtTO/zBNfxRjfDJNe09Nz5erMcZXs+0cZaVDp9L6g5rU99OrSnEvXl+vnCm91l7qfQpElWn6T5bTYoztiFTfkPTdMssHALZJcfx9rCYrJui4pCmqOS7Wlj4FY5q17GP1j7/PSPrbbNpzafqPsmnPS/r7chvZcb1TxpW9ztl3TjaNcioAO4WMGgA4UPlJq9W8N017P83yQRHUmQkhnEzTXkyTXsjuhA415V3pnYLipPxBtr3Hkh46TTSl+kaaZsaRxIhRALbW4/SYH38f5T+zjo3p++BqmnY1HV+tcijr+GmOumewMnReKqZ9RZJS0+K2pOpCm1ljfecw4hSAXUSgBgAgqd//xQu+JJ30+XQS344C9UQapckdVSlZ2ahRpbR/P0hPf5iNIjUL3mSvz0rd93osnCge3eAUJVIANskqe7WmWcdG6/vAGnUvxnhN3SDPddkBGGuaFdCZUqLa+85J+/2mmoD6m2MjThG8AbAtCNQAAGbGsmysRaTZ3c020+ZUOtmt7XOwcs5Fhvf6rECN5UvF84tecIpGxADWzQo6WA3Zy2kDGZa942UqObqUlx7puHzpR2meXkBHdgDmo2La3w28PCuo8+Vi2pfUfA+1NwWCpCcHsnG84A0ZkgDWjh41AIBBZb2/1WdG8/U0WGmPmtLA0N7W8OOd3jxp30d73KRlrPfB7MsTQngm3XHO95NeCgAW4vVvmbiO3rHIOF52+nRZ/cCyHmXnsiG4reOs1fOmd+yNMd4JIbyofj+bszrOnJSkF9Qce8ueY0fq98d5ILtnmdd7zXpvZq8PABZFRg0AwJVOwq8bmSCP80fnjulY/4KgNWbZDAztXQ4B3hs1Ksb4ubqvr9OoMuONoNK5oytJIYR7kj5Nj0rTyLwBsBAvY2QqK2BsBLXL0f7yfmBRzTGwXfZW9n9rdL4pWZhWRo41zVpn1fDjUzIkycYBsGwEagAAJm/IbW94b0nfU3M39HtpPit4457Er8PETJVZD530XrR9ac4O9JvplUOZK25GlspLxQaHOKe/DYBaA43Sl70dr0Tq7TTt7aFjrlFy9bm6DYvvDATJrWBLbaDGUhu86Q0hPqWxcZpuBs44zgPIUfoEAHB55ULpZ+Xw3m0a+yNJR155j5dKvi0Ghiovy72scqgnjGnPqZ+iH1Sk3scYr4UQZl/KMcaQ9sccAtwqmwIA6xi2ynLKmhKpieubldt6r2VgqPHO95Dqj9O1pazn1C+b+qJmG6lkyxtS3DvO94YaB3AYyKgBALi8cqH0M+8kfBZsSCefH7cp4iMjSW2FgSbDbblXO5Rtb8hvZ5XWndretBDCL+QTQghfte7epp/1yqYAQJodw9om6PdW3fNqrERqjvXdyf5f09Q+ZPO2wZHbA/tgZdlY014opv2Msz5rVECr2byXeeMd572MnK+WO2CVWFF2Bew2AjUAgEE1J9xWvwGrlKfypHvjnFFQrqjbtyZP8f9Oei1W8KZ2FKn3i+c/lp163yuban+Y/z9nBcS2MUgGYHGpt0oeENjpC/aBGwad4PmE1117TK4dhaoqGC+7b5tkBHoG+uNESR/k2ZdWQGdK2RXfBcB2IlADAFiKmiFerfm2ldFkuHZY207wxumxYJ3EL9JLwc2ycRpf0rQY2CP5xXY65rSZf4/2oXRmQtN3q8dNZ5qMgEmM8Zq679l11ffBGWucLzXHc6vZvJx5e9OcrMteQGcgyNNreOx9F6QbAiqmzdWUGsB8CNQAAJamJrhhzbcrJqT4jzUitk7MrZN9K/XeOoE3s2ycxpdmmn2a37rbysk5sMXKi+1UYnMi/fjEvv4NO8HzV9X0g3l1YJpVenoqn5BlgOZBngeyj9OLZtRYARyrMb0VJPpyMe1LsjN0emVXAyVXDyV9kh6VpnmjWpXbb6db3yVWeRbZPICDQA0AYKV2NSgzj6GRm9pZ0qNVImWdhP9VMe1Hzqa9bByrd4J5seDcbfVOzq27rZyEA2vmHHO8zI294wTPexlERt+bb6sJnnzbWEeU3J5q1nHaCspYv4OfFtNuaJrabdfeCHipmPaVEMLz6gb5nh3orfNY0k/S44zzXWKVZ03J5qF8FweHQA0AAEsyMFztFWXDmTslUtbdW+k4HX9SmvzAvLV3W72Tc+tu65STcKsRZq+3zq731QDWwWoc7JT7IDOhD5l1PLeCPOVxOg/GxzQ9D97EbF4r2GL1x7GCLVZAyAroWD4unv/UWZ+VgfSijm88hDazxvkuscqzpmTzVJfvWhk+TpCn+sYCASFsCoEaAACWqKaXjTXNunvrXDxcU3YBEGO8HmP8sJjWnoDX3tX1UvI7nLutU07CrUaYvd46XiPM9LOqZphO8IcTbuwU57N9Lvu/10D3XUn30iMM8/Qhs6ZVNJt/O9vW7NiX8TKgYvG47Iwai7WsVYZV25DZW2evZMv5fqku37UyfJwgz5QbC1OyfqpuONRmB+1rySLqEagBAGDJanvZ5NNqmy+nC7P8TmZ7IviD4lGqP4mvPbG3Lihqh6a1GmH2eutYgZ9smapmmE7wxzvhtk6uGRkFK1Vzl9/5bJvliMVyYyWYcMxz7E7Pq4I8KkaqSsYayceB+axpVkDHytCxjt2WKf12ar9Lar+brD5t1vdLL8OnCOi8mYI8U24sTMn6qbrhUJsd5P2dL5KR6gV+auedkoVUg+PSOAI1AABsiZrmy1ZZw0Bwo3a48NpUeUttfwZr+PHqXhpOSr11t9UK/vRO2NM6rZPrKSOjLHQy6yxfFTiasL6579Ra+zIwb9VJ94T3bJFpi+xLdfnDvHfGa+7yp8/sZTWf2TfSZ9sqR7RGMDKDvlitymD8FWWZN2m6V6rWBnXaY3ivnCrGeEPdUQVvVZRnPUrbtTIxazMuvWO3NW9tRo5VilWbRTQWTAppX6r7tlnzBjvrp+qGg/N9ZU3zyo7nzkgdCPxUzVsbdErTrWyjZ4vnU75TD3aQAwI1AABskZqLKmMUE6sfQnth0GbY/DBLyc9P7B84J/s/KbZ5TfWBldrMm6oeOunRmm5NGxs+N0h6yjm59oJBb6of5Fn0ZNZavipwlKaXF/+12UZVo7dY++KpPWGf8J4tMq0qc2piQK72Lvjo+219nqyLuvT/9oKwzbCwLijNIKsX9MVmDQTjO8f0it5mb2eBnotpnReLzYVs/b31pR+9raZE7u18d4rHKcH9RfrtWAGd2vlqv0us/bPWJ2edtUEra51VI3RZ2w0LZKQOBH6q5q0NOqV1WtlGnWkDy1YNaOB9h+2jEKNVKgkAAHZJujh8Xc0d9LzvzWdqTojuSjqv5sQuz5g5097BDSGcizHeSv8/W86n5k5se+Ee03rPSrqezXdezQVmOe0pSZ9k0y5Jum9s43S5bIzxlrM/z0j622zac+mx3M6/p25J2AuSPjXW95y6I2s9r+b9G91HNXe/h94vSToVY3yQToZr3p9YzpfeixtqTqZvxhgvOuu7V25bxu8qre+xmou6GGN8Il0AdPYlxnhdagIe7f/T81NqPlsh7e/p9BofqvkcPIoxPunso/WePbHANO/9vpde//0Y4+na9yst23t96f/le2tNs/42qj4nai7sys/Dk8a0z8v9I4Nmf4SmV9mDsWnFz3vH/Xb+fFnn+yGo4vOe/jbeU3MBf7UNMKV1Dv1tDP0N9b6bZP9tWH9X59T/LvgHkv4sm/aLaoIq5XfBXRnHu9CUU/0om/582u9yOxdq1injeJ6ml9uwvnOs9+FZY19kbPeonC/GeC2E8PPGft8y9tE6Zv2ssewjY39OGtPOqP+a7xjbtc4jetPac5Z9REYNAAB7wOmRYI1a4o4Ik5/wWPPF7shUP0gn/FVp6Ckj5356fj9d7E8Zwaq2z0Ht3V/rjuciaf/WfNYdVE/VOp27o7UNQHvbCPboLWajUCfL5mS+vJq7v73yANVnVFnvQ+37bfWu6N111vSeG53Xp8q+TBO2Y62v95qdvyHssdqeOcXP3dK3mr5o6vfRMY/JRmbnbNX5Y1GK1WYCjfXlcdcn+2/jJ9n+PooxXosx/nlnJTH+paaV+dZ+lyzyd26tr/Z4bqnOunOmW8tb06wsqZ8ppn1JxmtJJXczqeSuquG06vsq7QUCNQAA7AnnpN4K4Hgn2OWynfmCMTJV+n85NG0+LW+a+Ydq7gr+YVr/DXUvPG+li9H8hPt6mteaXnsBb52Q1p6k1gaTapt6ytmOxQocWaqG1NUCFwpOwEPOOq1tW6/Fmq/25Ly2N1LtZ8Qr66u9oKwtf1hkv6XibyixGtTigNWWvpXzWX10RoL71tDvvc9j5f6YJbwT5rui5m/jijT7vpp9N6Vsot73iPedo/ogSu/Y5gQjrB48cwdunWkW7/tmkZHArOP03xTT/s5aWbo5kD//supHqKzua7cPCNQAALDnnACOdYJtLZuflFsZOt7QtO20K1kJSWckmjRt1uw4m9aefD0I3RE4ZruSTro/V7e3zh0ZJ9dFJtBVLxPIOWG3TtZr7+pNuWtcm5GzyB3F2ju/tcGNKeus7SFhXcxY+2Otr3bI4Nq7xnK2vUiDU4t3EdZpBG79DVl/f842cGBqPwvlfAsG993PY7EdqzGyN6R5J/BjzRe6zbcvh35T7yDNvkc63y9pWntNHNplre+N6Ddv7sxnBYmc98vqBWcdA2sDvNaxyQtu1N4IsCxyDKwNatdmXO4tAjUAAKCacxI/Om0gyDM6zdiN/KS7DVSc9TJ8ajOBrJP4FAzKs37uyDiRtlLv5WfUWHdgreWtE/baQEZ+ghzlnzTXnqxPOalf5CS+tqGopTbTyXotU7KfaoNbVjDQKin0ygytRuC9v43a7Amg1oLB/dHPoxeUqcnwqdhGNJa9MvA3lJc3PqEUUPe+N2LRvDnN91Ka72vZ90t7nd2WgVqZimfzCVkj8bJ8zDpGWBmpvWlyAsZOplRt5qNVfmbto1WuaW2jV0qVvhPzUcmGvlP3EoEaAAAwiXMSPzpt3iBPmuaNWtIKxnzveCfntfOlE+m85OcoGiNnpf9fUZZ6L7+3gzd8bmf5gflmb0uar6qfkHOHuLcNJzhl3sl0Lha8/SlfS77O9q661WvCmmbd2bam9S4UBt6HMutKsjO0rIshqb4EsCc2mQrn40iZoXeB6gQ0gY2o+TzWfpZr5psS0DGCQWZp19BNg+g3sA3Z/8sSMCuLaGxo9vy48a6a74d3pdkxwspI7UzTcKC7s07n+8A6rlrZrGbmVYzxtJoGzaez7Xp9jO61202vpT3O3ssyCK3v3v0UY+Qf//jHP/7xj3/824l/kk4Wz99SM2LEW0PzLTJN0ntqTijfS8/PpuftvyM1wZy76fmddh3lst52vOWN+Xrbzt6Hu+37kNb3OM3zWE3QqM0YimouGqq3UazvUfb68nU+zKZ39qd2H7N5nzXer2eL571tpOnnjGWfGXqvvX2xXvfA77r3WSyn1f7+hj7b/OMf/+x/Mo7nE5Y9mnedNX/73jRr28ZxY5FjThu8af+dHFqn95rz4+rQshXvlfk9pCazJqrJMPVei3n83Nd/DM8NAAB22thwtUvaxlHMUv+doWl7Q6Rbyw5sw1zemK+z7dph2NUEGr5QGjZbzUmu+b452+gtW0xve9kEY3+8aVX7Y+yfOwRx5fKd99oa/j3GeGfgdXu/69HhlGt+f+386/hsA1hc7VDqtX/TxnFjkWOOt2zVd46zf0tbNo1maA67PXb8nLLdXUOgBgAAYA5WAGbRC+sJJ/Fl4Kh30jwlmDTvNga2Pfe0Wossm5avugCYcoE0YdtV7y0AtBY85pjLrmKd8ywbQrihpsH8zZj6/wwsW3XzY9cRqAEAANgDzp3VpQaTppzsL/sO85T9mZd3AbCmrC2yZwAcrBDCuej3/zk4BGoAAAAAAAC2BKM+AQAAAAAAbAkCNQAAAAAAAFuCQA0AAAAAAMCWIFADAAAAAACwJQjUAAAAAAAAbAkCNQAAAAAAAFuCQA0AAAAAAMCWIFADAAAAAACwJQjUAAAAAAAAbAkCNQAAAAAAAFuCQA0AAAAAAMCWIFADAAAAAACwJQjUAAAAAAAAbAkCNQAAAAAAAFuCQA0AAAAAAMCWIFADAAAAAACwJf5/V5hfcdXoVHsAAAAASUVORK5CYII=)"
      ]
    },
    {
      "cell_type": "markdown",
      "metadata": {
        "id": "wGomgIXt7tQ1",
        "colab_type": "text"
      },
      "source": [
        "# **Bifurcations and chaotic behavior in spiking neuron models**\n"
      ]
    },
    {
      "cell_type": "markdown",
      "metadata": {
        "id": "6I3-aTbInO_U",
        "colab_type": "text"
      },
      "source": [
        "In this notebook, we're going to look into the dynamical development of the AdEx (Brette & Gerstner, 2005) and the Izhikevich (Izhikevich, 2003) neuron models. We will look for long-term development and attractors in the spiking behavior of these neurons, plotting the neuron's adaption current $w$ during spikes for different parameter settings of the neuron. Through these plots, we can investigate the bifurcation processes and detect chaotic spiking behavior in our neuron models.\n",
        "\n",
        "In order to simulate the neurons, we will work with the brian2 toolbox (Stimberg, Brette, & Goodman, 2019). As you might know from previous notebooks, working with brian2 can get a little bit tricky at some points (if your rather used to the standard Python workflow), but we will try to explain what it is doing for all the relevant steps.\n",
        "\n",
        "In the first part of this notebook, we will go through a simple neuron simulation step by step and plot our results. For this, we can build on an example of the AdEx model given in the brian2 documentation (Stimberg, Brette, Goodman, Yger, & Beroux, n.d.).\n",
        "\n",
        "After that, we will give an interactive version of the implementation, where you will be able to create bifurcation plots at different parameter levels. We will first give an adjustable version of the AdEx model to play around, and then build a similar setup for the Izihkevich model, allowing us to replicate findings from Nobukawa, Nishimura, Yamanishi & Liu (2015).\n",
        "\n",
        "**Please use the above link to open the file in Google Colab in order to run this notebook simply and interactively.**"
      ]
    },
    {
      "cell_type": "markdown",
      "metadata": {
        "id": "lek-1Qf1UshP",
        "colab_type": "text"
      },
      "source": [
        "## Installs/Imports"
      ]
    },
    {
      "cell_type": "markdown",
      "metadata": {
        "id": "Wk-YCnvrUze7",
        "colab_type": "text"
      },
      "source": [
        "First, we have to install brian2, as it is not by default installed on Google Colab's runtime. This will only take some seconds."
      ]
    },
    {
      "cell_type": "code",
      "metadata": {
        "id": "bBqWdxbR_rAI",
        "colab_type": "code",
        "colab": {
          "base_uri": "https://localhost:8080/",
          "height": 461
        },
        "outputId": "0fd9c711-ca78-44e6-ad69-821f2aa29385"
      },
      "source": [
        "!pip install brian2"
      ],
      "execution_count": 32,
      "outputs": [
        {
          "output_type": "stream",
          "text": [
            "Collecting brian2\n",
            "\u001b[?25l  Downloading https://files.pythonhosted.org/packages/97/16/eda80475d70da06d59cee1a39192ee117f970eaf18adbf5fa2c926db1713/Brian2-2.3.0.2.tar.gz (1.6MB)\n",
            "\u001b[K     |████████████████████████████████| 1.6MB 2.8MB/s \n",
            "\u001b[?25hRequirement already satisfied: numpy>=1.10 in /usr/local/lib/python3.6/dist-packages (from brian2) (1.18.5)\n",
            "Requirement already satisfied: cython>=0.29 in /usr/local/lib/python3.6/dist-packages (from brian2) (0.29.21)\n",
            "Collecting sympy>=1.2\n",
            "\u001b[?25l  Downloading https://files.pythonhosted.org/packages/e0/1f/8cbbf698e853019ac3dc5d60ca8f6be4ace4542b2f05f7b62949617fc98e/sympy-1.6.2-py3-none-any.whl (5.8MB)\n",
            "\u001b[K     |████████████████████████████████| 5.8MB 20.8MB/s \n",
            "\u001b[?25hRequirement already satisfied: pyparsing in /usr/local/lib/python3.6/dist-packages (from brian2) (2.4.7)\n",
            "Requirement already satisfied: jinja2>=2.7 in /usr/local/lib/python3.6/dist-packages (from brian2) (2.11.2)\n",
            "Requirement already satisfied: setuptools>=24 in /usr/local/lib/python3.6/dist-packages (from brian2) (49.2.0)\n",
            "Requirement already satisfied: future in /usr/local/lib/python3.6/dist-packages (from brian2) (0.16.0)\n",
            "Requirement already satisfied: mpmath>=0.19 in /usr/local/lib/python3.6/dist-packages (from sympy>=1.2->brian2) (1.1.0)\n",
            "Requirement already satisfied: MarkupSafe>=0.23 in /usr/local/lib/python3.6/dist-packages (from jinja2>=2.7->brian2) (1.1.1)\n",
            "Building wheels for collected packages: brian2\n",
            "  Building wheel for brian2 (setup.py) ... \u001b[?25l\u001b[?25hdone\n",
            "  Created wheel for brian2: filename=Brian2-2.3.0.2-cp36-cp36m-linux_x86_64.whl size=1283458 sha256=887fffef13e913d2a41ad556361932b09e804438d1f75ab90be3aa7eec2b095c\n",
            "  Stored in directory: /root/.cache/pip/wheels/86/b5/f6/0c8f9eec58c01e4af55a4c79a5e0385aea01ed03e4ec36c4ac\n",
            "Successfully built brian2\n",
            "Installing collected packages: sympy, brian2\n",
            "  Found existing installation: sympy 1.1.1\n",
            "    Uninstalling sympy-1.1.1:\n",
            "      Successfully uninstalled sympy-1.1.1\n",
            "Successfully installed brian2-2.3.0.2 sympy-1.6.2\n"
          ],
          "name": "stdout"
        }
      ]
    },
    {
      "cell_type": "markdown",
      "metadata": {
        "id": "2HDWu13JU8tr",
        "colab_type": "text"
      },
      "source": [
        "Then we import all the brian2 units and functions used for our simulation, as well as matplotlib and ipywidgets for visualization."
      ]
    },
    {
      "cell_type": "code",
      "metadata": {
        "id": "l-sIEWs0_biO",
        "colab_type": "code",
        "colab": {
          "base_uri": "https://localhost:8080/",
          "height": 74
        },
        "outputId": "de70d1bd-0a4c-4198-fafc-d8138020ec11"
      },
      "source": [
        "# import the units and functions that we will use from brian2\n",
        "from brian2 import (second, ms, volt, mV, nA, pF, nS)\n",
        "from brian2 import (NeuronGroup, start_scope, defaultclock, run,\n",
        "                    StateMonitor, SpikeMonitor, linspace, int_)\n",
        "\n",
        "# import matplotlib and ipywidgets for visualization\n",
        "import matplotlib.pyplot as plt\n",
        "import ipywidgets as widgets\n",
        "from ipywidgets import interact, interactive, fixed, HBox, VBox, IntSlider, FloatSlider, FloatRangeSlider"
      ],
      "execution_count": 33,
      "outputs": [
        {
          "output_type": "stream",
          "text": [
            "/usr/local/lib/python3.6/dist-packages/setuptools/distutils_patch.py:26: UserWarning: Distutils was imported before Setuptools. This usage is discouraged and may exhibit undesirable behaviors or errors. Please use Setuptools' objects directly or at least import Setuptools first.\n",
            "  \"Distutils was imported before Setuptools. This usage is discouraged \"\n"
          ],
          "name": "stderr"
        }
      ]
    },
    {
      "cell_type": "markdown",
      "metadata": {
        "id": "tG-5WJET-K-t",
        "colab_type": "text"
      },
      "source": [
        "## Examine Bifurcation processes for Neurons"
      ]
    },
    {
      "cell_type": "markdown",
      "metadata": {
        "id": "y3fdKHzpMRBf",
        "colab_type": "text"
      },
      "source": [
        "First, we're going to define our model in a brian2-compatible way.\n",
        "As you might have read in earlier tutorials, we do this by defining strings of differential equations.For this tutorial, we're going to use the \"*adaptive exponential integrate-and-fire neuron*\" (AdEx) model (Brette & Gerstner, 2005). It can be described by the following two differential equations, modelling the membrane potential $vm$ and the neuron's adaption current $w$:\n",
        "\n",
        "$dvm/dt=\\frac{g_L*(E_L-vm)+g_L*\\Delta_T*exp^{\\frac{vm-V_T}{\\Delta_T}}+I-w}{C}$\n",
        "\n",
        "$dw/dt=\\frac{a*(vm-E_L)-w}{\\tau_w}$\n",
        "\n",
        "In these functions, $I$ describes the input current, $C$ the membrane capacitance, $g_L$ the leak conductance, $E_L$ the leak reversal potential, $V_T$ the threshold, $\\Delta_T$ the slope factor, $a$ the adaption coupling parameter and $\\tau_w$ the adaption time constant.\n",
        "\n",
        "For better visualization, we will record spiking thresholds at $vm > Vcut$ with $Vcut = V_T + 5*\\Delta_T$. If this spiking threshold is reached, the membrane potential will be reset to the resting potential $vm = V_r$ and some fixed value $b$ will be added to the post-spike neuron current $w = w + b$."
      ]
    },
    {
      "cell_type": "code",
      "metadata": {
        "id": "wfg9hQMqMRY-",
        "colab_type": "code",
        "colab": {}
      },
      "source": [
        "model = \"\"\"\n",
        "dvm/dt=(gL*(EL-vm)+gL*DeltaT*exp((vm-VT)/DeltaT)+I-w)/C : volt\n",
        "dw/dt=(a*(vm-EL)-w)/tauw : amp\n",
        "Vr:volt\n",
        "\"\"\"\n",
        "threshold = 'vm > Vcut'\n",
        "reset = \"vm = Vr; w += b\""
      ],
      "execution_count": null,
      "outputs": []
    },
    {
      "cell_type": "markdown",
      "metadata": {
        "id": "H0pyJK_XNUZw",
        "colab_type": "text"
      },
      "source": [
        "Next, we're going to define the precise values for the parameters used in our model. These are mostly standard values considered for the AdEx model. however, you will be able to play around with them later in this notebook.\n",
        "These parameters will be later taken as a reference when the actual Neuron Group is instantiated."
      ]
    },
    {
      "cell_type": "code",
      "metadata": {
        "id": "a7waThZRNsJk",
        "colab_type": "code",
        "colab": {}
      },
      "source": [
        "C = 281*pF\n",
        "gL = 30*nS\n",
        "EL = -70.6*mV\n",
        "VT = -50.4*mV\n",
        "DeltaT = 2*mV\n",
        "tauw = 40*ms\n",
        "a = 4*nS\n",
        "b = 0.08*nA\n",
        "I = .8*nA\n",
        "Vcut = VT + 5*DeltaT"
      ],
      "execution_count": null,
      "outputs": []
    },
    {
      "cell_type": "markdown",
      "metadata": {
        "id": "vvwfZFypNsRg",
        "colab_type": "text"
      },
      "source": [
        "Now, it's time to do the simulation.\n",
        "We start a new brian2 scope, define a group of neurons following our model from above, and then run it.\n",
        "\n",
        "After defining the neuron model, we have to set initial values for our current `w` and our membrane potential `vm`. We also alter the resting voltage `Vr` to which our neurons get set back after spiking between the neurons in our neuron group.\n",
        "This resting voltage is the parameter which we want to investigate in this example, as we expect complex behavior to emerge when changing this variable. For each neuron in our neuron group of 200 AdEx neurons, we slightly alter the resting voltage over a linearly spaced interval between [-48.3 mV and -47.7 mV]. This will allow us to inspect the resulting changes in spiking behavior and the associated adaption current during a spike.\n",
        "\n",
        "We then record the spiking behavior and current of these neurons. Since we're interested in the attractor of this system on the long turn, we will run the model for a certain time `init_time` and only start recording the neurons after that initial time."
      ]
    },
    {
      "cell_type": "code",
      "metadata": {
        "id": "gfppY07nTK0X",
        "colab_type": "code",
        "colab": {
          "base_uri": "https://localhost:8080/",
          "height": 91
        },
        "outputId": "93e8a354-e384-4e12-caec-7090d0414b8b"
      },
      "source": [
        "# define temporal precision of our recordings, and the number of neurons used.\n",
        "# both parameters will affect the precision of our plots and computational time \n",
        "defaultclock.dt = 0.02*ms\n",
        "N = 200\n",
        "\n",
        "# start a scope and instatiate a neurongroup of N neurons after the above model\n",
        "start_scope()\n",
        "neuron = NeuronGroup(N, model=model, threshold=threshold,\n",
        "                     reset=reset, method='euler')\n",
        "\n",
        "# set initial values for (resting) voltage and current across neurons\n",
        "neuron.vm = EL\n",
        "neuron.w = a*(neuron.vm - EL)\n",
        "neuron.Vr = linspace(-48.3*mV, -47.7*mV, N)# bifurcation parameter\n",
        "\n",
        "# run the models for a certain time without recording the results\n",
        "init_time = 1*second\n",
        "run(init_time, report='text')\n",
        "\n",
        "# run the models again, now recording them with Spike/StateMonitors\n",
        "states = StateMonitor(neuron, \"w\", record=True, when='start')\n",
        "spikes = SpikeMonitor(neuron)\n",
        "run(1*second, report='text')"
      ],
      "execution_count": null,
      "outputs": [
        {
          "output_type": "stream",
          "text": [
            "Starting simulation at t=0. s for a duration of 1. s\n",
            "1. s (100%) simulated in < 1s\n",
            "Starting simulation at t=1. s for a duration of 1. s\n",
            "1. s (100%) simulated in 1s\n"
          ],
          "name": "stdout"
        }
      ]
    },
    {
      "cell_type": "markdown",
      "metadata": {
        "id": "WW_TSPPGTK_d",
        "colab_type": "text"
      },
      "source": [
        "Now we can look at the recorded spikes and related currents and plot them."
      ]
    },
    {
      "cell_type": "code",
      "metadata": {
        "id": "3-zDOVpHCjt5",
        "colab_type": "code",
        "colab": {
          "base_uri": "https://localhost:8080/",
          "height": 555
        },
        "outputId": "837210a5-23e5-4392-e167-a47d2b1ab0a8"
      },
      "source": [
        "# Get the resting voltage and current for all spikes that were recorded.\n",
        "Vr_record = neuron.Vr[spikes.i]\n",
        "w_record = states.w[spikes.i, int_((spikes.t-init_time)/defaultclock.dt)]\n",
        "\n",
        "# plot them\n",
        "plt.figure(figsize=(16,9))\n",
        "plt.scatter(Vr_record / mV, w_record / nA, marker=\".\", color=\"k\", linewidths=0.1)\n",
        "plt.xlabel('Vr (mV)')\n",
        "plt.ylabel('w (nA)')\n",
        "plt.show()"
      ],
      "execution_count": null,
      "outputs": [
        {
          "output_type": "display_data",
          "data": {
            "image/png": "[encoded data removed]",
            "text/plain": [
              "<Figure size 1152x648 with 1 Axes>"
            ]
          },
          "metadata": {
            "tags": [],
            "needs_background": "light"
          }
        }
      ]
    },
    {
      "cell_type": "markdown",
      "metadata": {
        "id": "10oHrS63ga_5",
        "colab_type": "text"
      },
      "source": [
        "We now got a plot of adaption currents $w$ in relation to our resting potential $Vr$ for each of the spikes that was recorded during our run. We see that the spiking behavior of our dynamical AdEx neuron converges to two different values on the interval of $Vr$ ~ [-48.3; -48.2] mV, then to four different values for $Vr$ ~ [-48.2; -48.1] mV, and then quickly turns chaotic.\n",
        "\n",
        "From this plot, we can infer that changing the resting voltage of an AdEx integrate-and-fire neuron can induce chaotic spiking behavior across the range of different neuron currents."
      ]
    },
    {
      "cell_type": "markdown",
      "metadata": {
        "id": "4JCrESo-CKBb",
        "colab_type": "text"
      },
      "source": [
        "## Try it out yourself..."
      ]
    },
    {
      "cell_type": "markdown",
      "metadata": {
        "id": "gDCIByQg8B4E",
        "colab_type": "text"
      },
      "source": [
        "### AdEx model"
      ]
    },
    {
      "cell_type": "markdown",
      "metadata": {
        "id": "ewemWF-cijOu",
        "colab_type": "text"
      },
      "source": [
        "After going through the initial example step by step, you can now try out how chaotic behavior in these neurons develops across certain parameter ranges. To do so, we simply put all the code from the previous section into one function, and make it interactive, using ipywidgets. "
      ]
    },
    {
      "cell_type": "code",
      "metadata": {
        "id": "MvHU0-xhCM1Q",
        "colab_type": "code",
        "colab": {
          "base_uri": "https://localhost:8080/",
          "height": 949,
          "referenced_widgets": [
            "af386d013e094398832a7715116f79ff",
            "e98c597f723248f5b0db83728335bc8e",
            "a2d40e2088854e039ed7f3a9c3e39447",
            "263c87fa779f44a3b2e1830bdc21b04f",
            "b88000f3708b41b3866ef328c42f2bea",
            "8a4b2a1d190b43f6900b69ecc2d6a4c1",
            "43db823ab7d64b47af8cbde279fa7dde",
            "0a71aa3a0c694633b0b26c6c9851b513",
            "18443b1ceae7416c9790867f406f22bb",
            "d9c1b098c29249c5a5690a4182a6867f",
            "2c54d9e2722b4d82aefbf769701500e5",
            "a5c4ba36e88c42aa9b20f78111b7ff01",
            "b8a026d8a8eb44acacfd212bf80e8d85",
            "5155a89d1f6544fdb7f1acc9eae65fe0",
            "c388422ea6f54b08ad35817978500ad2",
            "2fceb9751c50474480f63f68f4c61188",
            "119b7b4ad7fb43a4a43da8dd7ccc2d65",
            "d83538dace3f4543b36f43165e0e2b1b",
            "371a3609ac5f49fdb0b73c271eb6dedb",
            "a23ec4e3ed4946a39d78176533ccede1",
            "de3fc90e33404e0886c7f2eda97d85ab",
            "88b08fbd883d404ba781343ad9cdb0c3",
            "36a892a9876b495eb16018eb18fd90d0",
            "3fb4375dbcfb45a5808f3e2d9d41aa3d",
            "028078be6b32490cb38eeb2605a24206",
            "09b4eac370b64ae293cca171f7df5d9d",
            "d369f5b135564d4da75aee375639a4cd",
            "938d1a62e4364714b6493a59a26b200d",
            "17a3483a2ade48958fdfd4572ffac89e",
            "e13a405127b649adaed5ec3501709047",
            "bbaa4958199e48feac9024f90343cc88",
            "95d08ec19cad4fcf80767243f19ca7c2",
            "188bded61ca1466a89248f56a738a065",
            "cd42f045e2b641399e7285f8c08ce1ae"
          ]
        },
        "outputId": "c3f03363-9330-48cc-eea2-37f522ce552d"
      },
      "source": [
        "# define the recording time and number of neurons\n",
        "defaultclock.dt = 0.05*ms\n",
        "N = 150\n",
        "\n",
        "\n",
        "# Define the AdEx model\n",
        "model = \"\"\"\n",
        "dvm/dt=(gL*(EL-vm)+gL*DeltaT*exp((vm-VT)/DeltaT)+I-w)/C : volt\n",
        "dw/dt=(a*(vm-EL)-w)/tauw : amp\n",
        "Vr:volt\n",
        "\"\"\"\n",
        "threshold = 'vm > Vcut'\n",
        "reset = \"vm = Vr; w += b\"\n",
        "\n",
        "# implement the rest of the code as a function\n",
        "def plot_bifurcation(Vrrange, a, b, I, C, gL, EL, VT, DeltaT, tauw):\n",
        "  \n",
        "  C = C*pF\n",
        "  gL = gL*nS\n",
        "  EL = EL*mV\n",
        "  VT = VT*mV\n",
        "  DeltaT = DeltaT*mV\n",
        "  tauw = tauw*ms\n",
        "  a = a*nS\n",
        "  b = b*nA\n",
        "  I = I*nA\n",
        "  Vcut = VT + 5*DeltaT# practical threshold condition\n",
        "\n",
        "  start_scope()\n",
        "  neuron = NeuronGroup(N, model=model, threshold=threshold,\n",
        "                      reset=reset, method='euler')\n",
        "\n",
        "  neuron.Vr = linspace(Vrrange[0]*mV, Vrrange[1]*mV, N)\n",
        "\n",
        "  init_time = 1*second\n",
        "  run(init_time, report='text')# we discard the first spikes\n",
        "\n",
        "  states = StateMonitor(neuron, \"w\", record=True, when='start')\n",
        "  spikes = SpikeMonitor(neuron)\n",
        "  run(1*second, report='text')\n",
        "\n",
        "  # Get the values of Vr and w for each spike\n",
        "  Vr = neuron.Vr[spikes.i]\n",
        "  w = states.w[spikes.i, int_((spikes.t-init_time)/defaultclock.dt)]\n",
        "\n",
        "  plt.figure(figsize=(16,9))\n",
        "  plt.scatter(Vr / mV, w / nA, marker=\".\", color=\"k\", linewidths=0.1)\n",
        "  plt.xlabel('Vr (mV)')\n",
        "  plt.ylabel('w (nA)')\n",
        "  plt.show()\n",
        "\n",
        "# plot the function interactively with ipywidgets\n",
        "layout = {\"width\": \"400px\"}\n",
        "style = {\"description_width\": \"150px\"}\n",
        "Vrrange_slider = FloatRangeSlider(value=[-48.3, -47.7], min=-49., max=-46., step=0.1, description=\"VrRange (mV): Resting membrane potential/ plotting range\", readout_format='.1f', continuous_update=False, layout=layout, style=style)\n",
        "a_slider = FloatSlider(value=4., min=0., max=10., step=0.25, description=\"a (nS): Adaption coupling parameter\", readout_format='.1f', continuous_update=False, layout=layout, style=style)\n",
        "b_slider = FloatSlider(value=0.08, min=0.00, max=0.20, step=0.01, description=\"b (nA): Post-spike current change\", continuous_update=False, layout=layout, style=style)\n",
        "I_slider = FloatSlider(value=0.8, min=0., max=2., step=0.1, description=\"I (nA): External input current\", readout_format = '.1f', continuous_update=False, layout=layout, style=style)\n",
        "C_slider = IntSlider(value=281, min=270, max=290, step=1, description=\"C (pF): Membrane capacitance\", continuous_update=False, layout=layout, style=style)\n",
        "gL_slider = IntSlider(value=30, min=20, max=40, step=1, description=\"gL (nS): Leak conductance\", continuous_update=False, layout=layout, style=style)\n",
        "EL_slider = FloatSlider(value=-70.6, min=-72., max=-70., step=0.1, description=\"EL (mV): Leak reversal potential\", readout_format = '.1f', continuous_update=False, layout=layout, style=style)\n",
        "VT_slider = FloatSlider(value=-50.4, min=-51., max=-49., step=0.1, description=\"VT (mV): Spiking threshold\", readout_format = '.1f', continuous_update=False, layout=layout, style=style)\n",
        "DeltaT_slider = FloatSlider(value=2., min=1., max=3., step=0.1, description=\"DeltaT (mV): Slope factor\", readout_format = '.1f', continuous_update=False, layout=layout, style=style)\n",
        "tauw_slider = IntSlider(value=40, min=30, max=60, step=1, description=\"tauw (ms): Adaption time constant\", continuous_update=False, layout=layout, style=style)\n",
        "\n",
        "interactive(plot_bifurcation,\n",
        "            Vrrange = Vrrange_slider, a = a_slider, b = b_slider,\n",
        "            I = I_slider, C = C_slider, gL = gL_slider, EL = EL_slider,\n",
        "            VT = VT_slider, DeltaT = DeltaT_slider, tauw = tauw_slider)\n"
      ],
      "execution_count": 37,
      "outputs": [
        {
          "output_type": "display_data",
          "data": {
            "application/vnd.jupyter.widget-view+json": {
              "model_id": "af386d013e094398832a7715116f79ff",
              "version_minor": 0,
              "version_major": 2
            },
            "text/plain": [
              "interactive(children=(FloatRangeSlider(value=(-48.3, -47.7), continuous_update=False, description='VrRange (mV…"
            ]
          },
          "metadata": {
            "tags": []
          }
        }
      ]
    },
    {
      "cell_type": "markdown",
      "metadata": {
        "id": "_QLG4mTB8FTn",
        "colab_type": "text"
      },
      "source": [
        "###Izhikevich Model"
      ]
    },
    {
      "cell_type": "markdown",
      "metadata": {
        "id": "HpWeZqLbfe0j",
        "colab_type": "text"
      },
      "source": [
        "Finally, we can transfer the example and see how these dynamics look like for an izhikevich model. As you probably already know, the Izhikevich neuron can be described by the following differential equations:\n",
        "\n",
        "$ dvm/dt = 0.04*vm^2 + 5 * vm + 140 - w + I $\n",
        "\n",
        "$ dw/dt = a*(b*vm-w) $\n",
        "\n",
        "The spiking threshold we will use for this setting lies at $ vm > 35 mV $. Whenever this spike is reached, the Izhikevich model will reset the following variables: $vm = c$, and $w = w + d$.\n",
        "\n",
        "Nobukawa, Nishimura, Yamanishi, & Liu (2015) report on chaotic states induced by the resetting process (driven by $d$) in the Izhikevich model:\n",
        "![Nobukawa et al, 2015](https://encrypted-tbn0.gstatic.com/images?q=tbn:ANd9GcQIK9jBxj1b1El-jczkcRwg99wl9MwfsIT6qxn46HomtfMDAc9w&s)\n",
        "\n",
        "Let's see if we can replicate these findings, using the same parameters as defined in their paper."
      ]
    },
    {
      "cell_type": "code",
      "metadata": {
        "id": "0a3rf__18Kf1",
        "colab_type": "code",
        "colab": {
          "base_uri": "https://localhost:8080/",
          "height": 785,
          "referenced_widgets": [
            "53c9ed088fb946e39c26c8049a8e9fa8",
            "f7f4bd8cab644a27a1b8faa9a8516701",
            "40163292ac5841c69f55ab484bcfe7fc",
            "6010947e46b84fe79da95346ffd8d9c5",
            "9c994f3ac21e4a1bbfcdf56d19f0d269",
            "1abd254e40d84d4a99d5ec73416f4627",
            "79e14b8b4c6a4ef3b0c63ec838bc301f",
            "6127fc46518941fcaed1b887235746aa",
            "b1bb8b289c38410f84f515c306334e5b",
            "f7b04e89ecaf4cda9b22b3a7a76b638f",
            "858a343a0a84447699b3b6b872e035e7",
            "cd22308d67e94178801bd4545d34d5e9",
            "71dc2ddbf93b4e90b0b84e5c8286e138",
            "04210a2e94f643969d4795fd0cb40122",
            "b7f8227445c14bdab38ae2a7196e5d78",
            "b504b655e0cd4041a86b7e82c3b02de9",
            "18997f4ac9394319922e4d11ad0f8a3d",
            "0dbbe71a018d437184fc5f2636b71d1b",
            "30c7ed270d614a5c86b733911f8d2ba0"
          ]
        },
        "outputId": "5c03a6bd-f107-4115-a59c-dd4d97421191"
      },
      "source": [
        "\n",
        "defaultclock.dt = 0.05*ms\n",
        "\n",
        "N = 200\n",
        "\n",
        "\n",
        "model = '''dvm/dt = (0.04/ms/mV)*vm**2+(5/ms)*vm+140*mV/ms-w + I : volt\n",
        "dw/dt = a*(b*vm-w) : volt/second\n",
        "d : volt/second'''\n",
        "threshold = \"vm > 35*mV\"\n",
        "reset = \"vm = c; w += d\"\n",
        "\n",
        "#adex = Izhikevich()\n",
        "\n",
        "def plot_bifurcation(a, b, c, d, I):\n",
        "\n",
        "  I = I * volt/second\n",
        "  a = a / ms\n",
        "  b = b / ms\n",
        "  c = c * mV\n",
        "  \n",
        "\n",
        "  start_scope()\n",
        "  neuron = NeuronGroup(N, model=model, threshold=threshold,\n",
        "                      reset=reset, method='euler')\n",
        "  \n",
        "\n",
        "  neuron.d = linspace(d[0]*volt/second, d[1]*volt/second, N)\n",
        "\n",
        "  init_time = 1*second\n",
        "  run(init_time, report='text')# we discard the first spikes\n",
        "\n",
        "  states = StateMonitor(neuron, \"w\", record=True, when='start')\n",
        "  spikes = SpikeMonitor(neuron)\n",
        "  run(1*second, report='text')\n",
        "\n",
        "  # Get the values of Vr and w for each spike\n",
        "  D = neuron.d[spikes.i]\n",
        "  w = states.w[spikes.i, int_((spikes.t-init_time)/defaultclock.dt)]\n",
        "\n",
        "  plt.figure(figsize=(16,9))\n",
        "  plt.scatter(D / volt/second, w / volt/second, marker=\".\", color=\"k\", linewidths=0.1)\n",
        "  plt.xlabel('d (volt/second)')\n",
        "  plt.ylabel('w')\n",
        "  plt.show()\n",
        "\n",
        "\n",
        "a_slider = FloatSlider(value = 0.02, min= 0., max = 0.2, step = 0.01, description = 'a (1/ms):', continuous_update=False)\n",
        "b_slider = FloatSlider(value = 0.2, min= 0., max = 2., step = 0.1, description = 'b (1/ms):', readout_format = '.1f' ,continuous_update=False)\n",
        "c_slider = IntSlider(value = -55, min= -60, max = -40, step = 1, description = 'c (mV):', readout_format = '.1f', continuous_update=False)\n",
        "d_slider = FloatRangeSlider(value = [0.5, 1.5], min= 0., max = 3., step = 0.1, description = 'd (volt/second):',continuous_update=False)\n",
        "I_slider = IntSlider(value = 10, min= 0, max = 20, step = 1, description = 'I (volt/second):',continuous_update=False)\n",
        "\n",
        "interactive(plot_bifurcation, a = a_slider, b=b_slider, c=c_slider, d=d_slider, I=I_slider)"
      ],
      "execution_count": 38,
      "outputs": [
        {
          "output_type": "display_data",
          "data": {
            "application/vnd.jupyter.widget-view+json": {
              "model_id": "53c9ed088fb946e39c26c8049a8e9fa8",
              "version_minor": 0,
              "version_major": 2
            },
            "text/plain": [
              "interactive(children=(FloatSlider(value=0.02, continuous_update=False, description='a (1/ms):', max=0.2, step=…"
            ]
          },
          "metadata": {
            "tags": []
          }
        }
      ]
    },
    {
      "cell_type": "markdown",
      "metadata": {
        "id": "CdRxR5gdTXOF",
        "colab_type": "text"
      },
      "source": [
        "## References\n",
        "\n",
        "Brette, R., & Gerstner, W. (2005). Adaptive exponential integrate-and-fire model as an effective description of neuronal activity. *Journal of neurophysiology*, 94(5), 3637-3642.\n",
        "\n",
        "Izhikevich, E. M. (2003). Simple model of spiking neurons. *IEEE Transactions on neural networks*, 14(6), 1569-1572.\n",
        "\n",
        "Nobukawa, S., Nishimura, H., Yamanishi, T., & Liu, J. Q. (2015). Chaotic states induced by resetting process in Izhikevich neuron model. *Journal of Artificial Intelligence and Soft Computing Research*, 5(2), 109-119.\n",
        "\n",
        "Stimberg, M., Brette, R., Goodman, D., Yger, P., & Beroux, W. Brian 2 documentation.\n",
        "\n",
        "Stimberg, M., Brette, R., & Goodman, D. F. (2019). Brian 2, an intuitive and efficient neural simulator. *Elife*, 8, e47314.\n"
      ]
    },
    {
      "cell_type": "markdown",
      "metadata": {
        "id": "CY7qf4-2l6ak",
        "colab_type": "text"
      },
      "source": [
        "##### Archive: Try to do a hodgkin huxley bifurcation + Try to create neuron models converting the brian stuff to sympy"
      ]
    },
    {
      "cell_type": "code",
      "metadata": {
        "id": "CeYYOH1EC87w",
        "colab_type": "code",
        "colab": {}
      },
      "source": [
        "from sympy.parsing.sympy_parser import parse_expr\n",
        "from sympy.parsing.sympy_parser import standard_transformations, implicit_multiplication_application\n",
        "\n",
        "\n",
        "class Neuron():\n",
        "\n",
        "  def __init__(self, differential, threshold, reset):\n",
        "\n",
        "    self.differential = differential\n",
        "    self.threshold = threshold\n",
        "    self.reset = reset\n",
        "\n",
        "\n",
        "  def _string_to_func(self, equation_str):\n",
        "    return parse_expr(equation_str, transformations=PARSE_TRANSFORM)\n",
        "\n",
        "def AdEx():\n",
        "  \"\"\"Creates an adaptive exponential integrate-and-fire neuron (Brette-Gerstner model).\"\"\"\n",
        "  differential = \"\"\"\n",
        "  dvm/dt=(gL*(EL-vm)+gL*DeltaT*exp((vm-VT)/DeltaT)+I-w)/C : volt\n",
        "  dw/dt=(a*(vm-EL)-w)/tauw : amp\n",
        "  Vr:volt\n",
        "  \"\"\"\n",
        "  threshold = 'vm > Vcut'\n",
        "  reset = \"vm = Vr; w += b\"\n",
        "  return Neuron(differential, threshold, reset)\n",
        "\n",
        "def Izhikevich():\n",
        "  differential = '''dvm/dt = (0.04/ms/mV)*vm**2+(5/ms)*vm+140*mV/ms-w + I : volt\n",
        "  dw/dt = a*(b*vm-w) : volt/second\n",
        "  I : volt/second\n",
        "  b : second\n",
        "  c : volt\n",
        "  d : volt/second'''\n",
        "  threshold = \"vm > 35mV\"\n",
        "  reset = \"vm = c; w += d\"\n",
        "  return Neuron(differential, threshold, reset)\n",
        "  "
      ],
      "execution_count": null,
      "outputs": []
    },
    {
      "cell_type": "code",
      "metadata": {
        "id": "XqMU8NhRFP_n",
        "colab_type": "code",
        "colab": {
          "base_uri": "https://localhost:8080/",
          "height": 57
        },
        "outputId": "2353efbf-f4fe-470f-f60c-25ede080dde0"
      },
      "source": [
        "from sympy.parsing.sympy_parser import parse_expr\n",
        "from sympy.parsing.sympy_parser import standard_transformations, implicit_multiplication_application\n",
        "from sympy.utilities.lambdify import lambdify\n",
        "from sympy.abc import *\n",
        "\n",
        "\n",
        "PARSE_TRANSFORM = (standard_transformations) # + (implicit_multiplication_application,))\n",
        "\n",
        "def _string_to_func(equation_str):\n",
        "  return parse_expr(equation_str, transformations=PARSE_TRANSFORM)\n",
        "\n",
        "#print(_string_to_func(\"3*x\"))\n",
        "\n",
        "d = lambdify(x, _string_to_func(\"3*x\"))\n",
        "\n",
        "a = parse_expr(\"\"\"(gL * (EL-vm)+gL*DeltaT*exp((vm-VT)/DeltaT)+I-w)/C\"\"\", transformations=PARSE_TRANSFORM)\n",
        "a"
      ],
      "execution_count": null,
      "outputs": [
        {
          "output_type": "execute_result",
          "data": {
            "text/latex": "$\\displaystyle \\frac{DeltaT gL e^{\\frac{- VT + vm}{DeltaT}} + gL \\left(EL - vm\\right) - w + i}{C}$",
            "text/plain": [
              "(DeltaT*gL*exp((-VT + vm)/DeltaT) + gL*(EL - vm) - w + I)/C"
            ]
          },
          "metadata": {
            "tags": []
          },
          "execution_count": 11
        }
      ]
    },
    {
      "cell_type": "code",
      "metadata": {
        "id": "8OY5Fus96FEw",
        "colab_type": "code",
        "colab": {
          "base_uri": "https://localhost:8080/",
          "height": 247
        },
        "outputId": "2a2204c2-1640-4f15-b178-fb98c9f3bf7a"
      },
      "source": [
        "defaultclock.dt = 0.01*ms\n",
        "N=900\n",
        "morpho = Cylinder(length=10*cm, diameter=2*238*um, n=N, type='axon')\n",
        "\n",
        "El = 10.5995*mV\n",
        "ENa = 115*mV\n",
        "EK = -12*mV\n",
        "gl = 0.3*msiemens/cm**2\n",
        "gNa0 = 120*msiemens/cm**2\n",
        "gK = 36*msiemens/cm**2\n",
        "\n",
        "# Typical equations\n",
        "eqs = '''\n",
        "# The same equations for the whole neuron, but possibly different parameter values\n",
        "# distributed transmembrane current\n",
        "Im = gl * (El-v) + gNa * m**3 * h * (ENa-v) + gK * n**4 * (EK-v)+ I : amp/meter**2\n",
        "I = I0*sin(2*pi*50*Hz * t) : amp/meter**2\n",
        "I0 : amp/meter**2 # applied current\n",
        "dm/dt = alpham * (1-m) - betam * m : 1\n",
        "dn/dt = alphan * (1-n) - betan * n : 1\n",
        "dh/dt = alphah * (1-h) - betah * h : 1\n",
        "alpham = (0.1/mV) * 10*mV/exprel((-v+25*mV)/(10*mV))/ms : Hz\n",
        "betam = 4 * exp(-v/(18*mV))/ms : Hz\n",
        "alphah = 0.07 * exp(-v/(20*mV))/ms : Hz\n",
        "betah = 1/(exp((-v+30*mV) / (10*mV)) + 1)/ms : Hz\n",
        "alphan = (0.01/mV) * 10*mV/exprel((-v+10*mV)/(10*mV))/ms : Hz\n",
        "betan = 0.125*exp(-v/(80*mV))/ms : Hz\n",
        "gNa : siemens/meter**2\n",
        "#Cm=1*uF/cm**2 : farad/meter**2\n",
        "v : volt\n",
        "'''\n",
        "\n",
        "  \n",
        "start_scope()\n",
        "\"\"\"\n",
        "neuron = SpatialNeuron(morphology=morpho, model=eqs, method=\"exponential_euler\",\n",
        "                        refractory=\"m > 0.1\", threshold=\"m > 0.1\",\n",
        "                        Cm=1*uF/cm**2, Ri=35.4*ohm*cm)\n",
        "\"\"\"\n",
        "neuron = NeuronGroup(N, model=eqs, threshold=\"m > 0.5\",\n",
        "                    refractory=\"m > 0.4\", method='exponential_euler')\n",
        "\n",
        "neuron.v = 0*mV\n",
        "neuron.h = 1\n",
        "neuron.m = 0\n",
        "neuron.n = .5\n",
        "neuron.I0 = linspace(1.732 * uA/cm**2, 1.736 * uA/cm**2, N)\n",
        "neuron.gNa = gNa0\n",
        "\n",
        "\n",
        "##init_time = 1*second\n",
        "#run(init_time, report='text')# we discard the first spikes\n",
        "\n",
        "states = StateMonitor(neuron, \"v\", record=True, when='start')\n",
        "spikes = SpikeMonitor(neuron)\n",
        "run(1*second, report='text')\n",
        "\n",
        "# Get the values of Vr and w for each spike\n",
        "I0 = neuron.I0[spikes.i]\n",
        "V = states.v[spikes.i, int_((spikes.t-init_time)/defaultclock.dt)]\n",
        "\n",
        "plt.figure(figsize=(16,9))\n",
        "plt.scatter(I0 / uA/cm**2, V / mV, marker=\".\", color=\"k\", linewidths=0.1)\n",
        "plt.xlabel('I0 (uA/cm**2)')\n",
        "plt.ylabel('V (mV)')\n",
        "plt.show()\n",
        "\n"
      ],
      "execution_count": null,
      "outputs": [
        {
          "output_type": "error",
          "ename": "NameError",
          "evalue": "ignored",
          "traceback": [
            "\u001b[0;31m---------------------------------------------------------------------------\u001b[0m",
            "\u001b[0;31mNameError\u001b[0m                                 Traceback (most recent call last)",
            "\u001b[0;32m<ipython-input-12-cd0c7b52d9b3>\u001b[0m in \u001b[0;36m<module>\u001b[0;34m()\u001b[0m\n\u001b[1;32m      1\u001b[0m \u001b[0mdefaultclock\u001b[0m\u001b[0;34m.\u001b[0m\u001b[0mdt\u001b[0m \u001b[0;34m=\u001b[0m \u001b[0;36m0.01\u001b[0m\u001b[0;34m*\u001b[0m\u001b[0mms\u001b[0m\u001b[0;34m\u001b[0m\u001b[0;34m\u001b[0m\u001b[0m\n\u001b[1;32m      2\u001b[0m \u001b[0mN\u001b[0m\u001b[0;34m=\u001b[0m\u001b[0;36m900\u001b[0m\u001b[0;34m\u001b[0m\u001b[0;34m\u001b[0m\u001b[0m\n\u001b[0;32m----> 3\u001b[0;31m \u001b[0mmorpho\u001b[0m \u001b[0;34m=\u001b[0m \u001b[0mCylinder\u001b[0m\u001b[0;34m(\u001b[0m\u001b[0mlength\u001b[0m\u001b[0;34m=\u001b[0m\u001b[0;36m10\u001b[0m\u001b[0;34m*\u001b[0m\u001b[0mcm\u001b[0m\u001b[0;34m,\u001b[0m \u001b[0mdiameter\u001b[0m\u001b[0;34m=\u001b[0m\u001b[0;36m2\u001b[0m\u001b[0;34m*\u001b[0m\u001b[0;36m238\u001b[0m\u001b[0;34m*\u001b[0m\u001b[0mum\u001b[0m\u001b[0;34m,\u001b[0m \u001b[0mn\u001b[0m\u001b[0;34m=\u001b[0m\u001b[0mN\u001b[0m\u001b[0;34m,\u001b[0m \u001b[0mtype\u001b[0m\u001b[0;34m=\u001b[0m\u001b[0;34m'axon'\u001b[0m\u001b[0;34m)\u001b[0m\u001b[0;34m\u001b[0m\u001b[0;34m\u001b[0m\u001b[0m\n\u001b[0m\u001b[1;32m      4\u001b[0m \u001b[0;34m\u001b[0m\u001b[0m\n\u001b[1;32m      5\u001b[0m \u001b[0mEl\u001b[0m \u001b[0;34m=\u001b[0m \u001b[0;36m10.5995\u001b[0m\u001b[0;34m*\u001b[0m\u001b[0mmV\u001b[0m\u001b[0;34m\u001b[0m\u001b[0;34m\u001b[0m\u001b[0m\n",
            "\u001b[0;31mNameError\u001b[0m: name 'Cylinder' is not defined"
          ]
        }
      ]
    }
  ]
}