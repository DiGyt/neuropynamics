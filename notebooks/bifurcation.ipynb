{
  "nbformat": 4,
  "nbformat_minor": 0,
  "metadata": {
    "colab": {
      "name": "bifurcation.ipynb",
      "provenance": [],
      "collapsed_sections": [
        "tG-5WJET-K-t",
        "gDCIByQg8B4E",
        "CY7qf4-2l6ak"
      ],
      "authorship_tag": "ABX9TyN8Xp9FiOXeC+EcY5osALhL",
      "include_colab_link": true
    },
    "kernelspec": {
      "name": "python3",
      "display_name": "Python 3"
    },
    "widgets": {
      "application/vnd.jupyter.widget-state+json": {
        "a4a93b0666254b4e830ff66763cb7189": {
          "model_module": "@jupyter-widgets/controls",
          "model_name": "VBoxModel",
          "state": {
            "_view_name": "VBoxView",
            "_dom_classes": [
              "widget-interact"
            ],
            "_model_name": "VBoxModel",
            "_view_module": "@jupyter-widgets/controls",
            "_model_module_version": "1.5.0",
            "_view_count": null,
            "_view_module_version": "1.5.0",
            "box_style": "",
            "layout": "IPY_MODEL_70bdb8662bad4c4cb2db02153e9b226e",
            "_model_module": "@jupyter-widgets/controls",
            "children": [
              "IPY_MODEL_4bbcfc5e6b9743a89d3f2a0798240c09",
              "IPY_MODEL_60a92af48e8944449b457f7edd961ec5",
              "IPY_MODEL_ed31c662442d44ddb59cf2f4040a6c54",
              "IPY_MODEL_fa7f4e6f4dce4cbaa29b89f6bbd7564e",
              "IPY_MODEL_9cbc6a3f766e4add9c13f1961f36879d",
              "IPY_MODEL_884ccc6327bc486595b0c7d3a7cf3c33",
              "IPY_MODEL_649bc38e2cdb4c51ae782a2d150a7b25",
              "IPY_MODEL_f50514deda394269ba87440af322f9c1",
              "IPY_MODEL_57541b882d984b75b6b323866f0891a6",
              "IPY_MODEL_d37780ab423d44c5866065f1a5e98768",
              "IPY_MODEL_c1576a33248145cd9d8eeb4dc752520c"
            ]
          }
        },
        "70bdb8662bad4c4cb2db02153e9b226e": {
          "model_module": "@jupyter-widgets/base",
          "model_name": "LayoutModel",
          "state": {
            "_view_name": "LayoutView",
            "grid_template_rows": null,
            "right": null,
            "justify_content": null,
            "_view_module": "@jupyter-widgets/base",
            "overflow": null,
            "_model_module_version": "1.2.0",
            "_view_count": null,
            "flex_flow": null,
            "width": null,
            "min_width": null,
            "border": null,
            "align_items": null,
            "bottom": null,
            "_model_module": "@jupyter-widgets/base",
            "top": null,
            "grid_column": null,
            "overflow_y": null,
            "overflow_x": null,
            "grid_auto_flow": null,
            "grid_area": null,
            "grid_template_columns": null,
            "flex": null,
            "_model_name": "LayoutModel",
            "justify_items": null,
            "grid_row": null,
            "max_height": null,
            "align_content": null,
            "visibility": null,
            "align_self": null,
            "height": null,
            "min_height": null,
            "padding": null,
            "grid_auto_rows": null,
            "grid_gap": null,
            "max_width": null,
            "order": null,
            "_view_module_version": "1.2.0",
            "grid_template_areas": null,
            "object_position": null,
            "object_fit": null,
            "grid_auto_columns": null,
            "margin": null,
            "display": null,
            "left": null
          }
        },
        "4bbcfc5e6b9743a89d3f2a0798240c09": {
          "model_module": "@jupyter-widgets/controls",
          "model_name": "FloatRangeSliderModel",
          "state": {
            "_view_name": "FloatRangeSliderView",
            "style": "IPY_MODEL_af09efac51cb4fdc8c3719bcc66534ec",
            "_dom_classes": [],
            "description": "VrRange (mV): Resting membrane potential/ plotting range",
            "step": 0.1,
            "_model_name": "FloatRangeSliderModel",
            "orientation": "horizontal",
            "max": -46,
            "_view_module": "@jupyter-widgets/controls",
            "_model_module_version": "1.5.0",
            "value": [
              -49,
              -46.6
            ],
            "_view_count": null,
            "disabled": false,
            "_view_module_version": "1.5.0",
            "min": -49,
            "continuous_update": false,
            "readout_format": ".1f",
            "description_tooltip": null,
            "readout": true,
            "_model_module": "@jupyter-widgets/controls",
            "layout": "IPY_MODEL_88f39cfca7a1425c89b798cd51551c88"
          }
        },
        "60a92af48e8944449b457f7edd961ec5": {
          "model_module": "@jupyter-widgets/controls",
          "model_name": "FloatSliderModel",
          "state": {
            "_view_name": "FloatSliderView",
            "style": "IPY_MODEL_7e944d9eafcc44da8dac969f8a0de2c4",
            "_dom_classes": [],
            "description": "a (nS): Adaption coupling parameter",
            "step": 0.25,
            "_model_name": "FloatSliderModel",
            "orientation": "horizontal",
            "max": 10,
            "_view_module": "@jupyter-widgets/controls",
            "_model_module_version": "1.5.0",
            "value": 4,
            "_view_count": null,
            "disabled": false,
            "_view_module_version": "1.5.0",
            "min": 0,
            "continuous_update": false,
            "readout_format": ".1f",
            "description_tooltip": null,
            "readout": true,
            "_model_module": "@jupyter-widgets/controls",
            "layout": "IPY_MODEL_9520de50c89c4f48b82dda61302ab178"
          }
        },
        "ed31c662442d44ddb59cf2f4040a6c54": {
          "model_module": "@jupyter-widgets/controls",
          "model_name": "FloatSliderModel",
          "state": {
            "_view_name": "FloatSliderView",
            "style": "IPY_MODEL_d4e12d93dd5c4ad2b94f8e11f7f6cf1d",
            "_dom_classes": [],
            "description": "b (nA): Post-spike current change",
            "step": 0.01,
            "_model_name": "FloatSliderModel",
            "orientation": "horizontal",
            "max": 0.2,
            "_view_module": "@jupyter-widgets/controls",
            "_model_module_version": "1.5.0",
            "value": 0.08,
            "_view_count": null,
            "disabled": false,
            "_view_module_version": "1.5.0",
            "min": 0,
            "continuous_update": false,
            "readout_format": ".2f",
            "description_tooltip": null,
            "readout": true,
            "_model_module": "@jupyter-widgets/controls",
            "layout": "IPY_MODEL_05c99f54a2204127bdfd91176bbda9c3"
          }
        },
        "fa7f4e6f4dce4cbaa29b89f6bbd7564e": {
          "model_module": "@jupyter-widgets/controls",
          "model_name": "FloatSliderModel",
          "state": {
            "_view_name": "FloatSliderView",
            "style": "IPY_MODEL_1a561d51d28e4e8fa1b9a9607220aa9b",
            "_dom_classes": [],
            "description": "I (nA): External input current",
            "step": 0.1,
            "_model_name": "FloatSliderModel",
            "orientation": "horizontal",
            "max": 2,
            "_view_module": "@jupyter-widgets/controls",
            "_model_module_version": "1.5.0",
            "value": 0.8,
            "_view_count": null,
            "disabled": false,
            "_view_module_version": "1.5.0",
            "min": 0,
            "continuous_update": false,
            "readout_format": ".1f",
            "description_tooltip": null,
            "readout": true,
            "_model_module": "@jupyter-widgets/controls",
            "layout": "IPY_MODEL_dd2afa1650ba4de0b8acb0cee6514127"
          }
        },
        "9cbc6a3f766e4add9c13f1961f36879d": {
          "model_module": "@jupyter-widgets/controls",
          "model_name": "IntSliderModel",
          "state": {
            "_view_name": "IntSliderView",
            "style": "IPY_MODEL_f47f5348f8bf48d2b4b0f6a99c005cad",
            "_dom_classes": [],
            "description": "C (pF): Membrane capacitance",
            "step": 1,
            "_model_name": "IntSliderModel",
            "orientation": "horizontal",
            "max": 290,
            "_view_module": "@jupyter-widgets/controls",
            "_model_module_version": "1.5.0",
            "value": 281,
            "_view_count": null,
            "disabled": false,
            "_view_module_version": "1.5.0",
            "min": 270,
            "continuous_update": false,
            "readout_format": "d",
            "description_tooltip": null,
            "readout": true,
            "_model_module": "@jupyter-widgets/controls",
            "layout": "IPY_MODEL_25ff85100f754294aaead6618bbb35cb"
          }
        },
        "884ccc6327bc486595b0c7d3a7cf3c33": {
          "model_module": "@jupyter-widgets/controls",
          "model_name": "IntSliderModel",
          "state": {
            "_view_name": "IntSliderView",
            "style": "IPY_MODEL_fbb0249e23874e9b98c93c25c2a460ac",
            "_dom_classes": [],
            "description": "gL (nS): Leak conductance",
            "step": 1,
            "_model_name": "IntSliderModel",
            "orientation": "horizontal",
            "max": 40,
            "_view_module": "@jupyter-widgets/controls",
            "_model_module_version": "1.5.0",
            "value": 30,
            "_view_count": null,
            "disabled": false,
            "_view_module_version": "1.5.0",
            "min": 20,
            "continuous_update": false,
            "readout_format": "d",
            "description_tooltip": null,
            "readout": true,
            "_model_module": "@jupyter-widgets/controls",
            "layout": "IPY_MODEL_7852d56f623a497383abeeb87d537067"
          }
        },
        "649bc38e2cdb4c51ae782a2d150a7b25": {
          "model_module": "@jupyter-widgets/controls",
          "model_name": "FloatSliderModel",
          "state": {
            "_view_name": "FloatSliderView",
            "style": "IPY_MODEL_3ef30ee5abf840e696c37d208e4b5906",
            "_dom_classes": [],
            "description": "EL (mV): Leak reversal potential",
            "step": 0.1,
            "_model_name": "FloatSliderModel",
            "orientation": "horizontal",
            "max": -70,
            "_view_module": "@jupyter-widgets/controls",
            "_model_module_version": "1.5.0",
            "value": -70.6,
            "_view_count": null,
            "disabled": false,
            "_view_module_version": "1.5.0",
            "min": -72,
            "continuous_update": false,
            "readout_format": ".1f",
            "description_tooltip": null,
            "readout": true,
            "_model_module": "@jupyter-widgets/controls",
            "layout": "IPY_MODEL_45fe0642311a4251900c5784c45d528e"
          }
        },
        "f50514deda394269ba87440af322f9c1": {
          "model_module": "@jupyter-widgets/controls",
          "model_name": "FloatSliderModel",
          "state": {
            "_view_name": "FloatSliderView",
            "style": "IPY_MODEL_27482507d4684810a34ab2e841baddbd",
            "_dom_classes": [],
            "description": "VT (mV): Spiking threshold",
            "step": 0.1,
            "_model_name": "FloatSliderModel",
            "orientation": "horizontal",
            "max": -49,
            "_view_module": "@jupyter-widgets/controls",
            "_model_module_version": "1.5.0",
            "value": -50.4,
            "_view_count": null,
            "disabled": false,
            "_view_module_version": "1.5.0",
            "min": -51,
            "continuous_update": false,
            "readout_format": ".1f",
            "description_tooltip": null,
            "readout": true,
            "_model_module": "@jupyter-widgets/controls",
            "layout": "IPY_MODEL_d8e3ad9c8c694749b52d8810d56b15ca"
          }
        },
        "57541b882d984b75b6b323866f0891a6": {
          "model_module": "@jupyter-widgets/controls",
          "model_name": "FloatSliderModel",
          "state": {
            "_view_name": "FloatSliderView",
            "style": "IPY_MODEL_f1cf5741bdc14f7282504aab81992006",
            "_dom_classes": [],
            "description": "DeltaT (mV): Slope factor",
            "step": 0.1,
            "_model_name": "FloatSliderModel",
            "orientation": "horizontal",
            "max": 3,
            "_view_module": "@jupyter-widgets/controls",
            "_model_module_version": "1.5.0",
            "value": 2,
            "_view_count": null,
            "disabled": false,
            "_view_module_version": "1.5.0",
            "min": 1,
            "continuous_update": false,
            "readout_format": ".1f",
            "description_tooltip": null,
            "readout": true,
            "_model_module": "@jupyter-widgets/controls",
            "layout": "IPY_MODEL_0249fd7f4d764245ba3e8b53b25a143e"
          }
        },
        "d37780ab423d44c5866065f1a5e98768": {
          "model_module": "@jupyter-widgets/controls",
          "model_name": "IntSliderModel",
          "state": {
            "_view_name": "IntSliderView",
            "style": "IPY_MODEL_63411ad605f74238b015b0ed563947ee",
            "_dom_classes": [],
            "description": "tauw (ms): Adaption time constant",
            "step": 1,
            "_model_name": "IntSliderModel",
            "orientation": "horizontal",
            "max": 60,
            "_view_module": "@jupyter-widgets/controls",
            "_model_module_version": "1.5.0",
            "value": 40,
            "_view_count": null,
            "disabled": false,
            "_view_module_version": "1.5.0",
            "min": 30,
            "continuous_update": false,
            "readout_format": "d",
            "description_tooltip": null,
            "readout": true,
            "_model_module": "@jupyter-widgets/controls",
            "layout": "IPY_MODEL_8c35051484aa464da157fdfcb9fa2330"
          }
        },
        "c1576a33248145cd9d8eeb4dc752520c": {
          "model_module": "@jupyter-widgets/output",
          "model_name": "OutputModel",
          "state": {
            "_view_name": "OutputView",
            "msg_id": "",
            "_dom_classes": [],
            "_model_name": "OutputModel",
            "outputs": [
              {
                "output_type": "stream",
                "metadata": {
                  "tags": []
                },
                "text": "Starting simulation at t=0. s for a duration of 1. s\n",
                "stream": "stdout"
              },
              {
                "output_type": "stream",
                "metadata": {
                  "tags": []
                },
                "text": "1. s (100%) simulated in < 1s\n",
                "stream": "stdout"
              },
              {
                "output_type": "stream",
                "metadata": {
                  "tags": []
                },
                "text": "Starting simulation at t=1. s for a duration of 1. s\n",
                "stream": "stdout"
              },
              {
                "output_type": "stream",
                "metadata": {
                  "tags": []
                },
                "text": "1. s (100%) simulated in < 1s\n",
                "stream": "stdout"
              },
              {
                "output_type": "display_data",
                "metadata": {
                  "tags": [],
                  "needs_background": "light"
                },
                "image/png": "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\n",
                "text/plain": "<Figure size 1152x648 with 1 Axes>"
              }
            ],
            "_view_module": "@jupyter-widgets/output",
            "_model_module_version": "1.0.0",
            "_view_count": null,
            "_view_module_version": "1.0.0",
            "layout": "IPY_MODEL_15678d642a224710bddd22359977db8f",
            "_model_module": "@jupyter-widgets/output"
          }
        },
        "af09efac51cb4fdc8c3719bcc66534ec": {
          "model_module": "@jupyter-widgets/controls",
          "model_name": "SliderStyleModel",
          "state": {
            "_view_name": "StyleView",
            "handle_color": null,
            "_model_name": "SliderStyleModel",
            "description_width": "150px",
            "_view_module": "@jupyter-widgets/base",
            "_model_module_version": "1.5.0",
            "_view_count": null,
            "_view_module_version": "1.2.0",
            "_model_module": "@jupyter-widgets/controls"
          }
        },
        "88f39cfca7a1425c89b798cd51551c88": {
          "model_module": "@jupyter-widgets/base",
          "model_name": "LayoutModel",
          "state": {
            "_view_name": "LayoutView",
            "grid_template_rows": null,
            "right": null,
            "justify_content": null,
            "_view_module": "@jupyter-widgets/base",
            "overflow": null,
            "_model_module_version": "1.2.0",
            "_view_count": null,
            "flex_flow": null,
            "width": "400px",
            "min_width": null,
            "border": null,
            "align_items": null,
            "bottom": null,
            "_model_module": "@jupyter-widgets/base",
            "top": null,
            "grid_column": null,
            "overflow_y": null,
            "overflow_x": null,
            "grid_auto_flow": null,
            "grid_area": null,
            "grid_template_columns": null,
            "flex": null,
            "_model_name": "LayoutModel",
            "justify_items": null,
            "grid_row": null,
            "max_height": null,
            "align_content": null,
            "visibility": null,
            "align_self": null,
            "height": null,
            "min_height": null,
            "padding": null,
            "grid_auto_rows": null,
            "grid_gap": null,
            "max_width": null,
            "order": null,
            "_view_module_version": "1.2.0",
            "grid_template_areas": null,
            "object_position": null,
            "object_fit": null,
            "grid_auto_columns": null,
            "margin": null,
            "display": null,
            "left": null
          }
        },
        "7e944d9eafcc44da8dac969f8a0de2c4": {
          "model_module": "@jupyter-widgets/controls",
          "model_name": "SliderStyleModel",
          "state": {
            "_view_name": "StyleView",
            "handle_color": null,
            "_model_name": "SliderStyleModel",
            "description_width": "150px",
            "_view_module": "@jupyter-widgets/base",
            "_model_module_version": "1.5.0",
            "_view_count": null,
            "_view_module_version": "1.2.0",
            "_model_module": "@jupyter-widgets/controls"
          }
        },
        "9520de50c89c4f48b82dda61302ab178": {
          "model_module": "@jupyter-widgets/base",
          "model_name": "LayoutModel",
          "state": {
            "_view_name": "LayoutView",
            "grid_template_rows": null,
            "right": null,
            "justify_content": null,
            "_view_module": "@jupyter-widgets/base",
            "overflow": null,
            "_model_module_version": "1.2.0",
            "_view_count": null,
            "flex_flow": null,
            "width": "400px",
            "min_width": null,
            "border": null,
            "align_items": null,
            "bottom": null,
            "_model_module": "@jupyter-widgets/base",
            "top": null,
            "grid_column": null,
            "overflow_y": null,
            "overflow_x": null,
            "grid_auto_flow": null,
            "grid_area": null,
            "grid_template_columns": null,
            "flex": null,
            "_model_name": "LayoutModel",
            "justify_items": null,
            "grid_row": null,
            "max_height": null,
            "align_content": null,
            "visibility": null,
            "align_self": null,
            "height": null,
            "min_height": null,
            "padding": null,
            "grid_auto_rows": null,
            "grid_gap": null,
            "max_width": null,
            "order": null,
            "_view_module_version": "1.2.0",
            "grid_template_areas": null,
            "object_position": null,
            "object_fit": null,
            "grid_auto_columns": null,
            "margin": null,
            "display": null,
            "left": null
          }
        },
        "d4e12d93dd5c4ad2b94f8e11f7f6cf1d": {
          "model_module": "@jupyter-widgets/controls",
          "model_name": "SliderStyleModel",
          "state": {
            "_view_name": "StyleView",
            "handle_color": null,
            "_model_name": "SliderStyleModel",
            "description_width": "150px",
            "_view_module": "@jupyter-widgets/base",
            "_model_module_version": "1.5.0",
            "_view_count": null,
            "_view_module_version": "1.2.0",
            "_model_module": "@jupyter-widgets/controls"
          }
        },
        "05c99f54a2204127bdfd91176bbda9c3": {
          "model_module": "@jupyter-widgets/base",
          "model_name": "LayoutModel",
          "state": {
            "_view_name": "LayoutView",
            "grid_template_rows": null,
            "right": null,
            "justify_content": null,
            "_view_module": "@jupyter-widgets/base",
            "overflow": null,
            "_model_module_version": "1.2.0",
            "_view_count": null,
            "flex_flow": null,
            "width": "400px",
            "min_width": null,
            "border": null,
            "align_items": null,
            "bottom": null,
            "_model_module": "@jupyter-widgets/base",
            "top": null,
            "grid_column": null,
            "overflow_y": null,
            "overflow_x": null,
            "grid_auto_flow": null,
            "grid_area": null,
            "grid_template_columns": null,
            "flex": null,
            "_model_name": "LayoutModel",
            "justify_items": null,
            "grid_row": null,
            "max_height": null,
            "align_content": null,
            "visibility": null,
            "align_self": null,
            "height": null,
            "min_height": null,
            "padding": null,
            "grid_auto_rows": null,
            "grid_gap": null,
            "max_width": null,
            "order": null,
            "_view_module_version": "1.2.0",
            "grid_template_areas": null,
            "object_position": null,
            "object_fit": null,
            "grid_auto_columns": null,
            "margin": null,
            "display": null,
            "left": null
          }
        },
        "1a561d51d28e4e8fa1b9a9607220aa9b": {
          "model_module": "@jupyter-widgets/controls",
          "model_name": "SliderStyleModel",
          "state": {
            "_view_name": "StyleView",
            "handle_color": null,
            "_model_name": "SliderStyleModel",
            "description_width": "150px",
            "_view_module": "@jupyter-widgets/base",
            "_model_module_version": "1.5.0",
            "_view_count": null,
            "_view_module_version": "1.2.0",
            "_model_module": "@jupyter-widgets/controls"
          }
        },
        "dd2afa1650ba4de0b8acb0cee6514127": {
          "model_module": "@jupyter-widgets/base",
          "model_name": "LayoutModel",
          "state": {
            "_view_name": "LayoutView",
            "grid_template_rows": null,
            "right": null,
            "justify_content": null,
            "_view_module": "@jupyter-widgets/base",
            "overflow": null,
            "_model_module_version": "1.2.0",
            "_view_count": null,
            "flex_flow": null,
            "width": "400px",
            "min_width": null,
            "border": null,
            "align_items": null,
            "bottom": null,
            "_model_module": "@jupyter-widgets/base",
            "top": null,
            "grid_column": null,
            "overflow_y": null,
            "overflow_x": null,
            "grid_auto_flow": null,
            "grid_area": null,
            "grid_template_columns": null,
            "flex": null,
            "_model_name": "LayoutModel",
            "justify_items": null,
            "grid_row": null,
            "max_height": null,
            "align_content": null,
            "visibility": null,
            "align_self": null,
            "height": null,
            "min_height": null,
            "padding": null,
            "grid_auto_rows": null,
            "grid_gap": null,
            "max_width": null,
            "order": null,
            "_view_module_version": "1.2.0",
            "grid_template_areas": null,
            "object_position": null,
            "object_fit": null,
            "grid_auto_columns": null,
            "margin": null,
            "display": null,
            "left": null
          }
        },
        "f47f5348f8bf48d2b4b0f6a99c005cad": {
          "model_module": "@jupyter-widgets/controls",
          "model_name": "SliderStyleModel",
          "state": {
            "_view_name": "StyleView",
            "handle_color": null,
            "_model_name": "SliderStyleModel",
            "description_width": "150px",
            "_view_module": "@jupyter-widgets/base",
            "_model_module_version": "1.5.0",
            "_view_count": null,
            "_view_module_version": "1.2.0",
            "_model_module": "@jupyter-widgets/controls"
          }
        },
        "25ff85100f754294aaead6618bbb35cb": {
          "model_module": "@jupyter-widgets/base",
          "model_name": "LayoutModel",
          "state": {
            "_view_name": "LayoutView",
            "grid_template_rows": null,
            "right": null,
            "justify_content": null,
            "_view_module": "@jupyter-widgets/base",
            "overflow": null,
            "_model_module_version": "1.2.0",
            "_view_count": null,
            "flex_flow": null,
            "width": "400px",
            "min_width": null,
            "border": null,
            "align_items": null,
            "bottom": null,
            "_model_module": "@jupyter-widgets/base",
            "top": null,
            "grid_column": null,
            "overflow_y": null,
            "overflow_x": null,
            "grid_auto_flow": null,
            "grid_area": null,
            "grid_template_columns": null,
            "flex": null,
            "_model_name": "LayoutModel",
            "justify_items": null,
            "grid_row": null,
            "max_height": null,
            "align_content": null,
            "visibility": null,
            "align_self": null,
            "height": null,
            "min_height": null,
            "padding": null,
            "grid_auto_rows": null,
            "grid_gap": null,
            "max_width": null,
            "order": null,
            "_view_module_version": "1.2.0",
            "grid_template_areas": null,
            "object_position": null,
            "object_fit": null,
            "grid_auto_columns": null,
            "margin": null,
            "display": null,
            "left": null
          }
        },
        "fbb0249e23874e9b98c93c25c2a460ac": {
          "model_module": "@jupyter-widgets/controls",
          "model_name": "SliderStyleModel",
          "state": {
            "_view_name": "StyleView",
            "handle_color": null,
            "_model_name": "SliderStyleModel",
            "description_width": "150px",
            "_view_module": "@jupyter-widgets/base",
            "_model_module_version": "1.5.0",
            "_view_count": null,
            "_view_module_version": "1.2.0",
            "_model_module": "@jupyter-widgets/controls"
          }
        },
        "7852d56f623a497383abeeb87d537067": {
          "model_module": "@jupyter-widgets/base",
          "model_name": "LayoutModel",
          "state": {
            "_view_name": "LayoutView",
            "grid_template_rows": null,
            "right": null,
            "justify_content": null,
            "_view_module": "@jupyter-widgets/base",
            "overflow": null,
            "_model_module_version": "1.2.0",
            "_view_count": null,
            "flex_flow": null,
            "width": "400px",
            "min_width": null,
            "border": null,
            "align_items": null,
            "bottom": null,
            "_model_module": "@jupyter-widgets/base",
            "top": null,
            "grid_column": null,
            "overflow_y": null,
            "overflow_x": null,
            "grid_auto_flow": null,
            "grid_area": null,
            "grid_template_columns": null,
            "flex": null,
            "_model_name": "LayoutModel",
            "justify_items": null,
            "grid_row": null,
            "max_height": null,
            "align_content": null,
            "visibility": null,
            "align_self": null,
            "height": null,
            "min_height": null,
            "padding": null,
            "grid_auto_rows": null,
            "grid_gap": null,
            "max_width": null,
            "order": null,
            "_view_module_version": "1.2.0",
            "grid_template_areas": null,
            "object_position": null,
            "object_fit": null,
            "grid_auto_columns": null,
            "margin": null,
            "display": null,
            "left": null
          }
        },
        "3ef30ee5abf840e696c37d208e4b5906": {
          "model_module": "@jupyter-widgets/controls",
          "model_name": "SliderStyleModel",
          "state": {
            "_view_name": "StyleView",
            "handle_color": null,
            "_model_name": "SliderStyleModel",
            "description_width": "150px",
            "_view_module": "@jupyter-widgets/base",
            "_model_module_version": "1.5.0",
            "_view_count": null,
            "_view_module_version": "1.2.0",
            "_model_module": "@jupyter-widgets/controls"
          }
        },
        "45fe0642311a4251900c5784c45d528e": {
          "model_module": "@jupyter-widgets/base",
          "model_name": "LayoutModel",
          "state": {
            "_view_name": "LayoutView",
            "grid_template_rows": null,
            "right": null,
            "justify_content": null,
            "_view_module": "@jupyter-widgets/base",
            "overflow": null,
            "_model_module_version": "1.2.0",
            "_view_count": null,
            "flex_flow": null,
            "width": "400px",
            "min_width": null,
            "border": null,
            "align_items": null,
            "bottom": null,
            "_model_module": "@jupyter-widgets/base",
            "top": null,
            "grid_column": null,
            "overflow_y": null,
            "overflow_x": null,
            "grid_auto_flow": null,
            "grid_area": null,
            "grid_template_columns": null,
            "flex": null,
            "_model_name": "LayoutModel",
            "justify_items": null,
            "grid_row": null,
            "max_height": null,
            "align_content": null,
            "visibility": null,
            "align_self": null,
            "height": null,
            "min_height": null,
            "padding": null,
            "grid_auto_rows": null,
            "grid_gap": null,
            "max_width": null,
            "order": null,
            "_view_module_version": "1.2.0",
            "grid_template_areas": null,
            "object_position": null,
            "object_fit": null,
            "grid_auto_columns": null,
            "margin": null,
            "display": null,
            "left": null
          }
        },
        "27482507d4684810a34ab2e841baddbd": {
          "model_module": "@jupyter-widgets/controls",
          "model_name": "SliderStyleModel",
          "state": {
            "_view_name": "StyleView",
            "handle_color": null,
            "_model_name": "SliderStyleModel",
            "description_width": "150px",
            "_view_module": "@jupyter-widgets/base",
            "_model_module_version": "1.5.0",
            "_view_count": null,
            "_view_module_version": "1.2.0",
            "_model_module": "@jupyter-widgets/controls"
          }
        },
        "d8e3ad9c8c694749b52d8810d56b15ca": {
          "model_module": "@jupyter-widgets/base",
          "model_name": "LayoutModel",
          "state": {
            "_view_name": "LayoutView",
            "grid_template_rows": null,
            "right": null,
            "justify_content": null,
            "_view_module": "@jupyter-widgets/base",
            "overflow": null,
            "_model_module_version": "1.2.0",
            "_view_count": null,
            "flex_flow": null,
            "width": "400px",
            "min_width": null,
            "border": null,
            "align_items": null,
            "bottom": null,
            "_model_module": "@jupyter-widgets/base",
            "top": null,
            "grid_column": null,
            "overflow_y": null,
            "overflow_x": null,
            "grid_auto_flow": null,
            "grid_area": null,
            "grid_template_columns": null,
            "flex": null,
            "_model_name": "LayoutModel",
            "justify_items": null,
            "grid_row": null,
            "max_height": null,
            "align_content": null,
            "visibility": null,
            "align_self": null,
            "height": null,
            "min_height": null,
            "padding": null,
            "grid_auto_rows": null,
            "grid_gap": null,
            "max_width": null,
            "order": null,
            "_view_module_version": "1.2.0",
            "grid_template_areas": null,
            "object_position": null,
            "object_fit": null,
            "grid_auto_columns": null,
            "margin": null,
            "display": null,
            "left": null
          }
        },
        "f1cf5741bdc14f7282504aab81992006": {
          "model_module": "@jupyter-widgets/controls",
          "model_name": "SliderStyleModel",
          "state": {
            "_view_name": "StyleView",
            "handle_color": null,
            "_model_name": "SliderStyleModel",
            "description_width": "150px",
            "_view_module": "@jupyter-widgets/base",
            "_model_module_version": "1.5.0",
            "_view_count": null,
            "_view_module_version": "1.2.0",
            "_model_module": "@jupyter-widgets/controls"
          }
        },
        "0249fd7f4d764245ba3e8b53b25a143e": {
          "model_module": "@jupyter-widgets/base",
          "model_name": "LayoutModel",
          "state": {
            "_view_name": "LayoutView",
            "grid_template_rows": null,
            "right": null,
            "justify_content": null,
            "_view_module": "@jupyter-widgets/base",
            "overflow": null,
            "_model_module_version": "1.2.0",
            "_view_count": null,
            "flex_flow": null,
            "width": "400px",
            "min_width": null,
            "border": null,
            "align_items": null,
            "bottom": null,
            "_model_module": "@jupyter-widgets/base",
            "top": null,
            "grid_column": null,
            "overflow_y": null,
            "overflow_x": null,
            "grid_auto_flow": null,
            "grid_area": null,
            "grid_template_columns": null,
            "flex": null,
            "_model_name": "LayoutModel",
            "justify_items": null,
            "grid_row": null,
            "max_height": null,
            "align_content": null,
            "visibility": null,
            "align_self": null,
            "height": null,
            "min_height": null,
            "padding": null,
            "grid_auto_rows": null,
            "grid_gap": null,
            "max_width": null,
            "order": null,
            "_view_module_version": "1.2.0",
            "grid_template_areas": null,
            "object_position": null,
            "object_fit": null,
            "grid_auto_columns": null,
            "margin": null,
            "display": null,
            "left": null
          }
        },
        "63411ad605f74238b015b0ed563947ee": {
          "model_module": "@jupyter-widgets/controls",
          "model_name": "SliderStyleModel",
          "state": {
            "_view_name": "StyleView",
            "handle_color": null,
            "_model_name": "SliderStyleModel",
            "description_width": "150px",
            "_view_module": "@jupyter-widgets/base",
            "_model_module_version": "1.5.0",
            "_view_count": null,
            "_view_module_version": "1.2.0",
            "_model_module": "@jupyter-widgets/controls"
          }
        },
        "8c35051484aa464da157fdfcb9fa2330": {
          "model_module": "@jupyter-widgets/base",
          "model_name": "LayoutModel",
          "state": {
            "_view_name": "LayoutView",
            "grid_template_rows": null,
            "right": null,
            "justify_content": null,
            "_view_module": "@jupyter-widgets/base",
            "overflow": null,
            "_model_module_version": "1.2.0",
            "_view_count": null,
            "flex_flow": null,
            "width": "400px",
            "min_width": null,
            "border": null,
            "align_items": null,
            "bottom": null,
            "_model_module": "@jupyter-widgets/base",
            "top": null,
            "grid_column": null,
            "overflow_y": null,
            "overflow_x": null,
            "grid_auto_flow": null,
            "grid_area": null,
            "grid_template_columns": null,
            "flex": null,
            "_model_name": "LayoutModel",
            "justify_items": null,
            "grid_row": null,
            "max_height": null,
            "align_content": null,
            "visibility": null,
            "align_self": null,
            "height": null,
            "min_height": null,
            "padding": null,
            "grid_auto_rows": null,
            "grid_gap": null,
            "max_width": null,
            "order": null,
            "_view_module_version": "1.2.0",
            "grid_template_areas": null,
            "object_position": null,
            "object_fit": null,
            "grid_auto_columns": null,
            "margin": null,
            "display": null,
            "left": null
          }
        },
        "15678d642a224710bddd22359977db8f": {
          "model_module": "@jupyter-widgets/base",
          "model_name": "LayoutModel",
          "state": {
            "_view_name": "LayoutView",
            "grid_template_rows": null,
            "right": null,
            "justify_content": null,
            "_view_module": "@jupyter-widgets/base",
            "overflow": null,
            "_model_module_version": "1.2.0",
            "_view_count": null,
            "flex_flow": null,
            "width": null,
            "min_width": null,
            "border": null,
            "align_items": null,
            "bottom": null,
            "_model_module": "@jupyter-widgets/base",
            "top": null,
            "grid_column": null,
            "overflow_y": null,
            "overflow_x": null,
            "grid_auto_flow": null,
            "grid_area": null,
            "grid_template_columns": null,
            "flex": null,
            "_model_name": "LayoutModel",
            "justify_items": null,
            "grid_row": null,
            "max_height": null,
            "align_content": null,
            "visibility": null,
            "align_self": null,
            "height": null,
            "min_height": null,
            "padding": null,
            "grid_auto_rows": null,
            "grid_gap": null,
            "max_width": null,
            "order": null,
            "_view_module_version": "1.2.0",
            "grid_template_areas": null,
            "object_position": null,
            "object_fit": null,
            "grid_auto_columns": null,
            "margin": null,
            "display": null,
            "left": null
          }
        },
        "a6ef7918443e446d97a3045711c09935": {
          "model_module": "@jupyter-widgets/controls",
          "model_name": "VBoxModel",
          "state": {
            "_view_name": "VBoxView",
            "_dom_classes": [
              "widget-interact"
            ],
            "_model_name": "VBoxModel",
            "_view_module": "@jupyter-widgets/controls",
            "_model_module_version": "1.5.0",
            "_view_count": null,
            "_view_module_version": "1.5.0",
            "box_style": "",
            "layout": "IPY_MODEL_4eb2fadfff2c44a69c5d1c169b5c5a9a",
            "_model_module": "@jupyter-widgets/controls",
            "children": [
              "IPY_MODEL_1a53870900dc4f01aaf52c27789f72b4",
              "IPY_MODEL_bd849f9122e7489daf9bb5f7c391b571",
              "IPY_MODEL_a8e247956bd74a0c8cbbfa2885505557",
              "IPY_MODEL_12b735ffee614c6c87eb2c647ab99fe7",
              "IPY_MODEL_6133735f64294de89d8c996d7499cd09",
              "IPY_MODEL_096694eaa1dd4ec3b45890e2ec96678b"
            ]
          }
        },
        "4eb2fadfff2c44a69c5d1c169b5c5a9a": {
          "model_module": "@jupyter-widgets/base",
          "model_name": "LayoutModel",
          "state": {
            "_view_name": "LayoutView",
            "grid_template_rows": null,
            "right": null,
            "justify_content": null,
            "_view_module": "@jupyter-widgets/base",
            "overflow": null,
            "_model_module_version": "1.2.0",
            "_view_count": null,
            "flex_flow": null,
            "width": null,
            "min_width": null,
            "border": null,
            "align_items": null,
            "bottom": null,
            "_model_module": "@jupyter-widgets/base",
            "top": null,
            "grid_column": null,
            "overflow_y": null,
            "overflow_x": null,
            "grid_auto_flow": null,
            "grid_area": null,
            "grid_template_columns": null,
            "flex": null,
            "_model_name": "LayoutModel",
            "justify_items": null,
            "grid_row": null,
            "max_height": null,
            "align_content": null,
            "visibility": null,
            "align_self": null,
            "height": null,
            "min_height": null,
            "padding": null,
            "grid_auto_rows": null,
            "grid_gap": null,
            "max_width": null,
            "order": null,
            "_view_module_version": "1.2.0",
            "grid_template_areas": null,
            "object_position": null,
            "object_fit": null,
            "grid_auto_columns": null,
            "margin": null,
            "display": null,
            "left": null
          }
        },
        "1a53870900dc4f01aaf52c27789f72b4": {
          "model_module": "@jupyter-widgets/controls",
          "model_name": "FloatSliderModel",
          "state": {
            "_view_name": "FloatSliderView",
            "style": "IPY_MODEL_52f43383dbb14a95a7fda39a0cdacc93",
            "_dom_classes": [],
            "description": "a (1/ms):",
            "step": 0.01,
            "_model_name": "FloatSliderModel",
            "orientation": "horizontal",
            "max": 0.1,
            "_view_module": "@jupyter-widgets/controls",
            "_model_module_version": "1.5.0",
            "value": 0.02,
            "_view_count": null,
            "disabled": false,
            "_view_module_version": "1.5.0",
            "min": 0,
            "continuous_update": false,
            "readout_format": ".2f",
            "description_tooltip": null,
            "readout": true,
            "_model_module": "@jupyter-widgets/controls",
            "layout": "IPY_MODEL_1ea3116cbe65449cbc708985d2ae9cc0"
          }
        },
        "bd849f9122e7489daf9bb5f7c391b571": {
          "model_module": "@jupyter-widgets/controls",
          "model_name": "FloatSliderModel",
          "state": {
            "_view_name": "FloatSliderView",
            "style": "IPY_MODEL_7855ab7f0cdd4dd0b7ef0cefad175e72",
            "_dom_classes": [],
            "description": "b (1/ms):",
            "step": 0.1,
            "_model_name": "FloatSliderModel",
            "orientation": "horizontal",
            "max": 1,
            "_view_module": "@jupyter-widgets/controls",
            "_model_module_version": "1.5.0",
            "value": 0.2,
            "_view_count": null,
            "disabled": false,
            "_view_module_version": "1.5.0",
            "min": 0,
            "continuous_update": false,
            "readout_format": ".1f",
            "description_tooltip": null,
            "readout": true,
            "_model_module": "@jupyter-widgets/controls",
            "layout": "IPY_MODEL_1e45d2d7fab04ca0b742647885d9d21d"
          }
        },
        "a8e247956bd74a0c8cbbfa2885505557": {
          "model_module": "@jupyter-widgets/controls",
          "model_name": "IntSliderModel",
          "state": {
            "_view_name": "IntSliderView",
            "style": "IPY_MODEL_b58564ee8b78467aa9139232f3ff2d6c",
            "_dom_classes": [],
            "description": "c (mV):",
            "step": 5,
            "_model_name": "IntSliderModel",
            "orientation": "horizontal",
            "max": -30,
            "_view_module": "@jupyter-widgets/controls",
            "_model_module_version": "1.5.0",
            "value": -55,
            "_view_count": null,
            "disabled": false,
            "_view_module_version": "1.5.0",
            "min": -80,
            "continuous_update": false,
            "readout_format": "d",
            "description_tooltip": null,
            "readout": true,
            "_model_module": "@jupyter-widgets/controls",
            "layout": "IPY_MODEL_485d277f2b904261ba0bfe4d49aef622"
          }
        },
        "12b735ffee614c6c87eb2c647ab99fe7": {
          "model_module": "@jupyter-widgets/controls",
          "model_name": "IntSliderModel",
          "state": {
            "_view_name": "IntSliderView",
            "style": "IPY_MODEL_645b3ef41c3c4df28062e4b5ac2f6b5e",
            "_dom_classes": [],
            "description": "d (volt/second):",
            "step": 2,
            "_model_name": "IntSliderModel",
            "orientation": "horizontal",
            "max": 20,
            "_view_module": "@jupyter-widgets/controls",
            "_model_module_version": "1.5.0",
            "value": 8,
            "_view_count": null,
            "disabled": false,
            "_view_module_version": "1.5.0",
            "min": 0,
            "continuous_update": false,
            "readout_format": "d",
            "description_tooltip": null,
            "readout": true,
            "_model_module": "@jupyter-widgets/controls",
            "layout": "IPY_MODEL_a2897ce2e7ba4f96aec625656cb3e5c2"
          }
        },
        "6133735f64294de89d8c996d7499cd09": {
          "model_module": "@jupyter-widgets/controls",
          "model_name": "IntSliderModel",
          "state": {
            "_view_name": "IntSliderView",
            "style": "IPY_MODEL_f7e09d79e54f407ebd3b05c5120ed585",
            "_dom_classes": [],
            "description": "I (volt/second):",
            "step": 5,
            "_model_name": "IntSliderModel",
            "orientation": "horizontal",
            "max": 50,
            "_view_module": "@jupyter-widgets/controls",
            "_model_module_version": "1.5.0",
            "value": 10,
            "_view_count": null,
            "disabled": false,
            "_view_module_version": "1.5.0",
            "min": 0,
            "continuous_update": false,
            "readout_format": "d",
            "description_tooltip": null,
            "readout": true,
            "_model_module": "@jupyter-widgets/controls",
            "layout": "IPY_MODEL_b89f6227622b4bfd9e855b86c0989b0e"
          }
        },
        "096694eaa1dd4ec3b45890e2ec96678b": {
          "model_module": "@jupyter-widgets/output",
          "model_name": "OutputModel",
          "state": {
            "_view_name": "OutputView",
            "msg_id": "",
            "_dom_classes": [],
            "_model_name": "OutputModel",
            "outputs": [
              {
                "output_type": "stream",
                "metadata": {
                  "tags": []
                },
                "text": "Starting simulation at t=0. s for a duration of 1. s\n",
                "stream": "stdout"
              },
              {
                "output_type": "stream",
                "metadata": {
                  "tags": []
                },
                "text": "1. s (100%) simulated in < 1s\n",
                "stream": "stdout"
              },
              {
                "output_type": "stream",
                "metadata": {
                  "tags": []
                },
                "text": "Starting simulation at t=1. s for a duration of 1. s\n",
                "stream": "stdout"
              },
              {
                "output_type": "stream",
                "metadata": {
                  "tags": []
                },
                "text": "1. s (100%) simulated in 2s\n",
                "stream": "stdout"
              },
              {
                "output_type": "display_data",
                "metadata": {
                  "tags": [],
                  "needs_background": "light"
                },
                "image/png": "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\n",
                "text/plain": "<Figure size 1152x648 with 1 Axes>"
              }
            ],
            "_view_module": "@jupyter-widgets/output",
            "_model_module_version": "1.0.0",
            "_view_count": null,
            "_view_module_version": "1.0.0",
            "layout": "IPY_MODEL_632d87ca7eca4ebf830a38e9c3e8e1d1",
            "_model_module": "@jupyter-widgets/output"
          }
        },
        "52f43383dbb14a95a7fda39a0cdacc93": {
          "model_module": "@jupyter-widgets/controls",
          "model_name": "SliderStyleModel",
          "state": {
            "_view_name": "StyleView",
            "handle_color": null,
            "_model_name": "SliderStyleModel",
            "description_width": "",
            "_view_module": "@jupyter-widgets/base",
            "_model_module_version": "1.5.0",
            "_view_count": null,
            "_view_module_version": "1.2.0",
            "_model_module": "@jupyter-widgets/controls"
          }
        },
        "1ea3116cbe65449cbc708985d2ae9cc0": {
          "model_module": "@jupyter-widgets/base",
          "model_name": "LayoutModel",
          "state": {
            "_view_name": "LayoutView",
            "grid_template_rows": null,
            "right": null,
            "justify_content": null,
            "_view_module": "@jupyter-widgets/base",
            "overflow": null,
            "_model_module_version": "1.2.0",
            "_view_count": null,
            "flex_flow": null,
            "width": null,
            "min_width": null,
            "border": null,
            "align_items": null,
            "bottom": null,
            "_model_module": "@jupyter-widgets/base",
            "top": null,
            "grid_column": null,
            "overflow_y": null,
            "overflow_x": null,
            "grid_auto_flow": null,
            "grid_area": null,
            "grid_template_columns": null,
            "flex": null,
            "_model_name": "LayoutModel",
            "justify_items": null,
            "grid_row": null,
            "max_height": null,
            "align_content": null,
            "visibility": null,
            "align_self": null,
            "height": null,
            "min_height": null,
            "padding": null,
            "grid_auto_rows": null,
            "grid_gap": null,
            "max_width": null,
            "order": null,
            "_view_module_version": "1.2.0",
            "grid_template_areas": null,
            "object_position": null,
            "object_fit": null,
            "grid_auto_columns": null,
            "margin": null,
            "display": null,
            "left": null
          }
        },
        "7855ab7f0cdd4dd0b7ef0cefad175e72": {
          "model_module": "@jupyter-widgets/controls",
          "model_name": "SliderStyleModel",
          "state": {
            "_view_name": "StyleView",
            "handle_color": null,
            "_model_name": "SliderStyleModel",
            "description_width": "",
            "_view_module": "@jupyter-widgets/base",
            "_model_module_version": "1.5.0",
            "_view_count": null,
            "_view_module_version": "1.2.0",
            "_model_module": "@jupyter-widgets/controls"
          }
        },
        "1e45d2d7fab04ca0b742647885d9d21d": {
          "model_module": "@jupyter-widgets/base",
          "model_name": "LayoutModel",
          "state": {
            "_view_name": "LayoutView",
            "grid_template_rows": null,
            "right": null,
            "justify_content": null,
            "_view_module": "@jupyter-widgets/base",
            "overflow": null,
            "_model_module_version": "1.2.0",
            "_view_count": null,
            "flex_flow": null,
            "width": null,
            "min_width": null,
            "border": null,
            "align_items": null,
            "bottom": null,
            "_model_module": "@jupyter-widgets/base",
            "top": null,
            "grid_column": null,
            "overflow_y": null,
            "overflow_x": null,
            "grid_auto_flow": null,
            "grid_area": null,
            "grid_template_columns": null,
            "flex": null,
            "_model_name": "LayoutModel",
            "justify_items": null,
            "grid_row": null,
            "max_height": null,
            "align_content": null,
            "visibility": null,
            "align_self": null,
            "height": null,
            "min_height": null,
            "padding": null,
            "grid_auto_rows": null,
            "grid_gap": null,
            "max_width": null,
            "order": null,
            "_view_module_version": "1.2.0",
            "grid_template_areas": null,
            "object_position": null,
            "object_fit": null,
            "grid_auto_columns": null,
            "margin": null,
            "display": null,
            "left": null
          }
        },
        "b58564ee8b78467aa9139232f3ff2d6c": {
          "model_module": "@jupyter-widgets/controls",
          "model_name": "SliderStyleModel",
          "state": {
            "_view_name": "StyleView",
            "handle_color": null,
            "_model_name": "SliderStyleModel",
            "description_width": "",
            "_view_module": "@jupyter-widgets/base",
            "_model_module_version": "1.5.0",
            "_view_count": null,
            "_view_module_version": "1.2.0",
            "_model_module": "@jupyter-widgets/controls"
          }
        },
        "485d277f2b904261ba0bfe4d49aef622": {
          "model_module": "@jupyter-widgets/base",
          "model_name": "LayoutModel",
          "state": {
            "_view_name": "LayoutView",
            "grid_template_rows": null,
            "right": null,
            "justify_content": null,
            "_view_module": "@jupyter-widgets/base",
            "overflow": null,
            "_model_module_version": "1.2.0",
            "_view_count": null,
            "flex_flow": null,
            "width": null,
            "min_width": null,
            "border": null,
            "align_items": null,
            "bottom": null,
            "_model_module": "@jupyter-widgets/base",
            "top": null,
            "grid_column": null,
            "overflow_y": null,
            "overflow_x": null,
            "grid_auto_flow": null,
            "grid_area": null,
            "grid_template_columns": null,
            "flex": null,
            "_model_name": "LayoutModel",
            "justify_items": null,
            "grid_row": null,
            "max_height": null,
            "align_content": null,
            "visibility": null,
            "align_self": null,
            "height": null,
            "min_height": null,
            "padding": null,
            "grid_auto_rows": null,
            "grid_gap": null,
            "max_width": null,
            "order": null,
            "_view_module_version": "1.2.0",
            "grid_template_areas": null,
            "object_position": null,
            "object_fit": null,
            "grid_auto_columns": null,
            "margin": null,
            "display": null,
            "left": null
          }
        },
        "645b3ef41c3c4df28062e4b5ac2f6b5e": {
          "model_module": "@jupyter-widgets/controls",
          "model_name": "SliderStyleModel",
          "state": {
            "_view_name": "StyleView",
            "handle_color": null,
            "_model_name": "SliderStyleModel",
            "description_width": "",
            "_view_module": "@jupyter-widgets/base",
            "_model_module_version": "1.5.0",
            "_view_count": null,
            "_view_module_version": "1.2.0",
            "_model_module": "@jupyter-widgets/controls"
          }
        },
        "a2897ce2e7ba4f96aec625656cb3e5c2": {
          "model_module": "@jupyter-widgets/base",
          "model_name": "LayoutModel",
          "state": {
            "_view_name": "LayoutView",
            "grid_template_rows": null,
            "right": null,
            "justify_content": null,
            "_view_module": "@jupyter-widgets/base",
            "overflow": null,
            "_model_module_version": "1.2.0",
            "_view_count": null,
            "flex_flow": null,
            "width": null,
            "min_width": null,
            "border": null,
            "align_items": null,
            "bottom": null,
            "_model_module": "@jupyter-widgets/base",
            "top": null,
            "grid_column": null,
            "overflow_y": null,
            "overflow_x": null,
            "grid_auto_flow": null,
            "grid_area": null,
            "grid_template_columns": null,
            "flex": null,
            "_model_name": "LayoutModel",
            "justify_items": null,
            "grid_row": null,
            "max_height": null,
            "align_content": null,
            "visibility": null,
            "align_self": null,
            "height": null,
            "min_height": null,
            "padding": null,
            "grid_auto_rows": null,
            "grid_gap": null,
            "max_width": null,
            "order": null,
            "_view_module_version": "1.2.0",
            "grid_template_areas": null,
            "object_position": null,
            "object_fit": null,
            "grid_auto_columns": null,
            "margin": null,
            "display": null,
            "left": null
          }
        },
        "f7e09d79e54f407ebd3b05c5120ed585": {
          "model_module": "@jupyter-widgets/controls",
          "model_name": "SliderStyleModel",
          "state": {
            "_view_name": "StyleView",
            "handle_color": null,
            "_model_name": "SliderStyleModel",
            "description_width": "",
            "_view_module": "@jupyter-widgets/base",
            "_model_module_version": "1.5.0",
            "_view_count": null,
            "_view_module_version": "1.2.0",
            "_model_module": "@jupyter-widgets/controls"
          }
        },
        "b89f6227622b4bfd9e855b86c0989b0e": {
          "model_module": "@jupyter-widgets/base",
          "model_name": "LayoutModel",
          "state": {
            "_view_name": "LayoutView",
            "grid_template_rows": null,
            "right": null,
            "justify_content": null,
            "_view_module": "@jupyter-widgets/base",
            "overflow": null,
            "_model_module_version": "1.2.0",
            "_view_count": null,
            "flex_flow": null,
            "width": null,
            "min_width": null,
            "border": null,
            "align_items": null,
            "bottom": null,
            "_model_module": "@jupyter-widgets/base",
            "top": null,
            "grid_column": null,
            "overflow_y": null,
            "overflow_x": null,
            "grid_auto_flow": null,
            "grid_area": null,
            "grid_template_columns": null,
            "flex": null,
            "_model_name": "LayoutModel",
            "justify_items": null,
            "grid_row": null,
            "max_height": null,
            "align_content": null,
            "visibility": null,
            "align_self": null,
            "height": null,
            "min_height": null,
            "padding": null,
            "grid_auto_rows": null,
            "grid_gap": null,
            "max_width": null,
            "order": null,
            "_view_module_version": "1.2.0",
            "grid_template_areas": null,
            "object_position": null,
            "object_fit": null,
            "grid_auto_columns": null,
            "margin": null,
            "display": null,
            "left": null
          }
        },
        "632d87ca7eca4ebf830a38e9c3e8e1d1": {
          "model_module": "@jupyter-widgets/base",
          "model_name": "LayoutModel",
          "state": {
            "_view_name": "LayoutView",
            "grid_template_rows": null,
            "right": null,
            "justify_content": null,
            "_view_module": "@jupyter-widgets/base",
            "overflow": null,
            "_model_module_version": "1.2.0",
            "_view_count": null,
            "flex_flow": null,
            "width": null,
            "min_width": null,
            "border": null,
            "align_items": null,
            "bottom": null,
            "_model_module": "@jupyter-widgets/base",
            "top": null,
            "grid_column": null,
            "overflow_y": null,
            "overflow_x": null,
            "grid_auto_flow": null,
            "grid_area": null,
            "grid_template_columns": null,
            "flex": null,
            "_model_name": "LayoutModel",
            "justify_items": null,
            "grid_row": null,
            "max_height": null,
            "align_content": null,
            "visibility": null,
            "align_self": null,
            "height": null,
            "min_height": null,
            "padding": null,
            "grid_auto_rows": null,
            "grid_gap": null,
            "max_width": null,
            "order": null,
            "_view_module_version": "1.2.0",
            "grid_template_areas": null,
            "object_position": null,
            "object_fit": null,
            "grid_auto_columns": null,
            "margin": null,
            "display": null,
            "left": null
          }
        },
        "df48b7461fab4b0ebf1fe2798640eb4d": {
          "model_module": "@jupyter-widgets/controls",
          "model_name": "VBoxModel",
          "state": {
            "_view_name": "VBoxView",
            "_dom_classes": [
              "widget-interact"
            ],
            "_model_name": "VBoxModel",
            "_view_module": "@jupyter-widgets/controls",
            "_model_module_version": "1.5.0",
            "_view_count": null,
            "_view_module_version": "1.5.0",
            "box_style": "",
            "layout": "IPY_MODEL_10a84ed823ef459099594d683c80e767",
            "_model_module": "@jupyter-widgets/controls",
            "children": [
              "IPY_MODEL_6aad2944b76d41cbbfc5ef61828a6f84",
              "IPY_MODEL_7af835cc76604d88a24589ec202b8e59"
            ]
          }
        },
        "10a84ed823ef459099594d683c80e767": {
          "model_module": "@jupyter-widgets/base",
          "model_name": "LayoutModel",
          "state": {
            "_view_name": "LayoutView",
            "grid_template_rows": null,
            "right": null,
            "justify_content": null,
            "_view_module": "@jupyter-widgets/base",
            "overflow": null,
            "_model_module_version": "1.2.0",
            "_view_count": null,
            "flex_flow": null,
            "width": null,
            "min_width": null,
            "border": null,
            "align_items": null,
            "bottom": null,
            "_model_module": "@jupyter-widgets/base",
            "top": null,
            "grid_column": null,
            "overflow_y": null,
            "overflow_x": null,
            "grid_auto_flow": null,
            "grid_area": null,
            "grid_template_columns": null,
            "flex": null,
            "_model_name": "LayoutModel",
            "justify_items": null,
            "grid_row": null,
            "max_height": null,
            "align_content": null,
            "visibility": null,
            "align_self": null,
            "height": null,
            "min_height": null,
            "padding": null,
            "grid_auto_rows": null,
            "grid_gap": null,
            "max_width": null,
            "order": null,
            "_view_module_version": "1.2.0",
            "grid_template_areas": null,
            "object_position": null,
            "object_fit": null,
            "grid_auto_columns": null,
            "margin": null,
            "display": null,
            "left": null
          }
        },
        "6aad2944b76d41cbbfc5ef61828a6f84": {
          "model_module": "@jupyter-widgets/controls",
          "model_name": "FloatSliderModel",
          "state": {
            "_view_name": "FloatSliderView",
            "style": "IPY_MODEL_b2ac911d3f1e4e689e5179ab95315bcb",
            "_dom_classes": [],
            "description": "a (nS):",
            "step": 0.5,
            "_model_name": "FloatSliderModel",
            "orientation": "horizontal",
            "max": 10,
            "_view_module": "@jupyter-widgets/controls",
            "_model_module_version": "1.5.0",
            "value": 4,
            "_view_count": null,
            "disabled": false,
            "_view_module_version": "1.5.0",
            "min": 0,
            "continuous_update": false,
            "readout_format": ".1f",
            "description_tooltip": null,
            "readout": true,
            "_model_module": "@jupyter-widgets/controls",
            "layout": "IPY_MODEL_e09964dcd5774b849aeee46d475674e6"
          }
        },
        "7af835cc76604d88a24589ec202b8e59": {
          "model_module": "@jupyter-widgets/output",
          "model_name": "OutputModel",
          "state": {
            "_view_name": "OutputView",
            "msg_id": "",
            "_dom_classes": [],
            "_model_name": "OutputModel",
            "outputs": [
              {
                "output_type": "stream",
                "metadata": {
                  "tags": []
                },
                "text": "WARNING    \"a\" is an internal variable of group \"neurongroup\", but also exists in the run namespace with the value 4.0. The internal variable will be used. [brian2.groups.group.Group.resolve.resolution_conflict]\n",
                "stream": "stderr"
              },
              {
                "output_type": "stream",
                "metadata": {
                  "tags": []
                },
                "text": "Starting simulation at t=0. s for a duration of 1. s\n",
                "stream": "stdout"
              },
              {
                "output_type": "stream",
                "metadata": {
                  "tags": []
                },
                "text": "1. s (100%) simulated in 1s\n",
                "stream": "stdout"
              },
              {
                "output_type": "stream",
                "metadata": {
                  "tags": []
                },
                "text": "Starting simulation at t=1. s for a duration of 1. s\n",
                "stream": "stdout"
              },
              {
                "output_type": "stream",
                "metadata": {
                  "tags": []
                },
                "text": "1. s (100%) simulated in 3s\n",
                "stream": "stdout"
              },
              {
                "output_type": "display_data",
                "metadata": {
                  "tags": [],
                  "needs_background": "light"
                },
                "image/png": "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\n",
                "text/plain": "<Figure size 1152x648 with 1 Axes>"
              }
            ],
            "_view_module": "@jupyter-widgets/output",
            "_model_module_version": "1.0.0",
            "_view_count": null,
            "_view_module_version": "1.0.0",
            "layout": "IPY_MODEL_05909e8045a24026a13f7bf57b7cbac1",
            "_model_module": "@jupyter-widgets/output"
          }
        },
        "b2ac911d3f1e4e689e5179ab95315bcb": {
          "model_module": "@jupyter-widgets/controls",
          "model_name": "SliderStyleModel",
          "state": {
            "_view_name": "StyleView",
            "handle_color": null,
            "_model_name": "SliderStyleModel",
            "description_width": "",
            "_view_module": "@jupyter-widgets/base",
            "_model_module_version": "1.5.0",
            "_view_count": null,
            "_view_module_version": "1.2.0",
            "_model_module": "@jupyter-widgets/controls"
          }
        },
        "e09964dcd5774b849aeee46d475674e6": {
          "model_module": "@jupyter-widgets/base",
          "model_name": "LayoutModel",
          "state": {
            "_view_name": "LayoutView",
            "grid_template_rows": null,
            "right": null,
            "justify_content": null,
            "_view_module": "@jupyter-widgets/base",
            "overflow": null,
            "_model_module_version": "1.2.0",
            "_view_count": null,
            "flex_flow": null,
            "width": null,
            "min_width": null,
            "border": null,
            "align_items": null,
            "bottom": null,
            "_model_module": "@jupyter-widgets/base",
            "top": null,
            "grid_column": null,
            "overflow_y": null,
            "overflow_x": null,
            "grid_auto_flow": null,
            "grid_area": null,
            "grid_template_columns": null,
            "flex": null,
            "_model_name": "LayoutModel",
            "justify_items": null,
            "grid_row": null,
            "max_height": null,
            "align_content": null,
            "visibility": null,
            "align_self": null,
            "height": null,
            "min_height": null,
            "padding": null,
            "grid_auto_rows": null,
            "grid_gap": null,
            "max_width": null,
            "order": null,
            "_view_module_version": "1.2.0",
            "grid_template_areas": null,
            "object_position": null,
            "object_fit": null,
            "grid_auto_columns": null,
            "margin": null,
            "display": null,
            "left": null
          }
        },
        "05909e8045a24026a13f7bf57b7cbac1": {
          "model_module": "@jupyter-widgets/base",
          "model_name": "LayoutModel",
          "state": {
            "_view_name": "LayoutView",
            "grid_template_rows": null,
            "right": null,
            "justify_content": null,
            "_view_module": "@jupyter-widgets/base",
            "overflow": null,
            "_model_module_version": "1.2.0",
            "_view_count": null,
            "flex_flow": null,
            "width": null,
            "min_width": null,
            "border": null,
            "align_items": null,
            "bottom": null,
            "_model_module": "@jupyter-widgets/base",
            "top": null,
            "grid_column": null,
            "overflow_y": null,
            "overflow_x": null,
            "grid_auto_flow": null,
            "grid_area": null,
            "grid_template_columns": null,
            "flex": null,
            "_model_name": "LayoutModel",
            "justify_items": null,
            "grid_row": null,
            "max_height": null,
            "align_content": null,
            "visibility": null,
            "align_self": null,
            "height": null,
            "min_height": null,
            "padding": null,
            "grid_auto_rows": null,
            "grid_gap": null,
            "max_width": null,
            "order": null,
            "_view_module_version": "1.2.0",
            "grid_template_areas": null,
            "object_position": null,
            "object_fit": null,
            "grid_auto_columns": null,
            "margin": null,
            "display": null,
            "left": null
          }
        }
      }
    }
  },
  "cells": [
    {
      "cell_type": "markdown",
      "metadata": {
        "id": "view-in-github",
        "colab_type": "text"
      },
      "source": [
        "<a href=\"https://colab.research.google.com/github/DiGyt/neuropynamics/blob/DiGyt_dev/notebooks/bifurcation.ipynb\" target=\"_parent\"><img src=\"https://colab.research.google.com/assets/colab-badge.svg\" alt=\"Open In Colab\"/></a>"
      ]
    },
    {
      "cell_type": "code",
      "metadata": {
        "id": "bBqWdxbR_rAI",
        "colab_type": "code",
        "colab": {
          "base_uri": "https://localhost:8080/",
          "height": 461
        },
        "outputId": "b424da60-5bf7-4a8b-d6d4-de16124c284a"
      },
      "source": [
        "!pip install brian2"
      ],
      "execution_count": null,
      "outputs": [
        {
          "output_type": "stream",
          "text": [
            "Collecting brian2\n",
            "\u001b[?25l  Downloading https://files.pythonhosted.org/packages/97/16/eda80475d70da06d59cee1a39192ee117f970eaf18adbf5fa2c926db1713/Brian2-2.3.0.2.tar.gz (1.6MB)\n",
            "\u001b[K     |████████████████████████████████| 1.6MB 2.8MB/s \n",
            "\u001b[?25hRequirement already satisfied: numpy>=1.10 in /usr/local/lib/python3.6/dist-packages (from brian2) (1.18.5)\n",
            "Requirement already satisfied: cython>=0.29 in /usr/local/lib/python3.6/dist-packages (from brian2) (0.29.21)\n",
            "Collecting sympy>=1.2\n",
            "\u001b[?25l  Downloading https://files.pythonhosted.org/packages/1e/ed/4b0576282597e87e7cf3be33fa4f738d5974471f9b59a55b3730c3877530/sympy-1.6.1-py3-none-any.whl (5.8MB)\n",
            "\u001b[K     |████████████████████████████████| 5.8MB 8.5MB/s \n",
            "\u001b[?25hRequirement already satisfied: pyparsing in /usr/local/lib/python3.6/dist-packages (from brian2) (2.4.7)\n",
            "Requirement already satisfied: jinja2>=2.7 in /usr/local/lib/python3.6/dist-packages (from brian2) (2.11.2)\n",
            "Requirement already satisfied: setuptools>=24 in /usr/local/lib/python3.6/dist-packages (from brian2) (49.2.0)\n",
            "Requirement already satisfied: future in /usr/local/lib/python3.6/dist-packages (from brian2) (0.16.0)\n",
            "Requirement already satisfied: mpmath>=0.19 in /usr/local/lib/python3.6/dist-packages (from sympy>=1.2->brian2) (1.1.0)\n",
            "Requirement already satisfied: MarkupSafe>=0.23 in /usr/local/lib/python3.6/dist-packages (from jinja2>=2.7->brian2) (1.1.1)\n",
            "Building wheels for collected packages: brian2\n",
            "  Building wheel for brian2 (setup.py) ... \u001b[?25l\u001b[?25hdone\n",
            "  Created wheel for brian2: filename=Brian2-2.3.0.2-cp36-cp36m-linux_x86_64.whl size=1283475 sha256=656ade26c5fd9e6dba7d85dc290c90f5e8c727e6deb1452ca1046630b5a18421\n",
            "  Stored in directory: /root/.cache/pip/wheels/86/b5/f6/0c8f9eec58c01e4af55a4c79a5e0385aea01ed03e4ec36c4ac\n",
            "Successfully built brian2\n",
            "Installing collected packages: sympy, brian2\n",
            "  Found existing installation: sympy 1.1.1\n",
            "    Uninstalling sympy-1.1.1:\n",
            "      Successfully uninstalled sympy-1.1.1\n",
            "Successfully installed brian2-2.3.0.2 sympy-1.6.1\n"
          ],
          "name": "stdout"
        }
      ]
    },
    {
      "cell_type": "code",
      "metadata": {
        "id": "l-sIEWs0_biO",
        "colab_type": "code",
        "colab": {}
      },
      "source": [
        "from brian2 import *\n",
        "import ipywidgets as widgets\n",
        "from ipywidgets import interact, interactive, fixed, HBox, VBox, IntSlider, FloatSlider, FloatRangeSlider\n",
        "import matplotlib.pyplot as plt"
      ],
      "execution_count": null,
      "outputs": []
    },
    {
      "cell_type": "markdown",
      "metadata": {
        "id": "tG-5WJET-K-t",
        "colab_type": "text"
      },
      "source": [
        "## Examine Bifurcation processes for Neurons"
      ]
    },
    {
      "cell_type": "markdown",
      "metadata": {
        "id": "y3fdKHzpMRBf",
        "colab_type": "text"
      },
      "source": [
        "First, we're going to define our model in a brian2-compatible way.\n",
        "\n",
        "As you might have read in earlier tutorials, we do this by defining strings of differential equations.\n",
        "\n",
        "For this tutorial, we're going to use the \"adaptive exponential integrate-and-fire neuron\" (AdEx) model:"
      ]
    },
    {
      "cell_type": "code",
      "metadata": {
        "id": "wfg9hQMqMRY-",
        "colab_type": "code",
        "colab": {}
      },
      "source": [
        "model = \"\"\"\n",
        "dvm/dt=(gL*(EL-vm)+gL*DeltaT*exp((vm-VT)/DeltaT)+I-w)/C : volt\n",
        "dw/dt=(a*(vm-EL)-w)/tauw : amp\n",
        "Vr:volt\n",
        "\"\"\"\n",
        "threshold = 'vm > Vcut'\n",
        "reset = \"vm = Vr; w += b\""
      ],
      "execution_count": null,
      "outputs": []
    },
    {
      "cell_type": "markdown",
      "metadata": {
        "id": "H0pyJK_XNUZw",
        "colab_type": "text"
      },
      "source": [
        "Next, we're going to define the precise values for the parameters used in our model:"
      ]
    },
    {
      "cell_type": "code",
      "metadata": {
        "id": "a7waThZRNsJk",
        "colab_type": "code",
        "colab": {}
      },
      "source": [
        "C = 281*pF\n",
        "gL = 30*nS\n",
        "EL = -70.6*mV\n",
        "VT = -50.4*mV\n",
        "DeltaT = 2*mV\n",
        "tauw = 40*ms\n",
        "a = 4*nS\n",
        "b = 0.08*nA\n",
        "I = .8*nA\n",
        "Vcut = VT + 5*DeltaT"
      ],
      "execution_count": null,
      "outputs": []
    },
    {
      "cell_type": "markdown",
      "metadata": {
        "id": "vvwfZFypNsRg",
        "colab_type": "text"
      },
      "source": [
        "Now, it's time to do the simulation.\n",
        "We start a new brian2 scope, define a group of neurons following our model from above, and then run it.\n",
        "\n",
        "After defining the neuron model, we have to set initial values for our current `w` and our membrane potential `vm`. We also alter the resting voltage `Vr` to which our neurons get set back after spiking between the neurons in our neuron group.\n",
        "This resting voltage is the parameter which we want to investigate in this example, as we expect complex behavior to emerge when changing this variable.\n",
        "\n",
        "We then record the spiking behavior and current of these neurons. Since we're interested in the attractor of this system on the long turn, we will run the model for a certain time `init_time` and only start recording the neurons after that initial time."
      ]
    },
    {
      "cell_type": "code",
      "metadata": {
        "id": "gfppY07nTK0X",
        "colab_type": "code",
        "colab": {
          "base_uri": "https://localhost:8080/",
          "height": 91
        },
        "outputId": "d235fa72-ddf1-474a-dbd9-158f96aa230c"
      },
      "source": [
        "# define temporal precision of our recordings, and the number of neurons used.\n",
        "# both parameters will affect the precision of our plots and computational time \n",
        "defaultclock.dt = 0.02*ms\n",
        "N = 200\n",
        "\n",
        "# start a scope and instatiate a neurongroup of N neurons after the above model\n",
        "start_scope()\n",
        "neuron = NeuronGroup(N, model=model, threshold=threshold,\n",
        "                     reset=reset, method='euler')\n",
        "\n",
        "# set initial values for (resting) voltage and current across neurons\n",
        "neuron.vm = EL\n",
        "neuron.w = a*(neuron.vm - EL)\n",
        "neuron.Vr = linspace(-48.3*mV, -47.7*mV, N)# bifurcation parameter\n",
        "\n",
        "# run the models for a certain time without recording the results\n",
        "init_time = 1*second\n",
        "run(init_time, report='text')\n",
        "\n",
        "# run the models again, now recording them with Spike/StateMonitors\n",
        "states = StateMonitor(neuron, \"w\", record=True, when='start')\n",
        "spikes = SpikeMonitor(neuron)\n",
        "run(1*second, report='text')"
      ],
      "execution_count": null,
      "outputs": [
        {
          "output_type": "stream",
          "text": [
            "Starting simulation at t=0. s for a duration of 1. s\n",
            "1. s (100%) simulated in 1s\n",
            "Starting simulation at t=1. s for a duration of 1. s\n",
            "1. s (100%) simulated in 2s\n"
          ],
          "name": "stdout"
        }
      ]
    },
    {
      "cell_type": "markdown",
      "metadata": {
        "id": "WW_TSPPGTK_d",
        "colab_type": "text"
      },
      "source": [
        "Now we can look at the recorded spikes and related currents and plot them."
      ]
    },
    {
      "cell_type": "code",
      "metadata": {
        "id": "3-zDOVpHCjt5",
        "colab_type": "code",
        "colab": {
          "base_uri": "https://localhost:8080/",
          "height": 555
        },
        "outputId": "127e6955-3eb4-4841-9b76-393ec236ad4f"
      },
      "source": [
        "# Get the resting voltage and current for all spikes that were recorded.\n",
        "Vr_record = neuron.Vr[spikes.i]\n",
        "w_record = states.w[spikes.i, int_((spikes.t-init_time)/defaultclock.dt)]\n",
        "\n",
        "# plot them\n",
        "plt.figure(figsize=(16,9))\n",
        "plt.scatter(Vr_record / mV, w_record / nA, marker=\".\", color=\"k\", linewidths=0.1)\n",
        "plt.xlabel('Vr (mV)')\n",
        "plt.ylabel('w (nA)')\n",
        "plt.show()"
      ],
      "execution_count": null,
      "outputs": [
        {
          "output_type": "display_data",
          "data": {
            "image/png": "[encoded data removed]",
            "text/plain": [
              "<Figure size 1152x648 with 1 Axes>"
            ]
          },
          "metadata": {
            "tags": [],
            "needs_background": "light"
          }
        }
      ]
    },
    {
      "cell_type": "markdown",
      "metadata": {
        "id": "10oHrS63ga_5",
        "colab_type": "text"
      },
      "source": [
        "From this plot, we can see that changing the resting voltage of an AdEx integrate-and-fire neuron can induce chaotic spiking behavior across the range of different neuron currents."
      ]
    },
    {
      "cell_type": "markdown",
      "metadata": {
        "id": "4JCrESo-CKBb",
        "colab_type": "text"
      },
      "source": [
        "## Try it out yourself..."
      ]
    },
    {
      "cell_type": "markdown",
      "metadata": {
        "id": "gDCIByQg8B4E",
        "colab_type": "text"
      },
      "source": [
        "### AdEx model"
      ]
    },
    {
      "cell_type": "markdown",
      "metadata": {
        "id": "ewemWF-cijOu",
        "colab_type": "text"
      },
      "source": [
        "In this section, you can try out how chaotic behavior in these neurons develops across certain parameter ranges. To do so, we simply put all the code from the previous section into one function, and make it interactive, using ipywidgets. "
      ]
    },
    {
      "cell_type": "code",
      "metadata": {
        "id": "MvHU0-xhCM1Q",
        "colab_type": "code",
        "colab": {
          "base_uri": "https://localhost:8080/",
          "height": 945,
          "referenced_widgets": [
            "a4a93b0666254b4e830ff66763cb7189",
            "70bdb8662bad4c4cb2db02153e9b226e",
            "4bbcfc5e6b9743a89d3f2a0798240c09",
            "60a92af48e8944449b457f7edd961ec5",
            "ed31c662442d44ddb59cf2f4040a6c54",
            "fa7f4e6f4dce4cbaa29b89f6bbd7564e",
            "9cbc6a3f766e4add9c13f1961f36879d",
            "884ccc6327bc486595b0c7d3a7cf3c33",
            "649bc38e2cdb4c51ae782a2d150a7b25",
            "f50514deda394269ba87440af322f9c1",
            "57541b882d984b75b6b323866f0891a6",
            "d37780ab423d44c5866065f1a5e98768",
            "c1576a33248145cd9d8eeb4dc752520c",
            "af09efac51cb4fdc8c3719bcc66534ec",
            "88f39cfca7a1425c89b798cd51551c88",
            "7e944d9eafcc44da8dac969f8a0de2c4",
            "9520de50c89c4f48b82dda61302ab178",
            "d4e12d93dd5c4ad2b94f8e11f7f6cf1d",
            "05c99f54a2204127bdfd91176bbda9c3",
            "1a561d51d28e4e8fa1b9a9607220aa9b",
            "dd2afa1650ba4de0b8acb0cee6514127",
            "f47f5348f8bf48d2b4b0f6a99c005cad",
            "25ff85100f754294aaead6618bbb35cb",
            "fbb0249e23874e9b98c93c25c2a460ac",
            "7852d56f623a497383abeeb87d537067",
            "3ef30ee5abf840e696c37d208e4b5906",
            "45fe0642311a4251900c5784c45d528e",
            "27482507d4684810a34ab2e841baddbd",
            "d8e3ad9c8c694749b52d8810d56b15ca",
            "f1cf5741bdc14f7282504aab81992006",
            "0249fd7f4d764245ba3e8b53b25a143e",
            "63411ad605f74238b015b0ed563947ee",
            "8c35051484aa464da157fdfcb9fa2330",
            "15678d642a224710bddd22359977db8f"
          ]
        },
        "outputId": "4739b9b4-0db7-445e-dc21-e1c22de1151a"
      },
      "source": [
        "# define the recording time and number of neurons\n",
        "defaultclock.dt = 0.05*ms\n",
        "N = 150\n",
        "\n",
        "\n",
        "# Define the AdEx model\n",
        "model = \"\"\"\n",
        "dvm/dt=(gL*(EL-vm)+gL*DeltaT*exp((vm-VT)/DeltaT)+I-w)/C : volt\n",
        "dw/dt=(a*(vm-EL)-w)/tauw : amp\n",
        "Vr:volt\n",
        "\"\"\"\n",
        "threshold = 'vm > Vcut'\n",
        "reset = \"vm = Vr; w += b\"\n",
        "\n",
        "# implement the rest of the code as a function\n",
        "def plot_bifurcation(Vrrange, a, b, I, C, gL, EL, VT, DeltaT, tauw):\n",
        "  \n",
        "  C = C*pF\n",
        "  gL = gL*nS\n",
        "  EL = EL*mV\n",
        "  VT = VT*mV\n",
        "  DeltaT = DeltaT*mV\n",
        "  tauw = tauw*ms\n",
        "  a = a*nS\n",
        "  b = b*nA\n",
        "  I = I*nA\n",
        "  Vcut = VT + 5*DeltaT# practical threshold condition\n",
        "\n",
        "  start_scope()\n",
        "  neuron = NeuronGroup(N, model=model, threshold=threshold,\n",
        "                      reset=reset, method='euler')\n",
        "\n",
        "  neuron.Vr = linspace(Vrrange[0]*mV, Vrrange[1]*mV, N)\n",
        "\n",
        "  init_time = 1*second\n",
        "  run(init_time, report='text')# we discard the first spikes\n",
        "\n",
        "  states = StateMonitor(neuron, \"w\", record=True, when='start')\n",
        "  spikes = SpikeMonitor(neuron)\n",
        "  run(1*second, report='text')\n",
        "\n",
        "  # Get the values of Vr and w for each spike\n",
        "  Vr = neuron.Vr[spikes.i]\n",
        "  w = states.w[spikes.i, int_((spikes.t-init_time)/defaultclock.dt)]\n",
        "\n",
        "  plt.figure(figsize=(16,9))\n",
        "  plt.scatter(Vr / mV, w / nA, marker=\".\", color=\"k\", linewidths=0.1)\n",
        "  plt.xlabel('Vr (mV)')\n",
        "  plt.ylabel('w (nA)')\n",
        "  plt.show()\n",
        "\n",
        "# plot the function interactively with ipywidgets\n",
        "layout = {\"width\": \"400px\"}\n",
        "style = {\"description_width\": \"150px\"}\n",
        "Vrrange_slider = FloatRangeSlider(value=[-48.3, -47.7], min=-49., max=-46., step=0.1, description=\"VrRange (mV): Resting membrane potential/ plotting range\", readout_format='.1f', continuous_update=False, layout=layout, style=style)\n",
        "a_slider = FloatSlider(value=4., min=0., max=10., step=0.25, description=\"a (nS): Adaption coupling parameter\", readout_format='.1f', continuous_update=False, layout=layout, style=style)\n",
        "b_slider = FloatSlider(value=0.08, min=0.00, max=0.20, step=0.01, description=\"b (nA): Post-spike current change\", continuous_update=False, layout=layout, style=style)\n",
        "I_slider = FloatSlider(value=0.8, min=0., max=2., step=0.1, description=\"I (nA): External input current\", readout_format = '.1f', continuous_update=False, layout=layout, style=style)\n",
        "C_slider = IntSlider(value=281, min=270, max=290, step=1, description=\"C (pF): Membrane capacitance\", continuous_update=False, layout=layout, style=style)\n",
        "gL_slider = IntSlider(value=30, min=20, max=40, step=1, description=\"gL (nS): Leak conductance\", continuous_update=False, layout=layout, style=style)\n",
        "EL_slider = FloatSlider(value=-70.6, min=-72., max=-70., step=0.1, description=\"EL (mV): Leak reversal potential\", readout_format = '.1f', continuous_update=False, layout=layout, style=style)\n",
        "VT_slider = FloatSlider(value=-50.4, min=-51., max=-49., step=0.1, description=\"VT (mV): Spiking threshold\", readout_format = '.1f', continuous_update=False, layout=layout, style=style)\n",
        "DeltaT_slider = FloatSlider(value=2., min=1., max=3., step=0.1, description=\"DeltaT (mV): Slope factor\", readout_format = '.1f', continuous_update=False, layout=layout, style=style)\n",
        "tauw_slider = IntSlider(value=40, min=30, max=60, step=1, description=\"tauw (ms): Adaption time constant\", continuous_update=False, layout=layout, style=style)\n",
        "\n",
        "interactive(plot_bifurcation,\n",
        "            Vrrange = Vrrange_slider, a = a_slider, b = b_slider,\n",
        "            I = I_slider, C = C_slider, gL = gL_slider, EL = EL_slider,\n",
        "            VT = VT_slider, DeltaT = DeltaT_slider, tauw = tauw_slider)\n"
      ],
      "execution_count": null,
      "outputs": [
        {
          "output_type": "display_data",
          "data": {
            "application/vnd.jupyter.widget-view+json": {
              "model_id": "a4a93b0666254b4e830ff66763cb7189",
              "version_minor": 0,
              "version_major": 2
            },
            "text/plain": [
              "interactive(children=(FloatRangeSlider(value=(-48.3, -47.7), continuous_update=False, description='VrRange (mV…"
            ]
          },
          "metadata": {
            "tags": []
          }
        }
      ]
    },
    {
      "cell_type": "markdown",
      "metadata": {
        "id": "_QLG4mTB8FTn",
        "colab_type": "text"
      },
      "source": [
        "###Izhikevich Model"
      ]
    },
    {
      "cell_type": "code",
      "metadata": {
        "id": "0a3rf__18Kf1",
        "colab_type": "code",
        "colab": {
          "base_uri": "https://localhost:8080/",
          "height": 785,
          "referenced_widgets": [
            "a6ef7918443e446d97a3045711c09935",
            "4eb2fadfff2c44a69c5d1c169b5c5a9a",
            "1a53870900dc4f01aaf52c27789f72b4",
            "bd849f9122e7489daf9bb5f7c391b571",
            "a8e247956bd74a0c8cbbfa2885505557",
            "12b735ffee614c6c87eb2c647ab99fe7",
            "6133735f64294de89d8c996d7499cd09",
            "096694eaa1dd4ec3b45890e2ec96678b",
            "52f43383dbb14a95a7fda39a0cdacc93",
            "1ea3116cbe65449cbc708985d2ae9cc0",
            "7855ab7f0cdd4dd0b7ef0cefad175e72",
            "1e45d2d7fab04ca0b742647885d9d21d",
            "b58564ee8b78467aa9139232f3ff2d6c",
            "485d277f2b904261ba0bfe4d49aef622",
            "645b3ef41c3c4df28062e4b5ac2f6b5e",
            "a2897ce2e7ba4f96aec625656cb3e5c2",
            "f7e09d79e54f407ebd3b05c5120ed585",
            "b89f6227622b4bfd9e855b86c0989b0e",
            "632d87ca7eca4ebf830a38e9c3e8e1d1"
          ]
        },
        "outputId": "54a32682-1e92-4823-d73f-a04591400327"
      },
      "source": [
        "defaultclock.dt = 0.02*ms\n",
        "\n",
        "N = 150\n",
        "\n",
        "\n",
        "model = '''dvm/dt = (0.04/ms/mV)*vm**2+(5/ms)*vm+140*mV/ms-w + I : volt\n",
        "dw/dt = a*(b*vm-w) : volt/second\n",
        "I : volt/second\n",
        "a : 1/second\n",
        "b : 1/second\n",
        "c : volt\n",
        "d : volt/second'''\n",
        "threshold = \"vm > 35*mV\"\n",
        "reset = \"vm = c; w += d\"\n",
        "\n",
        "#adex = Izhikevich()\n",
        "\n",
        "def plot_bifurcation(a, b, c, d, I):\n",
        "  \n",
        "\n",
        "  start_scope()\n",
        "  neuron = NeuronGroup(N, model=model, threshold=threshold,\n",
        "                      reset=reset, method='euler')\n",
        "  \n",
        "  neuron.I = I * volt/second\n",
        "  neuron.a = a / ms\n",
        "  neuron.b = b / ms\n",
        "  neuron.c = c * mV\n",
        "  neuron.d = d * volt/second\n",
        "\n",
        "  #neuron.c = linspace(-70*mV, -60*mV, N)# bifurcation parameter\n",
        "  neuron.d = linspace(0.5*volt/second, 1.5*volt/second, N)\n",
        "\n",
        "  init_time = 1*second\n",
        "  run(init_time, report='text')# we discard the first spikes\n",
        "\n",
        "  states = StateMonitor(neuron, \"w\", record=True, when='start')\n",
        "  spikes = SpikeMonitor(neuron)\n",
        "  run(1*second, report='text')\n",
        "\n",
        "  # Get the values of Vr and w for each spike\n",
        "  D = neuron.d[spikes.i]\n",
        "  w = states.w[spikes.i, int_((spikes.t-init_time)/defaultclock.dt)]\n",
        "\n",
        "  plt.figure(figsize=(16,9))\n",
        "  plt.scatter(D / eval(\"volt/second\"), w / volt/second, marker=\".\", color=\"k\", linewidths=0.1)\n",
        "  plt.xlabel('d (volt/second)')\n",
        "  plt.ylabel('w')\n",
        "  plt.show()\n",
        "\n",
        "\n",
        "a_slider = FloatSlider(value = 0.02, min= 0., max = 0.1, step = 0.01, description = 'a (1/ms):', continuous_update=False)\n",
        "b_slider = FloatSlider(value = 0.2, min= 0., max = 1., step = 0.1, description = 'b (1/ms):', readout_format = '.1f' ,continuous_update=False)\n",
        "c_slider = IntSlider(value = -55, min= -80, max = -30, step = 5, description = 'c (mV):',continuous_update=False)\n",
        "d_slider = IntSlider(value = 8, min= 0, max = 20, step = 2, description = 'd (volt/second):',continuous_update=False)\n",
        "I_slider = IntSlider(value = 10, min= 0, max = 50, step = 5, description = 'I (volt/second):',continuous_update=False)\n",
        "\n",
        "interactive(plot_bifurcation, a = a_slider, b=b_slider, c=c_slider, d=d_slider, I=I_slider)"
      ],
      "execution_count": null,
      "outputs": [
        {
          "output_type": "display_data",
          "data": {
            "application/vnd.jupyter.widget-view+json": {
              "model_id": "a6ef7918443e446d97a3045711c09935",
              "version_minor": 0,
              "version_major": 2
            },
            "text/plain": [
              "interactive(children=(FloatSlider(value=0.02, continuous_update=False, description='a (1/ms):', max=0.1, step=…"
            ]
          },
          "metadata": {
            "tags": []
          }
        }
      ]
    },
    {
      "cell_type": "markdown",
      "metadata": {
        "id": "CY7qf4-2l6ak",
        "colab_type": "text"
      },
      "source": [
        "## Try to create neuron models converting the brian stuff to sympy"
      ]
    },
    {
      "cell_type": "code",
      "metadata": {
        "id": "kblwPm4kEx9r",
        "colab_type": "code",
        "colab": {}
      },
      "source": [
        "import sympy"
      ],
      "execution_count": null,
      "outputs": []
    },
    {
      "cell_type": "code",
      "metadata": {
        "id": "CeYYOH1EC87w",
        "colab_type": "code",
        "colab": {}
      },
      "source": [
        "from sympy.parsing.sympy_parser import parse_expr\n",
        "from sympy.parsing.sympy_parser import standard_transformations, implicit_multiplication_application\n",
        "\n",
        "\n",
        "class Neuron():\n",
        "\n",
        "  def __init__(self, differential, threshold, reset):\n",
        "\n",
        "    self.differential = differential\n",
        "    self.threshold = threshold\n",
        "    self.reset = reset\n",
        "\n",
        "\n",
        "  def _string_to_func(self, equation_str):\n",
        "    return parse_expr(equation_str, transformations=PARSE_TRANSFORM)\n",
        "\n",
        "def AdEx():\n",
        "  \"\"\"Creates an adaptive exponential integrate-and-fire neuron (Brette-Gerstner model).\"\"\"\n",
        "  differential = \"\"\"\n",
        "  dvm/dt=(gL*(EL-vm)+gL*DeltaT*exp((vm-VT)/DeltaT)+I-w)/C : volt\n",
        "  dw/dt=(a*(vm-EL)-w)/tauw : amp\n",
        "  Vr:volt\n",
        "  \"\"\"\n",
        "  threshold = 'vm > Vcut'\n",
        "  reset = \"vm = Vr; w += b\"\n",
        "  return Neuron(differential, threshold, reset)\n",
        "\n",
        "def Izhikevich():\n",
        "  differential = '''dvm/dt = (0.04/ms/mV)*vm**2+(5/ms)*vm+140*mV/ms-w + I : volt\n",
        "  dw/dt = a*(b*vm-w) : volt/second\n",
        "  I : volt/second\n",
        "  b : second\n",
        "  c : volt\n",
        "  d : volt/second'''\n",
        "  threshold = \"vm > 35mV\"\n",
        "  reset = \"vm = c; w += d\"\n",
        "  return Neuron(differential, threshold, reset)\n",
        "  "
      ],
      "execution_count": null,
      "outputs": []
    },
    {
      "cell_type": "code",
      "metadata": {
        "id": "XqMU8NhRFP_n",
        "colab_type": "code",
        "colab": {
          "base_uri": "https://localhost:8080/",
          "height": 35
        },
        "outputId": "7982e4db-2866-4c79-bd82-5300439e4465"
      },
      "source": [
        "from sympy.parsing.sympy_parser import parse_expr\n",
        "from sympy.parsing.sympy_parser import standard_transformations, implicit_multiplication_application\n",
        "from sympy.utilities.lambdify import lambdify\n",
        "from sympy.abc import *\n",
        "\n",
        "\n",
        "PARSE_TRANSFORM = (standard_transformations) # + (implicit_multiplication_application,))\n",
        "\n",
        "def _string_to_func(equation_str):\n",
        "  return parse_expr(equation_str, transformations=PARSE_TRANSFORM)\n",
        "\n",
        "#print(_string_to_func(\"3*x\"))\n",
        "\n",
        "d = lambdify(x, _string_to_func(\"3*x\"))\n",
        "\n",
        "a = parse_expr(\"\"\"(gL * (EL-vm)+gL*DeltaT*exp((vm-VT)/DeltaT)+I-w)/C\"\"\", transformations=PARSE_TRANSFORM)\n",
        "a.args"
      ],
      "execution_count": null,
      "outputs": [
        {
          "output_type": "execute_result",
          "data": {
            "text/plain": [
              "(1/C, DeltaT*gL*exp((-VT + vm)/DeltaT) + gL*(EL - vm) - w + I)"
            ]
          },
          "metadata": {
            "tags": []
          },
          "execution_count": 138
        }
      ]
    },
    {
      "cell_type": "code",
      "metadata": {
        "id": "lTxY_weTAjl7",
        "colab_type": "code",
        "colab": {
          "base_uri": "https://localhost:8080/",
          "height": 679,
          "referenced_widgets": [
            "df48b7461fab4b0ebf1fe2798640eb4d",
            "10a84ed823ef459099594d683c80e767",
            "6aad2944b76d41cbbfc5ef61828a6f84",
            "7af835cc76604d88a24589ec202b8e59",
            "b2ac911d3f1e4e689e5179ab95315bcb",
            "e09964dcd5774b849aeee46d475674e6",
            "05909e8045a24026a13f7bf57b7cbac1"
          ]
        },
        "outputId": "8e3a5c75-75e6-4ff6-b931-f50737ff4447"
      },
      "source": [
        "\n",
        "\n",
        "\n",
        "defaultclock.dt = 0.01*ms\n",
        "\n",
        "C = 281*pF\n",
        "gL = 30*nS\n",
        "EL = -70.6*mV\n",
        "VT = -50.4*mV\n",
        "DeltaT = 2*mV\n",
        "tauw = 40*ms\n",
        "a = 4*nS\n",
        "b = 0.08*nA\n",
        "I = .8*nA\n",
        "Vcut = VT + 5*DeltaT# practical threshold condition\n",
        "\n",
        "N = 150\n",
        "\n",
        "# Define an Adaptive Exponential integrate-and-fire neuron\n",
        "model = \"\"\"\n",
        "dvm/dt=(gL*(EL-vm)+gL*DeltaT*exp((vm-VT)/DeltaT)+I-w)/C : volt\n",
        "dw/dt=(a*(vm-EL)-w)/tauw : amp\n",
        "Vr:volt\n",
        "a:siemens\n",
        "\"\"\"\n",
        "threshold = 'vm > Vcut'\n",
        "reset = \"vm = Vr; w += b\"\n",
        "\n",
        "def plot_bifurcation(a):\n",
        "  \n",
        "  start_scope()\n",
        "  neuron = NeuronGroup(N, model=model, threshold=threshold,\n",
        "                      reset=reset, method='euler')\n",
        "  \n",
        "  neuron.a = a*nS\n",
        "\n",
        "  neuron.vm = EL\n",
        "  neuron.w = 0*amp\n",
        "  neuron.Vr = linspace(-48.3*mV, -47.7*mV, N)# bifurcation parameter\n",
        "\n",
        "  init_time = 1*second\n",
        "  run(init_time, report='text')# we discard the first spikes\n",
        "\n",
        "  states = StateMonitor(neuron, \"w\", record=True, when='start')\n",
        "  spikes = SpikeMonitor(neuron)\n",
        "  run(1*second, report='text')\n",
        "\n",
        "  # Get the values of Vr and w for each spike\n",
        "  Vr = neuron.Vr[spikes.i]\n",
        "  w = states.w[spikes.i, int_((spikes.t-init_time)/defaultclock.dt)]\n",
        "\n",
        "  plt.figure(figsize=(16,9))\n",
        "  plt.scatter(Vr / mV, w / nA, marker=\".\", color=\"k\", linewidths=0.1)\n",
        "  plt.xlabel('Vr (mV)')\n",
        "  plt.ylabel('w (nA)')\n",
        "  plt.show()\n",
        "\n",
        "a_slider = FloatSlider(value = 4., min= 0., max = 10., step = 0.5, description = 'a (nS):', readout_format = '.1f', continuous_update=False)\n",
        "interactive(plot_bifurcation, a = a_slider)"
      ],
      "execution_count": null,
      "outputs": [
        {
          "output_type": "display_data",
          "data": {
            "application/vnd.jupyter.widget-view+json": {
              "model_id": "df48b7461fab4b0ebf1fe2798640eb4d",
              "version_minor": 0,
              "version_major": 2
            },
            "text/plain": [
              "interactive(children=(FloatSlider(value=4.0, continuous_update=False, description='a (nS):', max=10.0, readout…"
            ]
          },
          "metadata": {
            "tags": []
          }
        }
      ]
    },
    {
      "cell_type": "code",
      "metadata": {
        "id": "8OY5Fus96FEw",
        "colab_type": "code",
        "colab": {
          "base_uri": "https://localhost:8080/",
          "height": 606
        },
        "outputId": "9b6387ff-86bc-4918-8904-85be3b69b840"
      },
      "source": [
        "defaultclock.dt = 0.01*ms\n",
        "N=900\n",
        "morpho = Cylinder(length=10*cm, diameter=2*238*um, n=N, type='axon')\n",
        "\n",
        "El = 10.5995*mV\n",
        "ENa = 115*mV\n",
        "EK = -12*mV\n",
        "gl = 0.3*msiemens/cm**2\n",
        "gNa0 = 120*msiemens/cm**2\n",
        "gK = 36*msiemens/cm**2\n",
        "\n",
        "# Typical equations\n",
        "eqs = '''\n",
        "# The same equations for the whole neuron, but possibly different parameter values\n",
        "# distributed transmembrane current\n",
        "Im = gl * (El-v) + gNa * m**3 * h * (ENa-v) + gK * n**4 * (EK-v)+ I : amp/meter**2\n",
        "I = I0*sin(2*pi*50*Hz * t) : amp/meter**2\n",
        "I0 : amp/meter**2 # applied current\n",
        "dm/dt = alpham * (1-m) - betam * m : 1\n",
        "dn/dt = alphan * (1-n) - betan * n : 1\n",
        "dh/dt = alphah * (1-h) - betah * h : 1\n",
        "alpham = (0.1/mV) * 10*mV/exprel((-v+25*mV)/(10*mV))/ms : Hz\n",
        "betam = 4 * exp(-v/(18*mV))/ms : Hz\n",
        "alphah = 0.07 * exp(-v/(20*mV))/ms : Hz\n",
        "betah = 1/(exp((-v+30*mV) / (10*mV)) + 1)/ms : Hz\n",
        "alphan = (0.01/mV) * 10*mV/exprel((-v+10*mV)/(10*mV))/ms : Hz\n",
        "betan = 0.125*exp(-v/(80*mV))/ms : Hz\n",
        "gNa : siemens/meter**2\n",
        "#Cm=1*uF/cm**2 : farad/meter**2\n",
        "v : volt\n",
        "'''\n",
        "\n",
        "  \n",
        "start_scope()\n",
        "\"\"\"\n",
        "neuron = SpatialNeuron(morphology=morpho, model=eqs, method=\"exponential_euler\",\n",
        "                        refractory=\"m > 0.1\", threshold=\"m > 0.1\",\n",
        "                        Cm=1*uF/cm**2, Ri=35.4*ohm*cm)\n",
        "\"\"\"\n",
        "neuron = NeuronGroup(N, model=eqs, threshold=\"m > 0.5\",\n",
        "                    refractory=\"m > 0.4\", method='exponential_euler')\n",
        "\n",
        "neuron.v = 0*mV\n",
        "neuron.h = 1\n",
        "neuron.m = 0\n",
        "neuron.n = .5\n",
        "neuron.I0 = linspace(1.732 * uA/cm**2, 1.736 * uA/cm**2, N)\n",
        "neuron.gNa = gNa0\n",
        "\n",
        "\n",
        "##init_time = 1*second\n",
        "#run(init_time, report='text')# we discard the first spikes\n",
        "\n",
        "states = StateMonitor(neuron, \"v\", record=True, when='start')\n",
        "spikes = SpikeMonitor(neuron)\n",
        "run(1*second, report='text')\n",
        "\n",
        "# Get the values of Vr and w for each spike\n",
        "I0 = neuron.I0[spikes.i]\n",
        "V = states.v[spikes.i, int_((spikes.t-init_time)/defaultclock.dt)]\n",
        "\n",
        "plt.figure(figsize=(16,9))\n",
        "plt.scatter(I0 / uA/cm**2, V / mV, marker=\".\", color=\"k\", linewidths=0.1)\n",
        "plt.xlabel('I0 (uA/cm**2)')\n",
        "plt.ylabel('V (mV)')\n",
        "plt.show()\n",
        "\n"
      ],
      "execution_count": null,
      "outputs": [
        {
          "output_type": "stream",
          "text": [
            "Starting simulation at t=0. s for a duration of 1. s\n",
            "0.65537 s (65%) simulated in 10s, estimated 5s remaining.\n",
            "1. s (100%) simulated in 14s\n"
          ],
          "name": "stdout"
        },
        {
          "output_type": "display_data",
          "data": {
            "image/png": "[encoded data removed]",
            "text/plain": [
              "<Figure size 1152x648 with 1 Axes>"
            ]
          },
          "metadata": {
            "tags": [],
            "needs_background": "light"
          }
        }
      ]
    },
    {
      "cell_type": "code",
      "metadata": {
        "id": "astiwLhXRZA6",
        "colab_type": "code",
        "colab": {
          "base_uri": "https://localhost:8080/",
          "height": 283
        },
        "outputId": "b0abdf40-18f7-42dd-acc8-e2aa15bacc3c"
      },
      "source": [
        "plot(states.v[99])"
      ],
      "execution_count": null,
      "outputs": [
        {
          "output_type": "execute_result",
          "data": {
            "text/plain": [
              "[<matplotlib.lines.Line2D at 0x7fa80a7382b0>]"
            ]
          },
          "metadata": {
            "tags": []
          },
          "execution_count": 142
        },
        {
          "output_type": "display_data",
          "data": {
            "image/png": "[encoded data removed]",
            "text/plain": [
              "<Figure size 432x288 with 1 Axes>"
            ]
          },
          "metadata": {
            "tags": [],
            "needs_background": "light"
          }
        }
      ]
    },
    {
      "cell_type": "code",
      "metadata": {
        "id": "Uj8l9Q_8I9mR",
        "colab_type": "code",
        "colab": {}
      },
      "source": [
        ""
      ],
      "execution_count": null,
      "outputs": []
    }
  ]
}