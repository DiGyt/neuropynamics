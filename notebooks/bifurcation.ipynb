{
  "nbformat": 4,
  "nbformat_minor": 0,
  "metadata": {
    "colab": {
      "name": "bifurcation.ipynb",
      "provenance": [],
      "collapsed_sections": [],
      "authorship_tag": "ABX9TyOhmn1VItl3Q1ikxYgdhmlW",
      "include_colab_link": true
    },
    "kernelspec": {
      "name": "python3",
      "display_name": "Python 3"
    },
    "widgets": {
      "application/vnd.jupyter.widget-state+json": {
        "cf57ea7780174cb993b4c8959733490e": {
          "model_module": "@jupyter-widgets/controls",
          "model_name": "VBoxModel",
          "state": {
            "_view_name": "VBoxView",
            "_dom_classes": [
              "widget-interact"
            ],
            "_model_name": "VBoxModel",
            "_view_module": "@jupyter-widgets/controls",
            "_model_module_version": "1.5.0",
            "_view_count": null,
            "_view_module_version": "1.5.0",
            "box_style": "",
            "layout": "IPY_MODEL_649e869fa958426b971bc067bc998622",
            "_model_module": "@jupyter-widgets/controls",
            "children": [
              "IPY_MODEL_03d9c4b49d3849fd9b20ee54efd8321b",
              "IPY_MODEL_2b253f9f102f41da89acebd2f5861035"
            ]
          }
        },
        "649e869fa958426b971bc067bc998622": {
          "model_module": "@jupyter-widgets/base",
          "model_name": "LayoutModel",
          "state": {
            "_view_name": "LayoutView",
            "grid_template_rows": null,
            "right": null,
            "justify_content": null,
            "_view_module": "@jupyter-widgets/base",
            "overflow": null,
            "_model_module_version": "1.2.0",
            "_view_count": null,
            "flex_flow": null,
            "width": null,
            "min_width": null,
            "border": null,
            "align_items": null,
            "bottom": null,
            "_model_module": "@jupyter-widgets/base",
            "top": null,
            "grid_column": null,
            "overflow_y": null,
            "overflow_x": null,
            "grid_auto_flow": null,
            "grid_area": null,
            "grid_template_columns": null,
            "flex": null,
            "_model_name": "LayoutModel",
            "justify_items": null,
            "grid_row": null,
            "max_height": null,
            "align_content": null,
            "visibility": null,
            "align_self": null,
            "height": null,
            "min_height": null,
            "padding": null,
            "grid_auto_rows": null,
            "grid_gap": null,
            "max_width": null,
            "order": null,
            "_view_module_version": "1.2.0",
            "grid_template_areas": null,
            "object_position": null,
            "object_fit": null,
            "grid_auto_columns": null,
            "margin": null,
            "display": null,
            "left": null
          }
        },
        "03d9c4b49d3849fd9b20ee54efd8321b": {
          "model_module": "@jupyter-widgets/controls",
          "model_name": "FloatSliderModel",
          "state": {
            "_view_name": "FloatSliderView",
            "style": "IPY_MODEL_0f76d6cf872940dab1cf681c45cf15e5",
            "_dom_classes": [],
            "description": "a (nS):",
            "step": 0.5,
            "_model_name": "FloatSliderModel",
            "orientation": "horizontal",
            "max": 10,
            "_view_module": "@jupyter-widgets/controls",
            "_model_module_version": "1.5.0",
            "value": 4,
            "_view_count": null,
            "disabled": false,
            "_view_module_version": "1.5.0",
            "min": 0,
            "continuous_update": false,
            "readout_format": ".1f",
            "description_tooltip": null,
            "readout": true,
            "_model_module": "@jupyter-widgets/controls",
            "layout": "IPY_MODEL_3311a1cffc2a4d0aa780ad55819c3360"
          }
        },
        "2b253f9f102f41da89acebd2f5861035": {
          "model_module": "@jupyter-widgets/output",
          "model_name": "OutputModel",
          "state": {
            "_view_name": "OutputView",
            "msg_id": "",
            "_dom_classes": [],
            "_model_name": "OutputModel",
            "outputs": [
              {
                "output_type": "stream",
                "metadata": {
                  "tags": []
                },
                "text": "Starting simulation at t=0. s for a duration of 1. s\n",
                "stream": "stdout"
              },
              {
                "output_type": "stream",
                "metadata": {
                  "tags": []
                },
                "text": "1. s (100%) simulated in 1s\n",
                "stream": "stdout"
              },
              {
                "output_type": "stream",
                "metadata": {
                  "tags": []
                },
                "text": "Starting simulation at t=1. s for a duration of 1. s\n",
                "stream": "stdout"
              },
              {
                "output_type": "stream",
                "metadata": {
                  "tags": []
                },
                "text": "1. s (100%) simulated in 3s\n",
                "stream": "stdout"
              },
              {
                "output_type": "display_data",
                "metadata": {
                  "tags": [],
                  "needs_background": "light"
                },
                "image/png": "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\n",
                "text/plain": "<Figure size 1152x648 with 1 Axes>"
              }
            ],
            "_view_module": "@jupyter-widgets/output",
            "_model_module_version": "1.0.0",
            "_view_count": null,
            "_view_module_version": "1.0.0",
            "layout": "IPY_MODEL_4eab805f1be24b89bf2914c2650c5f61",
            "_model_module": "@jupyter-widgets/output"
          }
        },
        "0f76d6cf872940dab1cf681c45cf15e5": {
          "model_module": "@jupyter-widgets/controls",
          "model_name": "SliderStyleModel",
          "state": {
            "_view_name": "StyleView",
            "handle_color": null,
            "_model_name": "SliderStyleModel",
            "description_width": "",
            "_view_module": "@jupyter-widgets/base",
            "_model_module_version": "1.5.0",
            "_view_count": null,
            "_view_module_version": "1.2.0",
            "_model_module": "@jupyter-widgets/controls"
          }
        },
        "3311a1cffc2a4d0aa780ad55819c3360": {
          "model_module": "@jupyter-widgets/base",
          "model_name": "LayoutModel",
          "state": {
            "_view_name": "LayoutView",
            "grid_template_rows": null,
            "right": null,
            "justify_content": null,
            "_view_module": "@jupyter-widgets/base",
            "overflow": null,
            "_model_module_version": "1.2.0",
            "_view_count": null,
            "flex_flow": null,
            "width": null,
            "min_width": null,
            "border": null,
            "align_items": null,
            "bottom": null,
            "_model_module": "@jupyter-widgets/base",
            "top": null,
            "grid_column": null,
            "overflow_y": null,
            "overflow_x": null,
            "grid_auto_flow": null,
            "grid_area": null,
            "grid_template_columns": null,
            "flex": null,
            "_model_name": "LayoutModel",
            "justify_items": null,
            "grid_row": null,
            "max_height": null,
            "align_content": null,
            "visibility": null,
            "align_self": null,
            "height": null,
            "min_height": null,
            "padding": null,
            "grid_auto_rows": null,
            "grid_gap": null,
            "max_width": null,
            "order": null,
            "_view_module_version": "1.2.0",
            "grid_template_areas": null,
            "object_position": null,
            "object_fit": null,
            "grid_auto_columns": null,
            "margin": null,
            "display": null,
            "left": null
          }
        },
        "4eab805f1be24b89bf2914c2650c5f61": {
          "model_module": "@jupyter-widgets/base",
          "model_name": "LayoutModel",
          "state": {
            "_view_name": "LayoutView",
            "grid_template_rows": null,
            "right": null,
            "justify_content": null,
            "_view_module": "@jupyter-widgets/base",
            "overflow": null,
            "_model_module_version": "1.2.0",
            "_view_count": null,
            "flex_flow": null,
            "width": null,
            "min_width": null,
            "border": null,
            "align_items": null,
            "bottom": null,
            "_model_module": "@jupyter-widgets/base",
            "top": null,
            "grid_column": null,
            "overflow_y": null,
            "overflow_x": null,
            "grid_auto_flow": null,
            "grid_area": null,
            "grid_template_columns": null,
            "flex": null,
            "_model_name": "LayoutModel",
            "justify_items": null,
            "grid_row": null,
            "max_height": null,
            "align_content": null,
            "visibility": null,
            "align_self": null,
            "height": null,
            "min_height": null,
            "padding": null,
            "grid_auto_rows": null,
            "grid_gap": null,
            "max_width": null,
            "order": null,
            "_view_module_version": "1.2.0",
            "grid_template_areas": null,
            "object_position": null,
            "object_fit": null,
            "grid_auto_columns": null,
            "margin": null,
            "display": null,
            "left": null
          }
        },
        "49116ca7159e4f36a3afbd81d9c41f73": {
          "model_module": "@jupyter-widgets/controls",
          "model_name": "VBoxModel",
          "state": {
            "_view_name": "VBoxView",
            "_dom_classes": [
              "widget-interact"
            ],
            "_model_name": "VBoxModel",
            "_view_module": "@jupyter-widgets/controls",
            "_model_module_version": "1.5.0",
            "_view_count": null,
            "_view_module_version": "1.5.0",
            "box_style": "",
            "layout": "IPY_MODEL_cdbac87010f748099e52bc8bb1672726",
            "_model_module": "@jupyter-widgets/controls",
            "children": [
              "IPY_MODEL_beb933f8469a4995894555a8c2544bc1",
              "IPY_MODEL_1b76d7285416457dbdc8e851110f9952",
              "IPY_MODEL_8facf2a3f9d249808aabfcc0b2702696",
              "IPY_MODEL_eb9226cd189542aea5f0e83f6a2044ec",
              "IPY_MODEL_c0ed9c19b0dc4950ab749c24f6cb39e4",
              "IPY_MODEL_91dd8042ea9145d18d6ce91baea9fed6"
            ]
          }
        },
        "cdbac87010f748099e52bc8bb1672726": {
          "model_module": "@jupyter-widgets/base",
          "model_name": "LayoutModel",
          "state": {
            "_view_name": "LayoutView",
            "grid_template_rows": null,
            "right": null,
            "justify_content": null,
            "_view_module": "@jupyter-widgets/base",
            "overflow": null,
            "_model_module_version": "1.2.0",
            "_view_count": null,
            "flex_flow": null,
            "width": null,
            "min_width": null,
            "border": null,
            "align_items": null,
            "bottom": null,
            "_model_module": "@jupyter-widgets/base",
            "top": null,
            "grid_column": null,
            "overflow_y": null,
            "overflow_x": null,
            "grid_auto_flow": null,
            "grid_area": null,
            "grid_template_columns": null,
            "flex": null,
            "_model_name": "LayoutModel",
            "justify_items": null,
            "grid_row": null,
            "max_height": null,
            "align_content": null,
            "visibility": null,
            "align_self": null,
            "height": null,
            "min_height": null,
            "padding": null,
            "grid_auto_rows": null,
            "grid_gap": null,
            "max_width": null,
            "order": null,
            "_view_module_version": "1.2.0",
            "grid_template_areas": null,
            "object_position": null,
            "object_fit": null,
            "grid_auto_columns": null,
            "margin": null,
            "display": null,
            "left": null
          }
        },
        "beb933f8469a4995894555a8c2544bc1": {
          "model_module": "@jupyter-widgets/controls",
          "model_name": "FloatSliderModel",
          "state": {
            "_view_name": "FloatSliderView",
            "style": "IPY_MODEL_c5592ab248cf445cae0773bc16a46036",
            "_dom_classes": [],
            "description": "a (1/ms):",
            "step": 0.01,
            "_model_name": "FloatSliderModel",
            "orientation": "horizontal",
            "max": 0.1,
            "_view_module": "@jupyter-widgets/controls",
            "_model_module_version": "1.5.0",
            "value": 0.02,
            "_view_count": null,
            "disabled": false,
            "_view_module_version": "1.5.0",
            "min": 0,
            "continuous_update": false,
            "readout_format": ".2f",
            "description_tooltip": null,
            "readout": true,
            "_model_module": "@jupyter-widgets/controls",
            "layout": "IPY_MODEL_5d9c8b6ef1554939aba32646f55349f9"
          }
        },
        "1b76d7285416457dbdc8e851110f9952": {
          "model_module": "@jupyter-widgets/controls",
          "model_name": "FloatSliderModel",
          "state": {
            "_view_name": "FloatSliderView",
            "style": "IPY_MODEL_da1dff8b5cdb49908ae6d733b86982f8",
            "_dom_classes": [],
            "description": "b (1/ms):",
            "step": 0.1,
            "_model_name": "FloatSliderModel",
            "orientation": "horizontal",
            "max": 1,
            "_view_module": "@jupyter-widgets/controls",
            "_model_module_version": "1.5.0",
            "value": 0.2,
            "_view_count": null,
            "disabled": false,
            "_view_module_version": "1.5.0",
            "min": 0,
            "continuous_update": false,
            "readout_format": ".1f",
            "description_tooltip": null,
            "readout": true,
            "_model_module": "@jupyter-widgets/controls",
            "layout": "IPY_MODEL_6fbdef7498b046679751ba93dd3c6d07"
          }
        },
        "8facf2a3f9d249808aabfcc0b2702696": {
          "model_module": "@jupyter-widgets/controls",
          "model_name": "IntSliderModel",
          "state": {
            "_view_name": "IntSliderView",
            "style": "IPY_MODEL_51a10f62f35941548dd186a649b101ee",
            "_dom_classes": [],
            "description": "c (mV):",
            "step": 5,
            "_model_name": "IntSliderModel",
            "orientation": "horizontal",
            "max": -30,
            "_view_module": "@jupyter-widgets/controls",
            "_model_module_version": "1.5.0",
            "value": -55,
            "_view_count": null,
            "disabled": false,
            "_view_module_version": "1.5.0",
            "min": -80,
            "continuous_update": false,
            "readout_format": "d",
            "description_tooltip": null,
            "readout": true,
            "_model_module": "@jupyter-widgets/controls",
            "layout": "IPY_MODEL_c0ea55412b164281bd07ebfa1026d0d1"
          }
        },
        "eb9226cd189542aea5f0e83f6a2044ec": {
          "model_module": "@jupyter-widgets/controls",
          "model_name": "IntSliderModel",
          "state": {
            "_view_name": "IntSliderView",
            "style": "IPY_MODEL_1bdc37bb679748ea97d776804089a3c5",
            "_dom_classes": [],
            "description": "d (volt/second):",
            "step": 2,
            "_model_name": "IntSliderModel",
            "orientation": "horizontal",
            "max": 20,
            "_view_module": "@jupyter-widgets/controls",
            "_model_module_version": "1.5.0",
            "value": 8,
            "_view_count": null,
            "disabled": false,
            "_view_module_version": "1.5.0",
            "min": 0,
            "continuous_update": false,
            "readout_format": "d",
            "description_tooltip": null,
            "readout": true,
            "_model_module": "@jupyter-widgets/controls",
            "layout": "IPY_MODEL_392298d15f0e4d70af37829241d275fa"
          }
        },
        "c0ed9c19b0dc4950ab749c24f6cb39e4": {
          "model_module": "@jupyter-widgets/controls",
          "model_name": "IntSliderModel",
          "state": {
            "_view_name": "IntSliderView",
            "style": "IPY_MODEL_356e7e3a5a2942289b6b57ae7ec7b8a2",
            "_dom_classes": [],
            "description": "I (volt/second):",
            "step": 5,
            "_model_name": "IntSliderModel",
            "orientation": "horizontal",
            "max": 50,
            "_view_module": "@jupyter-widgets/controls",
            "_model_module_version": "1.5.0",
            "value": 10,
            "_view_count": null,
            "disabled": false,
            "_view_module_version": "1.5.0",
            "min": 0,
            "continuous_update": false,
            "readout_format": "d",
            "description_tooltip": null,
            "readout": true,
            "_model_module": "@jupyter-widgets/controls",
            "layout": "IPY_MODEL_b62ebd64bf224a84990d1b42ea327147"
          }
        },
        "91dd8042ea9145d18d6ce91baea9fed6": {
          "model_module": "@jupyter-widgets/output",
          "model_name": "OutputModel",
          "state": {
            "_view_name": "OutputView",
            "msg_id": "c14211e6dff04c94bbe646730404a42e",
            "_dom_classes": [],
            "_model_name": "OutputModel",
            "outputs": [
              {
                "output_type": "stream",
                "metadata": {
                  "tags": []
                },
                "text": "WARNING    \"I\" is an internal variable of group \"neurongroup_2\", but also exists in the run namespace with the value 10. The internal variable will be used. [brian2.groups.group.Group.resolve.resolution_conflict]\n",
                "stream": "stderr"
              },
              {
                "output_type": "stream",
                "metadata": {
                  "tags": []
                },
                "text": "WARNING    \"a\" is an internal variable of group \"neurongroup_2\", but also exists in the run namespace with the value 0.02. The internal variable will be used. [brian2.groups.group.Group.resolve.resolution_conflict]\n",
                "stream": "stderr"
              },
              {
                "output_type": "stream",
                "metadata": {
                  "tags": []
                },
                "text": "WARNING    \"b\" is an internal variable of group \"neurongroup_2\", but also exists in the run namespace with the value 0.2. The internal variable will be used. [brian2.groups.group.Group.resolve.resolution_conflict]\n",
                "stream": "stderr"
              },
              {
                "output_type": "stream",
                "metadata": {
                  "tags": []
                },
                "text": "WARNING    \"d\" is an internal variable of group \"neurongroup_2\", but also exists in the run namespace with the value 8. The internal variable will be used. [brian2.groups.group.Group.resolve.resolution_conflict]\n",
                "stream": "stderr"
              },
              {
                "output_type": "stream",
                "metadata": {
                  "tags": []
                },
                "text": "WARNING    \"c\" is an internal variable of group \"neurongroup_2\", but also exists in the run namespace with the value -55. The internal variable will be used. [brian2.groups.group.Group.resolve.resolution_conflict]\n",
                "stream": "stderr"
              }
            ],
            "_view_module": "@jupyter-widgets/output",
            "_model_module_version": "1.0.0",
            "_view_count": null,
            "_view_module_version": "1.0.0",
            "layout": "IPY_MODEL_a25775c5a6314e82a2b46d8258761ff2",
            "_model_module": "@jupyter-widgets/output"
          }
        },
        "c5592ab248cf445cae0773bc16a46036": {
          "model_module": "@jupyter-widgets/controls",
          "model_name": "SliderStyleModel",
          "state": {
            "_view_name": "StyleView",
            "handle_color": null,
            "_model_name": "SliderStyleModel",
            "description_width": "",
            "_view_module": "@jupyter-widgets/base",
            "_model_module_version": "1.5.0",
            "_view_count": null,
            "_view_module_version": "1.2.0",
            "_model_module": "@jupyter-widgets/controls"
          }
        },
        "5d9c8b6ef1554939aba32646f55349f9": {
          "model_module": "@jupyter-widgets/base",
          "model_name": "LayoutModel",
          "state": {
            "_view_name": "LayoutView",
            "grid_template_rows": null,
            "right": null,
            "justify_content": null,
            "_view_module": "@jupyter-widgets/base",
            "overflow": null,
            "_model_module_version": "1.2.0",
            "_view_count": null,
            "flex_flow": null,
            "width": null,
            "min_width": null,
            "border": null,
            "align_items": null,
            "bottom": null,
            "_model_module": "@jupyter-widgets/base",
            "top": null,
            "grid_column": null,
            "overflow_y": null,
            "overflow_x": null,
            "grid_auto_flow": null,
            "grid_area": null,
            "grid_template_columns": null,
            "flex": null,
            "_model_name": "LayoutModel",
            "justify_items": null,
            "grid_row": null,
            "max_height": null,
            "align_content": null,
            "visibility": null,
            "align_self": null,
            "height": null,
            "min_height": null,
            "padding": null,
            "grid_auto_rows": null,
            "grid_gap": null,
            "max_width": null,
            "order": null,
            "_view_module_version": "1.2.0",
            "grid_template_areas": null,
            "object_position": null,
            "object_fit": null,
            "grid_auto_columns": null,
            "margin": null,
            "display": null,
            "left": null
          }
        },
        "da1dff8b5cdb49908ae6d733b86982f8": {
          "model_module": "@jupyter-widgets/controls",
          "model_name": "SliderStyleModel",
          "state": {
            "_view_name": "StyleView",
            "handle_color": null,
            "_model_name": "SliderStyleModel",
            "description_width": "",
            "_view_module": "@jupyter-widgets/base",
            "_model_module_version": "1.5.0",
            "_view_count": null,
            "_view_module_version": "1.2.0",
            "_model_module": "@jupyter-widgets/controls"
          }
        },
        "6fbdef7498b046679751ba93dd3c6d07": {
          "model_module": "@jupyter-widgets/base",
          "model_name": "LayoutModel",
          "state": {
            "_view_name": "LayoutView",
            "grid_template_rows": null,
            "right": null,
            "justify_content": null,
            "_view_module": "@jupyter-widgets/base",
            "overflow": null,
            "_model_module_version": "1.2.0",
            "_view_count": null,
            "flex_flow": null,
            "width": null,
            "min_width": null,
            "border": null,
            "align_items": null,
            "bottom": null,
            "_model_module": "@jupyter-widgets/base",
            "top": null,
            "grid_column": null,
            "overflow_y": null,
            "overflow_x": null,
            "grid_auto_flow": null,
            "grid_area": null,
            "grid_template_columns": null,
            "flex": null,
            "_model_name": "LayoutModel",
            "justify_items": null,
            "grid_row": null,
            "max_height": null,
            "align_content": null,
            "visibility": null,
            "align_self": null,
            "height": null,
            "min_height": null,
            "padding": null,
            "grid_auto_rows": null,
            "grid_gap": null,
            "max_width": null,
            "order": null,
            "_view_module_version": "1.2.0",
            "grid_template_areas": null,
            "object_position": null,
            "object_fit": null,
            "grid_auto_columns": null,
            "margin": null,
            "display": null,
            "left": null
          }
        },
        "51a10f62f35941548dd186a649b101ee": {
          "model_module": "@jupyter-widgets/controls",
          "model_name": "SliderStyleModel",
          "state": {
            "_view_name": "StyleView",
            "handle_color": null,
            "_model_name": "SliderStyleModel",
            "description_width": "",
            "_view_module": "@jupyter-widgets/base",
            "_model_module_version": "1.5.0",
            "_view_count": null,
            "_view_module_version": "1.2.0",
            "_model_module": "@jupyter-widgets/controls"
          }
        },
        "c0ea55412b164281bd07ebfa1026d0d1": {
          "model_module": "@jupyter-widgets/base",
          "model_name": "LayoutModel",
          "state": {
            "_view_name": "LayoutView",
            "grid_template_rows": null,
            "right": null,
            "justify_content": null,
            "_view_module": "@jupyter-widgets/base",
            "overflow": null,
            "_model_module_version": "1.2.0",
            "_view_count": null,
            "flex_flow": null,
            "width": null,
            "min_width": null,
            "border": null,
            "align_items": null,
            "bottom": null,
            "_model_module": "@jupyter-widgets/base",
            "top": null,
            "grid_column": null,
            "overflow_y": null,
            "overflow_x": null,
            "grid_auto_flow": null,
            "grid_area": null,
            "grid_template_columns": null,
            "flex": null,
            "_model_name": "LayoutModel",
            "justify_items": null,
            "grid_row": null,
            "max_height": null,
            "align_content": null,
            "visibility": null,
            "align_self": null,
            "height": null,
            "min_height": null,
            "padding": null,
            "grid_auto_rows": null,
            "grid_gap": null,
            "max_width": null,
            "order": null,
            "_view_module_version": "1.2.0",
            "grid_template_areas": null,
            "object_position": null,
            "object_fit": null,
            "grid_auto_columns": null,
            "margin": null,
            "display": null,
            "left": null
          }
        },
        "1bdc37bb679748ea97d776804089a3c5": {
          "model_module": "@jupyter-widgets/controls",
          "model_name": "SliderStyleModel",
          "state": {
            "_view_name": "StyleView",
            "handle_color": null,
            "_model_name": "SliderStyleModel",
            "description_width": "",
            "_view_module": "@jupyter-widgets/base",
            "_model_module_version": "1.5.0",
            "_view_count": null,
            "_view_module_version": "1.2.0",
            "_model_module": "@jupyter-widgets/controls"
          }
        },
        "392298d15f0e4d70af37829241d275fa": {
          "model_module": "@jupyter-widgets/base",
          "model_name": "LayoutModel",
          "state": {
            "_view_name": "LayoutView",
            "grid_template_rows": null,
            "right": null,
            "justify_content": null,
            "_view_module": "@jupyter-widgets/base",
            "overflow": null,
            "_model_module_version": "1.2.0",
            "_view_count": null,
            "flex_flow": null,
            "width": null,
            "min_width": null,
            "border": null,
            "align_items": null,
            "bottom": null,
            "_model_module": "@jupyter-widgets/base",
            "top": null,
            "grid_column": null,
            "overflow_y": null,
            "overflow_x": null,
            "grid_auto_flow": null,
            "grid_area": null,
            "grid_template_columns": null,
            "flex": null,
            "_model_name": "LayoutModel",
            "justify_items": null,
            "grid_row": null,
            "max_height": null,
            "align_content": null,
            "visibility": null,
            "align_self": null,
            "height": null,
            "min_height": null,
            "padding": null,
            "grid_auto_rows": null,
            "grid_gap": null,
            "max_width": null,
            "order": null,
            "_view_module_version": "1.2.0",
            "grid_template_areas": null,
            "object_position": null,
            "object_fit": null,
            "grid_auto_columns": null,
            "margin": null,
            "display": null,
            "left": null
          }
        },
        "356e7e3a5a2942289b6b57ae7ec7b8a2": {
          "model_module": "@jupyter-widgets/controls",
          "model_name": "SliderStyleModel",
          "state": {
            "_view_name": "StyleView",
            "handle_color": null,
            "_model_name": "SliderStyleModel",
            "description_width": "",
            "_view_module": "@jupyter-widgets/base",
            "_model_module_version": "1.5.0",
            "_view_count": null,
            "_view_module_version": "1.2.0",
            "_model_module": "@jupyter-widgets/controls"
          }
        },
        "b62ebd64bf224a84990d1b42ea327147": {
          "model_module": "@jupyter-widgets/base",
          "model_name": "LayoutModel",
          "state": {
            "_view_name": "LayoutView",
            "grid_template_rows": null,
            "right": null,
            "justify_content": null,
            "_view_module": "@jupyter-widgets/base",
            "overflow": null,
            "_model_module_version": "1.2.0",
            "_view_count": null,
            "flex_flow": null,
            "width": null,
            "min_width": null,
            "border": null,
            "align_items": null,
            "bottom": null,
            "_model_module": "@jupyter-widgets/base",
            "top": null,
            "grid_column": null,
            "overflow_y": null,
            "overflow_x": null,
            "grid_auto_flow": null,
            "grid_area": null,
            "grid_template_columns": null,
            "flex": null,
            "_model_name": "LayoutModel",
            "justify_items": null,
            "grid_row": null,
            "max_height": null,
            "align_content": null,
            "visibility": null,
            "align_self": null,
            "height": null,
            "min_height": null,
            "padding": null,
            "grid_auto_rows": null,
            "grid_gap": null,
            "max_width": null,
            "order": null,
            "_view_module_version": "1.2.0",
            "grid_template_areas": null,
            "object_position": null,
            "object_fit": null,
            "grid_auto_columns": null,
            "margin": null,
            "display": null,
            "left": null
          }
        },
        "a25775c5a6314e82a2b46d8258761ff2": {
          "model_module": "@jupyter-widgets/base",
          "model_name": "LayoutModel",
          "state": {
            "_view_name": "LayoutView",
            "grid_template_rows": null,
            "right": null,
            "justify_content": null,
            "_view_module": "@jupyter-widgets/base",
            "overflow": null,
            "_model_module_version": "1.2.0",
            "_view_count": null,
            "flex_flow": null,
            "width": null,
            "min_width": null,
            "border": null,
            "align_items": null,
            "bottom": null,
            "_model_module": "@jupyter-widgets/base",
            "top": null,
            "grid_column": null,
            "overflow_y": null,
            "overflow_x": null,
            "grid_auto_flow": null,
            "grid_area": null,
            "grid_template_columns": null,
            "flex": null,
            "_model_name": "LayoutModel",
            "justify_items": null,
            "grid_row": null,
            "max_height": null,
            "align_content": null,
            "visibility": null,
            "align_self": null,
            "height": null,
            "min_height": null,
            "padding": null,
            "grid_auto_rows": null,
            "grid_gap": null,
            "max_width": null,
            "order": null,
            "_view_module_version": "1.2.0",
            "grid_template_areas": null,
            "object_position": null,
            "object_fit": null,
            "grid_auto_columns": null,
            "margin": null,
            "display": null,
            "left": null
          }
        }
      }
    }
  },
  "cells": [
    {
      "cell_type": "markdown",
      "metadata": {
        "id": "view-in-github",
        "colab_type": "text"
      },
      "source": [
        "<a href=\"https://colab.research.google.com/github/DiGyt/neuropynamics/blob/DiGyt_dev/notebooks/bifurcation.ipynb\" target=\"_parent\"><img src=\"https://colab.research.google.com/assets/colab-badge.svg\" alt=\"Open In Colab\"/></a>"
      ]
    },
    {
      "cell_type": "code",
      "metadata": {
        "id": "bBqWdxbR_rAI",
        "colab_type": "code",
        "colab": {
          "base_uri": "https://localhost:8080/",
          "height": 461
        },
        "outputId": "aeb9236f-347f-47e7-abaf-b9b88d336312"
      },
      "source": [
        "!pip install brian2"
      ],
      "execution_count": 1,
      "outputs": [
        {
          "output_type": "stream",
          "text": [
            "Collecting brian2\n",
            "\u001b[?25l  Downloading https://files.pythonhosted.org/packages/97/16/eda80475d70da06d59cee1a39192ee117f970eaf18adbf5fa2c926db1713/Brian2-2.3.0.2.tar.gz (1.6MB)\n",
            "\u001b[K     |████████████████████████████████| 1.6MB 9.0MB/s \n",
            "\u001b[?25hRequirement already satisfied: numpy>=1.10 in /usr/local/lib/python3.6/dist-packages (from brian2) (1.18.5)\n",
            "Requirement already satisfied: cython>=0.29 in /usr/local/lib/python3.6/dist-packages (from brian2) (0.29.21)\n",
            "Collecting sympy>=1.2\n",
            "\u001b[?25l  Downloading https://files.pythonhosted.org/packages/1e/ed/4b0576282597e87e7cf3be33fa4f738d5974471f9b59a55b3730c3877530/sympy-1.6.1-py3-none-any.whl (5.8MB)\n",
            "\u001b[K     |████████████████████████████████| 5.8MB 53.9MB/s \n",
            "\u001b[?25hRequirement already satisfied: pyparsing in /usr/local/lib/python3.6/dist-packages (from brian2) (2.4.7)\n",
            "Requirement already satisfied: jinja2>=2.7 in /usr/local/lib/python3.6/dist-packages (from brian2) (2.11.2)\n",
            "Requirement already satisfied: setuptools>=24 in /usr/local/lib/python3.6/dist-packages (from brian2) (49.2.0)\n",
            "Requirement already satisfied: future in /usr/local/lib/python3.6/dist-packages (from brian2) (0.16.0)\n",
            "Requirement already satisfied: mpmath>=0.19 in /usr/local/lib/python3.6/dist-packages (from sympy>=1.2->brian2) (1.1.0)\n",
            "Requirement already satisfied: MarkupSafe>=0.23 in /usr/local/lib/python3.6/dist-packages (from jinja2>=2.7->brian2) (1.1.1)\n",
            "Building wheels for collected packages: brian2\n",
            "  Building wheel for brian2 (setup.py) ... \u001b[?25l\u001b[?25hdone\n",
            "  Created wheel for brian2: filename=Brian2-2.3.0.2-cp36-cp36m-linux_x86_64.whl size=1283473 sha256=4cbd2487aa3ffe5e5c8675aa45df59619add34b5e00d06dd510dc057e0c8e3ff\n",
            "  Stored in directory: /root/.cache/pip/wheels/86/b5/f6/0c8f9eec58c01e4af55a4c79a5e0385aea01ed03e4ec36c4ac\n",
            "Successfully built brian2\n",
            "Installing collected packages: sympy, brian2\n",
            "  Found existing installation: sympy 1.1.1\n",
            "    Uninstalling sympy-1.1.1:\n",
            "      Successfully uninstalled sympy-1.1.1\n",
            "Successfully installed brian2-2.3.0.2 sympy-1.6.1\n"
          ],
          "name": "stdout"
        }
      ]
    },
    {
      "cell_type": "code",
      "metadata": {
        "id": "l-sIEWs0_biO",
        "colab_type": "code",
        "colab": {
          "base_uri": "https://localhost:8080/",
          "height": 74
        },
        "outputId": "7a04bc14-a958-4eb1-9251-51f81d625538"
      },
      "source": [
        "from brian2 import *\n",
        "import ipywidgets as widgets\n",
        "from ipywidgets import interact, interactive, fixed, HBox, VBox, FloatSlider\n",
        "import matplotlib.pyplot as plt"
      ],
      "execution_count": 2,
      "outputs": [
        {
          "output_type": "stream",
          "text": [
            "/usr/local/lib/python3.6/dist-packages/setuptools/distutils_patch.py:26: UserWarning: Distutils was imported before Setuptools. This usage is discouraged and may exhibit undesirable behaviors or errors. Please use Setuptools' objects directly or at least import Setuptools first.\n",
            "  \"Distutils was imported before Setuptools. This usage is discouraged \"\n"
          ],
          "name": "stderr"
        }
      ]
    },
    {
      "cell_type": "markdown",
      "metadata": {
        "id": "tG-5WJET-K-t",
        "colab_type": "text"
      },
      "source": [
        "## Examine Bifurcation processes for Neurons"
      ]
    },
    {
      "cell_type": "markdown",
      "metadata": {
        "id": "CY7qf4-2l6ak",
        "colab_type": "text"
      },
      "source": [
        "## Try to create neuron models converting the brian stuff to sympy"
      ]
    },
    {
      "cell_type": "code",
      "metadata": {
        "id": "kblwPm4kEx9r",
        "colab_type": "code",
        "colab": {}
      },
      "source": [
        "import sympy"
      ],
      "execution_count": null,
      "outputs": []
    },
    {
      "cell_type": "code",
      "metadata": {
        "id": "CeYYOH1EC87w",
        "colab_type": "code",
        "colab": {}
      },
      "source": [
        "from sympy.parsing.sympy_parser import parse_expr\n",
        "from sympy.parsing.sympy_parser import standard_transformations, implicit_multiplication_application\n",
        "\n",
        "\n",
        "class Neuron():\n",
        "\n",
        "  def __init__(self, differential, threshold, reset):\n",
        "\n",
        "    self.differential = differential\n",
        "    self.threshold = threshold\n",
        "    self.reset = reset\n",
        "\n",
        "\n",
        "  def _string_to_func(self, equation_str):\n",
        "    return parse_expr(equation_str, transformations=PARSE_TRANSFORM)\n",
        "\n",
        "def AdEx():\n",
        "  \"\"\"Creates an adaptive exponential integrate-and-fire neuron (Brette-Gerstner model).\"\"\"\n",
        "  differential = \"\"\"\n",
        "  dvm/dt=(gL*(EL-vm)+gL*DeltaT*exp((vm-VT)/DeltaT)+I-w)/C : volt\n",
        "  dw/dt=(a*(vm-EL)-w)/tauw : amp\n",
        "  Vr:volt\n",
        "  \"\"\"\n",
        "  threshold = 'vm > Vcut'\n",
        "  reset = \"vm = Vr; w += b\"\n",
        "  return Neuron(differential, threshold, reset)\n",
        "\n",
        "def Izhikevich():\n",
        "  differential = '''dvm/dt = (0.04/ms/mV)*vm**2+(5/ms)*vm+140*mV/ms-w + I : volt\n",
        "  dw/dt = a*(b*vm-w) : volt/second\n",
        "  I : volt/second\n",
        "  b : second\n",
        "  c : volt\n",
        "  d : volt/second'''\n",
        "  threshold = \"vm > 35mV\"\n",
        "  reset = \"vm = c; w += d\"\n",
        "  return Neuron(differential, threshold, reset)\n",
        "  "
      ],
      "execution_count": null,
      "outputs": []
    },
    {
      "cell_type": "code",
      "metadata": {
        "id": "XqMU8NhRFP_n",
        "colab_type": "code",
        "colab": {
          "base_uri": "https://localhost:8080/",
          "height": 35
        },
        "outputId": "7982e4db-2866-4c79-bd82-5300439e4465"
      },
      "source": [
        "from sympy.parsing.sympy_parser import parse_expr\n",
        "from sympy.parsing.sympy_parser import standard_transformations, implicit_multiplication_application\n",
        "from sympy.utilities.lambdify import lambdify\n",
        "from sympy.abc import *\n",
        "\n",
        "\n",
        "PARSE_TRANSFORM = (standard_transformations) # + (implicit_multiplication_application,))\n",
        "\n",
        "def _string_to_func(equation_str):\n",
        "  return parse_expr(equation_str, transformations=PARSE_TRANSFORM)\n",
        "\n",
        "#print(_string_to_func(\"3*x\"))\n",
        "\n",
        "d = lambdify(x, _string_to_func(\"3*x\"))\n",
        "\n",
        "a = parse_expr(\"\"\"(gL * (EL-vm)+gL*DeltaT*exp((vm-VT)/DeltaT)+I-w)/C\"\"\", transformations=PARSE_TRANSFORM)\n",
        "a.args"
      ],
      "execution_count": null,
      "outputs": [
        {
          "output_type": "execute_result",
          "data": {
            "text/plain": [
              "(1/C, DeltaT*gL*exp((-VT + vm)/DeltaT) + gL*(EL - vm) - w + I)"
            ]
          },
          "metadata": {
            "tags": []
          },
          "execution_count": 138
        }
      ]
    },
    {
      "cell_type": "code",
      "metadata": {
        "id": "lTxY_weTAjl7",
        "colab_type": "code",
        "colab": {
          "base_uri": "https://localhost:8080/",
          "height": 661,
          "referenced_widgets": [
            "cf57ea7780174cb993b4c8959733490e",
            "649e869fa958426b971bc067bc998622",
            "03d9c4b49d3849fd9b20ee54efd8321b",
            "2b253f9f102f41da89acebd2f5861035",
            "0f76d6cf872940dab1cf681c45cf15e5",
            "3311a1cffc2a4d0aa780ad55819c3360",
            "4eab805f1be24b89bf2914c2650c5f61"
          ]
        },
        "outputId": "a03b96e6-c82f-41bf-d014-04ef36a77678"
      },
      "source": [
        "\n",
        "\n",
        "\n",
        "defaultclock.dt = 0.01*ms\n",
        "\n",
        "C = 281*pF\n",
        "gL = 30*nS\n",
        "EL = -70.6*mV\n",
        "VT = -50.4*mV\n",
        "DeltaT = 2*mV\n",
        "tauw = 40*ms\n",
        "a = 4*nS\n",
        "b = 0.08*nA\n",
        "I = .8*nA\n",
        "Vcut = VT + 5*DeltaT# practical threshold condition\n",
        "\n",
        "N = 150\n",
        "\n",
        "# Define an Adaptive Exponential integrate-and-fire neuron\n",
        "model = \"\"\"\n",
        "dvm/dt=(gL*(EL-vm)+gL*DeltaT*exp((vm-VT)/DeltaT)+I-w)/C : volt\n",
        "dw/dt=(a*(vm-EL)-w)/tauw : amp\n",
        "Vr:volt\n",
        "a:siemens\n",
        "\"\"\"\n",
        "threshold = 'vm > Vcut'\n",
        "reset = \"vm = Vr; w += b\"\n",
        "\n",
        "def plot_bifurcation(a):\n",
        "  \n",
        "  start_scope()\n",
        "  neuron = NeuronGroup(N, model=model, threshold=threshold,\n",
        "                      reset=reset, method='euler')\n",
        "  \n",
        "  neuron.a = a*nS\n",
        "\n",
        "  neuron.vm = EL\n",
        "  neuron.w = 0*amp\n",
        "  neuron.Vr = linspace(-48.3*mV, -47.7*mV, N)# bifurcation parameter\n",
        "\n",
        "  init_time = 1*second\n",
        "  run(init_time, report='text')# we discard the first spikes\n",
        "\n",
        "  states = StateMonitor(neuron, \"w\", record=True, when='start')\n",
        "  spikes = SpikeMonitor(neuron)\n",
        "  run(1*second, report='text')\n",
        "\n",
        "  # Get the values of Vr and w for each spike\n",
        "  Vr = neuron.Vr[spikes.i]\n",
        "  w = states.w[spikes.i, int_((spikes.t-init_time)/defaultclock.dt)]\n",
        "\n",
        "  plt.figure(figsize=(16,9))\n",
        "  plt.scatter(Vr / mV, w / nA, marker=\".\", color=\"k\", linewidths=0.1)\n",
        "  plt.xlabel('Vr (mV)')\n",
        "  plt.ylabel('w (nA)')\n",
        "  plt.show()\n",
        "\n",
        "a_slider = FloatSlider(value = 4., min= 0., max = 10., step = 0.5, description = 'a (nS):', readout_format = '.1f', continuous_update=False)\n",
        "interactive(plot_bifurcation, a = a_slider)"
      ],
      "execution_count": null,
      "outputs": [
        {
          "output_type": "display_data",
          "data": {
            "application/vnd.jupyter.widget-view+json": {
              "model_id": "cf57ea7780174cb993b4c8959733490e",
              "version_minor": 0,
              "version_major": 2
            },
            "text/plain": [
              "interactive(children=(FloatSlider(value=4.0, continuous_update=False, description='a (nS):', max=10.0, readout…"
            ]
          },
          "metadata": {
            "tags": []
          }
        }
      ]
    },
    {
      "cell_type": "code",
      "metadata": {
        "id": "07Dn1mrCATHF",
        "colab_type": "code",
        "colab": {
          "base_uri": "https://localhost:8080/",
          "height": 251,
          "referenced_widgets": [
            "49116ca7159e4f36a3afbd81d9c41f73",
            "cdbac87010f748099e52bc8bb1672726",
            "beb933f8469a4995894555a8c2544bc1",
            "1b76d7285416457dbdc8e851110f9952",
            "8facf2a3f9d249808aabfcc0b2702696",
            "eb9226cd189542aea5f0e83f6a2044ec",
            "c0ed9c19b0dc4950ab749c24f6cb39e4",
            "91dd8042ea9145d18d6ce91baea9fed6",
            "c5592ab248cf445cae0773bc16a46036",
            "5d9c8b6ef1554939aba32646f55349f9",
            "da1dff8b5cdb49908ae6d733b86982f8",
            "6fbdef7498b046679751ba93dd3c6d07",
            "51a10f62f35941548dd186a649b101ee",
            "c0ea55412b164281bd07ebfa1026d0d1",
            "1bdc37bb679748ea97d776804089a3c5",
            "392298d15f0e4d70af37829241d275fa",
            "356e7e3a5a2942289b6b57ae7ec7b8a2",
            "b62ebd64bf224a84990d1b42ea327147",
            "a25775c5a6314e82a2b46d8258761ff2"
          ]
        },
        "outputId": "e729609c-ed3a-479a-8b37-99495c8d936d"
      },
      "source": [
        "from brian2 import *\n",
        "from ipywidgets import interact, interactive, fixed, HBox, VBox, FloatSlider, IntSlider\n",
        "import matplotlib.pyplot as plt\n",
        "\n",
        "defaultclock.dt = 0.02*ms\n",
        "\n",
        "N = 150\n",
        "\n",
        "\n",
        "model = '''dvm/dt = (0.04/ms/mV)*vm**2+(5/ms)*vm+140*mV/ms-w + I : volt\n",
        "dw/dt = a*(b*vm-w) : volt/second\n",
        "I : volt/second\n",
        "a : 1/second\n",
        "b : 1/second\n",
        "c : volt\n",
        "d : volt/second'''\n",
        "threshold = \"vm > 35*mV\"\n",
        "reset = \"vm = c; w += d\"\n",
        "\n",
        "#adex = Izhikevich()\n",
        "\n",
        "def plot_bifurcation(a, b, c, d, I):\n",
        "  \n",
        "\n",
        "  start_scope()\n",
        "  neuron = NeuronGroup(N, model=model, threshold=threshold,\n",
        "                      reset=reset, method='euler')\n",
        "  \n",
        "  neuron.I = I * volt/second\n",
        "  neuron.a = a / ms\n",
        "  neuron.b = b / ms\n",
        "  neuron.c = c * mV\n",
        "  neuron.d = d * volt/second\n",
        "\n",
        "  #neuron.c = linspace(-70*mV, -60*mV, N)# bifurcation parameter\n",
        "  neuron.d = linspace(0.5*volt/second, 1.5*volt/second, N)\n",
        "\n",
        "  init_time = 1*second\n",
        "  run(init_time, report='text')# we discard the first spikes\n",
        "\n",
        "  states = StateMonitor(neuron, \"w\", record=True, when='start')\n",
        "  spikes = SpikeMonitor(neuron)\n",
        "  run(1*second, report='text')\n",
        "\n",
        "  # Get the values of Vr and w for each spike\n",
        "  D = neuron.d[spikes.i]\n",
        "  w = states.w[spikes.i, int_((spikes.t-init_time)/defaultclock.dt)]\n",
        "\n",
        "  plt.figure(figsize=(16,9))\n",
        "  plt.scatter(D / eval(\"volt/second\"), w / volt/second, marker=\".\", color=\"k\", linewidths=0.1)\n",
        "  plt.xlabel('d (volt/second)')\n",
        "  plt.ylabel('w')\n",
        "  plt.show()\n",
        "\n",
        "\n",
        "a_slider = FloatSlider(value = 0.02, min= 0., max = 0.1, step = 0.01, description = 'a (1/ms):', continuous_update=False)\n",
        "b_slider = FloatSlider(value = 0.2, min= 0., max = 1., step = 0.1, description = 'b (1/ms):', readout_format = '.1f' ,continuous_update=False)\n",
        "c_slider = IntSlider(value = -55, min= -80, max = -30, step = 5, description = 'c (mV):',continuous_update=False)\n",
        "d_slider = IntSlider(value = 8, min= 0, max = 20, step = 2, description = 'd (volt/second):',continuous_update=False)\n",
        "I_slider = IntSlider(value = 10, min= 0, max = 50, step = 5, description = 'I (volt/second):',continuous_update=False)\n",
        "\n",
        "interactive(plot_bifurcation, a = a_slider, b=b_slider, c=c_slider, d=d_slider, I=I_slider)\n"
      ],
      "execution_count": null,
      "outputs": [
        {
          "output_type": "display_data",
          "data": {
            "application/vnd.jupyter.widget-view+json": {
              "model_id": "49116ca7159e4f36a3afbd81d9c41f73",
              "version_minor": 0,
              "version_major": 2
            },
            "text/plain": [
              "interactive(children=(FloatSlider(value=0.02, continuous_update=False, description='a (1/ms):', max=0.1, step=…"
            ]
          },
          "metadata": {
            "tags": []
          }
        }
      ]
    },
    {
      "cell_type": "code",
      "metadata": {
        "id": "8OY5Fus96FEw",
        "colab_type": "code",
        "colab": {
          "base_uri": "https://localhost:8080/",
          "height": 606
        },
        "outputId": "9b6387ff-86bc-4918-8904-85be3b69b840"
      },
      "source": [
        "defaultclock.dt = 0.01*ms\n",
        "N=900\n",
        "morpho = Cylinder(length=10*cm, diameter=2*238*um, n=N, type='axon')\n",
        "\n",
        "El = 10.5995*mV\n",
        "ENa = 115*mV\n",
        "EK = -12*mV\n",
        "gl = 0.3*msiemens/cm**2\n",
        "gNa0 = 120*msiemens/cm**2\n",
        "gK = 36*msiemens/cm**2\n",
        "\n",
        "# Typical equations\n",
        "eqs = '''\n",
        "# The same equations for the whole neuron, but possibly different parameter values\n",
        "# distributed transmembrane current\n",
        "Im = gl * (El-v) + gNa * m**3 * h * (ENa-v) + gK * n**4 * (EK-v)+ I : amp/meter**2\n",
        "I = I0*sin(2*pi*50*Hz * t) : amp/meter**2\n",
        "I0 : amp/meter**2 # applied current\n",
        "dm/dt = alpham * (1-m) - betam * m : 1\n",
        "dn/dt = alphan * (1-n) - betan * n : 1\n",
        "dh/dt = alphah * (1-h) - betah * h : 1\n",
        "alpham = (0.1/mV) * 10*mV/exprel((-v+25*mV)/(10*mV))/ms : Hz\n",
        "betam = 4 * exp(-v/(18*mV))/ms : Hz\n",
        "alphah = 0.07 * exp(-v/(20*mV))/ms : Hz\n",
        "betah = 1/(exp((-v+30*mV) / (10*mV)) + 1)/ms : Hz\n",
        "alphan = (0.01/mV) * 10*mV/exprel((-v+10*mV)/(10*mV))/ms : Hz\n",
        "betan = 0.125*exp(-v/(80*mV))/ms : Hz\n",
        "gNa : siemens/meter**2\n",
        "#Cm=1*uF/cm**2 : farad/meter**2\n",
        "v : volt\n",
        "'''\n",
        "\n",
        "  \n",
        "start_scope()\n",
        "\"\"\"\n",
        "neuron = SpatialNeuron(morphology=morpho, model=eqs, method=\"exponential_euler\",\n",
        "                        refractory=\"m > 0.1\", threshold=\"m > 0.1\",\n",
        "                        Cm=1*uF/cm**2, Ri=35.4*ohm*cm)\n",
        "\"\"\"\n",
        "neuron = NeuronGroup(N, model=eqs, threshold=\"m > 0.5\",\n",
        "                    refractory=\"m > 0.4\", method='exponential_euler')\n",
        "\n",
        "neuron.v = 0*mV\n",
        "neuron.h = 1\n",
        "neuron.m = 0\n",
        "neuron.n = .5\n",
        "neuron.I0 = linspace(1.732 * uA/cm**2, 1.736 * uA/cm**2, N)\n",
        "neuron.gNa = gNa0\n",
        "\n",
        "\n",
        "##init_time = 1*second\n",
        "#run(init_time, report='text')# we discard the first spikes\n",
        "\n",
        "states = StateMonitor(neuron, \"v\", record=True, when='start')\n",
        "spikes = SpikeMonitor(neuron)\n",
        "run(1*second, report='text')\n",
        "\n",
        "# Get the values of Vr and w for each spike\n",
        "I0 = neuron.I0[spikes.i]\n",
        "V = states.v[spikes.i, int_((spikes.t-init_time)/defaultclock.dt)]\n",
        "\n",
        "plt.figure(figsize=(16,9))\n",
        "plt.scatter(I0 / uA/cm**2, V / mV, marker=\".\", color=\"k\", linewidths=0.1)\n",
        "plt.xlabel('I0 (uA/cm**2)')\n",
        "plt.ylabel('V (mV)')\n",
        "plt.show()\n",
        "\n"
      ],
      "execution_count": null,
      "outputs": [
        {
          "output_type": "stream",
          "text": [
            "Starting simulation at t=0. s for a duration of 1. s\n",
            "0.65537 s (65%) simulated in 10s, estimated 5s remaining.\n",
            "1. s (100%) simulated in 14s\n"
          ],
          "name": "stdout"
        },
        {
          "output_type": "display_data",
          "data": {
            "image/png": "[encoded data removed]",
            "text/plain": [
              "<Figure size 1152x648 with 1 Axes>"
            ]
          },
          "metadata": {
            "tags": [],
            "needs_background": "light"
          }
        }
      ]
    },
    {
      "cell_type": "code",
      "metadata": {
        "id": "astiwLhXRZA6",
        "colab_type": "code",
        "colab": {
          "base_uri": "https://localhost:8080/",
          "height": 283
        },
        "outputId": "b0abdf40-18f7-42dd-acc8-e2aa15bacc3c"
      },
      "source": [
        "plot(states.v[99])"
      ],
      "execution_count": null,
      "outputs": [
        {
          "output_type": "execute_result",
          "data": {
            "text/plain": [
              "[<matplotlib.lines.Line2D at 0x7fa80a7382b0>]"
            ]
          },
          "metadata": {
            "tags": []
          },
          "execution_count": 142
        },
        {
          "output_type": "display_data",
          "data": {
            "image/png": "[encoded data removed]",
            "text/plain": [
              "<Figure size 432x288 with 1 Axes>"
            ]
          },
          "metadata": {
            "tags": [],
            "needs_background": "light"
          }
        }
      ]
    },
    {
      "cell_type": "code",
      "metadata": {
        "id": "Uj8l9Q_8I9mR",
        "colab_type": "code",
        "colab": {}
      },
      "source": [
        ""
      ],
      "execution_count": null,
      "outputs": []
    }
  ]
}