{
  "nbformat": 4,
  "nbformat_minor": 0,
  "metadata": {
    "colab": {
      "name": "dendritic_computation.ipynb",
      "provenance": [],
      "collapsed_sections": [],
      "authorship_tag": "ABX9TyOutKX7AH6XJIrhXNCvn+wG",
      "include_colab_link": true
    },
    "kernelspec": {
      "name": "python3",
      "display_name": "Python 3"
    },
    "widgets": {
      "application/vnd.jupyter.widget-state+json": {
        "81d476ca1a424e6bbdb35811cf072672": {
          "model_module": "@jupyter-widgets/controls",
          "model_name": "VBoxModel",
          "state": {
            "_view_name": "VBoxView",
            "_dom_classes": [
              "widget-interact"
            ],
            "_model_name": "VBoxModel",
            "_view_module": "@jupyter-widgets/controls",
            "_model_module_version": "1.5.0",
            "_view_count": null,
            "_view_module_version": "1.5.0",
            "box_style": "",
            "layout": "IPY_MODEL_609cdfca46f344ba86b76bbb5f6783ff",
            "_model_module": "@jupyter-widgets/controls",
            "children": [
              "IPY_MODEL_824740523cb747d2a6dcabeabae7741f",
              "IPY_MODEL_29f6c3e254a346f1ad817846b760617a",
              "IPY_MODEL_9877abb786db4b0d8476e96fa1e974cf",
              "IPY_MODEL_746fbc0e3f9f4d53a70d396cc6e6006d"
            ]
          }
        },
        "609cdfca46f344ba86b76bbb5f6783ff": {
          "model_module": "@jupyter-widgets/base",
          "model_name": "LayoutModel",
          "state": {
            "_view_name": "LayoutView",
            "grid_template_rows": null,
            "right": null,
            "justify_content": null,
            "_view_module": "@jupyter-widgets/base",
            "overflow": null,
            "_model_module_version": "1.2.0",
            "_view_count": null,
            "flex_flow": null,
            "width": null,
            "min_width": null,
            "border": null,
            "align_items": null,
            "bottom": null,
            "_model_module": "@jupyter-widgets/base",
            "top": null,
            "grid_column": null,
            "overflow_y": null,
            "overflow_x": null,
            "grid_auto_flow": null,
            "grid_area": null,
            "grid_template_columns": null,
            "flex": null,
            "_model_name": "LayoutModel",
            "justify_items": null,
            "grid_row": null,
            "max_height": null,
            "align_content": null,
            "visibility": null,
            "align_self": null,
            "height": null,
            "min_height": null,
            "padding": null,
            "grid_auto_rows": null,
            "grid_gap": null,
            "max_width": null,
            "order": null,
            "_view_module_version": "1.2.0",
            "grid_template_areas": null,
            "object_position": null,
            "object_fit": null,
            "grid_auto_columns": null,
            "margin": null,
            "display": null,
            "left": null
          }
        },
        "824740523cb747d2a6dcabeabae7741f": {
          "model_module": "@jupyter-widgets/controls",
          "model_name": "FloatSliderModel",
          "state": {
            "_view_name": "FloatSliderView",
            "style": "IPY_MODEL_12faa959bb2a423bb3f6de8e1e6ee6ed",
            "_dom_classes": [],
            "description": "Left input spike (ms):",
            "step": 0.01,
            "_model_name": "FloatSliderModel",
            "orientation": "horizontal",
            "max": 4,
            "_view_module": "@jupyter-widgets/controls",
            "_model_module_version": "1.5.0",
            "value": 2.76,
            "_view_count": null,
            "disabled": false,
            "_view_module_version": "1.5.0",
            "min": 2,
            "continuous_update": false,
            "readout_format": ".2f",
            "description_tooltip": null,
            "readout": true,
            "_model_module": "@jupyter-widgets/controls",
            "layout": "IPY_MODEL_75f6c6914f1a47caa0ad9360ddc39947"
          }
        },
        "29f6c3e254a346f1ad817846b760617a": {
          "model_module": "@jupyter-widgets/controls",
          "model_name": "FloatSliderModel",
          "state": {
            "_view_name": "FloatSliderView",
            "style": "IPY_MODEL_2b8d760ff1734a7fa917b22ed0fcdd5d",
            "_dom_classes": [],
            "description": "Right input spike (ms):",
            "step": 0.01,
            "_model_name": "FloatSliderModel",
            "orientation": "horizontal",
            "max": 4,
            "_view_module": "@jupyter-widgets/controls",
            "_model_module_version": "1.5.0",
            "value": 2.98,
            "_view_count": null,
            "disabled": false,
            "_view_module_version": "1.5.0",
            "min": 2,
            "continuous_update": false,
            "readout_format": ".2f",
            "description_tooltip": null,
            "readout": true,
            "_model_module": "@jupyter-widgets/controls",
            "layout": "IPY_MODEL_39727b9790fb42ccbbac19f2b1a18d05"
          }
        },
        "9877abb786db4b0d8476e96fa1e974cf": {
          "model_module": "@jupyter-widgets/controls",
          "model_name": "IntSliderModel",
          "state": {
            "_view_name": "IntSliderView",
            "style": "IPY_MODEL_85ba6a641a1f49898a4bf22a6a42f412",
            "_dom_classes": [],
            "description": "Number of response neurons:",
            "step": 1,
            "_model_name": "IntSliderModel",
            "orientation": "horizontal",
            "max": 20,
            "_view_module": "@jupyter-widgets/controls",
            "_model_module_version": "1.5.0",
            "value": 10,
            "_view_count": null,
            "disabled": false,
            "_view_module_version": "1.5.0",
            "min": 0,
            "continuous_update": false,
            "readout_format": "d",
            "description_tooltip": null,
            "readout": true,
            "_model_module": "@jupyter-widgets/controls",
            "layout": "IPY_MODEL_eb68d4d052e34cd69cd346f6383deaf2"
          }
        },
        "746fbc0e3f9f4d53a70d396cc6e6006d": {
          "model_module": "@jupyter-widgets/output",
          "model_name": "OutputModel",
          "state": {
            "_view_name": "OutputView",
            "msg_id": "",
            "_dom_classes": [],
            "_model_name": "OutputModel",
            "outputs": [
              {
                "output_type": "display_data",
                "metadata": {
                  "tags": [],
                  "needs_background": "light"
                },
                "image/png": "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\n",
                "text/plain": "<Figure size 1080x360 with 4 Axes>"
              }
            ],
            "_view_module": "@jupyter-widgets/output",
            "_model_module_version": "1.0.0",
            "_view_count": null,
            "_view_module_version": "1.0.0",
            "layout": "IPY_MODEL_3fb912d3334b4317b5a2517e11ca817c",
            "_model_module": "@jupyter-widgets/output"
          }
        },
        "12faa959bb2a423bb3f6de8e1e6ee6ed": {
          "model_module": "@jupyter-widgets/controls",
          "model_name": "SliderStyleModel",
          "state": {
            "_view_name": "StyleView",
            "handle_color": null,
            "_model_name": "SliderStyleModel",
            "description_width": "",
            "_view_module": "@jupyter-widgets/base",
            "_model_module_version": "1.5.0",
            "_view_count": null,
            "_view_module_version": "1.2.0",
            "_model_module": "@jupyter-widgets/controls"
          }
        },
        "75f6c6914f1a47caa0ad9360ddc39947": {
          "model_module": "@jupyter-widgets/base",
          "model_name": "LayoutModel",
          "state": {
            "_view_name": "LayoutView",
            "grid_template_rows": null,
            "right": null,
            "justify_content": null,
            "_view_module": "@jupyter-widgets/base",
            "overflow": null,
            "_model_module_version": "1.2.0",
            "_view_count": null,
            "flex_flow": null,
            "width": null,
            "min_width": null,
            "border": null,
            "align_items": null,
            "bottom": null,
            "_model_module": "@jupyter-widgets/base",
            "top": null,
            "grid_column": null,
            "overflow_y": null,
            "overflow_x": null,
            "grid_auto_flow": null,
            "grid_area": null,
            "grid_template_columns": null,
            "flex": null,
            "_model_name": "LayoutModel",
            "justify_items": null,
            "grid_row": null,
            "max_height": null,
            "align_content": null,
            "visibility": null,
            "align_self": null,
            "height": null,
            "min_height": null,
            "padding": null,
            "grid_auto_rows": null,
            "grid_gap": null,
            "max_width": null,
            "order": null,
            "_view_module_version": "1.2.0",
            "grid_template_areas": null,
            "object_position": null,
            "object_fit": null,
            "grid_auto_columns": null,
            "margin": null,
            "display": null,
            "left": null
          }
        },
        "2b8d760ff1734a7fa917b22ed0fcdd5d": {
          "model_module": "@jupyter-widgets/controls",
          "model_name": "SliderStyleModel",
          "state": {
            "_view_name": "StyleView",
            "handle_color": null,
            "_model_name": "SliderStyleModel",
            "description_width": "",
            "_view_module": "@jupyter-widgets/base",
            "_model_module_version": "1.5.0",
            "_view_count": null,
            "_view_module_version": "1.2.0",
            "_model_module": "@jupyter-widgets/controls"
          }
        },
        "39727b9790fb42ccbbac19f2b1a18d05": {
          "model_module": "@jupyter-widgets/base",
          "model_name": "LayoutModel",
          "state": {
            "_view_name": "LayoutView",
            "grid_template_rows": null,
            "right": null,
            "justify_content": null,
            "_view_module": "@jupyter-widgets/base",
            "overflow": null,
            "_model_module_version": "1.2.0",
            "_view_count": null,
            "flex_flow": null,
            "width": null,
            "min_width": null,
            "border": null,
            "align_items": null,
            "bottom": null,
            "_model_module": "@jupyter-widgets/base",
            "top": null,
            "grid_column": null,
            "overflow_y": null,
            "overflow_x": null,
            "grid_auto_flow": null,
            "grid_area": null,
            "grid_template_columns": null,
            "flex": null,
            "_model_name": "LayoutModel",
            "justify_items": null,
            "grid_row": null,
            "max_height": null,
            "align_content": null,
            "visibility": null,
            "align_self": null,
            "height": null,
            "min_height": null,
            "padding": null,
            "grid_auto_rows": null,
            "grid_gap": null,
            "max_width": null,
            "order": null,
            "_view_module_version": "1.2.0",
            "grid_template_areas": null,
            "object_position": null,
            "object_fit": null,
            "grid_auto_columns": null,
            "margin": null,
            "display": null,
            "left": null
          }
        },
        "85ba6a641a1f49898a4bf22a6a42f412": {
          "model_module": "@jupyter-widgets/controls",
          "model_name": "SliderStyleModel",
          "state": {
            "_view_name": "StyleView",
            "handle_color": null,
            "_model_name": "SliderStyleModel",
            "description_width": "",
            "_view_module": "@jupyter-widgets/base",
            "_model_module_version": "1.5.0",
            "_view_count": null,
            "_view_module_version": "1.2.0",
            "_model_module": "@jupyter-widgets/controls"
          }
        },
        "eb68d4d052e34cd69cd346f6383deaf2": {
          "model_module": "@jupyter-widgets/base",
          "model_name": "LayoutModel",
          "state": {
            "_view_name": "LayoutView",
            "grid_template_rows": null,
            "right": null,
            "justify_content": null,
            "_view_module": "@jupyter-widgets/base",
            "overflow": null,
            "_model_module_version": "1.2.0",
            "_view_count": null,
            "flex_flow": null,
            "width": null,
            "min_width": null,
            "border": null,
            "align_items": null,
            "bottom": null,
            "_model_module": "@jupyter-widgets/base",
            "top": null,
            "grid_column": null,
            "overflow_y": null,
            "overflow_x": null,
            "grid_auto_flow": null,
            "grid_area": null,
            "grid_template_columns": null,
            "flex": null,
            "_model_name": "LayoutModel",
            "justify_items": null,
            "grid_row": null,
            "max_height": null,
            "align_content": null,
            "visibility": null,
            "align_self": null,
            "height": null,
            "min_height": null,
            "padding": null,
            "grid_auto_rows": null,
            "grid_gap": null,
            "max_width": null,
            "order": null,
            "_view_module_version": "1.2.0",
            "grid_template_areas": null,
            "object_position": null,
            "object_fit": null,
            "grid_auto_columns": null,
            "margin": null,
            "display": null,
            "left": null
          }
        },
        "3fb912d3334b4317b5a2517e11ca817c": {
          "model_module": "@jupyter-widgets/base",
          "model_name": "LayoutModel",
          "state": {
            "_view_name": "LayoutView",
            "grid_template_rows": null,
            "right": null,
            "justify_content": null,
            "_view_module": "@jupyter-widgets/base",
            "overflow": null,
            "_model_module_version": "1.2.0",
            "_view_count": null,
            "flex_flow": null,
            "width": null,
            "min_width": null,
            "border": null,
            "align_items": null,
            "bottom": null,
            "_model_module": "@jupyter-widgets/base",
            "top": null,
            "grid_column": null,
            "overflow_y": null,
            "overflow_x": null,
            "grid_auto_flow": null,
            "grid_area": null,
            "grid_template_columns": null,
            "flex": null,
            "_model_name": "LayoutModel",
            "justify_items": null,
            "grid_row": null,
            "max_height": null,
            "align_content": null,
            "visibility": null,
            "align_self": null,
            "height": null,
            "min_height": null,
            "padding": null,
            "grid_auto_rows": null,
            "grid_gap": null,
            "max_width": null,
            "order": null,
            "_view_module_version": "1.2.0",
            "grid_template_areas": null,
            "object_position": null,
            "object_fit": null,
            "grid_auto_columns": null,
            "margin": null,
            "display": null,
            "left": null
          }
        }
      }
    }
  },
  "cells": [
    {
      "cell_type": "markdown",
      "metadata": {
        "id": "view-in-github",
        "colab_type": "text"
      },
      "source": [
        "<a href=\"https://colab.research.google.com/github/DiGyt/neuropynamics/blob/DiGyt_dev/notebooks/dendritic_computation.ipynb\" target=\"_parent\"><img src=\"https://colab.research.google.com/assets/colab-badge.svg\" alt=\"Open In Colab\"/></a>"
      ]
    },
    {
      "cell_type": "markdown",
      "metadata": {
        "id": "qg2aZFjrCqk0",
        "colab_type": "text"
      },
      "source": [
        "# **Dendritic computation**"
      ]
    },
    {
      "cell_type": "markdown",
      "metadata": {
        "id": "Q7YnKLN0Dc-K",
        "colab_type": "text"
      },
      "source": [
        "Fist, we install all the things we need again."
      ]
    },
    {
      "cell_type": "code",
      "metadata": {
        "id": "ja7rkJrbtt-9",
        "colab_type": "code",
        "colab": {
          "base_uri": "https://localhost:8080/",
          "height": 586
        },
        "outputId": "2ec9517e-2bbd-4107-f484-0161bd8ac7c3"
      },
      "source": [
        "!pip install brian2\n",
        "!git clone https://github.com/DiGyt/neuropynamics/ --branch DiGyt_dev"
      ],
      "execution_count": 1,
      "outputs": [
        {
          "output_type": "stream",
          "text": [
            "Collecting brian2\n",
            "\u001b[?25l  Downloading https://files.pythonhosted.org/packages/97/16/eda80475d70da06d59cee1a39192ee117f970eaf18adbf5fa2c926db1713/Brian2-2.3.0.2.tar.gz (1.6MB)\n",
            "\u001b[K     |████████████████████████████████| 1.6MB 2.6MB/s \n",
            "\u001b[?25hRequirement already satisfied: numpy>=1.10 in /usr/local/lib/python3.6/dist-packages (from brian2) (1.18.5)\n",
            "Requirement already satisfied: cython>=0.29 in /usr/local/lib/python3.6/dist-packages (from brian2) (0.29.21)\n",
            "Collecting sympy>=1.2\n",
            "\u001b[?25l  Downloading https://files.pythonhosted.org/packages/e0/1f/8cbbf698e853019ac3dc5d60ca8f6be4ace4542b2f05f7b62949617fc98e/sympy-1.6.2-py3-none-any.whl (5.8MB)\n",
            "\u001b[K     |████████████████████████████████| 5.8MB 15.5MB/s \n",
            "\u001b[?25hRequirement already satisfied: pyparsing in /usr/local/lib/python3.6/dist-packages (from brian2) (2.4.7)\n",
            "Requirement already satisfied: jinja2>=2.7 in /usr/local/lib/python3.6/dist-packages (from brian2) (2.11.2)\n",
            "Requirement already satisfied: setuptools>=24 in /usr/local/lib/python3.6/dist-packages (from brian2) (49.6.0)\n",
            "Requirement already satisfied: future in /usr/local/lib/python3.6/dist-packages (from brian2) (0.16.0)\n",
            "Requirement already satisfied: mpmath>=0.19 in /usr/local/lib/python3.6/dist-packages (from sympy>=1.2->brian2) (1.1.0)\n",
            "Requirement already satisfied: MarkupSafe>=0.23 in /usr/local/lib/python3.6/dist-packages (from jinja2>=2.7->brian2) (1.1.1)\n",
            "Building wheels for collected packages: brian2\n",
            "  Building wheel for brian2 (setup.py) ... \u001b[?25l\u001b[?25hdone\n",
            "  Created wheel for brian2: filename=Brian2-2.3.0.2-cp36-cp36m-linux_x86_64.whl size=1283469 sha256=46efa9f6c18f88ff284b89e489c3850e6166645f6f8be9603c9bb2c2aae50684\n",
            "  Stored in directory: /root/.cache/pip/wheels/86/b5/f6/0c8f9eec58c01e4af55a4c79a5e0385aea01ed03e4ec36c4ac\n",
            "Successfully built brian2\n",
            "Installing collected packages: sympy, brian2\n",
            "  Found existing installation: sympy 1.1.1\n",
            "    Uninstalling sympy-1.1.1:\n",
            "      Successfully uninstalled sympy-1.1.1\n",
            "Successfully installed brian2-2.3.0.2 sympy-1.6.2\n",
            "Cloning into 'neuropynamics'...\n",
            "remote: Enumerating objects: 44, done.\u001b[K\n",
            "remote: Counting objects: 100% (44/44), done.\u001b[K\n",
            "remote: Compressing objects: 100% (42/42), done.\u001b[K\n",
            "remote: Total 261 (delta 20), reused 6 (delta 0), pack-reused 217\u001b[K\n",
            "Receiving objects: 100% (261/261), 3.11 MiB | 2.91 MiB/s, done.\n",
            "Resolving deltas: 100% (101/101), done.\n"
          ],
          "name": "stdout"
        }
      ]
    },
    {
      "cell_type": "markdown",
      "metadata": {
        "id": "q8PxD3i2Cr0-",
        "colab_type": "text"
      },
      "source": [
        "Import everything we need."
      ]
    },
    {
      "cell_type": "code",
      "metadata": {
        "id": "AIKRQVPW70Di",
        "colab_type": "code",
        "colab": {}
      },
      "source": [
        "import numpy as np\n",
        "import networkx as nx\n",
        "import ipywidgets as widgets\n",
        "from ipywidgets import FloatSlider, IntSlider, interactive\n",
        "import matplotlib.pyplot as plt\n",
        "import matplotlib.ticker as ticker\n",
        "\n",
        "from brian2 import (second, ms, us, volt, mV, cm, umetre, ufarad, siemens, msiemens, mA)\n",
        "from brian2 import (start_scope, NeuronGroup, Synapses, SpikeGeneratorGroup,\n",
        "                    StateMonitor, SpikeMonitor, run, defaultclock)\n",
        "\n",
        "from neuropynamics.src.plotting import (plot_cmesh, plot_signals,\n",
        "                                        plot_spikes, plot_synapses)"
      ],
      "execution_count": 2,
      "outputs": []
    },
    {
      "cell_type": "markdown",
      "metadata": {
        "id": "AVMqNwyXEtdf",
        "colab_type": "text"
      },
      "source": [
        "## Step-by-step"
      ]
    },
    {
      "cell_type": "markdown",
      "metadata": {
        "id": "QHge9mjECs_p",
        "colab_type": "text"
      },
      "source": [
        "First of all, we define a Hodgkin-Huxley neuron model."
      ]
    },
    {
      "cell_type": "code",
      "metadata": {
        "id": "5Y0SzubokqcU",
        "colab_type": "code",
        "colab": {}
      },
      "source": [
        "model = '''\n",
        "    dv/dt = (gl*(El-v) - g_na*(m*m*m)*h*(v-ENa) - g_kd*(n*n*n*n)*(v-EK) + I)/Cm : volt\n",
        "    dm/dt = 0.32*(mV**-1)*(13.*mV-v+VT)/\n",
        "        (exp((13.*mV-v+VT)/(4.*mV))-1.)/ms*(1-m)-0.28*(mV**-1)*(v-VT-40.*mV)/\n",
        "        (exp((v-VT-40.*mV)/(5.*mV))-1.)/ms*m : 1\n",
        "    dn/dt = 0.032*(mV**-1)*(15.*mV-v+VT)/\n",
        "        (exp((15.*mV-v+VT)/(5.*mV))-1.)/ms*(1.-n)-.5*exp((10.*mV-v+VT)/(40.*mV))/ms*n : 1\n",
        "    dh/dt = 0.128*exp((17.*mV-v+VT)/(18.*mV))/ms*(1.-h)-4./(1+exp((40.*mV-v+VT)/(5.*mV)))/ms*h : 1\n",
        "    I : amp\n",
        "    '''   \n",
        "# Define threshold and refractory period\n",
        "threshold = 'v > 35*mV'\n",
        "refractory = 'v > -40*mV'\n",
        "\n",
        "area = 20000*umetre**2\n",
        "Cm = 1*ufarad*cm**-2 * area # Mebrane capacitance\n",
        "gl = 5e-5*siemens*cm**-2 * area\n",
        "El = -65.*mV\n",
        "EK = -90.*mV\n",
        "ENa = 50.*mV\n",
        "g_na = 100.*msiemens*cm**-2 * area\n",
        "g_kd = 30.*msiemens*cm**-2 * area\n",
        "VT = -63*mV"
      ],
      "execution_count": 3,
      "outputs": []
    },
    {
      "cell_type": "markdown",
      "metadata": {
        "id": "lRSxnXMtGMO4",
        "colab_type": "text"
      },
      "source": [
        ""
      ]
    },
    {
      "cell_type": "code",
      "metadata": {
        "id": "7Zvb7gGKYVUu",
        "colab_type": "code",
        "colab": {}
      },
      "source": [
        "start_scope()\n",
        "\n",
        "left_pulse = 2.1 * ms\n",
        "right_pulse = 2.9 * ms\n",
        "\n",
        "N = 7\n",
        "\n",
        "# define the left/right stimulus neurons\n",
        "inputs = SpikeGeneratorGroup(2, indices=[0, 1], times=[left_pulse, right_pulse])\n",
        "\n",
        "# Create a group of Izhikevich neurons\n",
        "neurons = NeuronGroup(N, model=model,\n",
        "                      threshold=threshold,\n",
        "                      refractory=refractory,\n",
        "                      method='exponential_euler')\n",
        "\n",
        "# create the left group of synapses from Neuron 0 to the last five\n",
        "synapses_0 = Synapses(inputs, neurons, 'weight : volt', on_pre='v_post += weight')\n",
        "synapses_0.connect(i=0, j=np.arange(N))\n",
        "synapses_0.weight = 30 * mV\n",
        "synapses_0.delay =  np.arange(N)/10 * ms\n",
        "\n",
        "# create the right group of synapses from Neuron 0 to the last five\n",
        "synapses_1 = Synapses(inputs, neurons, 'weight : volt', on_pre='v_post += weight')\n",
        "synapses_1.connect(i=1, j=np.arange(N))\n",
        "synapses_1.weight = 30 * mV\n",
        "synapses_1.delay =  np.arange(N, 0, -1)/10 * ms\n",
        "\n",
        "run(2*ms)\n",
        "# run the simulation while monitoring it\n",
        "states = StateMonitor(neurons, 'v', record=True)\n",
        "spikes = SpikeMonitor(neurons, 'v', record=True)\n",
        "inp_spikes = SpikeMonitor(inputs, record=True)\n",
        "run(3*ms)"
      ],
      "execution_count": 4,
      "outputs": []
    },
    {
      "cell_type": "markdown",
      "metadata": {
        "id": "U1KwzbEFYT00",
        "colab_type": "text"
      },
      "source": [
        "First, we should inspect how the network that we've just build looks like."
      ]
    },
    {
      "cell_type": "code",
      "metadata": {
        "id": "DFmTYAl0XumV",
        "colab_type": "code",
        "colab": {
          "base_uri": "https://localhost:8080/",
          "height": 253
        },
        "outputId": "219edb4c-2e0e-46e0-f8e1-e9175fb4f224"
      },
      "source": [
        "plot_synapses(neuron_groups=[inputs, neurons],\n",
        "              synapse_groups=[synapses_0, synapses_1],\n",
        "              pos_func=lambda x:nx.bipartite_layout(x, nodes=[0,1]), \n",
        "              color_cycle=[\"lightblue\", \"darksalmon\"])"
      ],
      "execution_count": 5,
      "outputs": [
        {
          "output_type": "display_data",
          "data": {
            "image/png": "[encoded data removed]",
            "text/plain": [
              "<Figure size 432x288 with 1 Axes>"
            ]
          },
          "metadata": {
            "tags": []
          }
        }
      ]
    },
    {
      "cell_type": "markdown",
      "metadata": {
        "id": "j6SPFbqwXzEj",
        "colab_type": "text"
      },
      "source": [
        ""
      ]
    },
    {
      "cell_type": "code",
      "metadata": {
        "id": "192mg6uem0Nb",
        "colab_type": "code",
        "colab": {
          "base_uri": "https://localhost:8080/",
          "height": 279
        },
        "outputId": "8d54b291-75af-4566-9fce-699cf3b41a91"
      },
      "source": [
        "ch_names = [\"Resp. \" + str(i) for i in range(len(neurons))]\n",
        "plot_spikes(spikes.i, spikes.t/ms, ch_names,time_unit=\"ms\", show=False)\n",
        "plt.xlim(2, 4)\n",
        "plt.vlines(x=[left_pulse/ms, right_pulse/ms], ymin=0, ymax=len(neurons)-1, color = 'lightblue')\n",
        "for name, time in zip([\"left input\", \"right input\"], [left_pulse, right_pulse]):\n",
        "  plt.text(time/ms, len(neurons)-1, name, rotation=90, c=\"lightblue\",\n",
        "          verticalalignment=\"top\", horizontalalignment=\"right\")"
      ],
      "execution_count": 6,
      "outputs": [
        {
          "output_type": "display_data",
          "data": {
            "image/png": "[encoded data removed]",
            "text/plain": [
              "<Figure size 432x288 with 1 Axes>"
            ]
          },
          "metadata": {
            "tags": [],
            "needs_background": "light"
          }
        }
      ]
    },
    {
      "cell_type": "markdown",
      "metadata": {
        "id": "Yh4Wyztum0YH",
        "colab_type": "text"
      },
      "source": [
        ""
      ]
    },
    {
      "cell_type": "code",
      "metadata": {
        "id": "QG8HxPCVm0hK",
        "colab_type": "code",
        "colab": {
          "base_uri": "https://localhost:8080/",
          "height": 279
        },
        "outputId": "016f0ac2-cbc7-44f8-d59d-46b78e0ec7d0"
      },
      "source": [
        "plot_cmesh(states.v/mV, states.t/ms, ch_names, time_unit=\"ms\", unit=\"Membrane Potential (mV)\")"
      ],
      "execution_count": 7,
      "outputs": [
        {
          "output_type": "display_data",
          "data": {
            "image/png": "[encoded data removed]",
            "text/plain": [
              "<Figure size 432x288 with 2 Axes>"
            ]
          },
          "metadata": {
            "tags": [],
            "needs_background": "light"
          }
        }
      ]
    },
    {
      "cell_type": "markdown",
      "metadata": {
        "id": "bFbp0CRSCuGn",
        "colab_type": "text"
      },
      "source": [
        "## Try it out yourself"
      ]
    },
    {
      "cell_type": "code",
      "metadata": {
        "id": "MHJqxu409skd",
        "colab_type": "code",
        "colab": {
          "base_uri": "https://localhost:8080/",
          "height": 446,
          "referenced_widgets": [
            "81d476ca1a424e6bbdb35811cf072672",
            "609cdfca46f344ba86b76bbb5f6783ff",
            "824740523cb747d2a6dcabeabae7741f",
            "29f6c3e254a346f1ad817846b760617a",
            "9877abb786db4b0d8476e96fa1e974cf",
            "746fbc0e3f9f4d53a70d396cc6e6006d",
            "12faa959bb2a423bb3f6de8e1e6ee6ed",
            "75f6c6914f1a47caa0ad9360ddc39947",
            "2b8d760ff1734a7fa917b22ed0fcdd5d",
            "39727b9790fb42ccbbac19f2b1a18d05",
            "85ba6a641a1f49898a4bf22a6a42f412",
            "eb68d4d052e34cd69cd346f6383deaf2",
            "3fb912d3334b4317b5a2517e11ca817c"
          ]
        },
        "outputId": "733d6d54-56ef-4a28-c33e-770d1a88930c"
      },
      "source": [
        "model = '''\n",
        "    dv/dt = (gl*(El-v) - g_na*(m*m*m)*h*(v-ENa) - g_kd*(n*n*n*n)*(v-EK) + I)/Cm : volt\n",
        "    dm/dt = 0.32*(mV**-1)*(13.*mV-v+VT)/\n",
        "        (exp((13.*mV-v+VT)/(4.*mV))-1.)/ms*(1-m)-0.28*(mV**-1)*(v-VT-40.*mV)/\n",
        "        (exp((v-VT-40.*mV)/(5.*mV))-1.)/ms*m : 1\n",
        "    dn/dt = 0.032*(mV**-1)*(15.*mV-v+VT)/\n",
        "        (exp((15.*mV-v+VT)/(5.*mV))-1.)/ms*(1.-n)-.5*exp((10.*mV-v+VT)/(40.*mV))/ms*n : 1\n",
        "    dh/dt = 0.128*exp((17.*mV-v+VT)/(18.*mV))/ms*(1.-h)-4./(1+exp((40.*mV-v+VT)/(5.*mV)))/ms*h : 1\n",
        "    I : amp\n",
        "    '''   \n",
        "# Define threshold and refractory period\n",
        "threshold = 'v > -40*mV'\n",
        "refractory = 'v > -40*mV'\n",
        "\n",
        "area = 20000*umetre**2\n",
        "Cm = 1*ufarad*cm**-2 * area # Mebrane capacitance\n",
        "gl = 5e-5*siemens*cm**-2 * area\n",
        "El = -65.*mV\n",
        "EK = -90.*mV\n",
        "ENa = 50.*mV\n",
        "g_na = 100.*msiemens*cm**-2 * area\n",
        "g_kd = 30.*msiemens*cm**-2 * area\n",
        "VT = -63*mV\n",
        "\n",
        "\n",
        "defaultclock.dt = 0.05*ms\n",
        "\n",
        "def dendritic_computation(left, right, N):\n",
        "\n",
        "  start_scope()\n",
        "\n",
        "  left_pulse = left * ms\n",
        "  right_pulse = right * ms\n",
        "\n",
        "  # define the left/right stimulus neurons\n",
        "  inputs = SpikeGeneratorGroup(2, indices=[0, 1], times=[left_pulse, right_pulse])\n",
        "\n",
        "  # Create a group of Izhikevich neurons\n",
        "  neurons = NeuronGroup(N, model=model,\n",
        "                        threshold=threshold,\n",
        "                        refractory=refractory,\n",
        "                        method='exponential_euler')\n",
        "\n",
        "  # create the left group of synapses from Neuron 0 to the last five\n",
        "  synapses_0 = Synapses(inputs, neurons, 'weight : volt', on_pre='v_post += weight')\n",
        "  synapses_0.connect(i=0, j=np.arange(N))\n",
        "  synapses_0.weight = 30 * mV\n",
        "  synapses_0.delay =  np.arange(N)/10 * ms\n",
        "\n",
        "  # create the right group of synapses from Neuron 0 to the last five\n",
        "  synapses_1 = Synapses(inputs, neurons, 'weight : volt', on_pre='v_post += weight')\n",
        "  synapses_1.connect(i=1, j=np.arange(N))\n",
        "  synapses_1.weight = 30 * mV\n",
        "  synapses_1.delay =  np.arange(N, 0, -1)/10 * ms\n",
        "\n",
        "  run(2*ms)\n",
        "  # run the simulation while monitoring it\n",
        "  states = StateMonitor(neurons, 'v', record=True)\n",
        "  spikes = SpikeMonitor(neurons, 'v', record=True)\n",
        "  inp_spikes = SpikeMonitor(inputs, record=True)\n",
        "  run(3*ms)\n",
        "\n",
        "  # plot the network\n",
        "  plt.figure(figsize=[15,5])\n",
        "  plt.subplot(1, 3, 1)\n",
        "  plt.title(\"Network Layout\")\n",
        "  plot_synapses(neuron_groups=[inputs, neurons],\n",
        "                synapse_groups=[synapses_0, synapses_1],\n",
        "                pos_func=lambda x:nx.bipartite_layout(x, nodes=[0,1]), \n",
        "                color_cycle=[\"lightblue\", \"darksalmon\"], show=False)\n",
        "\n",
        "  # plot the spiking times\n",
        "  plt.subplot(1, 3, 2)\n",
        "  plt.title(\"Spiking Times\")\n",
        "  ch_names = [\"Resp. \" + str(i) for i in range(len(neurons))]\n",
        "  plot_spikes(spikes.i, spikes.t/ms, ch_names,time_unit=\"ms\", show=False)\n",
        "  plt.xlim(2, 4)\n",
        "  plt.vlines(x=[left_pulse/ms, right_pulse/ms], ymin=0, ymax=len(neurons)-1, color = 'lightblue')\n",
        "  for name, time in zip([\"left input\", \"right input\"], [left_pulse, right_pulse]):\n",
        "    plt.text(time/ms, len(neurons)-1, name, rotation=90, c=\"lightblue\",\n",
        "            verticalalignment=\"top\", horizontalalignment=\"right\")\n",
        "\n",
        "  # plot the membrane potential\n",
        "  plt.subplot(1, 3, 3)\n",
        "  plt.title(\"Membrane Potential\")\n",
        "  plot_cmesh(states.v[:, states.t >= 2*ms]/mV, states.t[states.t >= 2*ms]/ms, ch_names, time_unit=\"ms\", unit=\"Membrane Potential (mV)\", show=False)\n",
        "\n",
        "\n",
        "left_slider = FloatSlider(value = 2., min= 2., max = 4., step = 0.01, description = 'Left input spike (ms):',continuous_update=False)\n",
        "right_slider = FloatSlider(value = 2., min= 2., max = 4., step = 0.01, description = 'Right input spike (ms):',continuous_update=False)\n",
        "N_slider = IntSlider(value = 10, min= 0, max = 20, step = 1, description = 'Number of response neurons:',continuous_update=False)\n",
        "\n",
        "interactive(dendritic_computation, left=left_slider, right=right_slider, N=N_slider)"
      ],
      "execution_count": 10,
      "outputs": [
        {
          "output_type": "display_data",
          "data": {
            "application/vnd.jupyter.widget-view+json": {
              "model_id": "81d476ca1a424e6bbdb35811cf072672",
              "version_minor": 0,
              "version_major": 2
            },
            "text/plain": [
              "interactive(children=(FloatSlider(value=2.0, continuous_update=False, description='Left input spike (ms):', ma…"
            ]
          },
          "metadata": {
            "tags": []
          }
        }
      ]
    },
    {
      "cell_type": "markdown",
      "metadata": {
        "id": "QNc5PgNomqpp",
        "colab_type": "text"
      },
      "source": [
        "### archive"
      ]
    },
    {
      "cell_type": "code",
      "metadata": {
        "id": "aj-jCXl2mr8E",
        "colab_type": "code",
        "colab": {
          "base_uri": "https://localhost:8080/",
          "height": 72
        },
        "outputId": "36d94d88-5042-415b-fae4-f6081adf7944"
      },
      "source": [
        "import seaborn as sns\n",
        "\n",
        "# Plotting function\n",
        "def create_default_plot(x, neuron_data, neuron_labels, neuron_colors, spikes = None, spike_color = 'steelblue', input_current = None, input_label = 'Input Current', input_color = 'gold', y_range = None, title = '', x_axis_label = '', y_axis_label = '', input_axis_label = 'Input Current (A)', hline = None, sns_style=True):\n",
        "    \n",
        "  # Apply default seaborn settings\n",
        "  if sns_style:\n",
        "    sns.set()\n",
        "    sns.set_style({'axes.grid' : False})\n",
        "\n",
        "  # Create first y axis and set size of figure\n",
        "  fig, ax1 = plt.subplots(figsize=(14,6))\n",
        "\n",
        "  # Set axis labels\n",
        "  ax1.set_xlabel(x_axis_label)\n",
        "  ax1.set_ylabel(y_axis_label)\n",
        "\n",
        "  # Set y range if given\n",
        "  if y_range is not None:\n",
        "      ax1.set_ylim(y_range)\n",
        "\n",
        "  # Add horizontal line\n",
        "  if hline is not None:\n",
        "      ax1.axhline(y = hline, linestyle = '--', linewidth = 1, color = 'gray', label = 'Spiking Threshold')\n",
        "\n",
        "  # Plot a line for each neuron datapoint\n",
        "  for idx, y in enumerate(neuron_data):\n",
        "      # We ignore the first datapoint as these are always 0 and result in weird looking lines\n",
        "      ax1.plot(x[1:], y[1:], color = neuron_colors[idx], label = neuron_labels[idx])\n",
        "\n",
        "  # Plot spikes if given\n",
        "  if spikes is not None:\n",
        "      # Ignore the first spike if it is before 100ms (as no current was given)\n",
        "      if spikes[0] >= 10:\n",
        "          ax1.axvline(spikes[0], linestyle = ':', color = spike_color, linewidth = 1, zorder = 0)\n",
        "      for t in spikes[1:-1]:\n",
        "          ax1.axvline(t, linestyle = ':', color = spike_color, linewidth = 1, zorder = 0)\n",
        "      # Add line for last spike with label\n",
        "      ax1.axvline(spikes[-1], linestyle = ':', color = spike_color, linewidth = 1, label = 'Spikes', zorder = 0)\n",
        "\n",
        "  # Show input current if given\n",
        "  if input_current is not None:\n",
        "      # Create 2nd y-axis\n",
        "      ax2 = ax1.twinx()\n",
        "      # Set axis label\n",
        "      ax2.set_ylabel(input_axis_label)\n",
        "      # Draw input line\n",
        "      ax2.plot(x, input_current, color = input_color, label = input_label)   \n",
        "  \n",
        "  # Add legend\n",
        "  fig.legend(loc=\"upper right\", bbox_to_anchor=(0.825, 0.8))\n",
        "\n",
        "  # Set title\n",
        "  plt.title(title)"
      ],
      "execution_count": 9,
      "outputs": [
        {
          "output_type": "stream",
          "text": [
            "WARNING    /usr/local/lib/python3.6/dist-packages/statsmodels/tools/_testing.py:19: FutureWarning: pandas.util.testing is deprecated. Use the functions in the public API at pandas.testing instead.\n",
            "  import pandas.util.testing as tm\n",
            " [py.warnings]\n"
          ],
          "name": "stderr"
        }
      ]
    }
  ]
}