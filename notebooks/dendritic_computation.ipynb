{
  "nbformat": 4,
  "nbformat_minor": 0,
  "metadata": {
    "colab": {
      "name": "dendritic_computation.ipynb",
      "provenance": [],
      "collapsed_sections": [],
      "authorship_tag": "ABX9TyMOgfRAKlRq3cvy/FP7T8df",
      "include_colab_link": true
    },
    "kernelspec": {
      "name": "python3",
      "display_name": "Python 3"
    },
    "widgets": {
      "application/vnd.jupyter.widget-state+json": {
        "683d9867e8874a9fa533614813c631d1": {
          "model_module": "@jupyter-widgets/controls",
          "model_name": "VBoxModel",
          "state": {
            "_view_name": "VBoxView",
            "_dom_classes": [
              "widget-interact"
            ],
            "_model_name": "VBoxModel",
            "_view_module": "@jupyter-widgets/controls",
            "_model_module_version": "1.5.0",
            "_view_count": null,
            "_view_module_version": "1.5.0",
            "box_style": "",
            "layout": "IPY_MODEL_e1184f67f04948ad825802c49346409e",
            "_model_module": "@jupyter-widgets/controls",
            "children": [
              "IPY_MODEL_0300b09c851e43ba9b61d28df0c66bbb",
              "IPY_MODEL_f817311db1f54ddfb050ed1222463d6b",
              "IPY_MODEL_71e289024408493b86c49f5cc386cf29",
              "IPY_MODEL_99a3fb9aeafe49a3baf7686ca6b6d46f"
            ]
          }
        },
        "e1184f67f04948ad825802c49346409e": {
          "model_module": "@jupyter-widgets/base",
          "model_name": "LayoutModel",
          "state": {
            "_view_name": "LayoutView",
            "grid_template_rows": null,
            "right": null,
            "justify_content": null,
            "_view_module": "@jupyter-widgets/base",
            "overflow": null,
            "_model_module_version": "1.2.0",
            "_view_count": null,
            "flex_flow": null,
            "width": null,
            "min_width": null,
            "border": null,
            "align_items": null,
            "bottom": null,
            "_model_module": "@jupyter-widgets/base",
            "top": null,
            "grid_column": null,
            "overflow_y": null,
            "overflow_x": null,
            "grid_auto_flow": null,
            "grid_area": null,
            "grid_template_columns": null,
            "flex": null,
            "_model_name": "LayoutModel",
            "justify_items": null,
            "grid_row": null,
            "max_height": null,
            "align_content": null,
            "visibility": null,
            "align_self": null,
            "height": null,
            "min_height": null,
            "padding": null,
            "grid_auto_rows": null,
            "grid_gap": null,
            "max_width": null,
            "order": null,
            "_view_module_version": "1.2.0",
            "grid_template_areas": null,
            "object_position": null,
            "object_fit": null,
            "grid_auto_columns": null,
            "margin": null,
            "display": null,
            "left": null
          }
        },
        "0300b09c851e43ba9b61d28df0c66bbb": {
          "model_module": "@jupyter-widgets/controls",
          "model_name": "FloatSliderModel",
          "state": {
            "_view_name": "FloatSliderView",
            "style": "IPY_MODEL_ce3a2a9c12ff4f5f9f4253acc65f07da",
            "_dom_classes": [],
            "description": "Left input spike (ms):",
            "step": 0.01,
            "_model_name": "FloatSliderModel",
            "orientation": "horizontal",
            "max": 4,
            "_view_module": "@jupyter-widgets/controls",
            "_model_module_version": "1.5.0",
            "value": 2,
            "_view_count": null,
            "disabled": false,
            "_view_module_version": "1.5.0",
            "min": 2,
            "continuous_update": false,
            "readout_format": ".2f",
            "description_tooltip": null,
            "readout": true,
            "_model_module": "@jupyter-widgets/controls",
            "layout": "IPY_MODEL_582a23558aca42c4ae44a63411ef896f"
          }
        },
        "f817311db1f54ddfb050ed1222463d6b": {
          "model_module": "@jupyter-widgets/controls",
          "model_name": "FloatSliderModel",
          "state": {
            "_view_name": "FloatSliderView",
            "style": "IPY_MODEL_fbd7f2e81504413d8f8e783552fa0891",
            "_dom_classes": [],
            "description": "Right input spike (ms):",
            "step": 0.01,
            "_model_name": "FloatSliderModel",
            "orientation": "horizontal",
            "max": 4,
            "_view_module": "@jupyter-widgets/controls",
            "_model_module_version": "1.5.0",
            "value": 2,
            "_view_count": null,
            "disabled": false,
            "_view_module_version": "1.5.0",
            "min": 2,
            "continuous_update": false,
            "readout_format": ".2f",
            "description_tooltip": null,
            "readout": true,
            "_model_module": "@jupyter-widgets/controls",
            "layout": "IPY_MODEL_07e33926dcc44dfe8af5481f159d7d5a"
          }
        },
        "71e289024408493b86c49f5cc386cf29": {
          "model_module": "@jupyter-widgets/controls",
          "model_name": "IntSliderModel",
          "state": {
            "_view_name": "IntSliderView",
            "style": "IPY_MODEL_defb5a2e48a04129b8aca252d1c34393",
            "_dom_classes": [],
            "description": "Number of response neurons:",
            "step": 1,
            "_model_name": "IntSliderModel",
            "orientation": "horizontal",
            "max": 20,
            "_view_module": "@jupyter-widgets/controls",
            "_model_module_version": "1.5.0",
            "value": 10,
            "_view_count": null,
            "disabled": false,
            "_view_module_version": "1.5.0",
            "min": 0,
            "continuous_update": false,
            "readout_format": "d",
            "description_tooltip": null,
            "readout": true,
            "_model_module": "@jupyter-widgets/controls",
            "layout": "IPY_MODEL_09761d50eacd4e2c81b039c79a1e68e1"
          }
        },
        "99a3fb9aeafe49a3baf7686ca6b6d46f": {
          "model_module": "@jupyter-widgets/output",
          "model_name": "OutputModel",
          "state": {
            "_view_name": "OutputView",
            "msg_id": "",
            "_dom_classes": [],
            "_model_name": "OutputModel",
            "outputs": [
              {
                "output_type": "display_data",
                "metadata": {
                  "tags": [],
                  "needs_background": "light"
                },
                "image/png": "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\n",
                "text/plain": "<Figure size 1080x360 with 4 Axes>"
              }
            ],
            "_view_module": "@jupyter-widgets/output",
            "_model_module_version": "1.0.0",
            "_view_count": null,
            "_view_module_version": "1.0.0",
            "layout": "IPY_MODEL_8910a7be34d94a87a4ce0a5d37c663ae",
            "_model_module": "@jupyter-widgets/output"
          }
        },
        "ce3a2a9c12ff4f5f9f4253acc65f07da": {
          "model_module": "@jupyter-widgets/controls",
          "model_name": "SliderStyleModel",
          "state": {
            "_view_name": "StyleView",
            "handle_color": null,
            "_model_name": "SliderStyleModel",
            "description_width": "200px",
            "_view_module": "@jupyter-widgets/base",
            "_model_module_version": "1.5.0",
            "_view_count": null,
            "_view_module_version": "1.2.0",
            "_model_module": "@jupyter-widgets/controls"
          }
        },
        "582a23558aca42c4ae44a63411ef896f": {
          "model_module": "@jupyter-widgets/base",
          "model_name": "LayoutModel",
          "state": {
            "_view_name": "LayoutView",
            "grid_template_rows": null,
            "right": null,
            "justify_content": null,
            "_view_module": "@jupyter-widgets/base",
            "overflow": null,
            "_model_module_version": "1.2.0",
            "_view_count": null,
            "flex_flow": null,
            "width": "500px",
            "min_width": null,
            "border": null,
            "align_items": null,
            "bottom": null,
            "_model_module": "@jupyter-widgets/base",
            "top": null,
            "grid_column": null,
            "overflow_y": null,
            "overflow_x": null,
            "grid_auto_flow": null,
            "grid_area": null,
            "grid_template_columns": null,
            "flex": null,
            "_model_name": "LayoutModel",
            "justify_items": null,
            "grid_row": null,
            "max_height": null,
            "align_content": null,
            "visibility": null,
            "align_self": null,
            "height": null,
            "min_height": null,
            "padding": null,
            "grid_auto_rows": null,
            "grid_gap": null,
            "max_width": null,
            "order": null,
            "_view_module_version": "1.2.0",
            "grid_template_areas": null,
            "object_position": null,
            "object_fit": null,
            "grid_auto_columns": null,
            "margin": null,
            "display": null,
            "left": null
          }
        },
        "fbd7f2e81504413d8f8e783552fa0891": {
          "model_module": "@jupyter-widgets/controls",
          "model_name": "SliderStyleModel",
          "state": {
            "_view_name": "StyleView",
            "handle_color": null,
            "_model_name": "SliderStyleModel",
            "description_width": "200px",
            "_view_module": "@jupyter-widgets/base",
            "_model_module_version": "1.5.0",
            "_view_count": null,
            "_view_module_version": "1.2.0",
            "_model_module": "@jupyter-widgets/controls"
          }
        },
        "07e33926dcc44dfe8af5481f159d7d5a": {
          "model_module": "@jupyter-widgets/base",
          "model_name": "LayoutModel",
          "state": {
            "_view_name": "LayoutView",
            "grid_template_rows": null,
            "right": null,
            "justify_content": null,
            "_view_module": "@jupyter-widgets/base",
            "overflow": null,
            "_model_module_version": "1.2.0",
            "_view_count": null,
            "flex_flow": null,
            "width": "500px",
            "min_width": null,
            "border": null,
            "align_items": null,
            "bottom": null,
            "_model_module": "@jupyter-widgets/base",
            "top": null,
            "grid_column": null,
            "overflow_y": null,
            "overflow_x": null,
            "grid_auto_flow": null,
            "grid_area": null,
            "grid_template_columns": null,
            "flex": null,
            "_model_name": "LayoutModel",
            "justify_items": null,
            "grid_row": null,
            "max_height": null,
            "align_content": null,
            "visibility": null,
            "align_self": null,
            "height": null,
            "min_height": null,
            "padding": null,
            "grid_auto_rows": null,
            "grid_gap": null,
            "max_width": null,
            "order": null,
            "_view_module_version": "1.2.0",
            "grid_template_areas": null,
            "object_position": null,
            "object_fit": null,
            "grid_auto_columns": null,
            "margin": null,
            "display": null,
            "left": null
          }
        },
        "defb5a2e48a04129b8aca252d1c34393": {
          "model_module": "@jupyter-widgets/controls",
          "model_name": "SliderStyleModel",
          "state": {
            "_view_name": "StyleView",
            "handle_color": null,
            "_model_name": "SliderStyleModel",
            "description_width": "200px",
            "_view_module": "@jupyter-widgets/base",
            "_model_module_version": "1.5.0",
            "_view_count": null,
            "_view_module_version": "1.2.0",
            "_model_module": "@jupyter-widgets/controls"
          }
        },
        "09761d50eacd4e2c81b039c79a1e68e1": {
          "model_module": "@jupyter-widgets/base",
          "model_name": "LayoutModel",
          "state": {
            "_view_name": "LayoutView",
            "grid_template_rows": null,
            "right": null,
            "justify_content": null,
            "_view_module": "@jupyter-widgets/base",
            "overflow": null,
            "_model_module_version": "1.2.0",
            "_view_count": null,
            "flex_flow": null,
            "width": "500px",
            "min_width": null,
            "border": null,
            "align_items": null,
            "bottom": null,
            "_model_module": "@jupyter-widgets/base",
            "top": null,
            "grid_column": null,
            "overflow_y": null,
            "overflow_x": null,
            "grid_auto_flow": null,
            "grid_area": null,
            "grid_template_columns": null,
            "flex": null,
            "_model_name": "LayoutModel",
            "justify_items": null,
            "grid_row": null,
            "max_height": null,
            "align_content": null,
            "visibility": null,
            "align_self": null,
            "height": null,
            "min_height": null,
            "padding": null,
            "grid_auto_rows": null,
            "grid_gap": null,
            "max_width": null,
            "order": null,
            "_view_module_version": "1.2.0",
            "grid_template_areas": null,
            "object_position": null,
            "object_fit": null,
            "grid_auto_columns": null,
            "margin": null,
            "display": null,
            "left": null
          }
        },
        "8910a7be34d94a87a4ce0a5d37c663ae": {
          "model_module": "@jupyter-widgets/base",
          "model_name": "LayoutModel",
          "state": {
            "_view_name": "LayoutView",
            "grid_template_rows": null,
            "right": null,
            "justify_content": null,
            "_view_module": "@jupyter-widgets/base",
            "overflow": null,
            "_model_module_version": "1.2.0",
            "_view_count": null,
            "flex_flow": null,
            "width": null,
            "min_width": null,
            "border": null,
            "align_items": null,
            "bottom": null,
            "_model_module": "@jupyter-widgets/base",
            "top": null,
            "grid_column": null,
            "overflow_y": null,
            "overflow_x": null,
            "grid_auto_flow": null,
            "grid_area": null,
            "grid_template_columns": null,
            "flex": null,
            "_model_name": "LayoutModel",
            "justify_items": null,
            "grid_row": null,
            "max_height": null,
            "align_content": null,
            "visibility": null,
            "align_self": null,
            "height": null,
            "min_height": null,
            "padding": null,
            "grid_auto_rows": null,
            "grid_gap": null,
            "max_width": null,
            "order": null,
            "_view_module_version": "1.2.0",
            "grid_template_areas": null,
            "object_position": null,
            "object_fit": null,
            "grid_auto_columns": null,
            "margin": null,
            "display": null,
            "left": null
          }
        }
      }
    }
  },
  "cells": [
    {
      "cell_type": "markdown",
      "metadata": {
        "id": "view-in-github",
        "colab_type": "text"
      },
      "source": [
        "<a href=\"https://colab.research.google.com/github/DiGyt/neuropynamics/blob/master/notebooks/dendritic_computation.ipynb\" target=\"_parent\"><img src=\"https://colab.research.google.com/assets/colab-badge.svg\" alt=\"Open In Colab\"/></a>"
      ]
    },
    {
      "cell_type": "markdown",
      "metadata": {
        "id": "qg2aZFjrCqk0",
        "colab_type": "text"
      },
      "source": [
        "# **Dendritic computation**"
      ]
    },
    {
      "cell_type": "markdown",
      "metadata": {
        "id": "qI3Wy9ORevxs",
        "colab_type": "text"
      },
      "source": [
        "In this notebook, we will give a very simple example for dendritic computation. We will simulate a row of multiple neurons"
      ]
    },
    {
      "cell_type": "markdown",
      "metadata": {
        "id": "Or_XuTifuVpn",
        "colab_type": "text"
      },
      "source": [
        "#### Installs & Imports"
      ]
    },
    {
      "cell_type": "markdown",
      "metadata": {
        "id": "Q7YnKLN0Dc-K",
        "colab_type": "text"
      },
      "source": [
        "Fist, we install brian2 and our neuropynamics tools again."
      ]
    },
    {
      "cell_type": "code",
      "metadata": {
        "id": "ja7rkJrbtt-9",
        "colab_type": "code",
        "colab": {
          "base_uri": "https://localhost:8080/",
          "height": 72
        },
        "outputId": "ad5a264f-34ca-4966-a1e1-774eede9fe4f"
      },
      "source": [
        "!pip install brian2 -q\n",
        "!git clone https://github.com/DiGyt/neuropynamics/ -q"
      ],
      "execution_count": 1,
      "outputs": [
        {
          "output_type": "stream",
          "text": [
            "\u001b[K     |████████████████████████████████| 1.6MB 7.7MB/s \n",
            "\u001b[K     |████████████████████████████████| 5.8MB 15.2MB/s \n",
            "\u001b[?25h  Building wheel for brian2 (setup.py) ... \u001b[?25l\u001b[?25hdone\n"
          ],
          "name": "stdout"
        }
      ]
    },
    {
      "cell_type": "markdown",
      "metadata": {
        "id": "q8PxD3i2Cr0-",
        "colab_type": "text"
      },
      "source": [
        "Import everything we need."
      ]
    },
    {
      "cell_type": "code",
      "metadata": {
        "id": "AIKRQVPW70Di",
        "colab_type": "code",
        "colab": {
          "base_uri": "https://localhost:8080/",
          "height": 72
        },
        "outputId": "f1e18151-b156-4596-b9a4-c8cb4321d4b2"
      },
      "source": [
        "import numpy as np\n",
        "import networkx as nx\n",
        "import ipywidgets as widgets\n",
        "from ipywidgets import FloatSlider, IntSlider, interactive\n",
        "import matplotlib.pyplot as plt\n",
        "import matplotlib.ticker as ticker\n",
        "\n",
        "from brian2 import (second, ms, us, volt, mV, cm, umetre, ufarad, siemens, msiemens, mA)\n",
        "from brian2 import (start_scope, NeuronGroup, Synapses, SpikeGeneratorGroup,\n",
        "                    StateMonitor, SpikeMonitor, run, defaultclock)\n",
        "\n",
        "from neuropynamics.src.utils.plotting import (plot_cmesh, plot_signals,\n",
        "                                              plot_spikes, plot_synapses)"
      ],
      "execution_count": 2,
      "outputs": [
        {
          "output_type": "stream",
          "text": [
            "WARNING    /usr/local/lib/python3.6/dist-packages/statsmodels/tools/_testing.py:19: FutureWarning: pandas.util.testing is deprecated. Use the functions in the public API at pandas.testing instead.\n",
            "  import pandas.util.testing as tm\n",
            " [py.warnings]\n"
          ],
          "name": "stderr"
        }
      ]
    },
    {
      "cell_type": "markdown",
      "metadata": {
        "id": "AVMqNwyXEtdf",
        "colab_type": "text"
      },
      "source": [
        "## Step-by-step"
      ]
    },
    {
      "cell_type": "markdown",
      "metadata": {
        "id": "QHge9mjECs_p",
        "colab_type": "text"
      },
      "source": [
        "First of all, we define a Hodgkin-Huxley neuron model, which will serve as our Response neurons."
      ]
    },
    {
      "cell_type": "code",
      "metadata": {
        "id": "5Y0SzubokqcU",
        "colab_type": "code",
        "colab": {}
      },
      "source": [
        "model = '''\n",
        "    dv/dt = (gl*(El-v) - g_na*(m*m*m)*h*(v-ENa) - g_kd*(n*n*n*n)*(v-EK) + I)/Cm : volt\n",
        "    dm/dt = 0.32*(mV**-1)*(13.*mV-v+VT)/\n",
        "        (exp((13.*mV-v+VT)/(4.*mV))-1.)/ms*(1-m)-0.28*(mV**-1)*(v-VT-40.*mV)/\n",
        "        (exp((v-VT-40.*mV)/(5.*mV))-1.)/ms*m : 1\n",
        "    dn/dt = 0.032*(mV**-1)*(15.*mV-v+VT)/\n",
        "        (exp((15.*mV-v+VT)/(5.*mV))-1.)/ms*(1.-n)-.5*exp((10.*mV-v+VT)/(40.*mV))/ms*n : 1\n",
        "    dh/dt = 0.128*exp((17.*mV-v+VT)/(18.*mV))/ms*(1.-h)-4./(1+exp((40.*mV-v+VT)/(5.*mV)))/ms*h : 1\n",
        "    I : amp\n",
        "    '''   \n",
        "# Define threshold and refractory period\n",
        "threshold = 'v > 48*mV'\n",
        "refractory = 'v > -40*mV'\n",
        "\n",
        "area = 20000*umetre**2\n",
        "Cm = 1*ufarad*cm**-2 * area # Mebrane capacitance\n",
        "gl = 5e-5*siemens*cm**-2 * area\n",
        "El = -65.*mV\n",
        "EK = -90.*mV\n",
        "ENa = 50.*mV\n",
        "g_na = 100.*msiemens*cm**-2 * area\n",
        "g_kd = 30.*msiemens*cm**-2 * area\n",
        "VT = -63*mV"
      ],
      "execution_count": 158,
      "outputs": []
    },
    {
      "cell_type": "markdown",
      "metadata": {
        "id": "lRSxnXMtGMO4",
        "colab_type": "text"
      },
      "source": [
        ""
      ]
    },
    {
      "cell_type": "code",
      "metadata": {
        "id": "7Zvb7gGKYVUu",
        "colab_type": "code",
        "colab": {}
      },
      "source": [
        "start_scope()\n",
        "\n",
        "left_pulse = 2.0 * ms\n",
        "right_pulse = 2.5 * ms\n",
        "\n",
        "N = 7\n",
        "\n",
        "# define the left/right stimulus neurons\n",
        "inputs = SpikeGeneratorGroup(2, indices=[0, 1], times=[left_pulse, right_pulse])\n",
        "\n",
        "# Create a group of Izhikevich neurons\n",
        "neurons = NeuronGroup(N, model=model,\n",
        "                      threshold=threshold,\n",
        "                      refractory=refractory,\n",
        "                      method='exponential_euler')\n",
        "\n",
        "# create the left group of synapses from Neuron 0 to the last five\n",
        "synapses_0 = Synapses(inputs, neurons, 'weight : volt', on_pre='v_post += weight')\n",
        "synapses_0.connect(i=0, j=np.arange(N))\n",
        "synapses_0.weight = 35 * mV\n",
        "synapses_0.delay =  np.arange(N)/10 * ms\n",
        "\n",
        "# create the right group of synapses from Neuron 0 to the last five\n",
        "synapses_1 = Synapses(inputs, neurons, 'weight : volt', on_pre='v_post += weight')\n",
        "synapses_1.connect(i=1, j=np.arange(N))\n",
        "synapses_1.weight = 35 * mV\n",
        "synapses_1.delay =  np.arange(N, 0, -1)/10 * ms\n",
        "\n",
        "run(2*ms)\n",
        "# run the simulation while monitoring it\n",
        "states = StateMonitor(neurons, 'v', record=True)\n",
        "spikes = SpikeMonitor(neurons, 'v', record=True)\n",
        "inp_spikes = SpikeMonitor(inputs, record=True)\n",
        "run(3*ms)"
      ],
      "execution_count": 165,
      "outputs": []
    },
    {
      "cell_type": "markdown",
      "metadata": {
        "id": "U1KwzbEFYT00",
        "colab_type": "text"
      },
      "source": [
        "First, we should inspect how the network that we've just build looks like."
      ]
    },
    {
      "cell_type": "code",
      "metadata": {
        "id": "DFmTYAl0XumV",
        "colab_type": "code",
        "colab": {
          "base_uri": "https://localhost:8080/",
          "height": 253
        },
        "outputId": "e952fcdc-ad47-4c91-d5a3-1ba1e02d9181"
      },
      "source": [
        "plot_synapses(neuron_groups=[inputs, neurons],\n",
        "              synapse_groups=[synapses_0, synapses_1],\n",
        "              pos_func=lambda x:nx.bipartite_layout(x, nodes=[0,1]), \n",
        "              color_cycle=[\"lightblue\", \"darksalmon\"])"
      ],
      "execution_count": 5,
      "outputs": [
        {
          "output_type": "display_data",
          "data": {
            "image/png": "[encoded data removed]",
            "text/plain": [
              "<Figure size 432x288 with 1 Axes>"
            ]
          },
          "metadata": {
            "tags": []
          }
        }
      ]
    },
    {
      "cell_type": "markdown",
      "metadata": {
        "id": "j6SPFbqwXzEj",
        "colab_type": "text"
      },
      "source": [
        "If we plot the spiking responses, we can see that the response neurons will respond selectively, depending on whether the left or the right trigger neuron precedes the other one."
      ]
    },
    {
      "cell_type": "code",
      "metadata": {
        "id": "192mg6uem0Nb",
        "colab_type": "code",
        "colab": {
          "base_uri": "https://localhost:8080/",
          "height": 279
        },
        "outputId": "6685ad68-8c6a-4d7b-81fa-b238b0820a0c"
      },
      "source": [
        "ch_names = [\"Resp. \" + str(i) for i in range(len(neurons))]\n",
        "plot_spikes(spikes.i, spikes.t/ms, neurons, ch_names,time_unit=\"ms\", show=False)\n",
        "plt.xlim(2, 5)\n",
        "plt.vlines(x=[left_pulse/ms, right_pulse/ms], ymin=0, ymax=len(neurons)-1, color = 'lightblue')\n",
        "for name, time in zip([\"left input\", \"right input\"], [left_pulse, right_pulse]):\n",
        "  plt.text(time/ms, len(neurons)-1, name, rotation=90, c=\"lightblue\",\n",
        "          verticalalignment=\"top\", horizontalalignment=\"right\")"
      ],
      "execution_count": 166,
      "outputs": [
        {
          "output_type": "display_data",
          "data": {
            "image/png": "[encoded data removed]",
            "text/plain": [
              "<Figure size 432x288 with 1 Axes>"
            ]
          },
          "metadata": {
            "tags": [],
            "needs_background": "light"
          }
        }
      ]
    },
    {
      "cell_type": "markdown",
      "metadata": {
        "id": "Yh4Wyztum0YH",
        "colab_type": "text"
      },
      "source": [
        "As you can see"
      ]
    },
    {
      "cell_type": "code",
      "metadata": {
        "id": "QG8HxPCVm0hK",
        "colab_type": "code",
        "colab": {
          "base_uri": "https://localhost:8080/",
          "height": 281
        },
        "outputId": "8fbf9652-e4c9-4a12-8021-23575d8f485e"
      },
      "source": [
        "plot_cmesh(states.v/mV, states.t/ms, ch_names, time_unit=\"ms\", unit=\"Membrane Potential (mV)\")"
      ],
      "execution_count": 167,
      "outputs": [
        {
          "output_type": "display_data",
          "data": {
            "image/png": "[encoded data removed]",
            "text/plain": [
              "<Figure size 432x288 with 2 Axes>"
            ]
          },
          "metadata": {
            "tags": [],
            "needs_background": "light"
          }
        }
      ]
    },
    {
      "cell_type": "markdown",
      "metadata": {
        "id": "bFbp0CRSCuGn",
        "colab_type": "text"
      },
      "source": [
        "## Try it out yourself"
      ]
    },
    {
      "cell_type": "markdown",
      "metadata": {
        "id": "T2zh5DbEuhG4",
        "colab_type": "text"
      },
      "source": [
        "Here we will put all of the above into one interactive function, so you can play around with the timing of the left and right input."
      ]
    },
    {
      "cell_type": "code",
      "metadata": {
        "id": "MHJqxu409skd",
        "colab_type": "code",
        "colab": {
          "base_uri": "https://localhost:8080/",
          "height": 446,
          "referenced_widgets": [
            "683d9867e8874a9fa533614813c631d1",
            "e1184f67f04948ad825802c49346409e",
            "0300b09c851e43ba9b61d28df0c66bbb",
            "f817311db1f54ddfb050ed1222463d6b",
            "71e289024408493b86c49f5cc386cf29",
            "99a3fb9aeafe49a3baf7686ca6b6d46f",
            "ce3a2a9c12ff4f5f9f4253acc65f07da",
            "582a23558aca42c4ae44a63411ef896f",
            "fbd7f2e81504413d8f8e783552fa0891",
            "07e33926dcc44dfe8af5481f159d7d5a",
            "defb5a2e48a04129b8aca252d1c34393",
            "09761d50eacd4e2c81b039c79a1e68e1",
            "8910a7be34d94a87a4ce0a5d37c663ae"
          ]
        },
        "outputId": "3d79ef4b-19ca-489a-8c2d-f2d9f0b1731d"
      },
      "source": [
        "model = '''\n",
        "    dv/dt = (gl*(El-v) - g_na*(m*m*m)*h*(v-ENa) - g_kd*(n*n*n*n)*(v-EK) + I)/Cm : volt\n",
        "    dm/dt = 0.32*(mV**-1)*(13.*mV-v+VT)/\n",
        "        (exp((13.*mV-v+VT)/(4.*mV))-1.)/ms*(1-m)-0.28*(mV**-1)*(v-VT-40.*mV)/\n",
        "        (exp((v-VT-40.*mV)/(5.*mV))-1.)/ms*m : 1\n",
        "    dn/dt = 0.032*(mV**-1)*(15.*mV-v+VT)/\n",
        "        (exp((15.*mV-v+VT)/(5.*mV))-1.)/ms*(1.-n)-.5*exp((10.*mV-v+VT)/(40.*mV))/ms*n : 1\n",
        "    dh/dt = 0.128*exp((17.*mV-v+VT)/(18.*mV))/ms*(1.-h)-4./(1+exp((40.*mV-v+VT)/(5.*mV)))/ms*h : 1\n",
        "    I : amp\n",
        "    '''   \n",
        "# Define threshold and refractory period\n",
        "threshold = 'v > 45*mV'\n",
        "refractory = 'v > -40*mV'\n",
        "\n",
        "area = 20000*umetre**2\n",
        "Cm = 1*ufarad*cm**-2 * area # Mebrane capacitance\n",
        "gl = 5e-5*siemens*cm**-2 * area\n",
        "El = -65.*mV\n",
        "EK = -90.*mV\n",
        "ENa = 50.*mV\n",
        "g_na = 100.*msiemens*cm**-2 * area\n",
        "g_kd = 30.*msiemens*cm**-2 * area\n",
        "VT = -60*mV\n",
        "\n",
        "\n",
        "defaultclock.dt = 0.05*ms\n",
        "\n",
        "def dendritic_computation(left, right, N):\n",
        "\n",
        "  start_scope()\n",
        "\n",
        "  left_pulse = left * ms\n",
        "  right_pulse = right * ms\n",
        "\n",
        "  # define the left/right stimulus neurons\n",
        "  inputs = SpikeGeneratorGroup(2, indices=[0, 1], times=[left_pulse, right_pulse])\n",
        "\n",
        "  # Create a group of Izhikevich neurons\n",
        "  neurons = NeuronGroup(N, model=model,\n",
        "                        threshold=threshold,\n",
        "                        refractory=refractory,\n",
        "                        method='exponential_euler')\n",
        "\n",
        "  # create the left group of synapses from Neuron 0 to the last five\n",
        "  synapses_0 = Synapses(inputs, neurons, 'weight : volt', on_pre='v_post += weight')\n",
        "  synapses_0.connect(i=0, j=np.arange(N))\n",
        "  synapses_0.weight = 15 * mV\n",
        "  synapses_0.delay =  np.arange(N)/10 * ms\n",
        "\n",
        "  # create the right group of synapses from Neuron 0 to the last five\n",
        "  synapses_1 = Synapses(inputs, neurons, 'weight : volt', on_pre='v_post += weight')\n",
        "  synapses_1.connect(i=1, j=np.arange(N))\n",
        "  synapses_1.weight = 15 * mV\n",
        "  synapses_1.delay =  np.arange(N, 0, -1)/10 * ms\n",
        "\n",
        "  #run(2*ms)\n",
        "  # run the simulation while monitoring it\n",
        "  states = StateMonitor(neurons, 'v', record=True)\n",
        "  spikes = SpikeMonitor(neurons, 'v', record=True)\n",
        "  inp_spikes = SpikeMonitor(inputs, record=True)\n",
        "  run(5*ms)\n",
        "\n",
        "  # plot the network\n",
        "  plt.figure(figsize=[15,5])\n",
        "  plt.subplot(1, 3, 1)\n",
        "  plt.title(\"Network Layout\")\n",
        "  plot_synapses(neuron_groups=[inputs, neurons],\n",
        "                synapse_groups=[synapses_0, synapses_1],\n",
        "                pos_func=lambda x:nx.bipartite_layout(x, nodes=[0,1]), \n",
        "                color_cycle=[\"lightblue\", \"darksalmon\"], show=False)\n",
        "\n",
        "  # plot the spiking times\n",
        "  plt.subplot(1, 3, 2)\n",
        "  plt.title(\"Spiking Times\")\n",
        "  ch_names = [\"Resp. \" + str(i) for i in range(len(neurons))]\n",
        "  plot_spikes(spikes.i, spikes.t/ms, ch_names,time_unit=\"ms\", show=False)\n",
        "  plt.xlim(2, 4)\n",
        "  plt.vlines(x=[left_pulse/ms, right_pulse/ms], ymin=0, ymax=len(neurons)-1, color = 'lightblue')\n",
        "  for name, time in zip([\"left input\", \"right input\"], [left_pulse, right_pulse]):\n",
        "    plt.text(time/ms, len(neurons)-1, name, rotation=90, c=\"lightblue\",\n",
        "            verticalalignment=\"top\", horizontalalignment=\"right\")\n",
        "\n",
        "  # plot the membrane potential\n",
        "  plt.subplot(1, 3, 3)\n",
        "  plt.title(\"Membrane Potential\")\n",
        "  plot_cmesh(states.v[:, states.t >= 2*ms]/mV, states.t[states.t >= 2*ms]/ms, ch_names, time_unit=\"ms\", unit=\"Membrane Potential (mV)\", show=False)\n",
        "\n",
        "\n",
        "layout = {'width': '500px'}; style = {'description_width': '200px'}\n",
        "left_slider = FloatSlider(value = 2., min= 2., max = 4., step = 0.01, description = 'Left input spike (ms):', continuous_update=False, layout=layout, style=style)\n",
        "right_slider = FloatSlider(value = 2., min= 2., max = 4., step = 0.01, description = 'Right input spike (ms):', continuous_update=False, layout=layout, style=style)\n",
        "N_slider = IntSlider(value = 10, min= 0, max = 20, step = 1, description = 'Number of response neurons:', continuous_update=False, layout=layout, style=style)\n",
        "\n",
        "interactive(dendritic_computation, left=left_slider, right=right_slider, N=N_slider)"
      ],
      "execution_count": 9,
      "outputs": [
        {
          "output_type": "display_data",
          "data": {
            "application/vnd.jupyter.widget-view+json": {
              "model_id": "683d9867e8874a9fa533614813c631d1",
              "version_minor": 0,
              "version_major": 2
            },
            "text/plain": [
              "interactive(children=(FloatSlider(value=2.0, continuous_update=False, description='Left input spike (ms):', la…"
            ]
          },
          "metadata": {
            "tags": []
          }
        }
      ]
    },
    {
      "cell_type": "markdown",
      "metadata": {
        "id": "QNc5PgNomqpp",
        "colab_type": "text"
      },
      "source": [
        "### archive"
      ]
    },
    {
      "cell_type": "code",
      "metadata": {
        "id": "aj-jCXl2mr8E",
        "colab_type": "code",
        "colab": {}
      },
      "source": [
        "import seaborn as sns\n",
        "\n",
        "# Plotting function\n",
        "def create_default_plot(x, neuron_data, neuron_labels, neuron_colors, spikes = None, spike_color = 'steelblue', input_current = None, input_label = 'Input Current', input_color = 'gold', y_range = None, title = '', x_axis_label = '', y_axis_label = '', input_axis_label = 'Input Current (A)', hline = None, sns_style=True):\n",
        "    \n",
        "  # Apply default seaborn settings\n",
        "  if sns_style:\n",
        "    sns.set()\n",
        "    sns.set_style({'axes.grid' : False})\n",
        "\n",
        "  # Create first y axis and set size of figure\n",
        "  fig, ax1 = plt.subplots(figsize=(14,6))\n",
        "\n",
        "  # Set axis labels\n",
        "  ax1.set_xlabel(x_axis_label)\n",
        "  ax1.set_ylabel(y_axis_label)\n",
        "\n",
        "  # Set y range if given\n",
        "  if y_range is not None:\n",
        "      ax1.set_ylim(y_range)\n",
        "\n",
        "  # Add horizontal line\n",
        "  if hline is not None:\n",
        "      ax1.axhline(y = hline, linestyle = '--', linewidth = 1, color = 'gray', label = 'Spiking Threshold')\n",
        "\n",
        "  # Plot a line for each neuron datapoint\n",
        "  for idx, y in enumerate(neuron_data):\n",
        "      # We ignore the first datapoint as these are always 0 and result in weird looking lines\n",
        "      ax1.plot(x[1:], y[1:], color = neuron_colors[idx], label = neuron_labels[idx])\n",
        "\n",
        "  # Plot spikes if given\n",
        "  if spikes is not None:\n",
        "      # Ignore the first spike if it is before 100ms (as no current was given)\n",
        "      if spikes[0] >= 10:\n",
        "          ax1.axvline(spikes[0], linestyle = ':', color = spike_color, linewidth = 1, zorder = 0)\n",
        "      for t in spikes[1:-1]:\n",
        "          ax1.axvline(t, linestyle = ':', color = spike_color, linewidth = 1, zorder = 0)\n",
        "      # Add line for last spike with label\n",
        "      ax1.axvline(spikes[-1], linestyle = ':', color = spike_color, linewidth = 1, label = 'Spikes', zorder = 0)\n",
        "\n",
        "  # Show input current if given\n",
        "  if input_current is not None:\n",
        "      # Create 2nd y-axis\n",
        "      ax2 = ax1.twinx()\n",
        "      # Set axis label\n",
        "      ax2.set_ylabel(input_axis_label)\n",
        "      # Draw input line\n",
        "      ax2.plot(x, input_current, color = input_color, label = input_label)   \n",
        "  \n",
        "  # Add legend\n",
        "  fig.legend(loc=\"upper right\", bbox_to_anchor=(0.825, 0.8))\n",
        "\n",
        "  # Set title\n",
        "  plt.title(title)"
      ],
      "execution_count": 10,
      "outputs": []
    }
  ]
}