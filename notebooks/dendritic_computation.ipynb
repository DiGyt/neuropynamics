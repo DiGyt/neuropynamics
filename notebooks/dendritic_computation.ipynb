{
  "nbformat": 4,
  "nbformat_minor": 0,
  "metadata": {
    "colab": {
      "name": "dendritic_computation.ipynb",
      "provenance": [],
      "collapsed_sections": [],
      "authorship_tag": "ABX9TyM21huoAofgGE47m/xOT2Qc",
      "include_colab_link": true
    },
    "kernelspec": {
      "name": "python3",
      "display_name": "Python 3"
    },
    "widgets": {
      "application/vnd.jupyter.widget-state+json": {
        "d5fc5b1359044377abe9697e4eb0a96c": {
          "model_module": "@jupyter-widgets/controls",
          "model_name": "VBoxModel",
          "state": {
            "_view_name": "VBoxView",
            "_dom_classes": [
              "widget-interact"
            ],
            "_model_name": "VBoxModel",
            "_view_module": "@jupyter-widgets/controls",
            "_model_module_version": "1.5.0",
            "_view_count": null,
            "_view_module_version": "1.5.0",
            "box_style": "",
            "layout": "IPY_MODEL_0d072f361a7d45b4b2f8a114a43a38de",
            "_model_module": "@jupyter-widgets/controls",
            "children": [
              "IPY_MODEL_a906a62a78474286b1d9fe6a2ee6ac9d",
              "IPY_MODEL_365f4a6638ec4153b68ef394e69158df",
              "IPY_MODEL_3ce9868acf9f4ed7995b7a8a39b73c5c",
              "IPY_MODEL_8810b0c68cc04ca981e70f52f722219e"
            ]
          }
        },
        "0d072f361a7d45b4b2f8a114a43a38de": {
          "model_module": "@jupyter-widgets/base",
          "model_name": "LayoutModel",
          "state": {
            "_view_name": "LayoutView",
            "grid_template_rows": null,
            "right": null,
            "justify_content": null,
            "_view_module": "@jupyter-widgets/base",
            "overflow": null,
            "_model_module_version": "1.2.0",
            "_view_count": null,
            "flex_flow": null,
            "width": null,
            "min_width": null,
            "border": null,
            "align_items": null,
            "bottom": null,
            "_model_module": "@jupyter-widgets/base",
            "top": null,
            "grid_column": null,
            "overflow_y": null,
            "overflow_x": null,
            "grid_auto_flow": null,
            "grid_area": null,
            "grid_template_columns": null,
            "flex": null,
            "_model_name": "LayoutModel",
            "justify_items": null,
            "grid_row": null,
            "max_height": null,
            "align_content": null,
            "visibility": null,
            "align_self": null,
            "height": null,
            "min_height": null,
            "padding": null,
            "grid_auto_rows": null,
            "grid_gap": null,
            "max_width": null,
            "order": null,
            "_view_module_version": "1.2.0",
            "grid_template_areas": null,
            "object_position": null,
            "object_fit": null,
            "grid_auto_columns": null,
            "margin": null,
            "display": null,
            "left": null
          }
        },
        "a906a62a78474286b1d9fe6a2ee6ac9d": {
          "model_module": "@jupyter-widgets/controls",
          "model_name": "FloatSliderModel",
          "state": {
            "_view_name": "FloatSliderView",
            "style": "IPY_MODEL_de773b7ddba14cfc86f48db910711c8d",
            "_dom_classes": [],
            "description": "Left input spike (ms):",
            "step": 0.01,
            "_model_name": "FloatSliderModel",
            "orientation": "horizontal",
            "max": 4,
            "_view_module": "@jupyter-widgets/controls",
            "_model_module_version": "1.5.0",
            "value": 2.1,
            "_view_count": null,
            "disabled": false,
            "_view_module_version": "1.5.0",
            "min": 2,
            "continuous_update": false,
            "readout_format": ".2f",
            "description_tooltip": null,
            "readout": true,
            "_model_module": "@jupyter-widgets/controls",
            "layout": "IPY_MODEL_8557f3b31a394cfab4ee2cc0cc84c041"
          }
        },
        "365f4a6638ec4153b68ef394e69158df": {
          "model_module": "@jupyter-widgets/controls",
          "model_name": "FloatSliderModel",
          "state": {
            "_view_name": "FloatSliderView",
            "style": "IPY_MODEL_be623513573e4b09a56491d52e2bca1c",
            "_dom_classes": [],
            "description": "Right input spike (ms):",
            "step": 0.01,
            "_model_name": "FloatSliderModel",
            "orientation": "horizontal",
            "max": 4,
            "_view_module": "@jupyter-widgets/controls",
            "_model_module_version": "1.5.0",
            "value": 3.2,
            "_view_count": null,
            "disabled": false,
            "_view_module_version": "1.5.0",
            "min": 2,
            "continuous_update": false,
            "readout_format": ".2f",
            "description_tooltip": null,
            "readout": true,
            "_model_module": "@jupyter-widgets/controls",
            "layout": "IPY_MODEL_99dff4dc603044d0bc18a5c115da70ae"
          }
        },
        "3ce9868acf9f4ed7995b7a8a39b73c5c": {
          "model_module": "@jupyter-widgets/controls",
          "model_name": "IntSliderModel",
          "state": {
            "_view_name": "IntSliderView",
            "style": "IPY_MODEL_33bb2c3f1c5842a0817a944c7994bb41",
            "_dom_classes": [],
            "description": "Number of response neurons:",
            "step": 1,
            "_model_name": "IntSliderModel",
            "orientation": "horizontal",
            "max": 20,
            "_view_module": "@jupyter-widgets/controls",
            "_model_module_version": "1.5.0",
            "value": 20,
            "_view_count": null,
            "disabled": false,
            "_view_module_version": "1.5.0",
            "min": 0,
            "continuous_update": false,
            "readout_format": "d",
            "description_tooltip": null,
            "readout": true,
            "_model_module": "@jupyter-widgets/controls",
            "layout": "IPY_MODEL_82f30db063ad402ebc40a6986ffbe875"
          }
        },
        "8810b0c68cc04ca981e70f52f722219e": {
          "model_module": "@jupyter-widgets/output",
          "model_name": "OutputModel",
          "state": {
            "_view_name": "OutputView",
            "msg_id": "",
            "_dom_classes": [],
            "_model_name": "OutputModel",
            "outputs": [
              {
                "output_type": "display_data",
                "metadata": {
                  "tags": [],
                  "needs_background": "light"
                },
                "image/png": "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\n",
                "text/plain": "<Figure size 1080x360 with 4 Axes>"
              }
            ],
            "_view_module": "@jupyter-widgets/output",
            "_model_module_version": "1.0.0",
            "_view_count": null,
            "_view_module_version": "1.0.0",
            "layout": "IPY_MODEL_1fde102e550c47af8c21e1974189c768",
            "_model_module": "@jupyter-widgets/output"
          }
        },
        "de773b7ddba14cfc86f48db910711c8d": {
          "model_module": "@jupyter-widgets/controls",
          "model_name": "SliderStyleModel",
          "state": {
            "_view_name": "StyleView",
            "handle_color": null,
            "_model_name": "SliderStyleModel",
            "description_width": "200px",
            "_view_module": "@jupyter-widgets/base",
            "_model_module_version": "1.5.0",
            "_view_count": null,
            "_view_module_version": "1.2.0",
            "_model_module": "@jupyter-widgets/controls"
          }
        },
        "8557f3b31a394cfab4ee2cc0cc84c041": {
          "model_module": "@jupyter-widgets/base",
          "model_name": "LayoutModel",
          "state": {
            "_view_name": "LayoutView",
            "grid_template_rows": null,
            "right": null,
            "justify_content": null,
            "_view_module": "@jupyter-widgets/base",
            "overflow": null,
            "_model_module_version": "1.2.0",
            "_view_count": null,
            "flex_flow": null,
            "width": "500px",
            "min_width": null,
            "border": null,
            "align_items": null,
            "bottom": null,
            "_model_module": "@jupyter-widgets/base",
            "top": null,
            "grid_column": null,
            "overflow_y": null,
            "overflow_x": null,
            "grid_auto_flow": null,
            "grid_area": null,
            "grid_template_columns": null,
            "flex": null,
            "_model_name": "LayoutModel",
            "justify_items": null,
            "grid_row": null,
            "max_height": null,
            "align_content": null,
            "visibility": null,
            "align_self": null,
            "height": null,
            "min_height": null,
            "padding": null,
            "grid_auto_rows": null,
            "grid_gap": null,
            "max_width": null,
            "order": null,
            "_view_module_version": "1.2.0",
            "grid_template_areas": null,
            "object_position": null,
            "object_fit": null,
            "grid_auto_columns": null,
            "margin": null,
            "display": null,
            "left": null
          }
        },
        "be623513573e4b09a56491d52e2bca1c": {
          "model_module": "@jupyter-widgets/controls",
          "model_name": "SliderStyleModel",
          "state": {
            "_view_name": "StyleView",
            "handle_color": null,
            "_model_name": "SliderStyleModel",
            "description_width": "200px",
            "_view_module": "@jupyter-widgets/base",
            "_model_module_version": "1.5.0",
            "_view_count": null,
            "_view_module_version": "1.2.0",
            "_model_module": "@jupyter-widgets/controls"
          }
        },
        "99dff4dc603044d0bc18a5c115da70ae": {
          "model_module": "@jupyter-widgets/base",
          "model_name": "LayoutModel",
          "state": {
            "_view_name": "LayoutView",
            "grid_template_rows": null,
            "right": null,
            "justify_content": null,
            "_view_module": "@jupyter-widgets/base",
            "overflow": null,
            "_model_module_version": "1.2.0",
            "_view_count": null,
            "flex_flow": null,
            "width": "500px",
            "min_width": null,
            "border": null,
            "align_items": null,
            "bottom": null,
            "_model_module": "@jupyter-widgets/base",
            "top": null,
            "grid_column": null,
            "overflow_y": null,
            "overflow_x": null,
            "grid_auto_flow": null,
            "grid_area": null,
            "grid_template_columns": null,
            "flex": null,
            "_model_name": "LayoutModel",
            "justify_items": null,
            "grid_row": null,
            "max_height": null,
            "align_content": null,
            "visibility": null,
            "align_self": null,
            "height": null,
            "min_height": null,
            "padding": null,
            "grid_auto_rows": null,
            "grid_gap": null,
            "max_width": null,
            "order": null,
            "_view_module_version": "1.2.0",
            "grid_template_areas": null,
            "object_position": null,
            "object_fit": null,
            "grid_auto_columns": null,
            "margin": null,
            "display": null,
            "left": null
          }
        },
        "33bb2c3f1c5842a0817a944c7994bb41": {
          "model_module": "@jupyter-widgets/controls",
          "model_name": "SliderStyleModel",
          "state": {
            "_view_name": "StyleView",
            "handle_color": null,
            "_model_name": "SliderStyleModel",
            "description_width": "200px",
            "_view_module": "@jupyter-widgets/base",
            "_model_module_version": "1.5.0",
            "_view_count": null,
            "_view_module_version": "1.2.0",
            "_model_module": "@jupyter-widgets/controls"
          }
        },
        "82f30db063ad402ebc40a6986ffbe875": {
          "model_module": "@jupyter-widgets/base",
          "model_name": "LayoutModel",
          "state": {
            "_view_name": "LayoutView",
            "grid_template_rows": null,
            "right": null,
            "justify_content": null,
            "_view_module": "@jupyter-widgets/base",
            "overflow": null,
            "_model_module_version": "1.2.0",
            "_view_count": null,
            "flex_flow": null,
            "width": "500px",
            "min_width": null,
            "border": null,
            "align_items": null,
            "bottom": null,
            "_model_module": "@jupyter-widgets/base",
            "top": null,
            "grid_column": null,
            "overflow_y": null,
            "overflow_x": null,
            "grid_auto_flow": null,
            "grid_area": null,
            "grid_template_columns": null,
            "flex": null,
            "_model_name": "LayoutModel",
            "justify_items": null,
            "grid_row": null,
            "max_height": null,
            "align_content": null,
            "visibility": null,
            "align_self": null,
            "height": null,
            "min_height": null,
            "padding": null,
            "grid_auto_rows": null,
            "grid_gap": null,
            "max_width": null,
            "order": null,
            "_view_module_version": "1.2.0",
            "grid_template_areas": null,
            "object_position": null,
            "object_fit": null,
            "grid_auto_columns": null,
            "margin": null,
            "display": null,
            "left": null
          }
        },
        "1fde102e550c47af8c21e1974189c768": {
          "model_module": "@jupyter-widgets/base",
          "model_name": "LayoutModel",
          "state": {
            "_view_name": "LayoutView",
            "grid_template_rows": null,
            "right": null,
            "justify_content": null,
            "_view_module": "@jupyter-widgets/base",
            "overflow": null,
            "_model_module_version": "1.2.0",
            "_view_count": null,
            "flex_flow": null,
            "width": null,
            "min_width": null,
            "border": null,
            "align_items": null,
            "bottom": null,
            "_model_module": "@jupyter-widgets/base",
            "top": null,
            "grid_column": null,
            "overflow_y": null,
            "overflow_x": null,
            "grid_auto_flow": null,
            "grid_area": null,
            "grid_template_columns": null,
            "flex": null,
            "_model_name": "LayoutModel",
            "justify_items": null,
            "grid_row": null,
            "max_height": null,
            "align_content": null,
            "visibility": null,
            "align_self": null,
            "height": null,
            "min_height": null,
            "padding": null,
            "grid_auto_rows": null,
            "grid_gap": null,
            "max_width": null,
            "order": null,
            "_view_module_version": "1.2.0",
            "grid_template_areas": null,
            "object_position": null,
            "object_fit": null,
            "grid_auto_columns": null,
            "margin": null,
            "display": null,
            "left": null
          }
        }
      }
    }
  },
  "cells": [
    {
      "cell_type": "markdown",
      "metadata": {
        "id": "view-in-github",
        "colab_type": "text"
      },
      "source": [
        "<a href=\"https://colab.research.google.com/github/DiGyt/neuropynamics/blob/master/notebooks/dendritic_computation.ipynb\" target=\"_parent\"><img src=\"https://colab.research.google.com/assets/colab-badge.svg\" alt=\"Open In Colab\"/></a>"
      ]
    },
    {
      "cell_type": "markdown",
      "metadata": {
        "id": "qg2aZFjrCqk0",
        "colab_type": "text"
      },
      "source": [
        "# **Dendritic computation**"
      ]
    },
    {
      "cell_type": "markdown",
      "metadata": {
        "id": "Or_XuTifuVpn",
        "colab_type": "text"
      },
      "source": [
        "#### Installs & Imports"
      ]
    },
    {
      "cell_type": "markdown",
      "metadata": {
        "id": "Q7YnKLN0Dc-K",
        "colab_type": "text"
      },
      "source": [
        "Fist, we install all the things we need again."
      ]
    },
    {
      "cell_type": "code",
      "metadata": {
        "id": "ja7rkJrbtt-9",
        "colab_type": "code",
        "colab": {
          "base_uri": "https://localhost:8080/",
          "height": 72
        },
        "outputId": "966210c1-78e4-4bc7-9a2c-81adc72bc35b"
      },
      "source": [
        "!pip install brian2 -q\n",
        "!git clone https://github.com/DiGyt/neuropynamics/ -q"
      ],
      "execution_count": 1,
      "outputs": [
        {
          "output_type": "stream",
          "text": [
            "\u001b[K     |████████████████████████████████| 1.6MB 2.8MB/s \n",
            "\u001b[K     |████████████████████████████████| 5.8MB 21.2MB/s \n",
            "\u001b[?25h  Building wheel for brian2 (setup.py) ... \u001b[?25l\u001b[?25hdone\n"
          ],
          "name": "stdout"
        }
      ]
    },
    {
      "cell_type": "markdown",
      "metadata": {
        "id": "q8PxD3i2Cr0-",
        "colab_type": "text"
      },
      "source": [
        "Import everything we need."
      ]
    },
    {
      "cell_type": "code",
      "metadata": {
        "id": "AIKRQVPW70Di",
        "colab_type": "code",
        "colab": {
          "base_uri": "https://localhost:8080/",
          "height": 72
        },
        "outputId": "9cb943e6-a324-4298-d6f2-14effac9d956"
      },
      "source": [
        "import numpy as np\n",
        "import networkx as nx\n",
        "import ipywidgets as widgets\n",
        "from ipywidgets import FloatSlider, IntSlider, interactive\n",
        "import matplotlib.pyplot as plt\n",
        "import matplotlib.ticker as ticker\n",
        "\n",
        "from brian2 import (second, ms, us, volt, mV, cm, umetre, ufarad, siemens, msiemens, mA)\n",
        "from brian2 import (start_scope, NeuronGroup, Synapses, SpikeGeneratorGroup,\n",
        "                    StateMonitor, SpikeMonitor, run, defaultclock)\n",
        "\n",
        "from neuropynamics.src.utils.plotting import (plot_cmesh, plot_signals,\n",
        "                                              plot_spikes, plot_synapses)"
      ],
      "execution_count": 2,
      "outputs": [
        {
          "output_type": "stream",
          "text": [
            "WARNING    /usr/local/lib/python3.6/dist-packages/statsmodels/tools/_testing.py:19: FutureWarning: pandas.util.testing is deprecated. Use the functions in the public API at pandas.testing instead.\n",
            "  import pandas.util.testing as tm\n",
            " [py.warnings]\n"
          ],
          "name": "stderr"
        }
      ]
    },
    {
      "cell_type": "markdown",
      "metadata": {
        "id": "AVMqNwyXEtdf",
        "colab_type": "text"
      },
      "source": [
        "## Step-by-step"
      ]
    },
    {
      "cell_type": "markdown",
      "metadata": {
        "id": "QHge9mjECs_p",
        "colab_type": "text"
      },
      "source": [
        "First of all, we define a Hodgkin-Huxley neuron model."
      ]
    },
    {
      "cell_type": "code",
      "metadata": {
        "id": "5Y0SzubokqcU",
        "colab_type": "code",
        "colab": {}
      },
      "source": [
        "model = '''\n",
        "    dv/dt = (gl*(El-v) - g_na*(m*m*m)*h*(v-ENa) - g_kd*(n*n*n*n)*(v-EK) + I)/Cm : volt\n",
        "    dm/dt = 0.32*(mV**-1)*(13.*mV-v+VT)/\n",
        "        (exp((13.*mV-v+VT)/(4.*mV))-1.)/ms*(1-m)-0.28*(mV**-1)*(v-VT-40.*mV)/\n",
        "        (exp((v-VT-40.*mV)/(5.*mV))-1.)/ms*m : 1\n",
        "    dn/dt = 0.032*(mV**-1)*(15.*mV-v+VT)/\n",
        "        (exp((15.*mV-v+VT)/(5.*mV))-1.)/ms*(1.-n)-.5*exp((10.*mV-v+VT)/(40.*mV))/ms*n : 1\n",
        "    dh/dt = 0.128*exp((17.*mV-v+VT)/(18.*mV))/ms*(1.-h)-4./(1+exp((40.*mV-v+VT)/(5.*mV)))/ms*h : 1\n",
        "    I : amp\n",
        "    '''   \n",
        "# Define threshold and refractory period\n",
        "threshold = 'v > 35*mV'\n",
        "refractory = 'v > -40*mV'\n",
        "\n",
        "area = 20000*umetre**2\n",
        "Cm = 1*ufarad*cm**-2 * area # Mebrane capacitance\n",
        "gl = 5e-5*siemens*cm**-2 * area\n",
        "El = -65.*mV\n",
        "EK = -90.*mV\n",
        "ENa = 50.*mV\n",
        "g_na = 100.*msiemens*cm**-2 * area\n",
        "g_kd = 30.*msiemens*cm**-2 * area\n",
        "VT = -63*mV"
      ],
      "execution_count": 3,
      "outputs": []
    },
    {
      "cell_type": "markdown",
      "metadata": {
        "id": "lRSxnXMtGMO4",
        "colab_type": "text"
      },
      "source": [
        ""
      ]
    },
    {
      "cell_type": "code",
      "metadata": {
        "id": "7Zvb7gGKYVUu",
        "colab_type": "code",
        "colab": {}
      },
      "source": [
        "start_scope()\n",
        "\n",
        "left_pulse = 2.1 * ms\n",
        "right_pulse = 2.9 * ms\n",
        "\n",
        "N = 7\n",
        "\n",
        "# define the left/right stimulus neurons\n",
        "inputs = SpikeGeneratorGroup(2, indices=[0, 1], times=[left_pulse, right_pulse])\n",
        "\n",
        "# Create a group of Izhikevich neurons\n",
        "neurons = NeuronGroup(N, model=model,\n",
        "                      threshold=threshold,\n",
        "                      refractory=refractory,\n",
        "                      method='exponential_euler')\n",
        "\n",
        "# create the left group of synapses from Neuron 0 to the last five\n",
        "synapses_0 = Synapses(inputs, neurons, 'weight : volt', on_pre='v_post += weight')\n",
        "synapses_0.connect(i=0, j=np.arange(N))\n",
        "synapses_0.weight = 30 * mV\n",
        "synapses_0.delay =  np.arange(N)/10 * ms\n",
        "\n",
        "# create the right group of synapses from Neuron 0 to the last five\n",
        "synapses_1 = Synapses(inputs, neurons, 'weight : volt', on_pre='v_post += weight')\n",
        "synapses_1.connect(i=1, j=np.arange(N))\n",
        "synapses_1.weight = 30 * mV\n",
        "synapses_1.delay =  np.arange(N, 0, -1)/10 * ms\n",
        "\n",
        "run(2*ms)\n",
        "# run the simulation while monitoring it\n",
        "states = StateMonitor(neurons, 'v', record=True)\n",
        "spikes = SpikeMonitor(neurons, 'v', record=True)\n",
        "inp_spikes = SpikeMonitor(inputs, record=True)\n",
        "run(3*ms)"
      ],
      "execution_count": 4,
      "outputs": []
    },
    {
      "cell_type": "markdown",
      "metadata": {
        "id": "U1KwzbEFYT00",
        "colab_type": "text"
      },
      "source": [
        "First, we should inspect how the network that we've just build looks like."
      ]
    },
    {
      "cell_type": "code",
      "metadata": {
        "id": "DFmTYAl0XumV",
        "colab_type": "code",
        "colab": {
          "base_uri": "https://localhost:8080/",
          "height": 253
        },
        "outputId": "0cbe6242-979c-417b-c22a-10ce2e40905c"
      },
      "source": [
        "plot_synapses(neuron_groups=[inputs, neurons],\n",
        "              synapse_groups=[synapses_0, synapses_1],\n",
        "              pos_func=lambda x:nx.bipartite_layout(x, nodes=[0,1]), \n",
        "              color_cycle=[\"lightblue\", \"darksalmon\"])"
      ],
      "execution_count": 5,
      "outputs": [
        {
          "output_type": "display_data",
          "data": {
            "image/png": "[encoded data removed]",
            "text/plain": [
              "<Figure size 432x288 with 1 Axes>"
            ]
          },
          "metadata": {
            "tags": []
          }
        }
      ]
    },
    {
      "cell_type": "markdown",
      "metadata": {
        "id": "j6SPFbqwXzEj",
        "colab_type": "text"
      },
      "source": [
        ""
      ]
    },
    {
      "cell_type": "code",
      "metadata": {
        "id": "192mg6uem0Nb",
        "colab_type": "code",
        "colab": {
          "base_uri": "https://localhost:8080/",
          "height": 279
        },
        "outputId": "fa3514f0-dfb3-47b8-bc3f-acf9d5bc3953"
      },
      "source": [
        "ch_names = [\"Resp. \" + str(i) for i in range(len(neurons))]\n",
        "plot_spikes(spikes.i, spikes.t/ms, ch_names,time_unit=\"ms\", show=False)\n",
        "plt.xlim(2, 4)\n",
        "plt.vlines(x=[left_pulse/ms, right_pulse/ms], ymin=0, ymax=len(neurons)-1, color = 'lightblue')\n",
        "for name, time in zip([\"left input\", \"right input\"], [left_pulse, right_pulse]):\n",
        "  plt.text(time/ms, len(neurons)-1, name, rotation=90, c=\"lightblue\",\n",
        "          verticalalignment=\"top\", horizontalalignment=\"right\")"
      ],
      "execution_count": 6,
      "outputs": [
        {
          "output_type": "display_data",
          "data": {
            "image/png": "[encoded data removed]",
            "text/plain": [
              "<Figure size 432x288 with 1 Axes>"
            ]
          },
          "metadata": {
            "tags": [],
            "needs_background": "light"
          }
        }
      ]
    },
    {
      "cell_type": "markdown",
      "metadata": {
        "id": "Yh4Wyztum0YH",
        "colab_type": "text"
      },
      "source": [
        ""
      ]
    },
    {
      "cell_type": "code",
      "metadata": {
        "id": "QG8HxPCVm0hK",
        "colab_type": "code",
        "colab": {
          "base_uri": "https://localhost:8080/",
          "height": 279
        },
        "outputId": "e4965666-cbb9-4e59-be86-fd2661ccf82b"
      },
      "source": [
        "plot_cmesh(states.v/mV, states.t/ms, ch_names, time_unit=\"ms\", unit=\"Membrane Potential (mV)\")"
      ],
      "execution_count": 7,
      "outputs": [
        {
          "output_type": "display_data",
          "data": {
            "image/png": "[encoded data removed]",
            "text/plain": [
              "<Figure size 432x288 with 2 Axes>"
            ]
          },
          "metadata": {
            "tags": [],
            "needs_background": "light"
          }
        }
      ]
    },
    {
      "cell_type": "markdown",
      "metadata": {
        "id": "bFbp0CRSCuGn",
        "colab_type": "text"
      },
      "source": [
        "## Try it out yourself"
      ]
    },
    {
      "cell_type": "markdown",
      "metadata": {
        "id": "T2zh5DbEuhG4",
        "colab_type": "text"
      },
      "source": [
        "Here we will put all of the above into one interactive function, so you can play around with the timing of the left and right input."
      ]
    },
    {
      "cell_type": "code",
      "metadata": {
        "id": "MHJqxu409skd",
        "colab_type": "code",
        "colab": {
          "base_uri": "https://localhost:8080/",
          "height": 446,
          "referenced_widgets": [
            "d5fc5b1359044377abe9697e4eb0a96c",
            "0d072f361a7d45b4b2f8a114a43a38de",
            "a906a62a78474286b1d9fe6a2ee6ac9d",
            "365f4a6638ec4153b68ef394e69158df",
            "3ce9868acf9f4ed7995b7a8a39b73c5c",
            "8810b0c68cc04ca981e70f52f722219e",
            "de773b7ddba14cfc86f48db910711c8d",
            "8557f3b31a394cfab4ee2cc0cc84c041",
            "be623513573e4b09a56491d52e2bca1c",
            "99dff4dc603044d0bc18a5c115da70ae",
            "33bb2c3f1c5842a0817a944c7994bb41",
            "82f30db063ad402ebc40a6986ffbe875",
            "1fde102e550c47af8c21e1974189c768"
          ]
        },
        "outputId": "acb30dc3-6982-488e-98d4-eb9bb080df6d"
      },
      "source": [
        "model = '''\n",
        "    dv/dt = (gl*(El-v) - g_na*(m*m*m)*h*(v-ENa) - g_kd*(n*n*n*n)*(v-EK) + I)/Cm : volt\n",
        "    dm/dt = 0.32*(mV**-1)*(13.*mV-v+VT)/\n",
        "        (exp((13.*mV-v+VT)/(4.*mV))-1.)/ms*(1-m)-0.28*(mV**-1)*(v-VT-40.*mV)/\n",
        "        (exp((v-VT-40.*mV)/(5.*mV))-1.)/ms*m : 1\n",
        "    dn/dt = 0.032*(mV**-1)*(15.*mV-v+VT)/\n",
        "        (exp((15.*mV-v+VT)/(5.*mV))-1.)/ms*(1.-n)-.5*exp((10.*mV-v+VT)/(40.*mV))/ms*n : 1\n",
        "    dh/dt = 0.128*exp((17.*mV-v+VT)/(18.*mV))/ms*(1.-h)-4./(1+exp((40.*mV-v+VT)/(5.*mV)))/ms*h : 1\n",
        "    I : amp\n",
        "    '''   \n",
        "# Define threshold and refractory period\n",
        "threshold = 'v > -40*mV'\n",
        "refractory = 'v > -40*mV'\n",
        "\n",
        "area = 20000*umetre**2\n",
        "Cm = 1*ufarad*cm**-2 * area # Mebrane capacitance\n",
        "gl = 5e-5*siemens*cm**-2 * area\n",
        "El = -65.*mV\n",
        "EK = -90.*mV\n",
        "ENa = 50.*mV\n",
        "g_na = 100.*msiemens*cm**-2 * area\n",
        "g_kd = 30.*msiemens*cm**-2 * area\n",
        "VT = -63*mV\n",
        "\n",
        "\n",
        "defaultclock.dt = 0.05*ms\n",
        "\n",
        "def dendritic_computation(left, right, N):\n",
        "\n",
        "  start_scope()\n",
        "\n",
        "  left_pulse = left * ms\n",
        "  right_pulse = right * ms\n",
        "\n",
        "  # define the left/right stimulus neurons\n",
        "  inputs = SpikeGeneratorGroup(2, indices=[0, 1], times=[left_pulse, right_pulse])\n",
        "\n",
        "  # Create a group of Izhikevich neurons\n",
        "  neurons = NeuronGroup(N, model=model,\n",
        "                        threshold=threshold,\n",
        "                        refractory=refractory,\n",
        "                        method='exponential_euler')\n",
        "\n",
        "  # create the left group of synapses from Neuron 0 to the last five\n",
        "  synapses_0 = Synapses(inputs, neurons, 'weight : volt', on_pre='v_post += weight')\n",
        "  synapses_0.connect(i=0, j=np.arange(N))\n",
        "  synapses_0.weight = 30 * mV\n",
        "  synapses_0.delay =  np.arange(N)/10 * ms\n",
        "\n",
        "  # create the right group of synapses from Neuron 0 to the last five\n",
        "  synapses_1 = Synapses(inputs, neurons, 'weight : volt', on_pre='v_post += weight')\n",
        "  synapses_1.connect(i=1, j=np.arange(N))\n",
        "  synapses_1.weight = 30 * mV\n",
        "  synapses_1.delay =  np.arange(N, 0, -1)/10 * ms\n",
        "\n",
        "  run(2*ms)\n",
        "  # run the simulation while monitoring it\n",
        "  states = StateMonitor(neurons, 'v', record=True)\n",
        "  spikes = SpikeMonitor(neurons, 'v', record=True)\n",
        "  inp_spikes = SpikeMonitor(inputs, record=True)\n",
        "  run(3*ms)\n",
        "\n",
        "  # plot the network\n",
        "  plt.figure(figsize=[15,5])\n",
        "  plt.subplot(1, 3, 1)\n",
        "  plt.title(\"Network Layout\")\n",
        "  plot_synapses(neuron_groups=[inputs, neurons],\n",
        "                synapse_groups=[synapses_0, synapses_1],\n",
        "                pos_func=lambda x:nx.bipartite_layout(x, nodes=[0,1]), \n",
        "                color_cycle=[\"lightblue\", \"darksalmon\"], show=False)\n",
        "\n",
        "  # plot the spiking times\n",
        "  plt.subplot(1, 3, 2)\n",
        "  plt.title(\"Spiking Times\")\n",
        "  ch_names = [\"Resp. \" + str(i) for i in range(len(neurons))]\n",
        "  plot_spikes(spikes.i, spikes.t/ms, ch_names,time_unit=\"ms\", show=False)\n",
        "  plt.xlim(2, 4)\n",
        "  plt.vlines(x=[left_pulse/ms, right_pulse/ms], ymin=0, ymax=len(neurons)-1, color = 'lightblue')\n",
        "  for name, time in zip([\"left input\", \"right input\"], [left_pulse, right_pulse]):\n",
        "    plt.text(time/ms, len(neurons)-1, name, rotation=90, c=\"lightblue\",\n",
        "            verticalalignment=\"top\", horizontalalignment=\"right\")\n",
        "\n",
        "  # plot the membrane potential\n",
        "  plt.subplot(1, 3, 3)\n",
        "  plt.title(\"Membrane Potential\")\n",
        "  plot_cmesh(states.v[:, states.t >= 2*ms]/mV, states.t[states.t >= 2*ms]/ms, ch_names, time_unit=\"ms\", unit=\"Membrane Potential (mV)\", show=False)\n",
        "\n",
        "\n",
        "layout = {'width': '500px'}; style = {'description_width': '200px'}\n",
        "left_slider = FloatSlider(value = 2., min= 2., max = 4., step = 0.01, description = 'Left input spike (ms):', continuous_update=False, layout=layout, style=style)\n",
        "right_slider = FloatSlider(value = 2., min= 2., max = 4., step = 0.01, description = 'Right input spike (ms):', continuous_update=False, layout=layout, style=style)\n",
        "N_slider = IntSlider(value = 10, min= 0, max = 20, step = 1, description = 'Number of response neurons:', continuous_update=False, layout=layout, style=style)\n",
        "\n",
        "interactive(dendritic_computation, left=left_slider, right=right_slider, N=N_slider)"
      ],
      "execution_count": 14,
      "outputs": [
        {
          "output_type": "display_data",
          "data": {
            "application/vnd.jupyter.widget-view+json": {
              "model_id": "d5fc5b1359044377abe9697e4eb0a96c",
              "version_minor": 0,
              "version_major": 2
            },
            "text/plain": [
              "interactive(children=(FloatSlider(value=2.0, continuous_update=False, description='Left input spike (ms):', la…"
            ]
          },
          "metadata": {
            "tags": []
          }
        }
      ]
    },
    {
      "cell_type": "markdown",
      "metadata": {
        "id": "QNc5PgNomqpp",
        "colab_type": "text"
      },
      "source": [
        "### archive"
      ]
    },
    {
      "cell_type": "code",
      "metadata": {
        "id": "aj-jCXl2mr8E",
        "colab_type": "code",
        "colab": {}
      },
      "source": [
        "import seaborn as sns\n",
        "\n",
        "# Plotting function\n",
        "def create_default_plot(x, neuron_data, neuron_labels, neuron_colors, spikes = None, spike_color = 'steelblue', input_current = None, input_label = 'Input Current', input_color = 'gold', y_range = None, title = '', x_axis_label = '', y_axis_label = '', input_axis_label = 'Input Current (A)', hline = None, sns_style=True):\n",
        "    \n",
        "  # Apply default seaborn settings\n",
        "  if sns_style:\n",
        "    sns.set()\n",
        "    sns.set_style({'axes.grid' : False})\n",
        "\n",
        "  # Create first y axis and set size of figure\n",
        "  fig, ax1 = plt.subplots(figsize=(14,6))\n",
        "\n",
        "  # Set axis labels\n",
        "  ax1.set_xlabel(x_axis_label)\n",
        "  ax1.set_ylabel(y_axis_label)\n",
        "\n",
        "  # Set y range if given\n",
        "  if y_range is not None:\n",
        "      ax1.set_ylim(y_range)\n",
        "\n",
        "  # Add horizontal line\n",
        "  if hline is not None:\n",
        "      ax1.axhline(y = hline, linestyle = '--', linewidth = 1, color = 'gray', label = 'Spiking Threshold')\n",
        "\n",
        "  # Plot a line for each neuron datapoint\n",
        "  for idx, y in enumerate(neuron_data):\n",
        "      # We ignore the first datapoint as these are always 0 and result in weird looking lines\n",
        "      ax1.plot(x[1:], y[1:], color = neuron_colors[idx], label = neuron_labels[idx])\n",
        "\n",
        "  # Plot spikes if given\n",
        "  if spikes is not None:\n",
        "      # Ignore the first spike if it is before 100ms (as no current was given)\n",
        "      if spikes[0] >= 10:\n",
        "          ax1.axvline(spikes[0], linestyle = ':', color = spike_color, linewidth = 1, zorder = 0)\n",
        "      for t in spikes[1:-1]:\n",
        "          ax1.axvline(t, linestyle = ':', color = spike_color, linewidth = 1, zorder = 0)\n",
        "      # Add line for last spike with label\n",
        "      ax1.axvline(spikes[-1], linestyle = ':', color = spike_color, linewidth = 1, label = 'Spikes', zorder = 0)\n",
        "\n",
        "  # Show input current if given\n",
        "  if input_current is not None:\n",
        "      # Create 2nd y-axis\n",
        "      ax2 = ax1.twinx()\n",
        "      # Set axis label\n",
        "      ax2.set_ylabel(input_axis_label)\n",
        "      # Draw input line\n",
        "      ax2.plot(x, input_current, color = input_color, label = input_label)   \n",
        "  \n",
        "  # Add legend\n",
        "  fig.legend(loc=\"upper right\", bbox_to_anchor=(0.825, 0.8))\n",
        "\n",
        "  # Set title\n",
        "  plt.title(title)"
      ],
      "execution_count": 9,
      "outputs": []
    }
  ]
}