{
  "nbformat": 4,
  "nbformat_minor": 0,
  "metadata": {
    "colab": {
      "name": "dendritic_computation.ipynb",
      "provenance": [],
      "collapsed_sections": [],
      "authorship_tag": "ABX9TyM85Q9dNvuhFwgMokGAb3ud",
      "include_colab_link": true
    },
    "kernelspec": {
      "name": "python3",
      "display_name": "Python 3"
    },
    "widgets": {
      "application/vnd.jupyter.widget-state+json": {
        "962e331a454e491ab49a76d8daa014f0": {
          "model_module": "@jupyter-widgets/controls",
          "model_name": "VBoxModel",
          "state": {
            "_view_name": "VBoxView",
            "_dom_classes": [
              "widget-interact"
            ],
            "_model_name": "VBoxModel",
            "_view_module": "@jupyter-widgets/controls",
            "_model_module_version": "1.5.0",
            "_view_count": null,
            "_view_module_version": "1.5.0",
            "box_style": "",
            "layout": "IPY_MODEL_a5bde539583243dc9a860261d16ca756",
            "_model_module": "@jupyter-widgets/controls",
            "children": [
              "IPY_MODEL_628e8fa2979745e8a5dafed6cd63b347",
              "IPY_MODEL_a8a8127d268a4fafa23f8c7ea35063f0",
              "IPY_MODEL_7c6a51bb11e741ebaed1ba4aced5822c",
              "IPY_MODEL_265b5d2ea330421bb30f15bf9019b490"
            ]
          }
        },
        "a5bde539583243dc9a860261d16ca756": {
          "model_module": "@jupyter-widgets/base",
          "model_name": "LayoutModel",
          "state": {
            "_view_name": "LayoutView",
            "grid_template_rows": null,
            "right": null,
            "justify_content": null,
            "_view_module": "@jupyter-widgets/base",
            "overflow": null,
            "_model_module_version": "1.2.0",
            "_view_count": null,
            "flex_flow": null,
            "width": null,
            "min_width": null,
            "border": null,
            "align_items": null,
            "bottom": null,
            "_model_module": "@jupyter-widgets/base",
            "top": null,
            "grid_column": null,
            "overflow_y": null,
            "overflow_x": null,
            "grid_auto_flow": null,
            "grid_area": null,
            "grid_template_columns": null,
            "flex": null,
            "_model_name": "LayoutModel",
            "justify_items": null,
            "grid_row": null,
            "max_height": null,
            "align_content": null,
            "visibility": null,
            "align_self": null,
            "height": null,
            "min_height": null,
            "padding": null,
            "grid_auto_rows": null,
            "grid_gap": null,
            "max_width": null,
            "order": null,
            "_view_module_version": "1.2.0",
            "grid_template_areas": null,
            "object_position": null,
            "object_fit": null,
            "grid_auto_columns": null,
            "margin": null,
            "display": null,
            "left": null
          }
        },
        "628e8fa2979745e8a5dafed6cd63b347": {
          "model_module": "@jupyter-widgets/controls",
          "model_name": "FloatSliderModel",
          "state": {
            "_view_name": "FloatSliderView",
            "style": "IPY_MODEL_a48e087499b64ec681626ab0783bb9be",
            "_dom_classes": [],
            "description": "Left input spike (ms):",
            "step": 0.01,
            "_model_name": "FloatSliderModel",
            "orientation": "horizontal",
            "max": 4,
            "_view_module": "@jupyter-widgets/controls",
            "_model_module_version": "1.5.0",
            "value": 3.92,
            "_view_count": null,
            "disabled": false,
            "_view_module_version": "1.5.0",
            "min": 2,
            "continuous_update": false,
            "readout_format": ".2f",
            "description_tooltip": null,
            "readout": true,
            "_model_module": "@jupyter-widgets/controls",
            "layout": "IPY_MODEL_b321c893b4924250ba153dd9b7f4c629"
          }
        },
        "a8a8127d268a4fafa23f8c7ea35063f0": {
          "model_module": "@jupyter-widgets/controls",
          "model_name": "FloatSliderModel",
          "state": {
            "_view_name": "FloatSliderView",
            "style": "IPY_MODEL_6fbe70d35da042c59d75aa22345de2de",
            "_dom_classes": [],
            "description": "Right input spike (ms):",
            "step": 0.01,
            "_model_name": "FloatSliderModel",
            "orientation": "horizontal",
            "max": 4,
            "_view_module": "@jupyter-widgets/controls",
            "_model_module_version": "1.5.0",
            "value": 2,
            "_view_count": null,
            "disabled": false,
            "_view_module_version": "1.5.0",
            "min": 2,
            "continuous_update": false,
            "readout_format": ".2f",
            "description_tooltip": null,
            "readout": true,
            "_model_module": "@jupyter-widgets/controls",
            "layout": "IPY_MODEL_8b58614a12654838b759543dcfa72344"
          }
        },
        "7c6a51bb11e741ebaed1ba4aced5822c": {
          "model_module": "@jupyter-widgets/controls",
          "model_name": "IntSliderModel",
          "state": {
            "_view_name": "IntSliderView",
            "style": "IPY_MODEL_9e63a2ee07684d25801965ce683d68a8",
            "_dom_classes": [],
            "description": "Number of response neurons:",
            "step": 1,
            "_model_name": "IntSliderModel",
            "orientation": "horizontal",
            "max": 20,
            "_view_module": "@jupyter-widgets/controls",
            "_model_module_version": "1.5.0",
            "value": 10,
            "_view_count": null,
            "disabled": false,
            "_view_module_version": "1.5.0",
            "min": 0,
            "continuous_update": false,
            "readout_format": "d",
            "description_tooltip": null,
            "readout": true,
            "_model_module": "@jupyter-widgets/controls",
            "layout": "IPY_MODEL_74b4f4db67a148f6a1ff549e4e195a08"
          }
        },
        "265b5d2ea330421bb30f15bf9019b490": {
          "model_module": "@jupyter-widgets/output",
          "model_name": "OutputModel",
          "state": {
            "_view_name": "OutputView",
            "msg_id": "",
            "_dom_classes": [],
            "_model_name": "OutputModel",
            "outputs": [
              {
                "output_type": "display_data",
                "metadata": {
                  "tags": [],
                  "needs_background": "light"
                },
                "image/png": "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\n",
                "text/plain": "<Figure size 1080x360 with 4 Axes>"
              }
            ],
            "_view_module": "@jupyter-widgets/output",
            "_model_module_version": "1.0.0",
            "_view_count": null,
            "_view_module_version": "1.0.0",
            "layout": "IPY_MODEL_695112295322413bb535bc649dfdd1f9",
            "_model_module": "@jupyter-widgets/output"
          }
        },
        "a48e087499b64ec681626ab0783bb9be": {
          "model_module": "@jupyter-widgets/controls",
          "model_name": "SliderStyleModel",
          "state": {
            "_view_name": "StyleView",
            "handle_color": null,
            "_model_name": "SliderStyleModel",
            "description_width": "",
            "_view_module": "@jupyter-widgets/base",
            "_model_module_version": "1.5.0",
            "_view_count": null,
            "_view_module_version": "1.2.0",
            "_model_module": "@jupyter-widgets/controls"
          }
        },
        "b321c893b4924250ba153dd9b7f4c629": {
          "model_module": "@jupyter-widgets/base",
          "model_name": "LayoutModel",
          "state": {
            "_view_name": "LayoutView",
            "grid_template_rows": null,
            "right": null,
            "justify_content": null,
            "_view_module": "@jupyter-widgets/base",
            "overflow": null,
            "_model_module_version": "1.2.0",
            "_view_count": null,
            "flex_flow": null,
            "width": null,
            "min_width": null,
            "border": null,
            "align_items": null,
            "bottom": null,
            "_model_module": "@jupyter-widgets/base",
            "top": null,
            "grid_column": null,
            "overflow_y": null,
            "overflow_x": null,
            "grid_auto_flow": null,
            "grid_area": null,
            "grid_template_columns": null,
            "flex": null,
            "_model_name": "LayoutModel",
            "justify_items": null,
            "grid_row": null,
            "max_height": null,
            "align_content": null,
            "visibility": null,
            "align_self": null,
            "height": null,
            "min_height": null,
            "padding": null,
            "grid_auto_rows": null,
            "grid_gap": null,
            "max_width": null,
            "order": null,
            "_view_module_version": "1.2.0",
            "grid_template_areas": null,
            "object_position": null,
            "object_fit": null,
            "grid_auto_columns": null,
            "margin": null,
            "display": null,
            "left": null
          }
        },
        "6fbe70d35da042c59d75aa22345de2de": {
          "model_module": "@jupyter-widgets/controls",
          "model_name": "SliderStyleModel",
          "state": {
            "_view_name": "StyleView",
            "handle_color": null,
            "_model_name": "SliderStyleModel",
            "description_width": "",
            "_view_module": "@jupyter-widgets/base",
            "_model_module_version": "1.5.0",
            "_view_count": null,
            "_view_module_version": "1.2.0",
            "_model_module": "@jupyter-widgets/controls"
          }
        },
        "8b58614a12654838b759543dcfa72344": {
          "model_module": "@jupyter-widgets/base",
          "model_name": "LayoutModel",
          "state": {
            "_view_name": "LayoutView",
            "grid_template_rows": null,
            "right": null,
            "justify_content": null,
            "_view_module": "@jupyter-widgets/base",
            "overflow": null,
            "_model_module_version": "1.2.0",
            "_view_count": null,
            "flex_flow": null,
            "width": null,
            "min_width": null,
            "border": null,
            "align_items": null,
            "bottom": null,
            "_model_module": "@jupyter-widgets/base",
            "top": null,
            "grid_column": null,
            "overflow_y": null,
            "overflow_x": null,
            "grid_auto_flow": null,
            "grid_area": null,
            "grid_template_columns": null,
            "flex": null,
            "_model_name": "LayoutModel",
            "justify_items": null,
            "grid_row": null,
            "max_height": null,
            "align_content": null,
            "visibility": null,
            "align_self": null,
            "height": null,
            "min_height": null,
            "padding": null,
            "grid_auto_rows": null,
            "grid_gap": null,
            "max_width": null,
            "order": null,
            "_view_module_version": "1.2.0",
            "grid_template_areas": null,
            "object_position": null,
            "object_fit": null,
            "grid_auto_columns": null,
            "margin": null,
            "display": null,
            "left": null
          }
        },
        "9e63a2ee07684d25801965ce683d68a8": {
          "model_module": "@jupyter-widgets/controls",
          "model_name": "SliderStyleModel",
          "state": {
            "_view_name": "StyleView",
            "handle_color": null,
            "_model_name": "SliderStyleModel",
            "description_width": "",
            "_view_module": "@jupyter-widgets/base",
            "_model_module_version": "1.5.0",
            "_view_count": null,
            "_view_module_version": "1.2.0",
            "_model_module": "@jupyter-widgets/controls"
          }
        },
        "74b4f4db67a148f6a1ff549e4e195a08": {
          "model_module": "@jupyter-widgets/base",
          "model_name": "LayoutModel",
          "state": {
            "_view_name": "LayoutView",
            "grid_template_rows": null,
            "right": null,
            "justify_content": null,
            "_view_module": "@jupyter-widgets/base",
            "overflow": null,
            "_model_module_version": "1.2.0",
            "_view_count": null,
            "flex_flow": null,
            "width": null,
            "min_width": null,
            "border": null,
            "align_items": null,
            "bottom": null,
            "_model_module": "@jupyter-widgets/base",
            "top": null,
            "grid_column": null,
            "overflow_y": null,
            "overflow_x": null,
            "grid_auto_flow": null,
            "grid_area": null,
            "grid_template_columns": null,
            "flex": null,
            "_model_name": "LayoutModel",
            "justify_items": null,
            "grid_row": null,
            "max_height": null,
            "align_content": null,
            "visibility": null,
            "align_self": null,
            "height": null,
            "min_height": null,
            "padding": null,
            "grid_auto_rows": null,
            "grid_gap": null,
            "max_width": null,
            "order": null,
            "_view_module_version": "1.2.0",
            "grid_template_areas": null,
            "object_position": null,
            "object_fit": null,
            "grid_auto_columns": null,
            "margin": null,
            "display": null,
            "left": null
          }
        },
        "695112295322413bb535bc649dfdd1f9": {
          "model_module": "@jupyter-widgets/base",
          "model_name": "LayoutModel",
          "state": {
            "_view_name": "LayoutView",
            "grid_template_rows": null,
            "right": null,
            "justify_content": null,
            "_view_module": "@jupyter-widgets/base",
            "overflow": null,
            "_model_module_version": "1.2.0",
            "_view_count": null,
            "flex_flow": null,
            "width": null,
            "min_width": null,
            "border": null,
            "align_items": null,
            "bottom": null,
            "_model_module": "@jupyter-widgets/base",
            "top": null,
            "grid_column": null,
            "overflow_y": null,
            "overflow_x": null,
            "grid_auto_flow": null,
            "grid_area": null,
            "grid_template_columns": null,
            "flex": null,
            "_model_name": "LayoutModel",
            "justify_items": null,
            "grid_row": null,
            "max_height": null,
            "align_content": null,
            "visibility": null,
            "align_self": null,
            "height": null,
            "min_height": null,
            "padding": null,
            "grid_auto_rows": null,
            "grid_gap": null,
            "max_width": null,
            "order": null,
            "_view_module_version": "1.2.0",
            "grid_template_areas": null,
            "object_position": null,
            "object_fit": null,
            "grid_auto_columns": null,
            "margin": null,
            "display": null,
            "left": null
          }
        }
      }
    }
  },
  "cells": [
    {
      "cell_type": "markdown",
      "metadata": {
        "id": "view-in-github",
        "colab_type": "text"
      },
      "source": [
        "<a href=\"https://colab.research.google.com/github/DiGyt/neuropynamics/blob/DiGyt_dev/notebooks/dendritic_computation.ipynb\" target=\"_parent\"><img src=\"https://colab.research.google.com/assets/colab-badge.svg\" alt=\"Open In Colab\"/></a>"
      ]
    },
    {
      "cell_type": "markdown",
      "metadata": {
        "id": "qg2aZFjrCqk0",
        "colab_type": "text"
      },
      "source": [
        "# **Dendritic computation**"
      ]
    },
    {
      "cell_type": "markdown",
      "metadata": {
        "id": "Q7YnKLN0Dc-K",
        "colab_type": "text"
      },
      "source": [
        "Fist, we install all the things we need again."
      ]
    },
    {
      "cell_type": "code",
      "metadata": {
        "id": "ja7rkJrbtt-9",
        "colab_type": "code",
        "colab": {
          "base_uri": "https://localhost:8080/",
          "height": 219
        },
        "outputId": "6e9e3a79-3d4f-4244-e320-b36b2d42eed1"
      },
      "source": [
        "!pip install brian2\n",
        "!git clone https://github.com/DiGyt/neuropynamics/ --branch DiGyt_dev"
      ],
      "execution_count": 11,
      "outputs": [
        {
          "output_type": "stream",
          "text": [
            "Requirement already satisfied: brian2 in /usr/local/lib/python3.6/dist-packages (2.3.0.2)\n",
            "Requirement already satisfied: setuptools>=24 in /usr/local/lib/python3.6/dist-packages (from brian2) (49.6.0)\n",
            "Requirement already satisfied: future in /usr/local/lib/python3.6/dist-packages (from brian2) (0.16.0)\n",
            "Requirement already satisfied: numpy>=1.10 in /usr/local/lib/python3.6/dist-packages (from brian2) (1.18.5)\n",
            "Requirement already satisfied: cython>=0.29 in /usr/local/lib/python3.6/dist-packages (from brian2) (0.29.21)\n",
            "Requirement already satisfied: jinja2>=2.7 in /usr/local/lib/python3.6/dist-packages (from brian2) (2.11.2)\n",
            "Requirement already satisfied: sympy>=1.2 in /usr/local/lib/python3.6/dist-packages (from brian2) (1.6.2)\n",
            "Requirement already satisfied: pyparsing in /usr/local/lib/python3.6/dist-packages (from brian2) (2.4.7)\n",
            "Requirement already satisfied: MarkupSafe>=0.23 in /usr/local/lib/python3.6/dist-packages (from jinja2>=2.7->brian2) (1.1.1)\n",
            "Requirement already satisfied: mpmath>=0.19 in /usr/local/lib/python3.6/dist-packages (from sympy>=1.2->brian2) (1.1.0)\n",
            "fatal: destination path 'neuropynamics' already exists and is not an empty directory.\n"
          ],
          "name": "stdout"
        }
      ]
    },
    {
      "cell_type": "markdown",
      "metadata": {
        "id": "q8PxD3i2Cr0-",
        "colab_type": "text"
      },
      "source": [
        "Import everything we need."
      ]
    },
    {
      "cell_type": "code",
      "metadata": {
        "id": "AIKRQVPW70Di",
        "colab_type": "code",
        "colab": {}
      },
      "source": [
        "import numpy as np\n",
        "import networkx as nx\n",
        "import ipywidgets as widgets\n",
        "from ipywidgets import FloatSlider, IntSlider, interactive\n",
        "import matplotlib.pyplot as plt\n",
        "import matplotlib.ticker as ticker\n",
        "\n",
        "from brian2 import (second, ms, us, volt, mV, cm, umetre, ufarad, siemens, msiemens, mA)\n",
        "from brian2 import (start_scope, NeuronGroup, Synapses, SpikeGeneratorGroup,\n",
        "                    StateMonitor, SpikeMonitor, run, defaultclock)\n",
        "\n",
        "from neuropynamics.src.utils.plotting import (plot_cmesh, plot_signals,\n",
        "                                              plot_spikes, plot_synapses)"
      ],
      "execution_count": 12,
      "outputs": []
    },
    {
      "cell_type": "markdown",
      "metadata": {
        "id": "AVMqNwyXEtdf",
        "colab_type": "text"
      },
      "source": [
        "## Step-by-step"
      ]
    },
    {
      "cell_type": "markdown",
      "metadata": {
        "id": "QHge9mjECs_p",
        "colab_type": "text"
      },
      "source": [
        "First of all, we define a Hodgkin-Huxley neuron model."
      ]
    },
    {
      "cell_type": "code",
      "metadata": {
        "id": "5Y0SzubokqcU",
        "colab_type": "code",
        "colab": {}
      },
      "source": [
        "model = '''\n",
        "    dv/dt = (gl*(El-v) - g_na*(m*m*m)*h*(v-ENa) - g_kd*(n*n*n*n)*(v-EK) + I)/Cm : volt\n",
        "    dm/dt = 0.32*(mV**-1)*(13.*mV-v+VT)/\n",
        "        (exp((13.*mV-v+VT)/(4.*mV))-1.)/ms*(1-m)-0.28*(mV**-1)*(v-VT-40.*mV)/\n",
        "        (exp((v-VT-40.*mV)/(5.*mV))-1.)/ms*m : 1\n",
        "    dn/dt = 0.032*(mV**-1)*(15.*mV-v+VT)/\n",
        "        (exp((15.*mV-v+VT)/(5.*mV))-1.)/ms*(1.-n)-.5*exp((10.*mV-v+VT)/(40.*mV))/ms*n : 1\n",
        "    dh/dt = 0.128*exp((17.*mV-v+VT)/(18.*mV))/ms*(1.-h)-4./(1+exp((40.*mV-v+VT)/(5.*mV)))/ms*h : 1\n",
        "    I : amp\n",
        "    '''   \n",
        "# Define threshold and refractory period\n",
        "threshold = 'v > 35*mV'\n",
        "refractory = 'v > -40*mV'\n",
        "\n",
        "area = 20000*umetre**2\n",
        "Cm = 1*ufarad*cm**-2 * area # Mebrane capacitance\n",
        "gl = 5e-5*siemens*cm**-2 * area\n",
        "El = -65.*mV\n",
        "EK = -90.*mV\n",
        "ENa = 50.*mV\n",
        "g_na = 100.*msiemens*cm**-2 * area\n",
        "g_kd = 30.*msiemens*cm**-2 * area\n",
        "VT = -63*mV"
      ],
      "execution_count": 13,
      "outputs": []
    },
    {
      "cell_type": "markdown",
      "metadata": {
        "id": "lRSxnXMtGMO4",
        "colab_type": "text"
      },
      "source": [
        ""
      ]
    },
    {
      "cell_type": "code",
      "metadata": {
        "id": "7Zvb7gGKYVUu",
        "colab_type": "code",
        "colab": {}
      },
      "source": [
        "start_scope()\n",
        "\n",
        "left_pulse = 2.1 * ms\n",
        "right_pulse = 2.9 * ms\n",
        "\n",
        "N = 7\n",
        "\n",
        "# define the left/right stimulus neurons\n",
        "inputs = SpikeGeneratorGroup(2, indices=[0, 1], times=[left_pulse, right_pulse])\n",
        "\n",
        "# Create a group of Izhikevich neurons\n",
        "neurons = NeuronGroup(N, model=model,\n",
        "                      threshold=threshold,\n",
        "                      refractory=refractory,\n",
        "                      method='exponential_euler')\n",
        "\n",
        "# create the left group of synapses from Neuron 0 to the last five\n",
        "synapses_0 = Synapses(inputs, neurons, 'weight : volt', on_pre='v_post += weight')\n",
        "synapses_0.connect(i=0, j=np.arange(N))\n",
        "synapses_0.weight = 30 * mV\n",
        "synapses_0.delay =  np.arange(N)/10 * ms\n",
        "\n",
        "# create the right group of synapses from Neuron 0 to the last five\n",
        "synapses_1 = Synapses(inputs, neurons, 'weight : volt', on_pre='v_post += weight')\n",
        "synapses_1.connect(i=1, j=np.arange(N))\n",
        "synapses_1.weight = 30 * mV\n",
        "synapses_1.delay =  np.arange(N, 0, -1)/10 * ms\n",
        "\n",
        "run(2*ms)\n",
        "# run the simulation while monitoring it\n",
        "states = StateMonitor(neurons, 'v', record=True)\n",
        "spikes = SpikeMonitor(neurons, 'v', record=True)\n",
        "inp_spikes = SpikeMonitor(inputs, record=True)\n",
        "run(3*ms)"
      ],
      "execution_count": 14,
      "outputs": []
    },
    {
      "cell_type": "markdown",
      "metadata": {
        "id": "U1KwzbEFYT00",
        "colab_type": "text"
      },
      "source": [
        "First, we should inspect how the network that we've just build looks like."
      ]
    },
    {
      "cell_type": "code",
      "metadata": {
        "id": "DFmTYAl0XumV",
        "colab_type": "code",
        "colab": {
          "base_uri": "https://localhost:8080/",
          "height": 253
        },
        "outputId": "f854fe15-7c17-4996-9c44-b0fce8492cfa"
      },
      "source": [
        "plot_synapses(neuron_groups=[inputs, neurons],\n",
        "              synapse_groups=[synapses_0, synapses_1],\n",
        "              pos_func=lambda x:nx.bipartite_layout(x, nodes=[0,1]), \n",
        "              color_cycle=[\"lightblue\", \"darksalmon\"])"
      ],
      "execution_count": 15,
      "outputs": [
        {
          "output_type": "display_data",
          "data": {
            "image/png": "[encoded data removed]",
            "text/plain": [
              "<Figure size 432x288 with 1 Axes>"
            ]
          },
          "metadata": {
            "tags": []
          }
        }
      ]
    },
    {
      "cell_type": "markdown",
      "metadata": {
        "id": "j6SPFbqwXzEj",
        "colab_type": "text"
      },
      "source": [
        ""
      ]
    },
    {
      "cell_type": "code",
      "metadata": {
        "id": "192mg6uem0Nb",
        "colab_type": "code",
        "colab": {
          "base_uri": "https://localhost:8080/",
          "height": 279
        },
        "outputId": "15d7d617-1380-4b3a-9abe-1b78751d943e"
      },
      "source": [
        "ch_names = [\"Resp. \" + str(i) for i in range(len(neurons))]\n",
        "plot_spikes(spikes.i, spikes.t/ms, ch_names,time_unit=\"ms\", show=False)\n",
        "plt.xlim(2, 4)\n",
        "plt.vlines(x=[left_pulse/ms, right_pulse/ms], ymin=0, ymax=len(neurons)-1, color = 'lightblue')\n",
        "for name, time in zip([\"left input\", \"right input\"], [left_pulse, right_pulse]):\n",
        "  plt.text(time/ms, len(neurons)-1, name, rotation=90, c=\"lightblue\",\n",
        "          verticalalignment=\"top\", horizontalalignment=\"right\")"
      ],
      "execution_count": 16,
      "outputs": [
        {
          "output_type": "display_data",
          "data": {
            "image/png": "[encoded data removed]",
            "text/plain": [
              "<Figure size 432x288 with 1 Axes>"
            ]
          },
          "metadata": {
            "tags": [],
            "needs_background": "light"
          }
        }
      ]
    },
    {
      "cell_type": "markdown",
      "metadata": {
        "id": "Yh4Wyztum0YH",
        "colab_type": "text"
      },
      "source": [
        ""
      ]
    },
    {
      "cell_type": "code",
      "metadata": {
        "id": "QG8HxPCVm0hK",
        "colab_type": "code",
        "colab": {
          "base_uri": "https://localhost:8080/",
          "height": 279
        },
        "outputId": "c3040863-9254-4411-d04c-4560e1e8efeb"
      },
      "source": [
        "plot_cmesh(states.v/mV, states.t/ms, ch_names, time_unit=\"ms\", unit=\"Membrane Potential (mV)\")"
      ],
      "execution_count": 17,
      "outputs": [
        {
          "output_type": "display_data",
          "data": {
            "image/png": "[encoded data removed]",
            "text/plain": [
              "<Figure size 432x288 with 2 Axes>"
            ]
          },
          "metadata": {
            "tags": [],
            "needs_background": "light"
          }
        }
      ]
    },
    {
      "cell_type": "markdown",
      "metadata": {
        "id": "bFbp0CRSCuGn",
        "colab_type": "text"
      },
      "source": [
        "## Try it out yourself"
      ]
    },
    {
      "cell_type": "code",
      "metadata": {
        "id": "MHJqxu409skd",
        "colab_type": "code",
        "colab": {
          "base_uri": "https://localhost:8080/",
          "height": 446,
          "referenced_widgets": [
            "962e331a454e491ab49a76d8daa014f0",
            "a5bde539583243dc9a860261d16ca756",
            "628e8fa2979745e8a5dafed6cd63b347",
            "a8a8127d268a4fafa23f8c7ea35063f0",
            "7c6a51bb11e741ebaed1ba4aced5822c",
            "265b5d2ea330421bb30f15bf9019b490",
            "a48e087499b64ec681626ab0783bb9be",
            "b321c893b4924250ba153dd9b7f4c629",
            "6fbe70d35da042c59d75aa22345de2de",
            "8b58614a12654838b759543dcfa72344",
            "9e63a2ee07684d25801965ce683d68a8",
            "74b4f4db67a148f6a1ff549e4e195a08",
            "695112295322413bb535bc649dfdd1f9"
          ]
        },
        "outputId": "8c01c4ec-161d-4297-80c7-a983aec4c05b"
      },
      "source": [
        "model = '''\n",
        "    dv/dt = (gl*(El-v) - g_na*(m*m*m)*h*(v-ENa) - g_kd*(n*n*n*n)*(v-EK) + I)/Cm : volt\n",
        "    dm/dt = 0.32*(mV**-1)*(13.*mV-v+VT)/\n",
        "        (exp((13.*mV-v+VT)/(4.*mV))-1.)/ms*(1-m)-0.28*(mV**-1)*(v-VT-40.*mV)/\n",
        "        (exp((v-VT-40.*mV)/(5.*mV))-1.)/ms*m : 1\n",
        "    dn/dt = 0.032*(mV**-1)*(15.*mV-v+VT)/\n",
        "        (exp((15.*mV-v+VT)/(5.*mV))-1.)/ms*(1.-n)-.5*exp((10.*mV-v+VT)/(40.*mV))/ms*n : 1\n",
        "    dh/dt = 0.128*exp((17.*mV-v+VT)/(18.*mV))/ms*(1.-h)-4./(1+exp((40.*mV-v+VT)/(5.*mV)))/ms*h : 1\n",
        "    I : amp\n",
        "    '''   \n",
        "# Define threshold and refractory period\n",
        "threshold = 'v > -40*mV'\n",
        "refractory = 'v > -40*mV'\n",
        "\n",
        "area = 20000*umetre**2\n",
        "Cm = 1*ufarad*cm**-2 * area # Mebrane capacitance\n",
        "gl = 5e-5*siemens*cm**-2 * area\n",
        "El = -65.*mV\n",
        "EK = -90.*mV\n",
        "ENa = 50.*mV\n",
        "g_na = 100.*msiemens*cm**-2 * area\n",
        "g_kd = 30.*msiemens*cm**-2 * area\n",
        "VT = -63*mV\n",
        "\n",
        "\n",
        "defaultclock.dt = 0.05*ms\n",
        "\n",
        "def dendritic_computation(left, right, N):\n",
        "\n",
        "  start_scope()\n",
        "\n",
        "  left_pulse = left * ms\n",
        "  right_pulse = right * ms\n",
        "\n",
        "  # define the left/right stimulus neurons\n",
        "  inputs = SpikeGeneratorGroup(2, indices=[0, 1], times=[left_pulse, right_pulse])\n",
        "\n",
        "  # Create a group of Izhikevich neurons\n",
        "  neurons = NeuronGroup(N, model=model,\n",
        "                        threshold=threshold,\n",
        "                        refractory=refractory,\n",
        "                        method='exponential_euler')\n",
        "\n",
        "  # create the left group of synapses from Neuron 0 to the last five\n",
        "  synapses_0 = Synapses(inputs, neurons, 'weight : volt', on_pre='v_post += weight')\n",
        "  synapses_0.connect(i=0, j=np.arange(N))\n",
        "  synapses_0.weight = 30 * mV\n",
        "  synapses_0.delay =  np.arange(N)/10 * ms\n",
        "\n",
        "  # create the right group of synapses from Neuron 0 to the last five\n",
        "  synapses_1 = Synapses(inputs, neurons, 'weight : volt', on_pre='v_post += weight')\n",
        "  synapses_1.connect(i=1, j=np.arange(N))\n",
        "  synapses_1.weight = 30 * mV\n",
        "  synapses_1.delay =  np.arange(N, 0, -1)/10 * ms\n",
        "\n",
        "  run(2*ms)\n",
        "  # run the simulation while monitoring it\n",
        "  states = StateMonitor(neurons, 'v', record=True)\n",
        "  spikes = SpikeMonitor(neurons, 'v', record=True)\n",
        "  inp_spikes = SpikeMonitor(inputs, record=True)\n",
        "  run(3*ms)\n",
        "\n",
        "  # plot the network\n",
        "  plt.figure(figsize=[15,5])\n",
        "  plt.subplot(1, 3, 1)\n",
        "  plt.title(\"Network Layout\")\n",
        "  plot_synapses(neuron_groups=[inputs, neurons],\n",
        "                synapse_groups=[synapses_0, synapses_1],\n",
        "                pos_func=lambda x:nx.bipartite_layout(x, nodes=[0,1]), \n",
        "                color_cycle=[\"lightblue\", \"darksalmon\"], show=False)\n",
        "\n",
        "  # plot the spiking times\n",
        "  plt.subplot(1, 3, 2)\n",
        "  plt.title(\"Spiking Times\")\n",
        "  ch_names = [\"Resp. \" + str(i) for i in range(len(neurons))]\n",
        "  plot_spikes(spikes.i, spikes.t/ms, ch_names,time_unit=\"ms\", show=False)\n",
        "  plt.xlim(2, 4)\n",
        "  plt.vlines(x=[left_pulse/ms, right_pulse/ms], ymin=0, ymax=len(neurons)-1, color = 'lightblue')\n",
        "  for name, time in zip([\"left input\", \"right input\"], [left_pulse, right_pulse]):\n",
        "    plt.text(time/ms, len(neurons)-1, name, rotation=90, c=\"lightblue\",\n",
        "            verticalalignment=\"top\", horizontalalignment=\"right\")\n",
        "\n",
        "  # plot the membrane potential\n",
        "  plt.subplot(1, 3, 3)\n",
        "  plt.title(\"Membrane Potential\")\n",
        "  plot_cmesh(states.v[:, states.t >= 2*ms]/mV, states.t[states.t >= 2*ms]/ms, ch_names, time_unit=\"ms\", unit=\"Membrane Potential (mV)\", show=False)\n",
        "\n",
        "\n",
        "left_slider = FloatSlider(value = 2., min= 2., max = 4., step = 0.01, description = 'Left input spike (ms):',continuous_update=False)\n",
        "right_slider = FloatSlider(value = 2., min= 2., max = 4., step = 0.01, description = 'Right input spike (ms):',continuous_update=False)\n",
        "N_slider = IntSlider(value = 10, min= 0, max = 20, step = 1, description = 'Number of response neurons:',continuous_update=False)\n",
        "\n",
        "interactive(dendritic_computation, left=left_slider, right=right_slider, N=N_slider)"
      ],
      "execution_count": 18,
      "outputs": [
        {
          "output_type": "display_data",
          "data": {
            "application/vnd.jupyter.widget-view+json": {
              "model_id": "962e331a454e491ab49a76d8daa014f0",
              "version_minor": 0,
              "version_major": 2
            },
            "text/plain": [
              "interactive(children=(FloatSlider(value=2.0, continuous_update=False, description='Left input spike (ms):', ma…"
            ]
          },
          "metadata": {
            "tags": []
          }
        }
      ]
    },
    {
      "cell_type": "markdown",
      "metadata": {
        "id": "QNc5PgNomqpp",
        "colab_type": "text"
      },
      "source": [
        "### archive"
      ]
    },
    {
      "cell_type": "code",
      "metadata": {
        "id": "aj-jCXl2mr8E",
        "colab_type": "code",
        "colab": {}
      },
      "source": [
        "import seaborn as sns\n",
        "\n",
        "# Plotting function\n",
        "def create_default_plot(x, neuron_data, neuron_labels, neuron_colors, spikes = None, spike_color = 'steelblue', input_current = None, input_label = 'Input Current', input_color = 'gold', y_range = None, title = '', x_axis_label = '', y_axis_label = '', input_axis_label = 'Input Current (A)', hline = None, sns_style=True):\n",
        "    \n",
        "  # Apply default seaborn settings\n",
        "  if sns_style:\n",
        "    sns.set()\n",
        "    sns.set_style({'axes.grid' : False})\n",
        "\n",
        "  # Create first y axis and set size of figure\n",
        "  fig, ax1 = plt.subplots(figsize=(14,6))\n",
        "\n",
        "  # Set axis labels\n",
        "  ax1.set_xlabel(x_axis_label)\n",
        "  ax1.set_ylabel(y_axis_label)\n",
        "\n",
        "  # Set y range if given\n",
        "  if y_range is not None:\n",
        "      ax1.set_ylim(y_range)\n",
        "\n",
        "  # Add horizontal line\n",
        "  if hline is not None:\n",
        "      ax1.axhline(y = hline, linestyle = '--', linewidth = 1, color = 'gray', label = 'Spiking Threshold')\n",
        "\n",
        "  # Plot a line for each neuron datapoint\n",
        "  for idx, y in enumerate(neuron_data):\n",
        "      # We ignore the first datapoint as these are always 0 and result in weird looking lines\n",
        "      ax1.plot(x[1:], y[1:], color = neuron_colors[idx], label = neuron_labels[idx])\n",
        "\n",
        "  # Plot spikes if given\n",
        "  if spikes is not None:\n",
        "      # Ignore the first spike if it is before 100ms (as no current was given)\n",
        "      if spikes[0] >= 10:\n",
        "          ax1.axvline(spikes[0], linestyle = ':', color = spike_color, linewidth = 1, zorder = 0)\n",
        "      for t in spikes[1:-1]:\n",
        "          ax1.axvline(t, linestyle = ':', color = spike_color, linewidth = 1, zorder = 0)\n",
        "      # Add line for last spike with label\n",
        "      ax1.axvline(spikes[-1], linestyle = ':', color = spike_color, linewidth = 1, label = 'Spikes', zorder = 0)\n",
        "\n",
        "  # Show input current if given\n",
        "  if input_current is not None:\n",
        "      # Create 2nd y-axis\n",
        "      ax2 = ax1.twinx()\n",
        "      # Set axis label\n",
        "      ax2.set_ylabel(input_axis_label)\n",
        "      # Draw input line\n",
        "      ax2.plot(x, input_current, color = input_color, label = input_label)   \n",
        "  \n",
        "  # Add legend\n",
        "  fig.legend(loc=\"upper right\", bbox_to_anchor=(0.825, 0.8))\n",
        "\n",
        "  # Set title\n",
        "  plt.title(title)"
      ],
      "execution_count": 19,
      "outputs": []
    }
  ]
}