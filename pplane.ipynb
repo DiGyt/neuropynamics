{
  "nbformat": 4,
  "nbformat_minor": 0,
  "metadata": {
    "kernelspec": {
      "display_name": "Python 3",
      "language": "python",
      "name": "python3"
    },
    "language_info": {
      "codemirror_mode": {
        "name": "ipython",
        "version": 3
      },
      "file_extension": ".py",
      "mimetype": "text/x-python",
      "name": "python",
      "nbconvert_exporter": "python",
      "pygments_lexer": "ipython3",
      "version": "3.8.3"
    },
    "colab": {
      "name": "pplane.ipynb",
      "provenance": [],
      "include_colab_link": true
    },
    "widgets": {
      "application/vnd.jupyter.widget-state+json": {
        "7f380c59886d44c58308e967319995e4": {
          "model_module": "@jupyter-widgets/controls",
          "model_name": "IntRangeSliderModel",
          "state": {
            "_view_name": "IntRangeSliderView",
            "style": "IPY_MODEL_1a653e0c014945238e5ded9f686acfe3",
            "_dom_classes": [],
            "description": "",
            "step": 1,
            "_model_name": "IntRangeSliderModel",
            "orientation": "horizontal",
            "max": 10,
            "_view_module": "@jupyter-widgets/controls",
            "_model_module_version": "1.5.0",
            "value": [
              -5,
              5
            ],
            "_view_count": null,
            "disabled": false,
            "_view_module_version": "1.5.0",
            "min": -10,
            "continuous_update": true,
            "readout_format": "d",
            "description_tooltip": null,
            "readout": true,
            "_model_module": "@jupyter-widgets/controls",
            "layout": "IPY_MODEL_a2f16d99a1d64c64babe85818a024959"
          }
        },
        "1a653e0c014945238e5ded9f686acfe3": {
          "model_module": "@jupyter-widgets/controls",
          "model_name": "SliderStyleModel",
          "state": {
            "_view_name": "StyleView",
            "handle_color": null,
            "_model_name": "SliderStyleModel",
            "description_width": "",
            "_view_module": "@jupyter-widgets/base",
            "_model_module_version": "1.5.0",
            "_view_count": null,
            "_view_module_version": "1.2.0",
            "_model_module": "@jupyter-widgets/controls"
          }
        },
        "a2f16d99a1d64c64babe85818a024959": {
          "model_module": "@jupyter-widgets/base",
          "model_name": "LayoutModel",
          "state": {
            "_view_name": "LayoutView",
            "grid_template_rows": null,
            "right": null,
            "justify_content": null,
            "_view_module": "@jupyter-widgets/base",
            "overflow": null,
            "_model_module_version": "1.2.0",
            "_view_count": null,
            "flex_flow": null,
            "width": null,
            "min_width": null,
            "border": null,
            "align_items": null,
            "bottom": null,
            "_model_module": "@jupyter-widgets/base",
            "top": null,
            "grid_column": null,
            "overflow_y": null,
            "overflow_x": null,
            "grid_auto_flow": null,
            "grid_area": null,
            "grid_template_columns": null,
            "flex": null,
            "_model_name": "LayoutModel",
            "justify_items": null,
            "grid_row": null,
            "max_height": null,
            "align_content": null,
            "visibility": null,
            "align_self": null,
            "height": null,
            "min_height": null,
            "padding": null,
            "grid_auto_rows": null,
            "grid_gap": null,
            "max_width": null,
            "order": null,
            "_view_module_version": "1.2.0",
            "grid_template_areas": null,
            "object_position": null,
            "object_fit": null,
            "grid_auto_columns": null,
            "margin": null,
            "display": null,
            "left": null
          }
        },
        "f1e34839700941b08757f096fb927802": {
          "model_module": "@jupyter-widgets/controls",
          "model_name": "IntRangeSliderModel",
          "state": {
            "_view_name": "IntRangeSliderView",
            "style": "IPY_MODEL_2f9f3c04b46942dda79879a48dc95e16",
            "_dom_classes": [],
            "description": "",
            "step": 1,
            "_model_name": "IntRangeSliderModel",
            "orientation": "horizontal",
            "max": 10,
            "_view_module": "@jupyter-widgets/controls",
            "_model_module_version": "1.5.0",
            "value": [
              -5,
              5
            ],
            "_view_count": null,
            "disabled": false,
            "_view_module_version": "1.5.0",
            "min": -10,
            "continuous_update": true,
            "readout_format": "d",
            "description_tooltip": null,
            "readout": true,
            "_model_module": "@jupyter-widgets/controls",
            "layout": "IPY_MODEL_3b0f8348a83145759443b1d478cd326f"
          }
        },
        "2f9f3c04b46942dda79879a48dc95e16": {
          "model_module": "@jupyter-widgets/controls",
          "model_name": "SliderStyleModel",
          "state": {
            "_view_name": "StyleView",
            "handle_color": null,
            "_model_name": "SliderStyleModel",
            "description_width": "",
            "_view_module": "@jupyter-widgets/base",
            "_model_module_version": "1.5.0",
            "_view_count": null,
            "_view_module_version": "1.2.0",
            "_model_module": "@jupyter-widgets/controls"
          }
        },
        "3b0f8348a83145759443b1d478cd326f": {
          "model_module": "@jupyter-widgets/base",
          "model_name": "LayoutModel",
          "state": {
            "_view_name": "LayoutView",
            "grid_template_rows": null,
            "right": null,
            "justify_content": null,
            "_view_module": "@jupyter-widgets/base",
            "overflow": null,
            "_model_module_version": "1.2.0",
            "_view_count": null,
            "flex_flow": null,
            "width": null,
            "min_width": null,
            "border": null,
            "align_items": null,
            "bottom": null,
            "_model_module": "@jupyter-widgets/base",
            "top": null,
            "grid_column": null,
            "overflow_y": null,
            "overflow_x": null,
            "grid_auto_flow": null,
            "grid_area": null,
            "grid_template_columns": null,
            "flex": null,
            "_model_name": "LayoutModel",
            "justify_items": null,
            "grid_row": null,
            "max_height": null,
            "align_content": null,
            "visibility": null,
            "align_self": null,
            "height": null,
            "min_height": null,
            "padding": null,
            "grid_auto_rows": null,
            "grid_gap": null,
            "max_width": null,
            "order": null,
            "_view_module_version": "1.2.0",
            "grid_template_areas": null,
            "object_position": null,
            "object_fit": null,
            "grid_auto_columns": null,
            "margin": null,
            "display": null,
            "left": null
          }
        },
        "75fee1db1294429fa28f047007d6256c": {
          "model_module": "@jupyter-widgets/controls",
          "model_name": "TextModel",
          "state": {
            "_view_name": "TextView",
            "style": "IPY_MODEL_513dc73df68c4fa8adf0e7b2f8294322",
            "_dom_classes": [],
            "description": "",
            "_model_name": "TextModel",
            "placeholder": "Start Value of X for RK4",
            "_view_module": "@jupyter-widgets/controls",
            "_model_module_version": "1.5.0",
            "value": "",
            "_view_count": null,
            "disabled": false,
            "_view_module_version": "1.5.0",
            "continuous_update": true,
            "description_tooltip": null,
            "_model_module": "@jupyter-widgets/controls",
            "layout": "IPY_MODEL_d312f4f4a37b4525a018e3385f36f2c6"
          }
        },
        "513dc73df68c4fa8adf0e7b2f8294322": {
          "model_module": "@jupyter-widgets/controls",
          "model_name": "DescriptionStyleModel",
          "state": {
            "_view_name": "StyleView",
            "_model_name": "DescriptionStyleModel",
            "description_width": "",
            "_view_module": "@jupyter-widgets/base",
            "_model_module_version": "1.5.0",
            "_view_count": null,
            "_view_module_version": "1.2.0",
            "_model_module": "@jupyter-widgets/controls"
          }
        },
        "d312f4f4a37b4525a018e3385f36f2c6": {
          "model_module": "@jupyter-widgets/base",
          "model_name": "LayoutModel",
          "state": {
            "_view_name": "LayoutView",
            "grid_template_rows": null,
            "right": null,
            "justify_content": null,
            "_view_module": "@jupyter-widgets/base",
            "overflow": null,
            "_model_module_version": "1.2.0",
            "_view_count": null,
            "flex_flow": null,
            "width": null,
            "min_width": null,
            "border": null,
            "align_items": null,
            "bottom": null,
            "_model_module": "@jupyter-widgets/base",
            "top": null,
            "grid_column": null,
            "overflow_y": null,
            "overflow_x": null,
            "grid_auto_flow": null,
            "grid_area": null,
            "grid_template_columns": null,
            "flex": null,
            "_model_name": "LayoutModel",
            "justify_items": null,
            "grid_row": null,
            "max_height": null,
            "align_content": null,
            "visibility": null,
            "align_self": null,
            "height": null,
            "min_height": null,
            "padding": null,
            "grid_auto_rows": null,
            "grid_gap": null,
            "max_width": null,
            "order": null,
            "_view_module_version": "1.2.0",
            "grid_template_areas": null,
            "object_position": null,
            "object_fit": null,
            "grid_auto_columns": null,
            "margin": null,
            "display": null,
            "left": null
          }
        },
        "6ba529228188493ca02cd83c316514f5": {
          "model_module": "@jupyter-widgets/controls",
          "model_name": "TextModel",
          "state": {
            "_view_name": "TextView",
            "style": "IPY_MODEL_1403de47630747fb93c6b4af0b5abe36",
            "_dom_classes": [],
            "description": "",
            "_model_name": "TextModel",
            "placeholder": "Start Value of Y for RK4",
            "_view_module": "@jupyter-widgets/controls",
            "_model_module_version": "1.5.0",
            "value": "",
            "_view_count": null,
            "disabled": false,
            "_view_module_version": "1.5.0",
            "continuous_update": true,
            "description_tooltip": null,
            "_model_module": "@jupyter-widgets/controls",
            "layout": "IPY_MODEL_b04d75c4fbf74bc78cdbf3e7a66e6619"
          }
        },
        "1403de47630747fb93c6b4af0b5abe36": {
          "model_module": "@jupyter-widgets/controls",
          "model_name": "DescriptionStyleModel",
          "state": {
            "_view_name": "StyleView",
            "_model_name": "DescriptionStyleModel",
            "description_width": "",
            "_view_module": "@jupyter-widgets/base",
            "_model_module_version": "1.5.0",
            "_view_count": null,
            "_view_module_version": "1.2.0",
            "_model_module": "@jupyter-widgets/controls"
          }
        },
        "b04d75c4fbf74bc78cdbf3e7a66e6619": {
          "model_module": "@jupyter-widgets/base",
          "model_name": "LayoutModel",
          "state": {
            "_view_name": "LayoutView",
            "grid_template_rows": null,
            "right": null,
            "justify_content": null,
            "_view_module": "@jupyter-widgets/base",
            "overflow": null,
            "_model_module_version": "1.2.0",
            "_view_count": null,
            "flex_flow": null,
            "width": null,
            "min_width": null,
            "border": null,
            "align_items": null,
            "bottom": null,
            "_model_module": "@jupyter-widgets/base",
            "top": null,
            "grid_column": null,
            "overflow_y": null,
            "overflow_x": null,
            "grid_auto_flow": null,
            "grid_area": null,
            "grid_template_columns": null,
            "flex": null,
            "_model_name": "LayoutModel",
            "justify_items": null,
            "grid_row": null,
            "max_height": null,
            "align_content": null,
            "visibility": null,
            "align_self": null,
            "height": null,
            "min_height": null,
            "padding": null,
            "grid_auto_rows": null,
            "grid_gap": null,
            "max_width": null,
            "order": null,
            "_view_module_version": "1.2.0",
            "grid_template_areas": null,
            "object_position": null,
            "object_fit": null,
            "grid_auto_columns": null,
            "margin": null,
            "display": null,
            "left": null
          }
        },
        "e83dc06f9a7c4528abf674d556936089": {
          "model_module": "@jupyter-widgets/controls",
          "model_name": "TextModel",
          "state": {
            "_view_name": "TextView",
            "style": "IPY_MODEL_154cbf8ee1d546a488516fbde8b2c7e1",
            "_dom_classes": [],
            "description": "",
            "_model_name": "TextModel",
            "placeholder": "Step Size for RK4",
            "_view_module": "@jupyter-widgets/controls",
            "_model_module_version": "1.5.0",
            "value": "",
            "_view_count": null,
            "disabled": false,
            "_view_module_version": "1.5.0",
            "continuous_update": true,
            "description_tooltip": null,
            "_model_module": "@jupyter-widgets/controls",
            "layout": "IPY_MODEL_ae7bbc4f636d44f589d24aa68b4d005c"
          }
        },
        "154cbf8ee1d546a488516fbde8b2c7e1": {
          "model_module": "@jupyter-widgets/controls",
          "model_name": "DescriptionStyleModel",
          "state": {
            "_view_name": "StyleView",
            "_model_name": "DescriptionStyleModel",
            "description_width": "",
            "_view_module": "@jupyter-widgets/base",
            "_model_module_version": "1.5.0",
            "_view_count": null,
            "_view_module_version": "1.2.0",
            "_model_module": "@jupyter-widgets/controls"
          }
        },
        "ae7bbc4f636d44f589d24aa68b4d005c": {
          "model_module": "@jupyter-widgets/base",
          "model_name": "LayoutModel",
          "state": {
            "_view_name": "LayoutView",
            "grid_template_rows": null,
            "right": null,
            "justify_content": null,
            "_view_module": "@jupyter-widgets/base",
            "overflow": null,
            "_model_module_version": "1.2.0",
            "_view_count": null,
            "flex_flow": null,
            "width": null,
            "min_width": null,
            "border": null,
            "align_items": null,
            "bottom": null,
            "_model_module": "@jupyter-widgets/base",
            "top": null,
            "grid_column": null,
            "overflow_y": null,
            "overflow_x": null,
            "grid_auto_flow": null,
            "grid_area": null,
            "grid_template_columns": null,
            "flex": null,
            "_model_name": "LayoutModel",
            "justify_items": null,
            "grid_row": null,
            "max_height": null,
            "align_content": null,
            "visibility": null,
            "align_self": null,
            "height": null,
            "min_height": null,
            "padding": null,
            "grid_auto_rows": null,
            "grid_gap": null,
            "max_width": null,
            "order": null,
            "_view_module_version": "1.2.0",
            "grid_template_areas": null,
            "object_position": null,
            "object_fit": null,
            "grid_auto_columns": null,
            "margin": null,
            "display": null,
            "left": null
          }
        },
        "c82e88f21b3648ecb9d4d956db4ad340": {
          "model_module": "@jupyter-widgets/controls",
          "model_name": "TextModel",
          "state": {
            "_view_name": "TextView",
            "style": "IPY_MODEL_7f0c5fa024f441f786a868067cabe11d",
            "_dom_classes": [],
            "description": "",
            "_model_name": "TextModel",
            "placeholder": "Step Count for RK4",
            "_view_module": "@jupyter-widgets/controls",
            "_model_module_version": "1.5.0",
            "value": "",
            "_view_count": null,
            "disabled": false,
            "_view_module_version": "1.5.0",
            "continuous_update": true,
            "description_tooltip": null,
            "_model_module": "@jupyter-widgets/controls",
            "layout": "IPY_MODEL_89e951cb924f4699bdc8c7785e574b85"
          }
        },
        "7f0c5fa024f441f786a868067cabe11d": {
          "model_module": "@jupyter-widgets/controls",
          "model_name": "DescriptionStyleModel",
          "state": {
            "_view_name": "StyleView",
            "_model_name": "DescriptionStyleModel",
            "description_width": "",
            "_view_module": "@jupyter-widgets/base",
            "_model_module_version": "1.5.0",
            "_view_count": null,
            "_view_module_version": "1.2.0",
            "_model_module": "@jupyter-widgets/controls"
          }
        },
        "89e951cb924f4699bdc8c7785e574b85": {
          "model_module": "@jupyter-widgets/base",
          "model_name": "LayoutModel",
          "state": {
            "_view_name": "LayoutView",
            "grid_template_rows": null,
            "right": null,
            "justify_content": null,
            "_view_module": "@jupyter-widgets/base",
            "overflow": null,
            "_model_module_version": "1.2.0",
            "_view_count": null,
            "flex_flow": null,
            "width": null,
            "min_width": null,
            "border": null,
            "align_items": null,
            "bottom": null,
            "_model_module": "@jupyter-widgets/base",
            "top": null,
            "grid_column": null,
            "overflow_y": null,
            "overflow_x": null,
            "grid_auto_flow": null,
            "grid_area": null,
            "grid_template_columns": null,
            "flex": null,
            "_model_name": "LayoutModel",
            "justify_items": null,
            "grid_row": null,
            "max_height": null,
            "align_content": null,
            "visibility": null,
            "align_self": null,
            "height": null,
            "min_height": null,
            "padding": null,
            "grid_auto_rows": null,
            "grid_gap": null,
            "max_width": null,
            "order": null,
            "_view_module_version": "1.2.0",
            "grid_template_areas": null,
            "object_position": null,
            "object_fit": null,
            "grid_auto_columns": null,
            "margin": null,
            "display": null,
            "left": null
          }
        },
        "a0f7d6608c144365a805467d0699c0a6": {
          "model_module": "@jupyter-widgets/controls",
          "model_name": "ButtonModel",
          "state": {
            "_view_name": "ButtonView",
            "style": "IPY_MODEL_7334667e53884924bf8157d5961a946b",
            "_dom_classes": [],
            "description": "Plot",
            "_model_name": "ButtonModel",
            "button_style": "",
            "_view_module": "@jupyter-widgets/controls",
            "_model_module_version": "1.5.0",
            "tooltip": "",
            "_view_count": null,
            "disabled": false,
            "_view_module_version": "1.5.0",
            "layout": "IPY_MODEL_f6de099cfc1a48f7a21bd75c236b8a56",
            "_model_module": "@jupyter-widgets/controls",
            "icon": ""
          }
        },
        "7334667e53884924bf8157d5961a946b": {
          "model_module": "@jupyter-widgets/controls",
          "model_name": "ButtonStyleModel",
          "state": {
            "_view_name": "StyleView",
            "_model_name": "ButtonStyleModel",
            "_view_module": "@jupyter-widgets/base",
            "_model_module_version": "1.5.0",
            "_view_count": null,
            "button_color": null,
            "font_weight": "",
            "_view_module_version": "1.2.0",
            "_model_module": "@jupyter-widgets/controls"
          }
        },
        "f6de099cfc1a48f7a21bd75c236b8a56": {
          "model_module": "@jupyter-widgets/base",
          "model_name": "LayoutModel",
          "state": {
            "_view_name": "LayoutView",
            "grid_template_rows": null,
            "right": null,
            "justify_content": null,
            "_view_module": "@jupyter-widgets/base",
            "overflow": null,
            "_model_module_version": "1.2.0",
            "_view_count": null,
            "flex_flow": null,
            "width": null,
            "min_width": null,
            "border": null,
            "align_items": null,
            "bottom": null,
            "_model_module": "@jupyter-widgets/base",
            "top": null,
            "grid_column": null,
            "overflow_y": null,
            "overflow_x": null,
            "grid_auto_flow": null,
            "grid_area": null,
            "grid_template_columns": null,
            "flex": null,
            "_model_name": "LayoutModel",
            "justify_items": null,
            "grid_row": null,
            "max_height": null,
            "align_content": null,
            "visibility": null,
            "align_self": null,
            "height": null,
            "min_height": null,
            "padding": null,
            "grid_auto_rows": null,
            "grid_gap": null,
            "max_width": null,
            "order": null,
            "_view_module_version": "1.2.0",
            "grid_template_areas": null,
            "object_position": null,
            "object_fit": null,
            "grid_auto_columns": null,
            "margin": null,
            "display": null,
            "left": null
          }
        }
      }
    }
  },
  "cells": [
    {
      "cell_type": "markdown",
      "metadata": {
        "id": "view-in-github",
        "colab_type": "text"
      },
      "source": [
        "<a href=\"https://colab.research.google.com/github/DiGyt/neuropynamics/blob/master/pplane.ipynb\" target=\"_parent\"><img src=\"https://colab.research.google.com/assets/colab-badge.svg\" alt=\"Open In Colab\"/></a>"
      ]
    },
    {
      "cell_type": "code",
      "metadata": {
        "id": "QOzYAztHxkPy",
        "colab_type": "code",
        "colab": {}
      },
      "source": [
        "# ! pip3 install sympy, matplotlib, numpy, scipy, ipywidgets"
      ],
      "execution_count": 1,
      "outputs": []
    },
    {
      "cell_type": "code",
      "metadata": {
        "id": "PbLry9fyxkP9",
        "colab_type": "code",
        "colab": {}
      },
      "source": [
        "from sympy import symbols, solve, lambdify, sympify, dsolve, Eq, solveset, linear_eq_to_matrix, nonlinsolve, Matrix, diff, sqrt\n",
        "import numpy as np\n",
        "from matplotlib import pyplot as plt\n",
        "from matplotlib.pyplot import quiver\n",
        "from scipy import integrate\n",
        "\n",
        "from ipywidgets import widgets\n",
        "from IPython.display import clear_output, display, HTML"
      ],
      "execution_count": 2,
      "outputs": []
    },
    {
      "cell_type": "code",
      "metadata": {
        "id": "QA87AuVpxkQC",
        "colab_type": "code",
        "colab": {}
      },
      "source": [
        "def rk4( f, x0, y0, h, xn ):\n",
        "    n = int((xn - x0)/h)\n",
        "    x = np.array( [ x0 ] * n, dtype=float )\n",
        "    y = np.array( [ y0 ] * n, dtype=float )\n",
        "    for i in range( n-1 ):\n",
        "        k1 = h * f( x[i], y[i] )\n",
        "        k2 = h * f( x[i] + 0.5 * h, y[i] + 0.5 * k1 )\n",
        "        k3 = h * f( x[i] + 0.5 * h, y[i] + 0.5 * k2 )\n",
        "        k4 = h * f( x[i] + h, y[i] + k3 )\n",
        "        \n",
        "        x[i+1] = x[i] + h\n",
        "        y[i+1] = y[i] + ( k1 + 2.0 * ( k2 + k3 ) + k4 ) / 6.0\n",
        "        \n",
        "    return y, x\n"
      ],
      "execution_count": 3,
      "outputs": []
    },
    {
      "cell_type": "code",
      "metadata": {
        "id": "WxdFk2bXxkQI",
        "colab_type": "code",
        "colab": {}
      },
      "source": [
        "def plotEquation (eq, solvar, plotvar, inputrange):\n",
        "    '''\n",
        "        Given a sympy equation object `eq`, this function return a series of values,\n",
        "        in the range of `inputrange` such that the equation is solved for\n",
        "        `solvar` and the input is for `plotvar`\n",
        "    '''\n",
        "    eq = Eq(eq, 0)\n",
        "    sol = solve(eq, solvar)\n",
        "    vals = []\n",
        "    for s in sol:\n",
        "        f = lambdify((plotvar), sol)\n",
        "        vals.append([f(i) for i in inputrange])\n",
        "\n",
        "    return vals"
      ],
      "execution_count": 4,
      "outputs": []
    },
    {
      "cell_type": "code",
      "metadata": {
        "id": "VRYOOMH1xkQP",
        "colab_type": "code",
        "colab": {}
      },
      "source": [
        "def findFixedPoints(f, g, xrange, yrange):\n",
        "    return [(x, y) for x in xrange for y in yrange if f(x, y) == 0 and g(x, y) == 0]"
      ],
      "execution_count": 5,
      "outputs": []
    },
    {
      "cell_type": "code",
      "metadata": {
        "id": "3obJxbznxkQX",
        "colab_type": "code",
        "colab": {}
      },
      "source": [
        "def system(initialx, initialy, func1, func2, delta, timerange):\n",
        "    x = [initialx]\n",
        "    y = [initialy]\n",
        "    \n",
        "    for i in range(timerange):\n",
        "        x.append(x[i] + func1(x[i], y[i]) * delta)\n",
        "        y.append(y[i] + func2(x[i], y[i]) * delta)\n",
        "    \n",
        "    return x, y"
      ],
      "execution_count": 6,
      "outputs": []
    },
    {
      "cell_type": "code",
      "metadata": {
        "id": "GH4t4jY8xkQc",
        "colab_type": "code",
        "colab": {}
      },
      "source": [
        "def plots(expr1, expr2, x, y, startx, starty, stepsize, numsteps):\n",
        "    '''\n",
        "        expr1: sympy expression - non linear ode\n",
        "        expr2: sympy expression - non linear ode\n",
        "        x: sympy variable used in expr1 and/or expr2\n",
        "        y: sympy variable used in expr1 and/or expr2\n",
        "        startx: for the range-kutta4, the x variable needs a start value\n",
        "        starty: for the range-kutta4, the y variable needs a start value\n",
        "        stepsize: step size for runge-kutta4\n",
        "        numsteps: the number of steps runge-kutta4 should take\n",
        "    '''\n",
        "    # converting the equations to functions\n",
        "    f1 = lambdify((x, y), expr1)\n",
        "    f2 = lambdify((x, y), expr2)\n",
        "    \n",
        "    # phase space\n",
        "    sx, sy = system(startx, starty, f1, f2, stepsize, numsteps)\n",
        "    fig, (ax1, ax2) = plt.subplots(2, 1, figsize=(10,10))\n",
        "    ax1.plot(sx, label='X in Time')\n",
        "    ax1.plot(sy, label='Y in Time')\n",
        "    ax2.plot(sx, sy, label='X against Y')\n",
        "    ax1.legend()\n",
        "    ax2.legend()\n",
        "    \n",
        "    # compute ranges to work in\n",
        "    yrange = np.linspace(y_range_slider.value[0], y_range_slider.value[1])\n",
        "    xrange = np.linspace(x_range_slider.value[0], x_range_slider.value[1])\n",
        "    \n",
        "    # a plot for the quiver plot and nullclines\n",
        "    fig, ax = plt.subplots(figsize=(20,20))\n",
        "    ax.set_xlim([min(xrange), max(xrange)])\n",
        "    ax.set_ylim([min(yrange), max(yrange)])\n",
        "    \n",
        "    # plotting the 4 nullclines from range-kutta4\n",
        "    rkx, rky = rk4( f1, min(xrange), -1000, .25, max(xrange) )\n",
        "    ax.scatter(rkx, rky, marker='+', label='Solution with Runge-Kutta 4', s=150)\n",
        "    \n",
        "    rky, rkx = rk4( f1, min(xrange), -1000, .25, max(xrange) )\n",
        "    ax.scatter(rkx, rky, marker='+', label='Solution with Runge-Kutta 4', s=150)\n",
        "    \n",
        "    rkx, rky = rk4( f2, min(yrange), 0, .25, max(yrange) )\n",
        "    ax.scatter(rkx, rky, marker='+', label='Solution with Runge-Kutta 4', s=150)\n",
        "    \n",
        "    rky, rkx = rk4( f2, min(yrange), 0, .25, max(yrange) )\n",
        "    ax.scatter(rkx, rky, marker='+', label='Solution with Runge-Kutta 4', s=150)\n",
        "    \n",
        "    # compute quivers\n",
        "    f1_val = [[f1(i, j) for i in xrange] for j in yrange];\n",
        "    f2_val = [[f2(i, j) for i in xrange] for j in yrange];\n",
        "\n",
        "    # plot quiver plot\n",
        "    q = ax.quiver(xrange, yrange, f1_val, f2_val, alpha=.5)\n",
        "    \n",
        "    # solve analytically using sympy\n",
        "    solutions = solve((Eq(expr1, 0), Eq(expr2, 0)), x, y)\n",
        "    \n",
        "    # compute jacobian and eigen values\n",
        "    equationMatrix = Matrix([ expr1, expr2 ])\n",
        "    varMat = Matrix([ x, y ])\n",
        "    jacobian = equationMatrix.jacobian(varMat)\n",
        "    display(HTML('''<h2>Jacobian Matrix</h2> <br /> The Jacobian matrix has single order derivatives\n",
        "                    of a System of Equations.</h2>'''))\n",
        "    display(jacobian)\n",
        "    \n",
        "    # display eigen values\n",
        "    display(HTML('<br /> <br /> <br /> <h2>Eigen Values</h2> <br /> <img src=\"2d-stability.png\" />'))\n",
        "    op = '''<table>\n",
        "                     <th>\n",
        "                         <td>Stable Point</td>\n",
        "                         <td>Eigen Values</td>\n",
        "                         <td>Type of Stability Point</td>\n",
        "                     </th>'''\n",
        "    for s in solutions:\n",
        "        eqmat = jacobian.subs([ (x, s[0]), (y, s[1]) ])\n",
        "        ev = list(eqmat.eigenvals().keys())\n",
        "        \n",
        "        if ev[0].is_real:\n",
        "            if ev[0] > 0 and ev[1] > 0:\n",
        "                t = 'Unstable Node'\n",
        "            elif ev[0] < 0 and ev[1] < 0:\n",
        "                t = 'Stable Node'\n",
        "            elif (ev[0] < 0 and ev[1] > 0) or (ev[0] > 0 and ev[1] < 0):\n",
        "                t = 'Saddle Point'\n",
        "        else:\n",
        "            if ev[0].args[0] > 0:\n",
        "                t = 'Unstable Focus'\n",
        "            if ev[0].args[0] < 0:\n",
        "                t = 'Stable Focus'\n",
        "        \n",
        "        op = op + '''<tr>\n",
        "                            <td>%s</td>\n",
        "                            <td>%s, %s</td>\n",
        "                            <td>%s</td>\n",
        "                        </tr>''' % (str(s), ev[0], ev[1], t)\n",
        "    op = op + '</table>'\n",
        "    display(HTML(op))\n",
        "    \n",
        "    display(HTML('''<br /> <br /> <br /> <h2>Phase Potrait</h2> <br />\n",
        "                 Phase Potrait shows the change in the two quantities with respect to each other\n",
        "                 and idependantly.<br />'''))\n",
        "    \n",
        "    # plot the analytical solution\n",
        "    try:\n",
        "        [ax.plot(yrange, nc, c='b', alpha=.7, label='Analytical Solution') for nc in plotEquation(expr1, y, x, yrange)]\n",
        "        [ax.plot(nc, yrange, c='b', alpha=.7, label='Analytical Solution') for nc in plotEquation(expr1, x, y, xrange)]\n",
        "        [ax.plot(nc, xrange, c='r', alpha=.7, label='Analytical Solution') for nc in plotEquation(expr2, x, y, xrange)]\n",
        "        [ax.plot(xrange, nc, c='r', alpha=.7, label='Analytical Solution') for nc in plotEquation(expr2, y, x, yrange)]\n",
        "    except:\n",
        "        print('Some nullcline values are complex')\n",
        "    \n",
        "    # plot the roots\n",
        "    try:\n",
        "        [ax.scatter(i[0], i[1], marker='x', label='Stable Point', s=150) for i in solutions]\n",
        "    except:\n",
        "        print('Some roots are complex')\n",
        "\n",
        "    # a legend for our plot\n",
        "    display(HTML('''<h2>Quiver Plot and Null Clines</h2><br />\n",
        "                    A quiver plot shows the direction the system is moving in at each co-ordinate. <br />\n",
        "                    Null Clines are lines where one of the two variables are zero. The Points \n",
        "                    where Null Clines intersect are where the system is stable because both variables are \n",
        "                    zero at that point.<br />\n",
        "                    Null Clines can be obtained analytically (using calculus) and numerically.'''))\n",
        "    fig.legend(framealpha=1, fancybox=True, fontsize='large', loc=1)\n",
        "    fig.show()\n"
      ],
      "execution_count": 7,
      "outputs": []
    },
    {
      "cell_type": "markdown",
      "metadata": {
        "id": "0amkYJJYxkQh",
        "colab_type": "text"
      },
      "source": [
        "# Specify your equation"
      ]
    },
    {
      "cell_type": "code",
      "metadata": {
        "id": "8mK62-QixkQj",
        "colab_type": "code",
        "colab": {
          "base_uri": "https://localhost:8080/",
          "height": 51
        },
        "outputId": "3809c5c7-7f3d-44d7-c455-d480ff3b9724"
      },
      "source": [
        "x, y = symbols('x y')\n",
        "\n",
        "# expr1 = 2*x - y + 3*(x**2 - y**2) + 2*x*y\n",
        "expr1 = 2*x - x**2 - x*y\n",
        "# expr1 = 5 - y + 5\n",
        "display(expr1)\n",
        "\n",
        "# expr2 = x - 3*y - 3*(x**2-y**2) + 3*x*y\n",
        "expr2 = -y + x*y\n",
        "# expr2 = 3*(4*x-5*y)\n",
        "display(expr2)"
      ],
      "execution_count": 8,
      "outputs": [
        {
          "output_type": "display_data",
          "data": {
            "text/plain": [
              "-x**2 - x*y + 2*x"
            ]
          },
          "metadata": {
            "tags": []
          }
        },
        {
          "output_type": "display_data",
          "data": {
            "text/plain": [
              "x*y - y"
            ]
          },
          "metadata": {
            "tags": []
          }
        }
      ]
    },
    {
      "cell_type": "markdown",
      "metadata": {
        "id": "b_XWw5dFxkQq",
        "colab_type": "text"
      },
      "source": [
        "# Select range of x and y values and click the plot button"
      ]
    },
    {
      "cell_type": "code",
      "metadata": {
        "id": "ByIpOYo8xkQr",
        "colab_type": "code",
        "colab": {}
      },
      "source": [
        "import sympy"
      ],
      "execution_count": 9,
      "outputs": []
    },
    {
      "cell_type": "code",
      "metadata": {
        "id": "hR-JgWoZxkQw",
        "colab_type": "code",
        "colab": {}
      },
      "source": [
        "? sympy.Add.args"
      ],
      "execution_count": 10,
      "outputs": []
    },
    {
      "cell_type": "code",
      "metadata": {
        "scrolled": false,
        "id": "uV-Oj2DbxkQ0",
        "colab_type": "code",
        "colab": {
          "base_uri": "https://localhost:8080/",
          "height": 231,
          "referenced_widgets": [
            "7f380c59886d44c58308e967319995e4",
            "1a653e0c014945238e5ded9f686acfe3",
            "a2f16d99a1d64c64babe85818a024959",
            "f1e34839700941b08757f096fb927802",
            "2f9f3c04b46942dda79879a48dc95e16",
            "3b0f8348a83145759443b1d478cd326f",
            "75fee1db1294429fa28f047007d6256c",
            "513dc73df68c4fa8adf0e7b2f8294322",
            "d312f4f4a37b4525a018e3385f36f2c6",
            "6ba529228188493ca02cd83c316514f5",
            "1403de47630747fb93c6b4af0b5abe36",
            "b04d75c4fbf74bc78cdbf3e7a66e6619",
            "e83dc06f9a7c4528abf674d556936089",
            "154cbf8ee1d546a488516fbde8b2c7e1",
            "ae7bbc4f636d44f589d24aa68b4d005c",
            "c82e88f21b3648ecb9d4d956db4ad340",
            "7f0c5fa024f441f786a868067cabe11d",
            "89e951cb924f4699bdc8c7785e574b85",
            "a0f7d6608c144365a805467d0699c0a6",
            "7334667e53884924bf8157d5961a946b",
            "f6de099cfc1a48f7a21bd75c236b8a56"
          ]
        },
        "outputId": "4db130e2-d1c6-4b48-fb57-3c4671581229"
      },
      "source": [
        "y_range_slider = widgets.IntRangeSlider(min=-10, max=10)\n",
        "display(y_range_slider)\n",
        "\n",
        "x_range_slider = widgets.IntRangeSlider(min=-10, max=10)\n",
        "display(x_range_slider)\n",
        "\n",
        "startx = widgets.Text(placeholder='Start Value of X for RK4', disabled=False)\n",
        "starty = widgets.Text(placeholder='Start Value of Y for RK4', disabled=False)\n",
        "stepsize = widgets.Text(placeholder='Step Size for RK4', disabled=False)\n",
        "stepcount = widgets.Text(placeholder='Step Count for RK4', disabled=False)\n",
        "\n",
        "display(startx)\n",
        "display(starty)\n",
        "display(stepsize)\n",
        "display(stepcount)\n",
        "\n",
        "renderButton = widgets.Button(description='Plot')\n",
        "display(renderButton)\n",
        "\n",
        "@renderButton.on_click\n",
        "def renderButtonOnClick(b):\n",
        "    clear_output()\n",
        "    \n",
        "    display(y_range_slider)\n",
        "    display(x_range_slider)\n",
        "    display(renderButton)\n",
        "    \n",
        "    plots(expr1, expr2, x, y, int(startx.value), int(starty.value), float(stepsize.value), int(stepcount.value))"
      ],
      "execution_count": 11,
      "outputs": [
        {
          "output_type": "display_data",
          "data": {
            "application/vnd.jupyter.widget-view+json": {
              "model_id": "7f380c59886d44c58308e967319995e4",
              "version_minor": 0,
              "version_major": 2
            },
            "text/plain": [
              "IntRangeSlider(value=(-5, 5), max=10, min=-10)"
            ]
          },
          "metadata": {
            "tags": []
          }
        },
        {
          "output_type": "display_data",
          "data": {
            "application/vnd.jupyter.widget-view+json": {
              "model_id": "f1e34839700941b08757f096fb927802",
              "version_minor": 0,
              "version_major": 2
            },
            "text/plain": [
              "IntRangeSlider(value=(-5, 5), max=10, min=-10)"
            ]
          },
          "metadata": {
            "tags": []
          }
        },
        {
          "output_type": "display_data",
          "data": {
            "application/vnd.jupyter.widget-view+json": {
              "model_id": "75fee1db1294429fa28f047007d6256c",
              "version_minor": 0,
              "version_major": 2
            },
            "text/plain": [
              "Text(value='', placeholder='Start Value of X for RK4')"
            ]
          },
          "metadata": {
            "tags": []
          }
        },
        {
          "output_type": "display_data",
          "data": {
            "application/vnd.jupyter.widget-view+json": {
              "model_id": "6ba529228188493ca02cd83c316514f5",
              "version_minor": 0,
              "version_major": 2
            },
            "text/plain": [
              "Text(value='', placeholder='Start Value of Y for RK4')"
            ]
          },
          "metadata": {
            "tags": []
          }
        },
        {
          "output_type": "display_data",
          "data": {
            "application/vnd.jupyter.widget-view+json": {
              "model_id": "e83dc06f9a7c4528abf674d556936089",
              "version_minor": 0,
              "version_major": 2
            },
            "text/plain": [
              "Text(value='', placeholder='Step Size for RK4')"
            ]
          },
          "metadata": {
            "tags": []
          }
        },
        {
          "output_type": "display_data",
          "data": {
            "application/vnd.jupyter.widget-view+json": {
              "model_id": "c82e88f21b3648ecb9d4d956db4ad340",
              "version_minor": 0,
              "version_major": 2
            },
            "text/plain": [
              "Text(value='', placeholder='Step Count for RK4')"
            ]
          },
          "metadata": {
            "tags": []
          }
        },
        {
          "output_type": "display_data",
          "data": {
            "application/vnd.jupyter.widget-view+json": {
              "model_id": "a0f7d6608c144365a805467d0699c0a6",
              "version_minor": 0,
              "version_major": 2
            },
            "text/plain": [
              "Button(description='Plot', style=ButtonStyle())"
            ]
          },
          "metadata": {
            "tags": []
          }
        }
      ]
    }
  ]
}